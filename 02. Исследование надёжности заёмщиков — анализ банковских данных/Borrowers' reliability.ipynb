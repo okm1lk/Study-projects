{
 "cells": [
  {
   "cell_type": "markdown",
   "id": "386f2ae7",
   "metadata": {
    "deletable": false,
    "editable": false,
    "id": "386f2ae7"
   },
   "source": [
    "# Исследование надежности заемщиков\n"
   ]
  },
  {
   "cell_type": "markdown",
   "id": "eb7da073",
   "metadata": {
    "toc": true
   },
   "source": [
    "<h1>Содержание<span class=\"tocSkip\"></span></h1>\n",
    "<div class=\"toc\"><ul class=\"toc-item\"><li><span><a href=\"#Общая-информация\" data-toc-modified-id=\"Общая-информация-1\"><span class=\"toc-item-num\">1&nbsp;&nbsp;</span>Общая информация</a></span></li><li><span><a href=\"#Предобработка-данных\" data-toc-modified-id=\"Предобработка-данных-2\"><span class=\"toc-item-num\">2&nbsp;&nbsp;</span>Предобработка данных</a></span><ul class=\"toc-item\"><li><span><a href=\"#Обработка-пропусков\" data-toc-modified-id=\"Обработка-пропусков-2.1\"><span class=\"toc-item-num\">2.1&nbsp;&nbsp;</span>Обработка пропусков</a></span></li><li><span><a href=\"#Обработка-аномальных-значений\" data-toc-modified-id=\"Обработка-аномальных-значений-2.2\"><span class=\"toc-item-num\">2.2&nbsp;&nbsp;</span>Обработка аномальных значений</a></span></li><li><span><a href=\"#Обрабокта-пропусков-(продолжение)\" data-toc-modified-id=\"Обрабокта-пропусков-(продолжение)-2.3\"><span class=\"toc-item-num\">2.3&nbsp;&nbsp;</span>Обрабокта пропусков (продолжение)</a></span></li><li><span><a href=\"#Изменение-типов-данных\" data-toc-modified-id=\"Изменение-типов-данных-2.4\"><span class=\"toc-item-num\">2.4&nbsp;&nbsp;</span>Изменение типов данных</a></span></li><li><span><a href=\"#Обработка-дубликатов\" data-toc-modified-id=\"Обработка-дубликатов-2.5\"><span class=\"toc-item-num\">2.5&nbsp;&nbsp;</span>Обработка дубликатов</a></span></li><li><span><a href=\"#Категоризация-данных\" data-toc-modified-id=\"Категоризация-данных-2.6\"><span class=\"toc-item-num\">2.6&nbsp;&nbsp;</span>Категоризация данных</a></span></li></ul></li><li><span><a href=\"#Исследовательский-анализ\" data-toc-modified-id=\"Исследовательский-анализ-3\"><span class=\"toc-item-num\">3&nbsp;&nbsp;</span>Исследовательский анализ</a></span><ul class=\"toc-item\"><li><span><a href=\"#Есть-ли-зависимость-между-количеством-детей-и-возвратом-кредита-в-срок?\" data-toc-modified-id=\"Есть-ли-зависимость-между-количеством-детей-и-возвратом-кредита-в-срок?-3.1\"><span class=\"toc-item-num\">3.1&nbsp;&nbsp;</span>Есть ли зависимость между количеством детей и возвратом кредита в срок?</a></span></li><li><span><a href=\"#Есть-ли-зависимость-между-семейным-положением-и-возвратом-кредита-в-срок?\" data-toc-modified-id=\"Есть-ли-зависимость-между-семейным-положением-и-возвратом-кредита-в-срок?-3.2\"><span class=\"toc-item-num\">3.2&nbsp;&nbsp;</span>Есть ли зависимость между семейным положением и возвратом кредита в срок?</a></span></li><li><span><a href=\"#Есть-ли-зависимость-между-уровнем-дохода-и-возвратом-кредита-в-срок?\" data-toc-modified-id=\"Есть-ли-зависимость-между-уровнем-дохода-и-возвратом-кредита-в-срок?-3.3\"><span class=\"toc-item-num\">3.3&nbsp;&nbsp;</span>Есть ли зависимость между уровнем дохода и возвратом кредита в срок?</a></span></li><li><span><a href=\"#Как-разные-цели-кредита-влияют-на-его-возврат-в-срок?\" data-toc-modified-id=\"Как-разные-цели-кредита-влияют-на-его-возврат-в-срок?-3.4\"><span class=\"toc-item-num\">3.4&nbsp;&nbsp;</span>Как разные цели кредита влияют на его возврат в срок?</a></span></li></ul></li><li><span><a href=\"#Общий-вывод.\" data-toc-modified-id=\"Общий-вывод.-4\"><span class=\"toc-item-num\">4&nbsp;&nbsp;</span>Общий вывод.</a></span></li></ul></div>"
   ]
  },
  {
   "cell_type": "markdown",
   "id": "26613308",
   "metadata": {
    "id": "26613308"
   },
   "source": [
    "## Общая информация"
   ]
  },
  {
   "cell_type": "code",
   "execution_count": 1,
   "id": "77a68a90",
   "metadata": {
    "deletable": false,
    "id": "77a68a90"
   },
   "outputs": [],
   "source": [
    "import pandas as pd\n",
    "\n",
    "try:\n",
    "    data = pd.read_csv('/datasets/data.csv')\n",
    "except:\n",
    "    data = pd.read_csv('data.csv')"
   ]
  },
  {
   "cell_type": "code",
   "execution_count": 2,
   "id": "b0451a9a",
   "metadata": {
    "deletable": false,
    "id": "b0451a9a",
    "outputId": "1a8f3ef2-d323-4ec2-ddf7-89670b5944c4"
   },
   "outputs": [
    {
     "data": {
      "text/html": [
       "<div>\n",
       "<style scoped>\n",
       "    .dataframe tbody tr th:only-of-type {\n",
       "        vertical-align: middle;\n",
       "    }\n",
       "\n",
       "    .dataframe tbody tr th {\n",
       "        vertical-align: top;\n",
       "    }\n",
       "\n",
       "    .dataframe thead th {\n",
       "        text-align: right;\n",
       "    }\n",
       "</style>\n",
       "<table border=\"1\" class=\"dataframe\">\n",
       "  <thead>\n",
       "    <tr style=\"text-align: right;\">\n",
       "      <th></th>\n",
       "      <th>children</th>\n",
       "      <th>days_employed</th>\n",
       "      <th>dob_years</th>\n",
       "      <th>education</th>\n",
       "      <th>education_id</th>\n",
       "      <th>family_status</th>\n",
       "      <th>family_status_id</th>\n",
       "      <th>gender</th>\n",
       "      <th>income_type</th>\n",
       "      <th>debt</th>\n",
       "      <th>total_income</th>\n",
       "      <th>purpose</th>\n",
       "    </tr>\n",
       "  </thead>\n",
       "  <tbody>\n",
       "    <tr>\n",
       "      <th>0</th>\n",
       "      <td>1</td>\n",
       "      <td>-8437.673028</td>\n",
       "      <td>42</td>\n",
       "      <td>высшее</td>\n",
       "      <td>0</td>\n",
       "      <td>женат / замужем</td>\n",
       "      <td>0</td>\n",
       "      <td>F</td>\n",
       "      <td>сотрудник</td>\n",
       "      <td>0</td>\n",
       "      <td>253875.639453</td>\n",
       "      <td>покупка жилья</td>\n",
       "    </tr>\n",
       "    <tr>\n",
       "      <th>1</th>\n",
       "      <td>1</td>\n",
       "      <td>-4024.803754</td>\n",
       "      <td>36</td>\n",
       "      <td>среднее</td>\n",
       "      <td>1</td>\n",
       "      <td>женат / замужем</td>\n",
       "      <td>0</td>\n",
       "      <td>F</td>\n",
       "      <td>сотрудник</td>\n",
       "      <td>0</td>\n",
       "      <td>112080.014102</td>\n",
       "      <td>приобретение автомобиля</td>\n",
       "    </tr>\n",
       "    <tr>\n",
       "      <th>2</th>\n",
       "      <td>0</td>\n",
       "      <td>-5623.422610</td>\n",
       "      <td>33</td>\n",
       "      <td>Среднее</td>\n",
       "      <td>1</td>\n",
       "      <td>женат / замужем</td>\n",
       "      <td>0</td>\n",
       "      <td>M</td>\n",
       "      <td>сотрудник</td>\n",
       "      <td>0</td>\n",
       "      <td>145885.952297</td>\n",
       "      <td>покупка жилья</td>\n",
       "    </tr>\n",
       "    <tr>\n",
       "      <th>3</th>\n",
       "      <td>3</td>\n",
       "      <td>-4124.747207</td>\n",
       "      <td>32</td>\n",
       "      <td>среднее</td>\n",
       "      <td>1</td>\n",
       "      <td>женат / замужем</td>\n",
       "      <td>0</td>\n",
       "      <td>M</td>\n",
       "      <td>сотрудник</td>\n",
       "      <td>0</td>\n",
       "      <td>267628.550329</td>\n",
       "      <td>дополнительное образование</td>\n",
       "    </tr>\n",
       "    <tr>\n",
       "      <th>4</th>\n",
       "      <td>0</td>\n",
       "      <td>340266.072047</td>\n",
       "      <td>53</td>\n",
       "      <td>среднее</td>\n",
       "      <td>1</td>\n",
       "      <td>гражданский брак</td>\n",
       "      <td>1</td>\n",
       "      <td>F</td>\n",
       "      <td>пенсионер</td>\n",
       "      <td>0</td>\n",
       "      <td>158616.077870</td>\n",
       "      <td>сыграть свадьбу</td>\n",
       "    </tr>\n",
       "    <tr>\n",
       "      <th>5</th>\n",
       "      <td>0</td>\n",
       "      <td>-926.185831</td>\n",
       "      <td>27</td>\n",
       "      <td>высшее</td>\n",
       "      <td>0</td>\n",
       "      <td>гражданский брак</td>\n",
       "      <td>1</td>\n",
       "      <td>M</td>\n",
       "      <td>компаньон</td>\n",
       "      <td>0</td>\n",
       "      <td>255763.565419</td>\n",
       "      <td>покупка жилья</td>\n",
       "    </tr>\n",
       "    <tr>\n",
       "      <th>6</th>\n",
       "      <td>0</td>\n",
       "      <td>-2879.202052</td>\n",
       "      <td>43</td>\n",
       "      <td>высшее</td>\n",
       "      <td>0</td>\n",
       "      <td>женат / замужем</td>\n",
       "      <td>0</td>\n",
       "      <td>F</td>\n",
       "      <td>компаньон</td>\n",
       "      <td>0</td>\n",
       "      <td>240525.971920</td>\n",
       "      <td>операции с жильем</td>\n",
       "    </tr>\n",
       "    <tr>\n",
       "      <th>7</th>\n",
       "      <td>0</td>\n",
       "      <td>-152.779569</td>\n",
       "      <td>50</td>\n",
       "      <td>СРЕДНЕЕ</td>\n",
       "      <td>1</td>\n",
       "      <td>женат / замужем</td>\n",
       "      <td>0</td>\n",
       "      <td>M</td>\n",
       "      <td>сотрудник</td>\n",
       "      <td>0</td>\n",
       "      <td>135823.934197</td>\n",
       "      <td>образование</td>\n",
       "    </tr>\n",
       "    <tr>\n",
       "      <th>8</th>\n",
       "      <td>2</td>\n",
       "      <td>-6929.865299</td>\n",
       "      <td>35</td>\n",
       "      <td>ВЫСШЕЕ</td>\n",
       "      <td>0</td>\n",
       "      <td>гражданский брак</td>\n",
       "      <td>1</td>\n",
       "      <td>F</td>\n",
       "      <td>сотрудник</td>\n",
       "      <td>0</td>\n",
       "      <td>95856.832424</td>\n",
       "      <td>на проведение свадьбы</td>\n",
       "    </tr>\n",
       "    <tr>\n",
       "      <th>9</th>\n",
       "      <td>0</td>\n",
       "      <td>-2188.756445</td>\n",
       "      <td>41</td>\n",
       "      <td>среднее</td>\n",
       "      <td>1</td>\n",
       "      <td>женат / замужем</td>\n",
       "      <td>0</td>\n",
       "      <td>M</td>\n",
       "      <td>сотрудник</td>\n",
       "      <td>0</td>\n",
       "      <td>144425.938277</td>\n",
       "      <td>покупка жилья для семьи</td>\n",
       "    </tr>\n",
       "    <tr>\n",
       "      <th>10</th>\n",
       "      <td>2</td>\n",
       "      <td>-4171.483647</td>\n",
       "      <td>36</td>\n",
       "      <td>высшее</td>\n",
       "      <td>0</td>\n",
       "      <td>женат / замужем</td>\n",
       "      <td>0</td>\n",
       "      <td>M</td>\n",
       "      <td>компаньон</td>\n",
       "      <td>0</td>\n",
       "      <td>113943.491460</td>\n",
       "      <td>покупка недвижимости</td>\n",
       "    </tr>\n",
       "    <tr>\n",
       "      <th>11</th>\n",
       "      <td>0</td>\n",
       "      <td>-792.701887</td>\n",
       "      <td>40</td>\n",
       "      <td>среднее</td>\n",
       "      <td>1</td>\n",
       "      <td>женат / замужем</td>\n",
       "      <td>0</td>\n",
       "      <td>F</td>\n",
       "      <td>сотрудник</td>\n",
       "      <td>0</td>\n",
       "      <td>77069.234271</td>\n",
       "      <td>покупка коммерческой недвижимости</td>\n",
       "    </tr>\n",
       "    <tr>\n",
       "      <th>12</th>\n",
       "      <td>0</td>\n",
       "      <td>NaN</td>\n",
       "      <td>65</td>\n",
       "      <td>среднее</td>\n",
       "      <td>1</td>\n",
       "      <td>гражданский брак</td>\n",
       "      <td>1</td>\n",
       "      <td>M</td>\n",
       "      <td>пенсионер</td>\n",
       "      <td>0</td>\n",
       "      <td>NaN</td>\n",
       "      <td>сыграть свадьбу</td>\n",
       "    </tr>\n",
       "    <tr>\n",
       "      <th>13</th>\n",
       "      <td>0</td>\n",
       "      <td>-1846.641941</td>\n",
       "      <td>54</td>\n",
       "      <td>неоконченное высшее</td>\n",
       "      <td>2</td>\n",
       "      <td>женат / замужем</td>\n",
       "      <td>0</td>\n",
       "      <td>F</td>\n",
       "      <td>сотрудник</td>\n",
       "      <td>0</td>\n",
       "      <td>130458.228857</td>\n",
       "      <td>приобретение автомобиля</td>\n",
       "    </tr>\n",
       "    <tr>\n",
       "      <th>14</th>\n",
       "      <td>0</td>\n",
       "      <td>-1844.956182</td>\n",
       "      <td>56</td>\n",
       "      <td>высшее</td>\n",
       "      <td>0</td>\n",
       "      <td>гражданский брак</td>\n",
       "      <td>1</td>\n",
       "      <td>F</td>\n",
       "      <td>компаньон</td>\n",
       "      <td>1</td>\n",
       "      <td>165127.911772</td>\n",
       "      <td>покупка жилой недвижимости</td>\n",
       "    </tr>\n",
       "    <tr>\n",
       "      <th>15</th>\n",
       "      <td>1</td>\n",
       "      <td>-972.364419</td>\n",
       "      <td>26</td>\n",
       "      <td>среднее</td>\n",
       "      <td>1</td>\n",
       "      <td>женат / замужем</td>\n",
       "      <td>0</td>\n",
       "      <td>F</td>\n",
       "      <td>сотрудник</td>\n",
       "      <td>0</td>\n",
       "      <td>116820.904450</td>\n",
       "      <td>строительство собственной недвижимости</td>\n",
       "    </tr>\n",
       "    <tr>\n",
       "      <th>16</th>\n",
       "      <td>0</td>\n",
       "      <td>-1719.934226</td>\n",
       "      <td>35</td>\n",
       "      <td>среднее</td>\n",
       "      <td>1</td>\n",
       "      <td>женат / замужем</td>\n",
       "      <td>0</td>\n",
       "      <td>F</td>\n",
       "      <td>сотрудник</td>\n",
       "      <td>0</td>\n",
       "      <td>289202.704229</td>\n",
       "      <td>недвижимость</td>\n",
       "    </tr>\n",
       "    <tr>\n",
       "      <th>17</th>\n",
       "      <td>0</td>\n",
       "      <td>-2369.999720</td>\n",
       "      <td>33</td>\n",
       "      <td>высшее</td>\n",
       "      <td>0</td>\n",
       "      <td>гражданский брак</td>\n",
       "      <td>1</td>\n",
       "      <td>M</td>\n",
       "      <td>сотрудник</td>\n",
       "      <td>0</td>\n",
       "      <td>90410.586745</td>\n",
       "      <td>строительство недвижимости</td>\n",
       "    </tr>\n",
       "    <tr>\n",
       "      <th>18</th>\n",
       "      <td>0</td>\n",
       "      <td>400281.136913</td>\n",
       "      <td>53</td>\n",
       "      <td>среднее</td>\n",
       "      <td>1</td>\n",
       "      <td>вдовец / вдова</td>\n",
       "      <td>2</td>\n",
       "      <td>F</td>\n",
       "      <td>пенсионер</td>\n",
       "      <td>0</td>\n",
       "      <td>56823.777243</td>\n",
       "      <td>на покупку подержанного автомобиля</td>\n",
       "    </tr>\n",
       "    <tr>\n",
       "      <th>19</th>\n",
       "      <td>0</td>\n",
       "      <td>-10038.818549</td>\n",
       "      <td>48</td>\n",
       "      <td>СРЕДНЕЕ</td>\n",
       "      <td>1</td>\n",
       "      <td>в разводе</td>\n",
       "      <td>3</td>\n",
       "      <td>F</td>\n",
       "      <td>сотрудник</td>\n",
       "      <td>0</td>\n",
       "      <td>242831.107982</td>\n",
       "      <td>на покупку своего автомобиля</td>\n",
       "    </tr>\n",
       "  </tbody>\n",
       "</table>\n",
       "</div>"
      ],
      "text/plain": [
       "    children  days_employed  dob_years            education  education_id  \\\n",
       "0          1   -8437.673028         42               высшее             0   \n",
       "1          1   -4024.803754         36              среднее             1   \n",
       "2          0   -5623.422610         33              Среднее             1   \n",
       "3          3   -4124.747207         32              среднее             1   \n",
       "4          0  340266.072047         53              среднее             1   \n",
       "5          0    -926.185831         27               высшее             0   \n",
       "6          0   -2879.202052         43               высшее             0   \n",
       "7          0    -152.779569         50              СРЕДНЕЕ             1   \n",
       "8          2   -6929.865299         35               ВЫСШЕЕ             0   \n",
       "9          0   -2188.756445         41              среднее             1   \n",
       "10         2   -4171.483647         36               высшее             0   \n",
       "11         0    -792.701887         40              среднее             1   \n",
       "12         0            NaN         65              среднее             1   \n",
       "13         0   -1846.641941         54  неоконченное высшее             2   \n",
       "14         0   -1844.956182         56               высшее             0   \n",
       "15         1    -972.364419         26              среднее             1   \n",
       "16         0   -1719.934226         35              среднее             1   \n",
       "17         0   -2369.999720         33               высшее             0   \n",
       "18         0  400281.136913         53              среднее             1   \n",
       "19         0  -10038.818549         48              СРЕДНЕЕ             1   \n",
       "\n",
       "       family_status  family_status_id gender income_type  debt  \\\n",
       "0    женат / замужем                 0      F   сотрудник     0   \n",
       "1    женат / замужем                 0      F   сотрудник     0   \n",
       "2    женат / замужем                 0      M   сотрудник     0   \n",
       "3    женат / замужем                 0      M   сотрудник     0   \n",
       "4   гражданский брак                 1      F   пенсионер     0   \n",
       "5   гражданский брак                 1      M   компаньон     0   \n",
       "6    женат / замужем                 0      F   компаньон     0   \n",
       "7    женат / замужем                 0      M   сотрудник     0   \n",
       "8   гражданский брак                 1      F   сотрудник     0   \n",
       "9    женат / замужем                 0      M   сотрудник     0   \n",
       "10   женат / замужем                 0      M   компаньон     0   \n",
       "11   женат / замужем                 0      F   сотрудник     0   \n",
       "12  гражданский брак                 1      M   пенсионер     0   \n",
       "13   женат / замужем                 0      F   сотрудник     0   \n",
       "14  гражданский брак                 1      F   компаньон     1   \n",
       "15   женат / замужем                 0      F   сотрудник     0   \n",
       "16   женат / замужем                 0      F   сотрудник     0   \n",
       "17  гражданский брак                 1      M   сотрудник     0   \n",
       "18    вдовец / вдова                 2      F   пенсионер     0   \n",
       "19         в разводе                 3      F   сотрудник     0   \n",
       "\n",
       "     total_income                                 purpose  \n",
       "0   253875.639453                           покупка жилья  \n",
       "1   112080.014102                 приобретение автомобиля  \n",
       "2   145885.952297                           покупка жилья  \n",
       "3   267628.550329              дополнительное образование  \n",
       "4   158616.077870                         сыграть свадьбу  \n",
       "5   255763.565419                           покупка жилья  \n",
       "6   240525.971920                       операции с жильем  \n",
       "7   135823.934197                             образование  \n",
       "8    95856.832424                   на проведение свадьбы  \n",
       "9   144425.938277                 покупка жилья для семьи  \n",
       "10  113943.491460                    покупка недвижимости  \n",
       "11   77069.234271       покупка коммерческой недвижимости  \n",
       "12            NaN                         сыграть свадьбу  \n",
       "13  130458.228857                 приобретение автомобиля  \n",
       "14  165127.911772              покупка жилой недвижимости  \n",
       "15  116820.904450  строительство собственной недвижимости  \n",
       "16  289202.704229                            недвижимость  \n",
       "17   90410.586745              строительство недвижимости  \n",
       "18   56823.777243      на покупку подержанного автомобиля  \n",
       "19  242831.107982            на покупку своего автомобиля  "
      ]
     },
     "execution_count": 2,
     "metadata": {},
     "output_type": "execute_result"
    }
   ],
   "source": [
    "data.head(20)"
   ]
  },
  {
   "cell_type": "code",
   "execution_count": 3,
   "id": "ab3f863b",
   "metadata": {
    "deletable": false,
    "id": "ab3f863b",
    "outputId": "15376089-8dad-46c9-b520-c05248d43158"
   },
   "outputs": [
    {
     "name": "stdout",
     "output_type": "stream",
     "text": [
      "<class 'pandas.core.frame.DataFrame'>\n",
      "RangeIndex: 21525 entries, 0 to 21524\n",
      "Data columns (total 12 columns):\n",
      " #   Column            Non-Null Count  Dtype  \n",
      "---  ------            --------------  -----  \n",
      " 0   children          21525 non-null  int64  \n",
      " 1   days_employed     19351 non-null  float64\n",
      " 2   dob_years         21525 non-null  int64  \n",
      " 3   education         21525 non-null  object \n",
      " 4   education_id      21525 non-null  int64  \n",
      " 5   family_status     21525 non-null  object \n",
      " 6   family_status_id  21525 non-null  int64  \n",
      " 7   gender            21525 non-null  object \n",
      " 8   income_type       21525 non-null  object \n",
      " 9   debt              21525 non-null  int64  \n",
      " 10  total_income      19351 non-null  float64\n",
      " 11  purpose           21525 non-null  object \n",
      "dtypes: float64(2), int64(5), object(5)\n",
      "memory usage: 2.0+ MB\n"
     ]
    }
   ],
   "source": [
    "data.info()"
   ]
  },
  {
   "cell_type": "markdown",
   "id": "60e3e22d",
   "metadata": {
    "deletable": false,
    "editable": false,
    "id": "60e3e22d"
   },
   "source": [
    "## Предобработка данных"
   ]
  },
  {
   "cell_type": "markdown",
   "id": "03dc170c",
   "metadata": {
    "id": "03dc170c"
   },
   "source": [
    "### Обработка пропусков"
   ]
  },
  {
   "cell_type": "code",
   "execution_count": 4,
   "id": "2dc372b2",
   "metadata": {
    "deletable": false,
    "id": "2dc372b2",
    "outputId": "81f4d817-781c-465c-ed15-91ce4446810d",
    "scrolled": false
   },
   "outputs": [
    {
     "data": {
      "text/plain": [
       "children               0\n",
       "days_employed       2174\n",
       "dob_years              0\n",
       "education              0\n",
       "education_id           0\n",
       "family_status          0\n",
       "family_status_id       0\n",
       "gender                 0\n",
       "income_type            0\n",
       "debt                   0\n",
       "total_income        2174\n",
       "purpose                0\n",
       "dtype: int64"
      ]
     },
     "execution_count": 4,
     "metadata": {},
     "output_type": "execute_result"
    }
   ],
   "source": [
    "data.isna().sum()"
   ]
  },
  {
   "cell_type": "markdown",
   "id": "14f011b1",
   "metadata": {
    "id": "14f011b1"
   },
   "source": [
    "В двух столбцах есть пропущенные значения. Один из них — `days_employed`. Пропуски в этом столбце обработаю позже. Другой столбец с пропущенными значениями — `total_income` — хранит данные о доходах.  \n",
    "\n",
    "На сумму дохода сильнее всего влияет тип занятости, поэтому заполнить пропуски в этом столбце будет целесообразно медианным значением по каждому типу из столбца `income_type`."
   ]
  },
  {
   "cell_type": "code",
   "execution_count": 5,
   "id": "bdabfb6e",
   "metadata": {
    "deletable": false,
    "id": "bdabfb6e"
   },
   "outputs": [],
   "source": [
    "for t in data['income_type'].unique():\n",
    "    data.loc[(data['income_type'] == t) & (data['total_income'].isna()), 'total_income'] = \\\n",
    "    data.loc[(data['income_type'] == t), 'total_income'].median()"
   ]
  },
  {
   "cell_type": "markdown",
   "id": "5be34059",
   "metadata": {
    "deletable": false,
    "editable": false,
    "id": "5be34059"
   },
   "source": [
    "### Обработка аномальных значений"
   ]
  },
  {
   "cell_type": "code",
   "execution_count": 6,
   "id": "020c46cc",
   "metadata": {
    "deletable": false,
    "id": "020c46cc"
   },
   "outputs": [],
   "source": [
    "data['days_employed'] = data['days_employed'].abs()"
   ]
  },
  {
   "cell_type": "code",
   "execution_count": 7,
   "id": "cd3e6328",
   "metadata": {
    "deletable": false,
    "id": "cd3e6328",
    "outputId": "801ef80e-522b-4668-f34e-565af7432bcf",
    "scrolled": false
   },
   "outputs": [
    {
     "data": {
      "text/plain": [
       "income_type\n",
       "безработный        366413.652744\n",
       "в декрете            3296.759962\n",
       "госслужащий          2689.368353\n",
       "компаньон            1547.382223\n",
       "пенсионер          365213.306266\n",
       "предприниматель       520.848083\n",
       "сотрудник            1574.202821\n",
       "студент               578.751554\n",
       "Name: days_employed, dtype: float64"
      ]
     },
     "execution_count": 7,
     "metadata": {},
     "output_type": "execute_result"
    }
   ],
   "source": [
    "data.groupby('income_type')['days_employed'].agg('median')"
   ]
  },
  {
   "cell_type": "markdown",
   "id": "90c5f058",
   "metadata": {
    "id": "90c5f058"
   },
   "source": [
    "У двух типов (безработные и пенсионеры) получатся аномально большие значения. Оставлю их как есть, так как исправить это нет возможности."
   ]
  },
  {
   "cell_type": "code",
   "execution_count": 8,
   "id": "dbb37b8e",
   "metadata": {
    "deletable": false,
    "id": "dbb37b8e",
    "outputId": "6975b15c-7f95-4697-d16d-a0c79b657b03"
   },
   "outputs": [
    {
     "data": {
      "text/plain": [
       "array([ 1,  0,  3,  2, -1,  4, 20,  5], dtype=int64)"
      ]
     },
     "execution_count": 8,
     "metadata": {},
     "output_type": "execute_result"
    }
   ],
   "source": [
    "data['children'].unique()"
   ]
  },
  {
   "cell_type": "markdown",
   "id": "2b8b0715",
   "metadata": {
    "id": "2b8b0715"
   },
   "source": [
    "В столбце `children` есть два аномальных значения 20 и -1. Удалю строки, в которых встречаются \n",
    "эти значения"
   ]
  },
  {
   "cell_type": "code",
   "execution_count": 9,
   "id": "20009df8",
   "metadata": {
    "deletable": false,
    "id": "20009df8"
   },
   "outputs": [],
   "source": [
    "data = data[(data['children'] != -1) & (data['children'] != 20)]"
   ]
  },
  {
   "cell_type": "code",
   "execution_count": 10,
   "id": "07337b81",
   "metadata": {
    "deletable": false,
    "id": "07337b81",
    "outputId": "b2097101-d49d-44d9-901b-32a65c9463d1"
   },
   "outputs": [
    {
     "data": {
      "text/plain": [
       "array([1, 0, 3, 2, 4, 5], dtype=int64)"
      ]
     },
     "execution_count": 10,
     "metadata": {},
     "output_type": "execute_result"
    }
   ],
   "source": [
    "data['children'].unique()"
   ]
  },
  {
   "cell_type": "markdown",
   "id": "ee3f52d4",
   "metadata": {
    "id": "ee3f52d4"
   },
   "source": [
    "### Обрабокта пропусков (продолжение)"
   ]
  },
  {
   "cell_type": "markdown",
   "id": "a700b0e4",
   "metadata": {
    "id": "a700b0e4"
   },
   "source": [
    "Заполню пропуски в столбце `days_employed` медианными значениями по каждого типа занятости `income_type`"
   ]
  },
  {
   "cell_type": "code",
   "execution_count": 11,
   "id": "61946b83",
   "metadata": {
    "deletable": false,
    "id": "61946b83"
   },
   "outputs": [],
   "source": [
    "for t in data['income_type'].unique():\n",
    "    data.loc[(data['income_type'] == t) & (data['days_employed'].isna()), 'days_employed'] = \\\n",
    "    data.loc[(data['income_type'] == t), 'days_employed'].median()"
   ]
  },
  {
   "cell_type": "code",
   "execution_count": 12,
   "id": "937c7014",
   "metadata": {
    "deletable": false,
    "id": "937c7014",
    "outputId": "8da1e4e1-358e-4e87-98c9-f261bce0a7b2",
    "scrolled": false
   },
   "outputs": [
    {
     "data": {
      "text/plain": [
       "children            0\n",
       "days_employed       0\n",
       "dob_years           0\n",
       "education           0\n",
       "education_id        0\n",
       "family_status       0\n",
       "family_status_id    0\n",
       "gender              0\n",
       "income_type         0\n",
       "debt                0\n",
       "total_income        0\n",
       "purpose             0\n",
       "dtype: int64"
      ]
     },
     "execution_count": 12,
     "metadata": {},
     "output_type": "execute_result"
    }
   ],
   "source": [
    "data.isna().sum()"
   ]
  },
  {
   "cell_type": "markdown",
   "id": "d522e295",
   "metadata": {
    "deletable": false,
    "editable": false,
    "id": "d522e295"
   },
   "source": [
    "### Изменение типов данных"
   ]
  },
  {
   "cell_type": "code",
   "execution_count": 13,
   "id": "31036462",
   "metadata": {
    "deletable": false,
    "id": "31036462"
   },
   "outputs": [],
   "source": [
    "data['total_income'] = data['total_income'].astype(int)"
   ]
  },
  {
   "cell_type": "markdown",
   "id": "b8e3d1d9",
   "metadata": {
    "id": "b8e3d1d9"
   },
   "source": [
    "### Обработка дубликатов"
   ]
  },
  {
   "cell_type": "code",
   "execution_count": 14,
   "id": "d89e73e1",
   "metadata": {
    "deletable": false,
    "id": "d89e73e1"
   },
   "outputs": [],
   "source": [
    "data['education'] = data['education'].str.lower()"
   ]
  },
  {
   "cell_type": "markdown",
   "id": "01d4500e",
   "metadata": {
    "deletable": false,
    "editable": false,
    "id": "01d4500e"
   },
   "source": [
    "**Задание 15. Выведите на экран количество строк-дубликатов в данных. Если такие строки присутствуют, удалите их.**"
   ]
  },
  {
   "cell_type": "code",
   "execution_count": 15,
   "id": "e10efb23",
   "metadata": {
    "deletable": false,
    "id": "e10efb23",
    "outputId": "9684deba-1934-42d1-99e1-cda61740f822"
   },
   "outputs": [
    {
     "data": {
      "text/plain": [
       "71"
      ]
     },
     "execution_count": 15,
     "metadata": {},
     "output_type": "execute_result"
    }
   ],
   "source": [
    "data.duplicated().sum()"
   ]
  },
  {
   "cell_type": "code",
   "execution_count": 16,
   "id": "df853f20",
   "metadata": {
    "deletable": false,
    "id": "df853f20"
   },
   "outputs": [],
   "source": [
    "data = data.drop_duplicates()"
   ]
  },
  {
   "cell_type": "markdown",
   "id": "627be38f",
   "metadata": {
    "deletable": false,
    "editable": false,
    "id": "627be38f"
   },
   "source": [
    "### Категоризация данных"
   ]
  },
  {
   "cell_type": "markdown",
   "id": "4684c3e0",
   "metadata": {
    "id": "4684c3e0"
   },
   "source": [
    "Создам в датафрейме `data` столбец `total_income_category` с категориями:\n",
    "\n",
    "- 0–30000 — `'E'`;\n",
    "- 30001–50000 — `'D'`;\n",
    "- 50001–200000 — `'C'`;\n",
    "- 200001–1000000 — `'B'`;\n",
    "- 1000001 и выше — `'A'`."
   ]
  },
  {
   "cell_type": "code",
   "execution_count": 17,
   "id": "78965238",
   "metadata": {
    "deletable": false,
    "id": "78965238"
   },
   "outputs": [],
   "source": [
    "def categorize_income(income):\n",
    "    try:\n",
    "        if 0 <= income <= 30000:\n",
    "            return 'E'\n",
    "        elif 30001 <= income <= 50000:\n",
    "            return 'D'\n",
    "        elif 50001 <= income <= 200000:\n",
    "            return 'C'\n",
    "        elif 200001 <= income <= 1000000:\n",
    "            return 'B'\n",
    "        elif income >= 1000001:\n",
    "            return 'A'\n",
    "    except:\n",
    "        pass"
   ]
  },
  {
   "cell_type": "code",
   "execution_count": 18,
   "id": "0980ada1",
   "metadata": {
    "deletable": false,
    "id": "0980ada1"
   },
   "outputs": [],
   "source": [
    "data['total_income_category'] = data['total_income'].apply(categorize_income)"
   ]
  },
  {
   "cell_type": "code",
   "execution_count": 19,
   "id": "ee07b65e",
   "metadata": {
    "deletable": false,
    "id": "ee07b65e",
    "outputId": "673c12d9-7d7e-4ae0-9812-c622c89dd244",
    "scrolled": false
   },
   "outputs": [
    {
     "data": {
      "text/plain": [
       "array(['покупка жилья', 'приобретение автомобиля',\n",
       "       'дополнительное образование', 'сыграть свадьбу',\n",
       "       'операции с жильем', 'образование', 'на проведение свадьбы',\n",
       "       'покупка жилья для семьи', 'покупка недвижимости',\n",
       "       'покупка коммерческой недвижимости', 'покупка жилой недвижимости',\n",
       "       'строительство собственной недвижимости', 'недвижимость',\n",
       "       'строительство недвижимости', 'на покупку подержанного автомобиля',\n",
       "       'на покупку своего автомобиля',\n",
       "       'операции с коммерческой недвижимостью',\n",
       "       'строительство жилой недвижимости', 'жилье',\n",
       "       'операции со своей недвижимостью', 'автомобили',\n",
       "       'заняться образованием', 'сделка с подержанным автомобилем',\n",
       "       'получение образования', 'автомобиль', 'свадьба',\n",
       "       'получение дополнительного образования', 'покупка своего жилья',\n",
       "       'операции с недвижимостью', 'получение высшего образования',\n",
       "       'свой автомобиль', 'сделка с автомобилем',\n",
       "       'профильное образование', 'высшее образование',\n",
       "       'покупка жилья для сдачи', 'на покупку автомобиля', 'ремонт жилью',\n",
       "       'заняться высшим образованием'], dtype=object)"
      ]
     },
     "execution_count": 19,
     "metadata": {},
     "output_type": "execute_result"
    }
   ],
   "source": [
    "data['purpose'].unique()"
   ]
  },
  {
   "cell_type": "markdown",
   "id": "52b79d56",
   "metadata": {
    "id": "52b79d56"
   },
   "source": [
    "Создам функцию, которая на основании данных из столбца `purpose` сформирует новый столбец `purpose_category`, в который войдут следующие категории:\n",
    "\n",
    "- `'операции с автомобилем'`,\n",
    "- `'операции с недвижимостью'`,\n",
    "- `'проведение свадьбы'`,\n",
    "- `'получение образования'`"
   ]
  },
  {
   "cell_type": "code",
   "execution_count": 20,
   "id": "be41da5d",
   "metadata": {
    "deletable": false,
    "id": "be41da5d"
   },
   "outputs": [],
   "source": [
    "def categorize_purpose(row):\n",
    "    try:\n",
    "        if 'автом' in row:\n",
    "            return 'операции с автомобилем'\n",
    "        elif 'жил' in row or 'недвиж' in row:\n",
    "            return 'операции с недвижимостью'\n",
    "        elif 'свад' in row:\n",
    "            return 'проведение свадьбы'\n",
    "        elif 'образов' in row:\n",
    "            return 'получение образования'\n",
    "    except:\n",
    "        return 'нет категории'"
   ]
  },
  {
   "cell_type": "code",
   "execution_count": 21,
   "id": "94c4a19a",
   "metadata": {
    "deletable": false,
    "id": "94c4a19a"
   },
   "outputs": [],
   "source": [
    "data['purpose_category'] = data['purpose'].apply(categorize_purpose)"
   ]
  },
  {
   "cell_type": "markdown",
   "id": "3d596c34",
   "metadata": {
    "id": "3d596c34"
   },
   "source": [
    "## Исследовательский анализ"
   ]
  },
  {
   "cell_type": "markdown",
   "id": "648db036",
   "metadata": {
    "id": "648db036"
   },
   "source": [
    "### Есть ли зависимость между количеством детей и возвратом кредита в срок?"
   ]
  },
  {
   "cell_type": "code",
   "execution_count": 22,
   "id": "1c4ef683",
   "metadata": {},
   "outputs": [],
   "source": [
    "def debtors_mean(df, column):\n",
    "    df_grouped = df.groupby(column).agg({'debt':['count', 'sum', 'mean']})\n",
    "    df_grouped.columns = 'borrowers', 'debtors', 'mean, %'\n",
    "    df_grouped['mean, %'] = df_grouped['mean, %'] * 100\n",
    "    df_grouped = df_grouped.sort_values('borrowers', ascending=False)\n",
    "    return df_grouped"
   ]
  },
  {
   "cell_type": "code",
   "execution_count": 23,
   "id": "ea523652",
   "metadata": {},
   "outputs": [
    {
     "data": {
      "text/html": [
       "<div>\n",
       "<style scoped>\n",
       "    .dataframe tbody tr th:only-of-type {\n",
       "        vertical-align: middle;\n",
       "    }\n",
       "\n",
       "    .dataframe tbody tr th {\n",
       "        vertical-align: top;\n",
       "    }\n",
       "\n",
       "    .dataframe thead th {\n",
       "        text-align: right;\n",
       "    }\n",
       "</style>\n",
       "<table border=\"1\" class=\"dataframe\">\n",
       "  <thead>\n",
       "    <tr style=\"text-align: right;\">\n",
       "      <th></th>\n",
       "      <th>borrowers</th>\n",
       "      <th>debtors</th>\n",
       "      <th>mean, %</th>\n",
       "    </tr>\n",
       "    <tr>\n",
       "      <th>children</th>\n",
       "      <th></th>\n",
       "      <th></th>\n",
       "      <th></th>\n",
       "    </tr>\n",
       "  </thead>\n",
       "  <tbody>\n",
       "    <tr>\n",
       "      <th>0</th>\n",
       "      <td>14091</td>\n",
       "      <td>1063</td>\n",
       "      <td>7.543822</td>\n",
       "    </tr>\n",
       "    <tr>\n",
       "      <th>1</th>\n",
       "      <td>4808</td>\n",
       "      <td>444</td>\n",
       "      <td>9.234609</td>\n",
       "    </tr>\n",
       "    <tr>\n",
       "      <th>2</th>\n",
       "      <td>2052</td>\n",
       "      <td>194</td>\n",
       "      <td>9.454191</td>\n",
       "    </tr>\n",
       "    <tr>\n",
       "      <th>3</th>\n",
       "      <td>330</td>\n",
       "      <td>27</td>\n",
       "      <td>8.181818</td>\n",
       "    </tr>\n",
       "    <tr>\n",
       "      <th>4</th>\n",
       "      <td>41</td>\n",
       "      <td>4</td>\n",
       "      <td>9.756098</td>\n",
       "    </tr>\n",
       "    <tr>\n",
       "      <th>5</th>\n",
       "      <td>9</td>\n",
       "      <td>0</td>\n",
       "      <td>0.000000</td>\n",
       "    </tr>\n",
       "  </tbody>\n",
       "</table>\n",
       "</div>"
      ],
      "text/plain": [
       "          borrowers  debtors   mean, %\n",
       "children                              \n",
       "0             14091     1063  7.543822\n",
       "1              4808      444  9.234609\n",
       "2              2052      194  9.454191\n",
       "3               330       27  8.181818\n",
       "4                41        4  9.756098\n",
       "5                 9        0  0.000000"
      ]
     },
     "execution_count": 23,
     "metadata": {},
     "output_type": "execute_result"
    }
   ],
   "source": [
    "debtors_mean(data, 'children')"
   ]
  },
  {
   "cell_type": "markdown",
   "id": "c389ca63",
   "metadata": {
    "deletable": false,
    "id": "c389ca63"
   },
   "source": [
    "**Вывод:** \n",
    "  \n",
    "Вероятность задолженности увеличивается с каждым ребенком, но выделяется группа людей с тремя детьми, в которой должников на 1-1.5% меньше чем, в других группах с детьми и всего на 0.6% больше, чем в группе без детей. Можно списать это на малое количество людей в выборке, по сравнению с другими группами, но стоит обратить внимание и проверить другие факторы, влияющие на возврат долга. Также вероятность задолженности в группе с четырьмя и пятью детьми нерелевантна, т.к выборки из 41 и 9 человек слишком малы"
   ]
  },
  {
   "cell_type": "markdown",
   "id": "74c9b3a7",
   "metadata": {
    "id": "74c9b3a7"
   },
   "source": [
    "### Есть ли зависимость между семейным положением и возвратом кредита в срок?"
   ]
  },
  {
   "cell_type": "code",
   "execution_count": 24,
   "id": "fd234d85",
   "metadata": {},
   "outputs": [
    {
     "data": {
      "text/html": [
       "<div>\n",
       "<style scoped>\n",
       "    .dataframe tbody tr th:only-of-type {\n",
       "        vertical-align: middle;\n",
       "    }\n",
       "\n",
       "    .dataframe tbody tr th {\n",
       "        vertical-align: top;\n",
       "    }\n",
       "\n",
       "    .dataframe thead th {\n",
       "        text-align: right;\n",
       "    }\n",
       "</style>\n",
       "<table border=\"1\" class=\"dataframe\">\n",
       "  <thead>\n",
       "    <tr style=\"text-align: right;\">\n",
       "      <th></th>\n",
       "      <th>borrowers</th>\n",
       "      <th>debtors</th>\n",
       "      <th>mean, %</th>\n",
       "    </tr>\n",
       "    <tr>\n",
       "      <th>family_status</th>\n",
       "      <th></th>\n",
       "      <th></th>\n",
       "      <th></th>\n",
       "    </tr>\n",
       "  </thead>\n",
       "  <tbody>\n",
       "    <tr>\n",
       "      <th>женат / замужем</th>\n",
       "      <td>12261</td>\n",
       "      <td>927</td>\n",
       "      <td>7.560558</td>\n",
       "    </tr>\n",
       "    <tr>\n",
       "      <th>гражданский брак</th>\n",
       "      <td>4134</td>\n",
       "      <td>385</td>\n",
       "      <td>9.313014</td>\n",
       "    </tr>\n",
       "    <tr>\n",
       "      <th>Не женат / не замужем</th>\n",
       "      <td>2796</td>\n",
       "      <td>273</td>\n",
       "      <td>9.763948</td>\n",
       "    </tr>\n",
       "    <tr>\n",
       "      <th>в разводе</th>\n",
       "      <td>1189</td>\n",
       "      <td>84</td>\n",
       "      <td>7.064760</td>\n",
       "    </tr>\n",
       "    <tr>\n",
       "      <th>вдовец / вдова</th>\n",
       "      <td>951</td>\n",
       "      <td>63</td>\n",
       "      <td>6.624606</td>\n",
       "    </tr>\n",
       "  </tbody>\n",
       "</table>\n",
       "</div>"
      ],
      "text/plain": [
       "                       borrowers  debtors   mean, %\n",
       "family_status                                      \n",
       "женат / замужем            12261      927  7.560558\n",
       "гражданский брак            4134      385  9.313014\n",
       "Не женат / не замужем       2796      273  9.763948\n",
       "в разводе                   1189       84  7.064760\n",
       "вдовец / вдова               951       63  6.624606"
      ]
     },
     "execution_count": 24,
     "metadata": {},
     "output_type": "execute_result"
    }
   ],
   "source": [
    "debtors_mean(data, 'family_status')"
   ]
  },
  {
   "cell_type": "markdown",
   "id": "640316ad",
   "metadata": {
    "id": "c389ca63"
   },
   "source": [
    "**Вывод:** \n",
    "  \n",
    "В категориях \"вдовцы/вдовы\" и \"в разводе\" наименьшее количество должников. Незамужние и люди в гражданском браке наиболее склонны к задолженности"
   ]
  },
  {
   "cell_type": "markdown",
   "id": "9529de68",
   "metadata": {
    "id": "9529de68"
   },
   "source": [
    "### Есть ли зависимость между уровнем дохода и возвратом кредита в срок?"
   ]
  },
  {
   "cell_type": "code",
   "execution_count": 25,
   "id": "8787f44a",
   "metadata": {
    "deletable": false,
    "id": "8787f44a"
   },
   "outputs": [
    {
     "data": {
      "text/html": [
       "<div>\n",
       "<style scoped>\n",
       "    .dataframe tbody tr th:only-of-type {\n",
       "        vertical-align: middle;\n",
       "    }\n",
       "\n",
       "    .dataframe tbody tr th {\n",
       "        vertical-align: top;\n",
       "    }\n",
       "\n",
       "    .dataframe thead th {\n",
       "        text-align: right;\n",
       "    }\n",
       "</style>\n",
       "<table border=\"1\" class=\"dataframe\">\n",
       "  <thead>\n",
       "    <tr style=\"text-align: right;\">\n",
       "      <th></th>\n",
       "      <th>borrowers</th>\n",
       "      <th>debtors</th>\n",
       "      <th>mean, %</th>\n",
       "    </tr>\n",
       "    <tr>\n",
       "      <th>total_income_category</th>\n",
       "      <th></th>\n",
       "      <th></th>\n",
       "      <th></th>\n",
       "    </tr>\n",
       "  </thead>\n",
       "  <tbody>\n",
       "    <tr>\n",
       "      <th>C</th>\n",
       "      <td>15921</td>\n",
       "      <td>1353</td>\n",
       "      <td>8.498210</td>\n",
       "    </tr>\n",
       "    <tr>\n",
       "      <th>B</th>\n",
       "      <td>5014</td>\n",
       "      <td>354</td>\n",
       "      <td>7.060231</td>\n",
       "    </tr>\n",
       "    <tr>\n",
       "      <th>D</th>\n",
       "      <td>349</td>\n",
       "      <td>21</td>\n",
       "      <td>6.017192</td>\n",
       "    </tr>\n",
       "    <tr>\n",
       "      <th>A</th>\n",
       "      <td>25</td>\n",
       "      <td>2</td>\n",
       "      <td>8.000000</td>\n",
       "    </tr>\n",
       "    <tr>\n",
       "      <th>E</th>\n",
       "      <td>22</td>\n",
       "      <td>2</td>\n",
       "      <td>9.090909</td>\n",
       "    </tr>\n",
       "  </tbody>\n",
       "</table>\n",
       "</div>"
      ],
      "text/plain": [
       "                       borrowers  debtors   mean, %\n",
       "total_income_category                              \n",
       "C                          15921     1353  8.498210\n",
       "B                           5014      354  7.060231\n",
       "D                            349       21  6.017192\n",
       "A                             25        2  8.000000\n",
       "E                             22        2  9.090909"
      ]
     },
     "execution_count": 25,
     "metadata": {},
     "output_type": "execute_result"
    }
   ],
   "source": [
    "debtors_mean(data, 'total_income_category')"
   ]
  },
  {
   "cell_type": "markdown",
   "id": "6dd14b57",
   "metadata": {
    "deletable": false,
    "id": "6dd14b57"
   },
   "source": [
    "**Вывод:** \n",
    "  \n",
    "Меньше всего должников в группах B и D, но в группе D всего 349 человек, что может исказить реальные данные. Набольший процент задолженности в группах C и E. В группах A и E результаты могут быть нерелевантны из-за малого количества людей в выборке."
   ]
  },
  {
   "cell_type": "markdown",
   "id": "1dcc9b12",
   "metadata": {
    "id": "1dcc9b12"
   },
   "source": [
    "### Как разные цели кредита влияют на его возврат в срок?"
   ]
  },
  {
   "cell_type": "code",
   "execution_count": 26,
   "id": "c602bc8b",
   "metadata": {
    "deletable": false,
    "id": "c602bc8b"
   },
   "outputs": [
    {
     "data": {
      "text/html": [
       "<div>\n",
       "<style scoped>\n",
       "    .dataframe tbody tr th:only-of-type {\n",
       "        vertical-align: middle;\n",
       "    }\n",
       "\n",
       "    .dataframe tbody tr th {\n",
       "        vertical-align: top;\n",
       "    }\n",
       "\n",
       "    .dataframe thead th {\n",
       "        text-align: right;\n",
       "    }\n",
       "</style>\n",
       "<table border=\"1\" class=\"dataframe\">\n",
       "  <thead>\n",
       "    <tr style=\"text-align: right;\">\n",
       "      <th></th>\n",
       "      <th>borrowers</th>\n",
       "      <th>debtors</th>\n",
       "      <th>mean, %</th>\n",
       "    </tr>\n",
       "    <tr>\n",
       "      <th>purpose_category</th>\n",
       "      <th></th>\n",
       "      <th></th>\n",
       "      <th></th>\n",
       "    </tr>\n",
       "  </thead>\n",
       "  <tbody>\n",
       "    <tr>\n",
       "      <th>операции с недвижимостью</th>\n",
       "      <td>10751</td>\n",
       "      <td>780</td>\n",
       "      <td>7.255139</td>\n",
       "    </tr>\n",
       "    <tr>\n",
       "      <th>операции с автомобилем</th>\n",
       "      <td>4279</td>\n",
       "      <td>400</td>\n",
       "      <td>9.347978</td>\n",
       "    </tr>\n",
       "    <tr>\n",
       "      <th>получение образования</th>\n",
       "      <td>3988</td>\n",
       "      <td>369</td>\n",
       "      <td>9.252758</td>\n",
       "    </tr>\n",
       "    <tr>\n",
       "      <th>проведение свадьбы</th>\n",
       "      <td>2313</td>\n",
       "      <td>183</td>\n",
       "      <td>7.911803</td>\n",
       "    </tr>\n",
       "  </tbody>\n",
       "</table>\n",
       "</div>"
      ],
      "text/plain": [
       "                          borrowers  debtors   mean, %\n",
       "purpose_category                                      \n",
       "операции с недвижимостью      10751      780  7.255139\n",
       "операции с автомобилем         4279      400  9.347978\n",
       "получение образования          3988      369  9.252758\n",
       "проведение свадьбы             2313      183  7.911803"
      ]
     },
     "execution_count": 26,
     "metadata": {},
     "output_type": "execute_result"
    }
   ],
   "source": [
    "debtors_mean(data, 'purpose_category')"
   ]
  },
  {
   "cell_type": "markdown",
   "id": "cf05ed63",
   "metadata": {
    "id": "cf05ed63"
   },
   "source": [
    "**Вывод:** \n",
    "  \n",
    "Меньше всего просрочек по кредитам на недвижимость. На операции с образованием и с автомобилем наибольшее количество задолженностей"
   ]
  },
  {
   "cell_type": "markdown",
   "id": "57bc304e",
   "metadata": {
    "id": "57bc304e"
   },
   "source": [
    "## Общий вывод."
   ]
  },
  {
   "cell_type": "markdown",
   "id": "1ab75d1c",
   "metadata": {
    "deletable": false,
    "id": "1ab75d1c"
   },
   "source": [
    "Было проверено 4 гипотезы и сделаны выводы:\n",
    "    \n",
    "   1. Количество детей влияет на возврат кредита в срок. Чем больше детей, тем больше вероятность, что заемщик останется в долгу. \n",
    "  \n",
    "  \n",
    "   2. Семейное положение тоже влияет на возврат кредита. Самыми надежными заемщиками являются вдовцы/вдовы и люди в разводе. Самыми ненадежными люди в гражданском барке и не женатые/не замужние\n",
    "  \n",
    "  \n",
    "   3. От уровня дохода также есть зависимость на возврат кредита, люди с доходом 200 тыс. - 1 млн. р чаще возвращают кредит в срок, а с доходом до 30 тыс. р реже всего\n",
    "  \n",
    "  \n",
    "   4. От цели кредита зависит количество задолженностей. Самая надежная категория - недвижимость, по ней меньше всего должников, самые ненадежные - образование и автомобили.\n",
    "\n",
    "Идеальным кандидатом на выдачу кредита будет вдова/вдовец, без детей, с уровнем дохода 200 тыс. - 1 млн. р, с целью приобрести недвижимость\n",
    "\n",
    "Антикандидатом может выступить многодетный неженатый человек, с уровнем дохода до 30 тыс. р, с целью приобрести автомобиль"
   ]
  },
  {
   "cell_type": "code",
   "execution_count": null,
   "id": "8bc933c0",
   "metadata": {},
   "outputs": [],
   "source": []
  }
 ],
 "metadata": {
  "ExecuteTimeLog": [
   {
    "duration": 522,
    "start_time": "2023-03-06T10:33:19.506Z"
   },
   {
    "duration": 19,
    "start_time": "2023-03-06T10:36:45.650Z"
   },
   {
    "duration": 495,
    "start_time": "2023-03-06T10:37:03.932Z"
   },
   {
    "duration": 22,
    "start_time": "2023-03-06T10:37:04.430Z"
   },
   {
    "duration": 33,
    "start_time": "2023-03-06T10:37:04.454Z"
   },
   {
    "duration": 23,
    "start_time": "2023-03-06T10:37:04.490Z"
   },
   {
    "duration": 60,
    "start_time": "2023-03-06T10:37:04.514Z"
   },
   {
    "duration": 5,
    "start_time": "2023-03-06T10:37:04.576Z"
   },
   {
    "duration": 33,
    "start_time": "2023-03-06T10:37:04.582Z"
   },
   {
    "duration": 22,
    "start_time": "2023-03-06T10:37:04.617Z"
   },
   {
    "duration": 35,
    "start_time": "2023-03-06T10:37:04.640Z"
   },
   {
    "duration": 48,
    "start_time": "2023-03-06T10:37:04.677Z"
   },
   {
    "duration": 59,
    "start_time": "2023-03-06T10:37:04.727Z"
   },
   {
    "duration": 9,
    "start_time": "2023-03-06T10:37:04.788Z"
   },
   {
    "duration": 19,
    "start_time": "2023-03-06T10:37:04.799Z"
   },
   {
    "duration": 43,
    "start_time": "2023-03-06T10:37:04.820Z"
   },
   {
    "duration": 40,
    "start_time": "2023-03-06T10:37:04.864Z"
   },
   {
    "duration": 23,
    "start_time": "2023-03-06T10:37:04.906Z"
   },
   {
    "duration": 13,
    "start_time": "2023-03-06T10:37:04.931Z"
   },
   {
    "duration": 29,
    "start_time": "2023-03-06T10:37:04.945Z"
   },
   {
    "duration": 35,
    "start_time": "2023-03-06T10:37:04.976Z"
   },
   {
    "duration": 15,
    "start_time": "2023-03-06T10:37:05.013Z"
   },
   {
    "duration": 54,
    "start_time": "2023-03-06T10:37:05.030Z"
   },
   {
    "duration": 42,
    "start_time": "2023-03-06T10:37:05.086Z"
   },
   {
    "duration": 19,
    "start_time": "2023-03-06T10:37:05.130Z"
   },
   {
    "duration": 32,
    "start_time": "2023-03-06T10:37:05.150Z"
   },
   {
    "duration": 41,
    "start_time": "2023-03-06T10:37:05.184Z"
   },
   {
    "duration": 12,
    "start_time": "2023-03-06T10:38:43.751Z"
   },
   {
    "duration": 10,
    "start_time": "2023-03-06T10:38:57.597Z"
   },
   {
    "duration": 559,
    "start_time": "2023-03-06T10:39:36.752Z"
   },
   {
    "duration": 183,
    "start_time": "2023-03-06T10:39:53.752Z"
   },
   {
    "duration": 149,
    "start_time": "2023-03-06T10:40:06.651Z"
   },
   {
    "duration": 208,
    "start_time": "2023-03-06T10:40:16.632Z"
   },
   {
    "duration": 275,
    "start_time": "2023-03-06T10:40:28.102Z"
   },
   {
    "duration": 176,
    "start_time": "2023-03-06T10:40:37.815Z"
   },
   {
    "duration": 9,
    "start_time": "2023-03-06T10:40:46.910Z"
   },
   {
    "duration": 9,
    "start_time": "2023-03-06T10:40:54.510Z"
   },
   {
    "duration": 128,
    "start_time": "2023-03-06T10:42:17.886Z"
   },
   {
    "duration": 138,
    "start_time": "2023-03-06T10:42:34.357Z"
   },
   {
    "duration": 107,
    "start_time": "2023-03-06T10:42:36.223Z"
   },
   {
    "duration": 100,
    "start_time": "2023-03-06T10:42:39.196Z"
   },
   {
    "duration": 129,
    "start_time": "2023-03-06T10:42:42.002Z"
   },
   {
    "duration": 141,
    "start_time": "2023-03-06T10:43:16.439Z"
   },
   {
    "duration": 133,
    "start_time": "2023-03-06T10:43:20.614Z"
   },
   {
    "duration": 138,
    "start_time": "2023-03-06T10:43:24.802Z"
   },
   {
    "duration": 144,
    "start_time": "2023-03-06T10:43:39.623Z"
   },
   {
    "duration": 191,
    "start_time": "2023-03-06T10:43:50.498Z"
   },
   {
    "duration": 164,
    "start_time": "2023-03-06T10:44:16.402Z"
   },
   {
    "duration": 8,
    "start_time": "2023-03-06T10:44:22.151Z"
   },
   {
    "duration": 8,
    "start_time": "2023-03-06T10:45:08.515Z"
   },
   {
    "duration": 2,
    "start_time": "2023-03-06T10:45:27.607Z"
   },
   {
    "duration": 5,
    "start_time": "2023-03-06T10:47:08.214Z"
   },
   {
    "duration": 5,
    "start_time": "2023-03-06T10:47:27.402Z"
   },
   {
    "duration": 49,
    "start_time": "2023-03-06T10:47:34.713Z"
   },
   {
    "duration": 7,
    "start_time": "2023-03-06T10:47:38.457Z"
   },
   {
    "duration": 128,
    "start_time": "2023-03-06T10:47:44.434Z"
   },
   {
    "duration": 138,
    "start_time": "2023-03-06T10:47:53.019Z"
   },
   {
    "duration": 135,
    "start_time": "2023-03-06T10:48:01.414Z"
   },
   {
    "duration": 6,
    "start_time": "2023-03-06T10:48:10.727Z"
   },
   {
    "duration": 8,
    "start_time": "2023-03-06T10:48:18.025Z"
   },
   {
    "duration": 5,
    "start_time": "2023-03-06T10:48:22.814Z"
   },
   {
    "duration": 216,
    "start_time": "2023-03-06T10:48:25.907Z"
   },
   {
    "duration": 141,
    "start_time": "2023-03-06T10:48:32.710Z"
   },
   {
    "duration": 150,
    "start_time": "2023-03-06T10:48:36.006Z"
   },
   {
    "duration": 4,
    "start_time": "2023-03-06T10:48:42.405Z"
   },
   {
    "duration": 6,
    "start_time": "2023-03-06T10:48:49.133Z"
   },
   {
    "duration": 10,
    "start_time": "2023-03-06T10:48:54.611Z"
   },
   {
    "duration": 49,
    "start_time": "2023-03-06T15:19:13.148Z"
   },
   {
    "duration": 494,
    "start_time": "2023-03-06T15:19:26.669Z"
   },
   {
    "duration": 25,
    "start_time": "2023-03-06T15:19:27.165Z"
   },
   {
    "duration": 17,
    "start_time": "2023-03-06T15:19:27.192Z"
   },
   {
    "duration": 11,
    "start_time": "2023-03-06T15:19:27.212Z"
   },
   {
    "duration": 33,
    "start_time": "2023-03-06T15:19:27.227Z"
   },
   {
    "duration": 5,
    "start_time": "2023-03-06T15:19:27.261Z"
   },
   {
    "duration": 9,
    "start_time": "2023-03-06T15:19:27.268Z"
   },
   {
    "duration": 5,
    "start_time": "2023-03-06T15:19:27.279Z"
   },
   {
    "duration": 41,
    "start_time": "2023-03-06T15:19:27.286Z"
   },
   {
    "duration": 14,
    "start_time": "2023-03-06T15:19:27.329Z"
   },
   {
    "duration": 35,
    "start_time": "2023-03-06T15:19:27.346Z"
   },
   {
    "duration": 11,
    "start_time": "2023-03-06T15:19:27.383Z"
   },
   {
    "duration": 10,
    "start_time": "2023-03-06T15:19:27.396Z"
   },
   {
    "duration": 11,
    "start_time": "2023-03-06T15:19:27.423Z"
   },
   {
    "duration": 25,
    "start_time": "2023-03-06T15:19:27.435Z"
   },
   {
    "duration": 25,
    "start_time": "2023-03-06T15:19:27.462Z"
   },
   {
    "duration": 4,
    "start_time": "2023-03-06T15:19:27.489Z"
   },
   {
    "duration": 29,
    "start_time": "2023-03-06T15:19:27.495Z"
   },
   {
    "duration": 9,
    "start_time": "2023-03-06T15:19:27.526Z"
   },
   {
    "duration": 5,
    "start_time": "2023-03-06T15:19:27.537Z"
   },
   {
    "duration": 27,
    "start_time": "2023-03-06T15:19:27.544Z"
   },
   {
    "duration": 74,
    "start_time": "2023-03-06T15:19:27.573Z"
   },
   {
    "duration": 0,
    "start_time": "2023-03-06T15:19:27.649Z"
   },
   {
    "duration": 0,
    "start_time": "2023-03-06T15:19:27.650Z"
   },
   {
    "duration": 0,
    "start_time": "2023-03-06T15:19:27.651Z"
   },
   {
    "duration": 10,
    "start_time": "2023-03-06T15:19:49.449Z"
   },
   {
    "duration": 1151,
    "start_time": "2023-03-06T15:20:08.728Z"
   },
   {
    "duration": 6,
    "start_time": "2023-03-06T15:20:23.530Z"
   },
   {
    "duration": 1130,
    "start_time": "2023-03-06T15:20:35.199Z"
   },
   {
    "duration": 1182,
    "start_time": "2023-03-06T15:20:51.588Z"
   },
   {
    "duration": 11,
    "start_time": "2023-03-06T15:20:55.645Z"
   },
   {
    "duration": 1158,
    "start_time": "2023-03-06T15:21:15.832Z"
   },
   {
    "duration": 1186,
    "start_time": "2023-03-06T15:21:29.339Z"
   },
   {
    "duration": 22,
    "start_time": "2023-03-06T15:21:44.087Z"
   },
   {
    "duration": 14,
    "start_time": "2023-03-06T15:22:06.114Z"
   },
   {
    "duration": 10,
    "start_time": "2023-03-06T15:23:11.250Z"
   },
   {
    "duration": 9,
    "start_time": "2023-03-06T15:23:36.250Z"
   },
   {
    "duration": 11,
    "start_time": "2023-03-06T15:23:42.370Z"
   },
   {
    "duration": 87,
    "start_time": "2023-03-06T15:23:52.685Z"
   },
   {
    "duration": 7,
    "start_time": "2023-03-06T15:23:57.302Z"
   },
   {
    "duration": 11,
    "start_time": "2023-03-06T15:24:32.590Z"
   },
   {
    "duration": 17,
    "start_time": "2023-03-06T15:24:38.019Z"
   },
   {
    "duration": 8,
    "start_time": "2023-03-06T15:24:47.079Z"
   },
   {
    "duration": 4,
    "start_time": "2023-03-06T15:26:15.382Z"
   },
   {
    "duration": 7,
    "start_time": "2023-03-06T15:26:19.950Z"
   },
   {
    "duration": 6,
    "start_time": "2023-03-06T15:26:26.781Z"
   },
   {
    "duration": 10,
    "start_time": "2023-03-06T15:26:32.179Z"
   },
   {
    "duration": 9,
    "start_time": "2023-03-06T15:26:40.475Z"
   },
   {
    "duration": 11,
    "start_time": "2023-03-06T15:26:47.233Z"
   },
   {
    "duration": 13,
    "start_time": "2023-03-06T15:27:33.308Z"
   },
   {
    "duration": 13,
    "start_time": "2023-03-06T15:27:35.662Z"
   },
   {
    "duration": 13,
    "start_time": "2023-03-06T15:27:39.376Z"
   },
   {
    "duration": 14,
    "start_time": "2023-03-06T15:27:56.677Z"
   },
   {
    "duration": 13,
    "start_time": "2023-03-06T15:28:02.999Z"
   },
   {
    "duration": 11,
    "start_time": "2023-03-06T15:30:41.349Z"
   },
   {
    "duration": 12,
    "start_time": "2023-03-06T15:30:46.909Z"
   },
   {
    "duration": 16,
    "start_time": "2023-03-06T15:31:57.986Z"
   },
   {
    "duration": 14,
    "start_time": "2023-03-06T15:32:08.853Z"
   },
   {
    "duration": 17,
    "start_time": "2023-03-06T15:32:26.471Z"
   },
   {
    "duration": 13,
    "start_time": "2023-03-06T15:32:33.318Z"
   },
   {
    "duration": 14,
    "start_time": "2023-03-06T15:32:36.989Z"
   },
   {
    "duration": 10,
    "start_time": "2023-03-06T15:33:00.807Z"
   },
   {
    "duration": 9,
    "start_time": "2023-03-06T15:33:07.571Z"
   },
   {
    "duration": 10,
    "start_time": "2023-03-06T15:33:11.896Z"
   },
   {
    "duration": 12,
    "start_time": "2023-03-06T15:33:17.172Z"
   },
   {
    "duration": 14,
    "start_time": "2023-03-06T15:33:19.475Z"
   },
   {
    "duration": 9,
    "start_time": "2023-03-06T15:33:26.166Z"
   },
   {
    "duration": 14,
    "start_time": "2023-03-06T15:35:26.868Z"
   },
   {
    "duration": 75,
    "start_time": "2023-03-06T15:35:54.880Z"
   },
   {
    "duration": 18,
    "start_time": "2023-03-06T15:35:58.273Z"
   },
   {
    "duration": 15,
    "start_time": "2023-03-06T15:36:02.991Z"
   },
   {
    "duration": 74,
    "start_time": "2023-03-06T15:36:11.494Z"
   },
   {
    "duration": 76,
    "start_time": "2023-03-06T15:36:15.378Z"
   },
   {
    "duration": 15,
    "start_time": "2023-03-06T15:36:18.474Z"
   },
   {
    "duration": 10,
    "start_time": "2023-03-06T15:37:52.224Z"
   },
   {
    "duration": 8,
    "start_time": "2023-03-06T15:38:19.980Z"
   },
   {
    "duration": 8,
    "start_time": "2023-03-06T15:38:29.744Z"
   },
   {
    "duration": 9,
    "start_time": "2023-03-06T15:38:37.769Z"
   },
   {
    "duration": 5,
    "start_time": "2023-03-06T15:39:58.870Z"
   },
   {
    "duration": 11,
    "start_time": "2023-03-06T15:40:03.066Z"
   },
   {
    "duration": 9,
    "start_time": "2023-03-06T15:40:21.845Z"
   },
   {
    "duration": 11,
    "start_time": "2023-03-06T15:40:29.986Z"
   },
   {
    "duration": 11,
    "start_time": "2023-03-06T15:40:51.042Z"
   },
   {
    "duration": 8,
    "start_time": "2023-03-06T15:41:14.072Z"
   },
   {
    "duration": 13,
    "start_time": "2023-03-06T15:41:47.494Z"
   },
   {
    "duration": 3,
    "start_time": "2023-03-06T15:43:32.372Z"
   },
   {
    "duration": 9,
    "start_time": "2023-03-06T15:43:35.597Z"
   },
   {
    "duration": 8,
    "start_time": "2023-03-06T15:44:04.359Z"
   },
   {
    "duration": 9,
    "start_time": "2023-03-06T15:44:07.410Z"
   },
   {
    "duration": 14,
    "start_time": "2023-03-06T15:44:39.469Z"
   },
   {
    "duration": 15,
    "start_time": "2023-03-06T15:44:53.471Z"
   },
   {
    "duration": 11,
    "start_time": "2023-03-06T15:45:15.270Z"
   },
   {
    "duration": 81,
    "start_time": "2023-03-06T15:48:50.997Z"
   },
   {
    "duration": 7,
    "start_time": "2023-03-06T15:49:04.731Z"
   },
   {
    "duration": 15,
    "start_time": "2023-03-06T15:49:12.143Z"
   },
   {
    "duration": 9,
    "start_time": "2023-03-06T15:49:39.994Z"
   },
   {
    "duration": 9,
    "start_time": "2023-03-06T15:50:01.727Z"
   },
   {
    "duration": 12,
    "start_time": "2023-03-06T15:50:16.878Z"
   },
   {
    "duration": 12,
    "start_time": "2023-03-06T15:50:20.153Z"
   },
   {
    "duration": 14,
    "start_time": "2023-03-06T15:50:40.667Z"
   },
   {
    "duration": 14,
    "start_time": "2023-03-06T15:50:57.114Z"
   },
   {
    "duration": 11,
    "start_time": "2023-03-06T15:51:02.751Z"
   },
   {
    "duration": 4,
    "start_time": "2023-03-06T15:51:14.671Z"
   },
   {
    "duration": 9,
    "start_time": "2023-03-06T15:51:17.476Z"
   },
   {
    "duration": 7,
    "start_time": "2023-03-06T15:51:39.254Z"
   },
   {
    "duration": 11,
    "start_time": "2023-03-06T15:51:53.901Z"
   },
   {
    "duration": 11,
    "start_time": "2023-03-06T15:51:56.676Z"
   },
   {
    "duration": 9,
    "start_time": "2023-03-06T15:52:14.589Z"
   },
   {
    "duration": 10,
    "start_time": "2023-03-06T15:52:35.400Z"
   },
   {
    "duration": 942,
    "start_time": "2023-03-06T15:52:57.701Z"
   },
   {
    "duration": 831,
    "start_time": "2023-03-06T15:53:05.228Z"
   },
   {
    "duration": 884,
    "start_time": "2023-03-06T15:53:11.820Z"
   },
   {
    "duration": 895,
    "start_time": "2023-03-06T15:53:20.265Z"
   },
   {
    "duration": 7,
    "start_time": "2023-03-06T15:53:26.838Z"
   },
   {
    "duration": 11,
    "start_time": "2023-03-06T15:53:29.869Z"
   },
   {
    "duration": 73,
    "start_time": "2023-03-06T15:56:56.643Z"
   },
   {
    "duration": 13,
    "start_time": "2023-03-06T15:57:05.776Z"
   },
   {
    "duration": 15,
    "start_time": "2023-03-06T15:59:12.538Z"
   },
   {
    "duration": 14,
    "start_time": "2023-03-06T15:59:59.222Z"
   },
   {
    "duration": 16,
    "start_time": "2023-03-06T16:00:05.372Z"
   },
   {
    "duration": 16,
    "start_time": "2023-03-06T16:00:17.853Z"
   },
   {
    "duration": 16,
    "start_time": "2023-03-06T16:00:24.229Z"
   },
   {
    "duration": 25,
    "start_time": "2023-03-06T16:06:54.611Z"
   },
   {
    "duration": 23,
    "start_time": "2023-03-06T16:06:58.342Z"
   },
   {
    "duration": 20,
    "start_time": "2023-03-06T16:07:41.041Z"
   },
   {
    "duration": 21,
    "start_time": "2023-03-06T16:07:53.873Z"
   },
   {
    "duration": 12,
    "start_time": "2023-03-06T16:08:01.685Z"
   },
   {
    "duration": 14,
    "start_time": "2023-03-06T16:08:08.382Z"
   },
   {
    "duration": 456,
    "start_time": "2023-03-06T16:10:28.663Z"
   },
   {
    "duration": 23,
    "start_time": "2023-03-06T16:10:29.121Z"
   },
   {
    "duration": 14,
    "start_time": "2023-03-06T16:10:29.146Z"
   },
   {
    "duration": 15,
    "start_time": "2023-03-06T16:10:29.162Z"
   },
   {
    "duration": 59,
    "start_time": "2023-03-06T16:10:29.178Z"
   },
   {
    "duration": 4,
    "start_time": "2023-03-06T16:10:29.238Z"
   },
   {
    "duration": 14,
    "start_time": "2023-03-06T16:10:29.243Z"
   },
   {
    "duration": 4,
    "start_time": "2023-03-06T16:10:29.258Z"
   },
   {
    "duration": 9,
    "start_time": "2023-03-06T16:10:29.264Z"
   },
   {
    "duration": 4,
    "start_time": "2023-03-06T16:10:29.275Z"
   },
   {
    "duration": 71,
    "start_time": "2023-03-06T16:10:29.281Z"
   },
   {
    "duration": 11,
    "start_time": "2023-03-06T16:10:29.354Z"
   },
   {
    "duration": 7,
    "start_time": "2023-03-06T16:10:29.366Z"
   },
   {
    "duration": 12,
    "start_time": "2023-03-06T16:10:29.374Z"
   },
   {
    "duration": 40,
    "start_time": "2023-03-06T16:10:29.388Z"
   },
   {
    "duration": 18,
    "start_time": "2023-03-06T16:10:29.430Z"
   },
   {
    "duration": 4,
    "start_time": "2023-03-06T16:10:29.449Z"
   },
   {
    "duration": 10,
    "start_time": "2023-03-06T16:10:29.455Z"
   },
   {
    "duration": 6,
    "start_time": "2023-03-06T16:10:29.467Z"
   },
   {
    "duration": 20,
    "start_time": "2023-03-06T16:10:29.475Z"
   },
   {
    "duration": 27,
    "start_time": "2023-03-06T16:10:29.497Z"
   },
   {
    "duration": 4,
    "start_time": "2023-03-06T16:10:29.526Z"
   },
   {
    "duration": 4,
    "start_time": "2023-03-06T16:10:29.532Z"
   },
   {
    "duration": 4,
    "start_time": "2023-03-06T16:10:29.538Z"
   },
   {
    "duration": 6,
    "start_time": "2023-03-06T16:10:29.544Z"
   },
   {
    "duration": 16,
    "start_time": "2023-03-06T16:10:44.594Z"
   },
   {
    "duration": 914,
    "start_time": "2023-03-06T16:16:00.666Z"
   },
   {
    "duration": 17,
    "start_time": "2023-03-06T16:16:11.158Z"
   },
   {
    "duration": 441,
    "start_time": "2023-03-06T16:21:05.162Z"
   },
   {
    "duration": 20,
    "start_time": "2023-03-06T16:21:05.605Z"
   },
   {
    "duration": 13,
    "start_time": "2023-03-06T16:21:05.627Z"
   },
   {
    "duration": 9,
    "start_time": "2023-03-06T16:21:05.642Z"
   },
   {
    "duration": 32,
    "start_time": "2023-03-06T16:21:05.652Z"
   },
   {
    "duration": 4,
    "start_time": "2023-03-06T16:21:05.685Z"
   },
   {
    "duration": 36,
    "start_time": "2023-03-06T16:21:05.690Z"
   },
   {
    "duration": 4,
    "start_time": "2023-03-06T16:21:05.727Z"
   },
   {
    "duration": 17,
    "start_time": "2023-03-06T16:21:05.732Z"
   },
   {
    "duration": 7,
    "start_time": "2023-03-06T16:21:05.751Z"
   },
   {
    "duration": 43,
    "start_time": "2023-03-06T16:21:05.760Z"
   },
   {
    "duration": 11,
    "start_time": "2023-03-06T16:21:05.822Z"
   },
   {
    "duration": 5,
    "start_time": "2023-03-06T16:21:05.835Z"
   },
   {
    "duration": 12,
    "start_time": "2023-03-06T16:21:05.843Z"
   },
   {
    "duration": 20,
    "start_time": "2023-03-06T16:21:05.857Z"
   },
   {
    "duration": 47,
    "start_time": "2023-03-06T16:21:05.879Z"
   },
   {
    "duration": 4,
    "start_time": "2023-03-06T16:21:05.928Z"
   },
   {
    "duration": 32,
    "start_time": "2023-03-06T16:21:05.934Z"
   },
   {
    "duration": 18,
    "start_time": "2023-03-06T16:21:05.968Z"
   },
   {
    "duration": 7,
    "start_time": "2023-03-06T16:21:05.988Z"
   },
   {
    "duration": 10,
    "start_time": "2023-03-06T16:21:05.997Z"
   },
   {
    "duration": 16,
    "start_time": "2023-03-06T16:21:06.008Z"
   },
   {
    "duration": 3,
    "start_time": "2023-03-06T16:21:06.026Z"
   },
   {
    "duration": 5,
    "start_time": "2023-03-06T16:21:06.030Z"
   },
   {
    "duration": 4,
    "start_time": "2023-03-06T16:21:06.036Z"
   },
   {
    "duration": 17,
    "start_time": "2023-03-06T16:34:24.282Z"
   },
   {
    "duration": 73,
    "start_time": "2023-03-06T16:35:02.738Z"
   },
   {
    "duration": 17,
    "start_time": "2023-03-06T16:35:06.498Z"
   },
   {
    "duration": 19,
    "start_time": "2023-03-06T16:39:30.043Z"
   },
   {
    "duration": 18,
    "start_time": "2023-03-06T16:40:39.193Z"
   },
   {
    "duration": 19,
    "start_time": "2023-03-06T16:41:21.102Z"
   },
   {
    "duration": 18,
    "start_time": "2023-03-06T16:41:23.199Z"
   },
   {
    "duration": 15,
    "start_time": "2023-03-06T16:41:36.491Z"
   },
   {
    "duration": 15,
    "start_time": "2023-03-06T16:41:46.958Z"
   },
   {
    "duration": 28,
    "start_time": "2023-03-06T16:42:44.905Z"
   },
   {
    "duration": 48,
    "start_time": "2023-03-14T07:51:20.579Z"
   },
   {
    "duration": 507,
    "start_time": "2023-03-14T07:51:51.069Z"
   },
   {
    "duration": 23,
    "start_time": "2023-03-14T07:51:51.578Z"
   },
   {
    "duration": 16,
    "start_time": "2023-03-14T07:51:51.602Z"
   },
   {
    "duration": 9,
    "start_time": "2023-03-14T07:51:51.620Z"
   },
   {
    "duration": 33,
    "start_time": "2023-03-14T07:51:51.631Z"
   },
   {
    "duration": 3,
    "start_time": "2023-03-14T07:51:51.666Z"
   },
   {
    "duration": 17,
    "start_time": "2023-03-14T07:51:51.671Z"
   },
   {
    "duration": 23,
    "start_time": "2023-03-14T07:51:51.690Z"
   },
   {
    "duration": 10,
    "start_time": "2023-03-14T07:51:51.715Z"
   },
   {
    "duration": 5,
    "start_time": "2023-03-14T07:51:51.728Z"
   },
   {
    "duration": 32,
    "start_time": "2023-03-14T07:51:51.735Z"
   },
   {
    "duration": 10,
    "start_time": "2023-03-14T07:51:51.769Z"
   },
   {
    "duration": 31,
    "start_time": "2023-03-14T07:51:51.781Z"
   },
   {
    "duration": 12,
    "start_time": "2023-03-14T07:51:51.814Z"
   },
   {
    "duration": 24,
    "start_time": "2023-03-14T07:51:51.829Z"
   },
   {
    "duration": 17,
    "start_time": "2023-03-14T07:51:51.855Z"
   },
   {
    "duration": 3,
    "start_time": "2023-03-14T07:51:51.874Z"
   },
   {
    "duration": 34,
    "start_time": "2023-03-14T07:51:51.879Z"
   },
   {
    "duration": 7,
    "start_time": "2023-03-14T07:51:51.915Z"
   },
   {
    "duration": 4,
    "start_time": "2023-03-14T07:51:51.923Z"
   },
   {
    "duration": 14,
    "start_time": "2023-03-14T07:51:51.928Z"
   },
   {
    "duration": 24,
    "start_time": "2023-03-14T07:51:51.943Z"
   },
   {
    "duration": 16,
    "start_time": "2023-03-14T07:51:51.968Z"
   },
   {
    "duration": 37,
    "start_time": "2023-03-14T07:51:51.985Z"
   },
   {
    "duration": 15,
    "start_time": "2023-03-14T07:51:52.024Z"
   },
   {
    "duration": 514,
    "start_time": "2023-03-14T08:05:10.795Z"
   },
   {
    "duration": 24,
    "start_time": "2023-03-14T08:05:11.311Z"
   },
   {
    "duration": 15,
    "start_time": "2023-03-14T08:05:11.336Z"
   },
   {
    "duration": 21,
    "start_time": "2023-03-14T08:05:11.352Z"
   },
   {
    "duration": 48,
    "start_time": "2023-03-14T08:05:11.375Z"
   },
   {
    "duration": 4,
    "start_time": "2023-03-14T08:05:11.425Z"
   },
   {
    "duration": 11,
    "start_time": "2023-03-14T08:05:11.431Z"
   },
   {
    "duration": 4,
    "start_time": "2023-03-14T08:05:11.444Z"
   },
   {
    "duration": 9,
    "start_time": "2023-03-14T08:05:11.450Z"
   },
   {
    "duration": 4,
    "start_time": "2023-03-14T08:05:11.461Z"
   },
   {
    "duration": 66,
    "start_time": "2023-03-14T08:05:11.467Z"
   },
   {
    "duration": 10,
    "start_time": "2023-03-14T08:05:11.535Z"
   },
   {
    "duration": 4,
    "start_time": "2023-03-14T08:05:11.547Z"
   },
   {
    "duration": 11,
    "start_time": "2023-03-14T08:05:11.554Z"
   },
   {
    "duration": 50,
    "start_time": "2023-03-14T08:05:11.567Z"
   },
   {
    "duration": 17,
    "start_time": "2023-03-14T08:05:11.618Z"
   },
   {
    "duration": 4,
    "start_time": "2023-03-14T08:05:11.636Z"
   },
   {
    "duration": 17,
    "start_time": "2023-03-14T08:05:11.641Z"
   },
   {
    "duration": 5,
    "start_time": "2023-03-14T08:05:11.660Z"
   },
   {
    "duration": 3,
    "start_time": "2023-03-14T08:05:11.667Z"
   },
   {
    "duration": 13,
    "start_time": "2023-03-14T08:05:11.672Z"
   },
   {
    "duration": 36,
    "start_time": "2023-03-14T08:05:11.687Z"
   },
   {
    "duration": 15,
    "start_time": "2023-03-14T08:05:11.725Z"
   },
   {
    "duration": 15,
    "start_time": "2023-03-14T08:05:11.741Z"
   },
   {
    "duration": 18,
    "start_time": "2023-03-14T08:05:11.758Z"
   },
   {
    "duration": 19,
    "start_time": "2023-03-14T08:05:20.405Z"
   },
   {
    "duration": 60,
    "start_time": "2023-03-14T08:05:27.918Z"
   },
   {
    "duration": 22,
    "start_time": "2023-03-14T08:05:33.306Z"
   },
   {
    "duration": 25,
    "start_time": "2023-03-14T08:06:05.844Z"
   },
   {
    "duration": 10,
    "start_time": "2023-03-14T08:06:13.439Z"
   },
   {
    "duration": 440,
    "start_time": "2023-03-14T08:06:56.052Z"
   },
   {
    "duration": 24,
    "start_time": "2023-03-14T08:06:56.494Z"
   },
   {
    "duration": 15,
    "start_time": "2023-03-14T08:06:56.519Z"
   },
   {
    "duration": 12,
    "start_time": "2023-03-14T08:06:56.535Z"
   },
   {
    "duration": 34,
    "start_time": "2023-03-14T08:06:56.549Z"
   },
   {
    "duration": 27,
    "start_time": "2023-03-14T08:06:56.585Z"
   },
   {
    "duration": 8,
    "start_time": "2023-03-14T08:06:56.614Z"
   },
   {
    "duration": 5,
    "start_time": "2023-03-14T08:06:56.624Z"
   },
   {
    "duration": 9,
    "start_time": "2023-03-14T08:06:56.631Z"
   },
   {
    "duration": 5,
    "start_time": "2023-03-14T08:06:56.642Z"
   },
   {
    "duration": 73,
    "start_time": "2023-03-14T08:06:56.649Z"
   },
   {
    "duration": 12,
    "start_time": "2023-03-14T08:06:56.723Z"
   },
   {
    "duration": 5,
    "start_time": "2023-03-14T08:06:56.737Z"
   },
   {
    "duration": 13,
    "start_time": "2023-03-14T08:06:56.745Z"
   },
   {
    "duration": 23,
    "start_time": "2023-03-14T08:06:56.759Z"
   },
   {
    "duration": 25,
    "start_time": "2023-03-14T08:06:56.811Z"
   },
   {
    "duration": 5,
    "start_time": "2023-03-14T08:06:56.838Z"
   },
   {
    "duration": 13,
    "start_time": "2023-03-14T08:06:56.845Z"
   },
   {
    "duration": 6,
    "start_time": "2023-03-14T08:06:56.859Z"
   },
   {
    "duration": 5,
    "start_time": "2023-03-14T08:06:56.868Z"
   },
   {
    "duration": 41,
    "start_time": "2023-03-14T08:06:56.875Z"
   },
   {
    "duration": 24,
    "start_time": "2023-03-14T08:06:56.917Z"
   },
   {
    "duration": 19,
    "start_time": "2023-03-14T08:06:56.942Z"
   },
   {
    "duration": 22,
    "start_time": "2023-03-14T08:06:56.963Z"
   },
   {
    "duration": 47,
    "start_time": "2023-03-14T08:06:56.987Z"
   },
   {
    "duration": 14,
    "start_time": "2023-03-14T08:11:16.700Z"
   },
   {
    "duration": 39,
    "start_time": "2023-03-14T08:11:22.739Z"
   },
   {
    "duration": 19,
    "start_time": "2023-03-14T08:11:45.850Z"
   },
   {
    "duration": 516,
    "start_time": "2023-03-14T08:11:51.948Z"
   },
   {
    "duration": 29,
    "start_time": "2023-03-14T08:11:52.466Z"
   },
   {
    "duration": 31,
    "start_time": "2023-03-14T08:11:52.497Z"
   },
   {
    "duration": 11,
    "start_time": "2023-03-14T08:11:52.531Z"
   },
   {
    "duration": 42,
    "start_time": "2023-03-14T08:11:52.544Z"
   },
   {
    "duration": 28,
    "start_time": "2023-03-14T08:11:52.588Z"
   },
   {
    "duration": 16,
    "start_time": "2023-03-14T08:11:52.619Z"
   },
   {
    "duration": 5,
    "start_time": "2023-03-14T08:11:52.637Z"
   },
   {
    "duration": 13,
    "start_time": "2023-03-14T08:11:52.644Z"
   },
   {
    "duration": 7,
    "start_time": "2023-03-14T08:11:52.660Z"
   },
   {
    "duration": 93,
    "start_time": "2023-03-14T08:11:52.669Z"
   },
   {
    "duration": 17,
    "start_time": "2023-03-14T08:11:52.765Z"
   },
   {
    "duration": 5,
    "start_time": "2023-03-14T08:11:52.784Z"
   },
   {
    "duration": 22,
    "start_time": "2023-03-14T08:11:52.813Z"
   },
   {
    "duration": 33,
    "start_time": "2023-03-14T08:11:52.838Z"
   },
   {
    "duration": 47,
    "start_time": "2023-03-14T08:11:52.873Z"
   },
   {
    "duration": 5,
    "start_time": "2023-03-14T08:11:52.922Z"
   },
   {
    "duration": 20,
    "start_time": "2023-03-14T08:11:52.929Z"
   },
   {
    "duration": 27,
    "start_time": "2023-03-14T08:11:52.951Z"
   },
   {
    "duration": 5,
    "start_time": "2023-03-14T08:11:52.980Z"
   },
   {
    "duration": 25,
    "start_time": "2023-03-14T08:11:52.987Z"
   },
   {
    "duration": 18,
    "start_time": "2023-03-14T08:11:53.014Z"
   },
   {
    "duration": 18,
    "start_time": "2023-03-14T08:11:53.034Z"
   },
   {
    "duration": 24,
    "start_time": "2023-03-14T08:11:53.054Z"
   },
   {
    "duration": 53,
    "start_time": "2023-03-14T08:11:53.080Z"
   },
   {
    "duration": 575,
    "start_time": "2023-03-14T08:12:20.324Z"
   },
   {
    "duration": 29,
    "start_time": "2023-03-14T08:12:20.901Z"
   },
   {
    "duration": 25,
    "start_time": "2023-03-14T08:12:20.932Z"
   },
   {
    "duration": 17,
    "start_time": "2023-03-14T08:12:20.961Z"
   },
   {
    "duration": 92,
    "start_time": "2023-03-14T08:12:20.981Z"
   },
   {
    "duration": 4,
    "start_time": "2023-03-14T08:12:21.075Z"
   },
   {
    "duration": 30,
    "start_time": "2023-03-14T08:12:21.082Z"
   },
   {
    "duration": 6,
    "start_time": "2023-03-14T08:12:21.115Z"
   },
   {
    "duration": 17,
    "start_time": "2023-03-14T08:12:21.123Z"
   },
   {
    "duration": 8,
    "start_time": "2023-03-14T08:12:21.143Z"
   },
   {
    "duration": 67,
    "start_time": "2023-03-14T08:12:21.153Z"
   },
   {
    "duration": 13,
    "start_time": "2023-03-14T08:12:21.223Z"
   },
   {
    "duration": 4,
    "start_time": "2023-03-14T08:12:21.239Z"
   },
   {
    "duration": 17,
    "start_time": "2023-03-14T08:12:21.246Z"
   },
   {
    "duration": 47,
    "start_time": "2023-03-14T08:12:21.266Z"
   },
   {
    "duration": 22,
    "start_time": "2023-03-14T08:12:21.315Z"
   },
   {
    "duration": 5,
    "start_time": "2023-03-14T08:12:21.338Z"
   },
   {
    "duration": 16,
    "start_time": "2023-03-14T08:12:21.344Z"
   },
   {
    "duration": 12,
    "start_time": "2023-03-14T08:12:21.362Z"
   },
   {
    "duration": 5,
    "start_time": "2023-03-14T08:12:21.411Z"
   },
   {
    "duration": 39,
    "start_time": "2023-03-14T08:12:21.418Z"
   },
   {
    "duration": 35,
    "start_time": "2023-03-14T08:12:21.459Z"
   },
   {
    "duration": 18,
    "start_time": "2023-03-14T08:12:21.497Z"
   },
   {
    "duration": 25,
    "start_time": "2023-03-14T08:12:21.518Z"
   },
   {
    "duration": 36,
    "start_time": "2023-03-14T08:12:21.546Z"
   },
   {
    "duration": 530,
    "start_time": "2023-03-14T08:12:37.022Z"
   },
   {
    "duration": 38,
    "start_time": "2023-03-14T08:12:37.555Z"
   },
   {
    "duration": 36,
    "start_time": "2023-03-14T08:12:37.595Z"
   },
   {
    "duration": 17,
    "start_time": "2023-03-14T08:12:37.633Z"
   },
   {
    "duration": 71,
    "start_time": "2023-03-14T08:12:37.653Z"
   },
   {
    "duration": 5,
    "start_time": "2023-03-14T08:12:37.727Z"
   },
   {
    "duration": 16,
    "start_time": "2023-03-14T08:12:37.734Z"
   },
   {
    "duration": 170,
    "start_time": "2023-03-14T08:12:37.753Z"
   },
   {
    "duration": 13,
    "start_time": "2023-03-14T08:12:37.925Z"
   },
   {
    "duration": 9,
    "start_time": "2023-03-14T08:12:37.940Z"
   },
   {
    "duration": 64,
    "start_time": "2023-03-14T08:12:37.951Z"
   },
   {
    "duration": 14,
    "start_time": "2023-03-14T08:12:38.018Z"
   },
   {
    "duration": 16,
    "start_time": "2023-03-14T08:12:38.034Z"
   },
   {
    "duration": 39,
    "start_time": "2023-03-14T08:12:38.053Z"
   },
   {
    "duration": 37,
    "start_time": "2023-03-14T08:12:38.095Z"
   },
   {
    "duration": 27,
    "start_time": "2023-03-14T08:12:38.135Z"
   },
   {
    "duration": 6,
    "start_time": "2023-03-14T08:12:38.165Z"
   },
   {
    "duration": 39,
    "start_time": "2023-03-14T08:12:38.174Z"
   },
   {
    "duration": 11,
    "start_time": "2023-03-14T08:12:38.215Z"
   },
   {
    "duration": 12,
    "start_time": "2023-03-14T08:12:38.229Z"
   },
   {
    "duration": 19,
    "start_time": "2023-03-14T08:12:38.243Z"
   },
   {
    "duration": 31,
    "start_time": "2023-03-14T08:12:38.264Z"
   },
   {
    "duration": 30,
    "start_time": "2023-03-14T08:12:38.298Z"
   },
   {
    "duration": 24,
    "start_time": "2023-03-14T08:12:38.330Z"
   },
   {
    "duration": 19,
    "start_time": "2023-03-14T08:12:38.356Z"
   },
   {
    "duration": 518,
    "start_time": "2023-03-14T08:15:29.060Z"
   },
   {
    "duration": 102,
    "start_time": "2023-03-14T08:15:29.580Z"
   },
   {
    "duration": 0,
    "start_time": "2023-03-14T08:15:29.686Z"
   },
   {
    "duration": 0,
    "start_time": "2023-03-14T08:15:29.688Z"
   },
   {
    "duration": 0,
    "start_time": "2023-03-14T08:15:29.690Z"
   },
   {
    "duration": 0,
    "start_time": "2023-03-14T08:15:29.691Z"
   },
   {
    "duration": 0,
    "start_time": "2023-03-14T08:15:29.693Z"
   },
   {
    "duration": 0,
    "start_time": "2023-03-14T08:15:29.694Z"
   },
   {
    "duration": 0,
    "start_time": "2023-03-14T08:15:29.695Z"
   },
   {
    "duration": 0,
    "start_time": "2023-03-14T08:15:29.697Z"
   },
   {
    "duration": 0,
    "start_time": "2023-03-14T08:15:29.713Z"
   },
   {
    "duration": 0,
    "start_time": "2023-03-14T08:15:29.715Z"
   },
   {
    "duration": 0,
    "start_time": "2023-03-14T08:15:29.716Z"
   },
   {
    "duration": 0,
    "start_time": "2023-03-14T08:15:29.717Z"
   },
   {
    "duration": 0,
    "start_time": "2023-03-14T08:15:29.718Z"
   },
   {
    "duration": 0,
    "start_time": "2023-03-14T08:15:29.720Z"
   },
   {
    "duration": 0,
    "start_time": "2023-03-14T08:15:29.722Z"
   },
   {
    "duration": 0,
    "start_time": "2023-03-14T08:15:29.724Z"
   },
   {
    "duration": 0,
    "start_time": "2023-03-14T08:15:29.726Z"
   },
   {
    "duration": 0,
    "start_time": "2023-03-14T08:15:29.727Z"
   },
   {
    "duration": 0,
    "start_time": "2023-03-14T08:15:29.729Z"
   },
   {
    "duration": 0,
    "start_time": "2023-03-14T08:15:29.730Z"
   },
   {
    "duration": 0,
    "start_time": "2023-03-14T08:15:29.731Z"
   },
   {
    "duration": 0,
    "start_time": "2023-03-14T08:15:29.732Z"
   },
   {
    "duration": 0,
    "start_time": "2023-03-14T08:15:29.734Z"
   },
   {
    "duration": 10,
    "start_time": "2023-03-14T08:16:20.899Z"
   },
   {
    "duration": 75,
    "start_time": "2023-03-14T08:16:26.364Z"
   },
   {
    "duration": 11,
    "start_time": "2023-03-14T08:16:30.527Z"
   },
   {
    "duration": 11,
    "start_time": "2023-03-14T08:16:34.267Z"
   },
   {
    "duration": 10,
    "start_time": "2023-03-14T08:16:39.086Z"
   },
   {
    "duration": 10,
    "start_time": "2023-03-14T08:16:43.678Z"
   },
   {
    "duration": 525,
    "start_time": "2023-03-14T08:17:08.572Z"
   },
   {
    "duration": 22,
    "start_time": "2023-03-14T08:17:09.099Z"
   },
   {
    "duration": 22,
    "start_time": "2023-03-14T08:17:09.123Z"
   },
   {
    "duration": 9,
    "start_time": "2023-03-14T08:17:09.146Z"
   },
   {
    "duration": 55,
    "start_time": "2023-03-14T08:17:09.157Z"
   },
   {
    "duration": 4,
    "start_time": "2023-03-14T08:17:09.214Z"
   },
   {
    "duration": 10,
    "start_time": "2023-03-14T08:17:09.219Z"
   },
   {
    "duration": 4,
    "start_time": "2023-03-14T08:17:09.231Z"
   },
   {
    "duration": 8,
    "start_time": "2023-03-14T08:17:09.238Z"
   },
   {
    "duration": 5,
    "start_time": "2023-03-14T08:17:09.248Z"
   },
   {
    "duration": 80,
    "start_time": "2023-03-14T08:17:09.254Z"
   },
   {
    "duration": 11,
    "start_time": "2023-03-14T08:17:09.336Z"
   },
   {
    "duration": 4,
    "start_time": "2023-03-14T08:17:09.349Z"
   },
   {
    "duration": 11,
    "start_time": "2023-03-14T08:17:09.357Z"
   },
   {
    "duration": 50,
    "start_time": "2023-03-14T08:17:09.370Z"
   },
   {
    "duration": 18,
    "start_time": "2023-03-14T08:17:09.421Z"
   },
   {
    "duration": 3,
    "start_time": "2023-03-14T08:17:09.441Z"
   },
   {
    "duration": 14,
    "start_time": "2023-03-14T08:17:09.446Z"
   },
   {
    "duration": 9,
    "start_time": "2023-03-14T08:17:09.462Z"
   },
   {
    "duration": 4,
    "start_time": "2023-03-14T08:17:09.473Z"
   },
   {
    "duration": 43,
    "start_time": "2023-03-14T08:17:09.478Z"
   },
   {
    "duration": 26,
    "start_time": "2023-03-14T08:17:09.523Z"
   },
   {
    "duration": 22,
    "start_time": "2023-03-14T08:17:09.551Z"
   },
   {
    "duration": 46,
    "start_time": "2023-03-14T08:17:09.575Z"
   },
   {
    "duration": 18,
    "start_time": "2023-03-14T08:17:09.623Z"
   },
   {
    "duration": 87,
    "start_time": "2023-03-14T08:17:09.644Z"
   },
   {
    "duration": 9,
    "start_time": "2023-03-14T08:17:13.838Z"
   },
   {
    "duration": 12,
    "start_time": "2023-03-14T08:17:38.199Z"
   },
   {
    "duration": 30,
    "start_time": "2023-03-14T08:17:41.795Z"
   },
   {
    "duration": 8,
    "start_time": "2023-03-14T08:17:45.668Z"
   },
   {
    "duration": 5,
    "start_time": "2023-03-14T08:17:51.758Z"
   },
   {
    "duration": 11,
    "start_time": "2023-03-14T08:18:07.118Z"
   },
   {
    "duration": 78,
    "start_time": "2023-03-14T08:19:00.098Z"
   },
   {
    "duration": 82,
    "start_time": "2023-03-14T08:19:03.469Z"
   },
   {
    "duration": 519,
    "start_time": "2023-03-14T08:19:08.388Z"
   },
   {
    "duration": 25,
    "start_time": "2023-03-14T08:19:08.909Z"
   },
   {
    "duration": 20,
    "start_time": "2023-03-14T08:19:08.936Z"
   },
   {
    "duration": 19,
    "start_time": "2023-03-14T08:19:08.959Z"
   },
   {
    "duration": 78,
    "start_time": "2023-03-14T08:19:08.980Z"
   },
   {
    "duration": 4,
    "start_time": "2023-03-14T08:19:09.061Z"
   },
   {
    "duration": 12,
    "start_time": "2023-03-14T08:19:09.068Z"
   },
   {
    "duration": 24,
    "start_time": "2023-03-14T08:19:09.082Z"
   },
   {
    "duration": 14,
    "start_time": "2023-03-14T08:19:09.113Z"
   },
   {
    "duration": 7,
    "start_time": "2023-03-14T08:19:09.130Z"
   },
   {
    "duration": 76,
    "start_time": "2023-03-14T08:19:09.139Z"
   },
   {
    "duration": 14,
    "start_time": "2023-03-14T08:19:09.217Z"
   },
   {
    "duration": 11,
    "start_time": "2023-03-14T08:19:09.233Z"
   },
   {
    "duration": 18,
    "start_time": "2023-03-14T08:19:09.246Z"
   },
   {
    "duration": 54,
    "start_time": "2023-03-14T08:19:09.266Z"
   },
   {
    "duration": 23,
    "start_time": "2023-03-14T08:19:09.322Z"
   },
   {
    "duration": 4,
    "start_time": "2023-03-14T08:19:09.347Z"
   },
   {
    "duration": 12,
    "start_time": "2023-03-14T08:19:09.353Z"
   },
   {
    "duration": 9,
    "start_time": "2023-03-14T08:19:09.367Z"
   },
   {
    "duration": 36,
    "start_time": "2023-03-14T08:19:09.379Z"
   },
   {
    "duration": 12,
    "start_time": "2023-03-14T08:19:09.417Z"
   },
   {
    "duration": 17,
    "start_time": "2023-03-14T08:19:09.431Z"
   },
   {
    "duration": 17,
    "start_time": "2023-03-14T08:19:09.451Z"
   },
   {
    "duration": 61,
    "start_time": "2023-03-14T08:19:09.470Z"
   },
   {
    "duration": 24,
    "start_time": "2023-03-14T08:19:09.532Z"
   },
   {
    "duration": 82,
    "start_time": "2023-03-14T08:19:09.563Z"
   },
   {
    "duration": 10,
    "start_time": "2023-03-14T08:19:18.084Z"
   },
   {
    "duration": 69,
    "start_time": "2023-03-14T08:19:22.468Z"
   },
   {
    "duration": 8,
    "start_time": "2023-03-14T08:19:26.291Z"
   },
   {
    "duration": 13,
    "start_time": "2023-03-14T08:19:29.218Z"
   },
   {
    "duration": 13,
    "start_time": "2023-03-14T08:19:31.619Z"
   },
   {
    "duration": 11,
    "start_time": "2023-03-14T08:19:38.247Z"
   },
   {
    "duration": 9,
    "start_time": "2023-03-14T08:19:41.799Z"
   },
   {
    "duration": 10,
    "start_time": "2023-03-14T08:19:44.950Z"
   },
   {
    "duration": 32,
    "start_time": "2023-03-14T08:20:04.380Z"
   },
   {
    "duration": 222,
    "start_time": "2023-03-14T08:20:22.999Z"
   },
   {
    "duration": 15,
    "start_time": "2023-03-14T08:20:43.719Z"
   },
   {
    "duration": 16,
    "start_time": "2023-03-14T08:21:06.866Z"
   },
   {
    "duration": 17,
    "start_time": "2023-03-14T08:21:31.089Z"
   },
   {
    "duration": 499,
    "start_time": "2023-03-14T08:21:36.660Z"
   },
   {
    "duration": 30,
    "start_time": "2023-03-14T08:21:37.161Z"
   },
   {
    "duration": 26,
    "start_time": "2023-03-14T08:21:37.193Z"
   },
   {
    "duration": 30,
    "start_time": "2023-03-14T08:21:37.221Z"
   },
   {
    "duration": 16,
    "start_time": "2023-03-14T08:21:37.254Z"
   },
   {
    "duration": 83,
    "start_time": "2023-03-14T08:21:37.273Z"
   },
   {
    "duration": 5,
    "start_time": "2023-03-14T08:21:37.358Z"
   },
   {
    "duration": 17,
    "start_time": "2023-03-14T08:21:37.364Z"
   },
   {
    "duration": 30,
    "start_time": "2023-03-14T08:21:37.383Z"
   },
   {
    "duration": 10,
    "start_time": "2023-03-14T08:21:37.415Z"
   },
   {
    "duration": 6,
    "start_time": "2023-03-14T08:21:37.427Z"
   },
   {
    "duration": 41,
    "start_time": "2023-03-14T08:21:37.435Z"
   },
   {
    "duration": 44,
    "start_time": "2023-03-14T08:21:37.478Z"
   },
   {
    "duration": 20,
    "start_time": "2023-03-14T08:21:37.526Z"
   },
   {
    "duration": 18,
    "start_time": "2023-03-14T08:21:37.549Z"
   },
   {
    "duration": 48,
    "start_time": "2023-03-14T08:21:37.570Z"
   },
   {
    "duration": 27,
    "start_time": "2023-03-14T08:21:37.620Z"
   },
   {
    "duration": 5,
    "start_time": "2023-03-14T08:21:37.649Z"
   },
   {
    "duration": 16,
    "start_time": "2023-03-14T08:21:37.656Z"
   },
   {
    "duration": 8,
    "start_time": "2023-03-14T08:21:37.674Z"
   },
   {
    "duration": 5,
    "start_time": "2023-03-14T08:21:37.713Z"
   },
   {
    "duration": 37,
    "start_time": "2023-03-14T08:21:37.720Z"
   },
   {
    "duration": 19,
    "start_time": "2023-03-14T08:21:37.759Z"
   },
   {
    "duration": 37,
    "start_time": "2023-03-14T08:21:37.781Z"
   },
   {
    "duration": 22,
    "start_time": "2023-03-14T08:21:37.821Z"
   },
   {
    "duration": 20,
    "start_time": "2023-03-14T08:21:37.845Z"
   },
   {
    "duration": 13,
    "start_time": "2023-03-14T08:21:37.867Z"
   },
   {
    "duration": 8,
    "start_time": "2023-03-14T08:21:49.346Z"
   },
   {
    "duration": 11,
    "start_time": "2023-03-14T08:21:55.010Z"
   },
   {
    "duration": 11,
    "start_time": "2023-03-14T08:21:58.683Z"
   },
   {
    "duration": 464,
    "start_time": "2023-03-14T08:22:09.049Z"
   },
   {
    "duration": 24,
    "start_time": "2023-03-14T08:22:09.515Z"
   },
   {
    "duration": 36,
    "start_time": "2023-03-14T08:22:09.542Z"
   },
   {
    "duration": 41,
    "start_time": "2023-03-14T08:22:09.581Z"
   },
   {
    "duration": 14,
    "start_time": "2023-03-14T08:22:09.624Z"
   },
   {
    "duration": 45,
    "start_time": "2023-03-14T08:22:09.641Z"
   },
   {
    "duration": 24,
    "start_time": "2023-03-14T08:22:09.688Z"
   },
   {
    "duration": 16,
    "start_time": "2023-03-14T08:22:09.715Z"
   },
   {
    "duration": 7,
    "start_time": "2023-03-14T08:22:09.733Z"
   },
   {
    "duration": 14,
    "start_time": "2023-03-14T08:22:09.744Z"
   },
   {
    "duration": 10,
    "start_time": "2023-03-14T08:22:09.760Z"
   },
   {
    "duration": 94,
    "start_time": "2023-03-14T08:22:09.773Z"
   },
   {
    "duration": 11,
    "start_time": "2023-03-14T08:22:09.870Z"
   },
   {
    "duration": 5,
    "start_time": "2023-03-14T08:22:09.883Z"
   },
   {
    "duration": 40,
    "start_time": "2023-03-14T08:22:09.889Z"
   },
   {
    "duration": 23,
    "start_time": "2023-03-14T08:22:09.931Z"
   },
   {
    "duration": 18,
    "start_time": "2023-03-14T08:22:09.956Z"
   },
   {
    "duration": 4,
    "start_time": "2023-03-14T08:22:09.976Z"
   },
   {
    "duration": 16,
    "start_time": "2023-03-14T08:22:10.013Z"
   },
   {
    "duration": 9,
    "start_time": "2023-03-14T08:22:10.031Z"
   },
   {
    "duration": 5,
    "start_time": "2023-03-14T08:22:10.046Z"
   },
   {
    "duration": 29,
    "start_time": "2023-03-14T08:22:10.053Z"
   },
   {
    "duration": 39,
    "start_time": "2023-03-14T08:22:10.084Z"
   },
   {
    "duration": 22,
    "start_time": "2023-03-14T08:22:10.125Z"
   },
   {
    "duration": 25,
    "start_time": "2023-03-14T08:22:10.150Z"
   },
   {
    "duration": 50,
    "start_time": "2023-03-14T08:22:10.177Z"
   },
   {
    "duration": 17,
    "start_time": "2023-03-14T08:22:10.229Z"
   },
   {
    "duration": 18,
    "start_time": "2023-03-14T08:30:40.489Z"
   },
   {
    "duration": 508,
    "start_time": "2023-03-14T08:30:45.836Z"
   },
   {
    "duration": 35,
    "start_time": "2023-03-14T08:30:46.359Z"
   },
   {
    "duration": 28,
    "start_time": "2023-03-14T08:30:46.396Z"
   },
   {
    "duration": 16,
    "start_time": "2023-03-14T08:30:46.431Z"
   },
   {
    "duration": 65,
    "start_time": "2023-03-14T08:30:46.450Z"
   },
   {
    "duration": 6,
    "start_time": "2023-03-14T08:30:46.521Z"
   },
   {
    "duration": 10,
    "start_time": "2023-03-14T08:30:46.531Z"
   },
   {
    "duration": 5,
    "start_time": "2023-03-14T08:30:46.543Z"
   },
   {
    "duration": 12,
    "start_time": "2023-03-14T08:30:46.550Z"
   },
   {
    "duration": 7,
    "start_time": "2023-03-14T08:30:46.565Z"
   },
   {
    "duration": 70,
    "start_time": "2023-03-14T08:30:46.574Z"
   },
   {
    "duration": 11,
    "start_time": "2023-03-14T08:30:46.645Z"
   },
   {
    "duration": 4,
    "start_time": "2023-03-14T08:30:46.658Z"
   },
   {
    "duration": 14,
    "start_time": "2023-03-14T08:30:46.665Z"
   },
   {
    "duration": 50,
    "start_time": "2023-03-14T08:30:46.680Z"
   },
   {
    "duration": 20,
    "start_time": "2023-03-14T08:30:46.737Z"
   },
   {
    "duration": 6,
    "start_time": "2023-03-14T08:30:46.759Z"
   },
   {
    "duration": 18,
    "start_time": "2023-03-14T08:30:46.767Z"
   },
   {
    "duration": 34,
    "start_time": "2023-03-14T08:30:46.787Z"
   },
   {
    "duration": 4,
    "start_time": "2023-03-14T08:30:46.825Z"
   },
   {
    "duration": 23,
    "start_time": "2023-03-14T08:30:46.835Z"
   },
   {
    "duration": 23,
    "start_time": "2023-03-14T08:30:46.861Z"
   },
   {
    "duration": 47,
    "start_time": "2023-03-14T08:30:46.886Z"
   },
   {
    "duration": 17,
    "start_time": "2023-03-14T08:30:46.935Z"
   },
   {
    "duration": 22,
    "start_time": "2023-03-14T08:30:46.954Z"
   },
   {
    "duration": 41,
    "start_time": "2023-03-14T08:30:46.978Z"
   },
   {
    "duration": 21,
    "start_time": "2023-03-14T08:31:35.334Z"
   },
   {
    "duration": 14,
    "start_time": "2023-03-14T08:32:48.142Z"
   },
   {
    "duration": 8,
    "start_time": "2023-03-14T08:33:03.598Z"
   },
   {
    "duration": 6,
    "start_time": "2023-03-14T08:34:56.297Z"
   },
   {
    "duration": 15,
    "start_time": "2023-03-14T08:36:15.139Z"
   },
   {
    "duration": 14,
    "start_time": "2023-03-14T08:36:41.139Z"
   },
   {
    "duration": 12,
    "start_time": "2023-03-14T08:36:52.360Z"
   },
   {
    "duration": 29,
    "start_time": "2023-03-14T08:38:10.312Z"
   },
   {
    "duration": 37,
    "start_time": "2023-03-14T08:38:34.592Z"
   },
   {
    "duration": 27,
    "start_time": "2023-03-14T08:39:21.442Z"
   },
   {
    "duration": 40,
    "start_time": "2023-03-14T08:39:31.500Z"
   },
   {
    "duration": 28,
    "start_time": "2023-03-14T08:39:40.361Z"
   },
   {
    "duration": 26,
    "start_time": "2023-03-14T08:42:23.658Z"
   },
   {
    "duration": 41,
    "start_time": "2023-03-14T08:44:21.401Z"
   },
   {
    "duration": 34,
    "start_time": "2023-03-14T08:44:30.440Z"
   },
   {
    "duration": 24,
    "start_time": "2023-03-14T08:44:42.396Z"
   },
   {
    "duration": 30,
    "start_time": "2023-03-14T08:44:55.259Z"
   },
   {
    "duration": 511,
    "start_time": "2023-03-14T09:07:20.573Z"
   },
   {
    "duration": 27,
    "start_time": "2023-03-14T09:07:21.087Z"
   },
   {
    "duration": 23,
    "start_time": "2023-03-14T09:07:21.122Z"
   },
   {
    "duration": 72,
    "start_time": "2023-03-14T09:07:21.147Z"
   },
   {
    "duration": 45,
    "start_time": "2023-03-14T09:07:21.225Z"
   },
   {
    "duration": 4,
    "start_time": "2023-03-14T09:07:21.274Z"
   },
   {
    "duration": 25,
    "start_time": "2023-03-14T09:07:21.281Z"
   },
   {
    "duration": 12,
    "start_time": "2023-03-14T09:07:21.308Z"
   },
   {
    "duration": 20,
    "start_time": "2023-03-14T09:07:21.322Z"
   },
   {
    "duration": 18,
    "start_time": "2023-03-14T09:07:21.345Z"
   },
   {
    "duration": 44,
    "start_time": "2023-03-14T09:07:21.365Z"
   },
   {
    "duration": 21,
    "start_time": "2023-03-14T09:07:21.411Z"
   },
   {
    "duration": 16,
    "start_time": "2023-03-14T09:07:21.435Z"
   },
   {
    "duration": 24,
    "start_time": "2023-03-14T09:07:21.456Z"
   },
   {
    "duration": 43,
    "start_time": "2023-03-14T09:07:21.482Z"
   },
   {
    "duration": 28,
    "start_time": "2023-03-14T09:07:21.529Z"
   },
   {
    "duration": 6,
    "start_time": "2023-03-14T09:07:21.559Z"
   },
   {
    "duration": 35,
    "start_time": "2023-03-14T09:07:21.568Z"
   },
   {
    "duration": 17,
    "start_time": "2023-03-14T09:07:21.605Z"
   },
   {
    "duration": 10,
    "start_time": "2023-03-14T09:07:21.624Z"
   },
   {
    "duration": 19,
    "start_time": "2023-03-14T09:07:21.636Z"
   },
   {
    "duration": 21,
    "start_time": "2023-03-14T09:07:21.657Z"
   },
   {
    "duration": 36,
    "start_time": "2023-03-14T09:07:21.680Z"
   },
   {
    "duration": 26,
    "start_time": "2023-03-14T09:07:21.723Z"
   },
   {
    "duration": 23,
    "start_time": "2023-03-14T09:07:21.751Z"
   },
   {
    "duration": 66,
    "start_time": "2023-03-14T09:07:21.777Z"
   },
   {
    "duration": 498,
    "start_time": "2023-03-14T09:08:17.361Z"
   },
   {
    "duration": 24,
    "start_time": "2023-03-14T09:08:17.862Z"
   },
   {
    "duration": 40,
    "start_time": "2023-03-14T09:08:17.888Z"
   },
   {
    "duration": 10,
    "start_time": "2023-03-14T09:08:17.930Z"
   },
   {
    "duration": 34,
    "start_time": "2023-03-14T09:08:17.943Z"
   },
   {
    "duration": 4,
    "start_time": "2023-03-14T09:08:17.978Z"
   },
   {
    "duration": 32,
    "start_time": "2023-03-14T09:08:17.984Z"
   },
   {
    "duration": 7,
    "start_time": "2023-03-14T09:08:18.017Z"
   },
   {
    "duration": 14,
    "start_time": "2023-03-14T09:08:18.027Z"
   },
   {
    "duration": 8,
    "start_time": "2023-03-14T09:08:18.043Z"
   },
   {
    "duration": 77,
    "start_time": "2023-03-14T09:08:18.053Z"
   },
   {
    "duration": 11,
    "start_time": "2023-03-14T09:08:18.133Z"
   },
   {
    "duration": 5,
    "start_time": "2023-03-14T09:08:18.146Z"
   },
   {
    "duration": 15,
    "start_time": "2023-03-14T09:08:18.155Z"
   },
   {
    "duration": 52,
    "start_time": "2023-03-14T09:08:18.172Z"
   },
   {
    "duration": 19,
    "start_time": "2023-03-14T09:08:18.226Z"
   },
   {
    "duration": 4,
    "start_time": "2023-03-14T09:08:18.247Z"
   },
   {
    "duration": 13,
    "start_time": "2023-03-14T09:08:18.253Z"
   },
   {
    "duration": 13,
    "start_time": "2023-03-14T09:08:18.268Z"
   },
   {
    "duration": 4,
    "start_time": "2023-03-14T09:08:18.283Z"
   },
   {
    "duration": 36,
    "start_time": "2023-03-14T09:08:18.290Z"
   },
   {
    "duration": 19,
    "start_time": "2023-03-14T09:08:18.330Z"
   },
   {
    "duration": 17,
    "start_time": "2023-03-14T09:08:18.350Z"
   },
   {
    "duration": 17,
    "start_time": "2023-03-14T09:08:18.369Z"
   },
   {
    "duration": 23,
    "start_time": "2023-03-14T09:08:18.415Z"
   },
   {
    "duration": 27,
    "start_time": "2023-03-14T09:08:18.439Z"
   },
   {
    "duration": 711,
    "start_time": "2023-03-14T09:09:27.759Z"
   },
   {
    "duration": 27,
    "start_time": "2023-03-14T09:10:30.040Z"
   },
   {
    "duration": 26,
    "start_time": "2023-03-14T09:10:49.368Z"
   },
   {
    "duration": 47,
    "start_time": "2023-03-15T07:51:13.452Z"
   },
   {
    "duration": 495,
    "start_time": "2023-03-15T07:51:27.470Z"
   },
   {
    "duration": 21,
    "start_time": "2023-03-15T07:51:27.966Z"
   },
   {
    "duration": 14,
    "start_time": "2023-03-15T07:51:27.988Z"
   },
   {
    "duration": 8,
    "start_time": "2023-03-15T07:51:28.004Z"
   },
   {
    "duration": 58,
    "start_time": "2023-03-15T07:51:28.014Z"
   },
   {
    "duration": 3,
    "start_time": "2023-03-15T07:51:28.074Z"
   },
   {
    "duration": 11,
    "start_time": "2023-03-15T07:51:28.079Z"
   },
   {
    "duration": 5,
    "start_time": "2023-03-15T07:51:28.091Z"
   },
   {
    "duration": 15,
    "start_time": "2023-03-15T07:51:28.097Z"
   },
   {
    "duration": 6,
    "start_time": "2023-03-15T07:51:28.114Z"
   },
   {
    "duration": 58,
    "start_time": "2023-03-15T07:51:28.121Z"
   },
   {
    "duration": 9,
    "start_time": "2023-03-15T07:51:28.181Z"
   },
   {
    "duration": 19,
    "start_time": "2023-03-15T07:51:28.191Z"
   },
   {
    "duration": 10,
    "start_time": "2023-03-15T07:51:28.211Z"
   },
   {
    "duration": 38,
    "start_time": "2023-03-15T07:51:28.222Z"
   },
   {
    "duration": 17,
    "start_time": "2023-03-15T07:51:28.261Z"
   },
   {
    "duration": 3,
    "start_time": "2023-03-15T07:51:28.279Z"
   },
   {
    "duration": 9,
    "start_time": "2023-03-15T07:51:28.284Z"
   },
   {
    "duration": 7,
    "start_time": "2023-03-15T07:51:28.294Z"
   },
   {
    "duration": 4,
    "start_time": "2023-03-15T07:51:28.303Z"
   },
   {
    "duration": 48,
    "start_time": "2023-03-15T07:51:28.309Z"
   },
   {
    "duration": 14,
    "start_time": "2023-03-15T07:51:28.358Z"
   },
   {
    "duration": 13,
    "start_time": "2023-03-15T07:51:28.374Z"
   },
   {
    "duration": 16,
    "start_time": "2023-03-15T07:51:28.389Z"
   },
   {
    "duration": 14,
    "start_time": "2023-03-15T07:51:28.407Z"
   },
   {
    "duration": 32,
    "start_time": "2023-03-15T07:51:28.455Z"
   },
   {
    "duration": 19,
    "start_time": "2023-03-15T07:51:28.489Z"
   },
   {
    "duration": 73,
    "start_time": "2023-03-15T07:52:07.168Z"
   },
   {
    "duration": 29,
    "start_time": "2023-03-15T07:52:13.812Z"
   },
   {
    "duration": 36,
    "start_time": "2023-03-15T07:52:30.216Z"
   },
   {
    "duration": 11,
    "start_time": "2023-03-15T07:54:44.045Z"
   },
   {
    "duration": 10,
    "start_time": "2023-03-15T07:54:49.230Z"
   },
   {
    "duration": 12,
    "start_time": "2023-03-15T07:56:17.417Z"
   },
   {
    "duration": 14,
    "start_time": "2023-03-15T07:56:31.000Z"
   },
   {
    "duration": 31,
    "start_time": "2023-03-15T07:56:35.810Z"
   },
   {
    "duration": 40,
    "start_time": "2023-03-15T07:56:53.170Z"
   },
   {
    "duration": 12,
    "start_time": "2023-03-15T07:57:37.408Z"
   },
   {
    "duration": 20,
    "start_time": "2023-03-15T07:57:42.732Z"
   },
   {
    "duration": 124,
    "start_time": "2023-03-15T07:57:51.118Z"
   },
   {
    "duration": 125,
    "start_time": "2023-03-15T07:58:08.807Z"
   },
   {
    "duration": 32,
    "start_time": "2023-03-15T07:58:14.320Z"
   },
   {
    "duration": 18,
    "start_time": "2023-03-15T07:58:25.319Z"
   },
   {
    "duration": 829,
    "start_time": "2023-03-15T08:00:35.703Z"
   },
   {
    "duration": 24,
    "start_time": "2023-03-15T08:01:09.626Z"
   },
   {
    "duration": 77,
    "start_time": "2023-03-15T08:01:43.404Z"
   },
   {
    "duration": 16,
    "start_time": "2023-03-15T08:01:50.058Z"
   },
   {
    "duration": 923,
    "start_time": "2023-03-15T08:02:29.338Z"
   },
   {
    "duration": 867,
    "start_time": "2023-03-15T08:02:47.658Z"
   },
   {
    "duration": 16,
    "start_time": "2023-03-15T08:02:58.818Z"
   },
   {
    "duration": 30,
    "start_time": "2023-03-15T08:03:11.126Z"
   },
   {
    "duration": 20,
    "start_time": "2023-03-15T08:03:17.018Z"
   },
   {
    "duration": 35,
    "start_time": "2023-03-15T08:03:25.304Z"
   },
   {
    "duration": 37,
    "start_time": "2023-03-15T08:03:34.618Z"
   },
   {
    "duration": 74,
    "start_time": "2023-03-15T08:03:52.677Z"
   },
   {
    "duration": 18,
    "start_time": "2023-03-15T08:04:00.376Z"
   },
   {
    "duration": 1235,
    "start_time": "2023-03-15T08:04:29.679Z"
   },
   {
    "duration": 1173,
    "start_time": "2023-03-15T08:04:41.812Z"
   },
   {
    "duration": 14,
    "start_time": "2023-03-15T08:04:45.810Z"
   },
   {
    "duration": 15,
    "start_time": "2023-03-15T08:08:13.848Z"
   },
   {
    "duration": 18,
    "start_time": "2023-03-15T08:08:23.427Z"
   },
   {
    "duration": 17,
    "start_time": "2023-03-15T08:08:26.926Z"
   },
   {
    "duration": 15,
    "start_time": "2023-03-15T08:09:01.079Z"
   },
   {
    "duration": 24,
    "start_time": "2023-03-15T08:09:11.970Z"
   },
   {
    "duration": 23,
    "start_time": "2023-03-15T08:09:52.339Z"
   },
   {
    "duration": 16,
    "start_time": "2023-03-15T08:09:59.220Z"
   },
   {
    "duration": 559,
    "start_time": "2023-03-15T08:10:05.639Z"
   },
   {
    "duration": 32,
    "start_time": "2023-03-15T08:10:06.201Z"
   },
   {
    "duration": 30,
    "start_time": "2023-03-15T08:10:06.234Z"
   },
   {
    "duration": 12,
    "start_time": "2023-03-15T08:10:06.265Z"
   },
   {
    "duration": 37,
    "start_time": "2023-03-15T08:10:06.279Z"
   },
   {
    "duration": 5,
    "start_time": "2023-03-15T08:10:06.317Z"
   },
   {
    "duration": 39,
    "start_time": "2023-03-15T08:10:06.324Z"
   },
   {
    "duration": 9,
    "start_time": "2023-03-15T08:10:06.365Z"
   },
   {
    "duration": 10,
    "start_time": "2023-03-15T08:10:06.376Z"
   },
   {
    "duration": 7,
    "start_time": "2023-03-15T08:10:06.387Z"
   },
   {
    "duration": 38,
    "start_time": "2023-03-15T08:10:06.395Z"
   },
   {
    "duration": 32,
    "start_time": "2023-03-15T08:10:06.435Z"
   },
   {
    "duration": 28,
    "start_time": "2023-03-15T08:10:06.469Z"
   },
   {
    "duration": 18,
    "start_time": "2023-03-15T08:10:06.501Z"
   },
   {
    "duration": 40,
    "start_time": "2023-03-15T08:10:06.521Z"
   },
   {
    "duration": 27,
    "start_time": "2023-03-15T08:10:06.563Z"
   },
   {
    "duration": 4,
    "start_time": "2023-03-15T08:10:06.592Z"
   },
   {
    "duration": 13,
    "start_time": "2023-03-15T08:10:06.598Z"
   },
   {
    "duration": 9,
    "start_time": "2023-03-15T08:10:06.613Z"
   },
   {
    "duration": 33,
    "start_time": "2023-03-15T08:10:06.624Z"
   },
   {
    "duration": 16,
    "start_time": "2023-03-15T08:10:06.659Z"
   },
   {
    "duration": 17,
    "start_time": "2023-03-15T08:10:06.677Z"
   },
   {
    "duration": 24,
    "start_time": "2023-03-15T08:10:06.696Z"
   },
   {
    "duration": 47,
    "start_time": "2023-03-15T08:10:06.722Z"
   },
   {
    "duration": 19,
    "start_time": "2023-03-15T08:10:06.770Z"
   },
   {
    "duration": 17,
    "start_time": "2023-03-15T08:10:06.791Z"
   },
   {
    "duration": 50,
    "start_time": "2023-03-15T08:10:06.810Z"
   },
   {
    "duration": 32,
    "start_time": "2023-03-15T08:10:06.862Z"
   },
   {
    "duration": 16,
    "start_time": "2023-03-15T08:10:46.178Z"
   },
   {
    "duration": 15,
    "start_time": "2023-03-15T08:12:14.633Z"
   },
   {
    "duration": 84,
    "start_time": "2023-03-15T08:13:29.417Z"
   },
   {
    "duration": 34,
    "start_time": "2023-03-15T08:13:34.845Z"
   },
   {
    "duration": 22,
    "start_time": "2023-03-15T08:13:37.750Z"
   },
   {
    "duration": 25,
    "start_time": "2023-03-15T08:13:42.638Z"
   },
   {
    "duration": 19,
    "start_time": "2023-03-15T08:14:28.008Z"
   },
   {
    "duration": 9,
    "start_time": "2023-03-15T08:15:16.516Z"
   },
   {
    "duration": 15,
    "start_time": "2023-03-15T08:15:26.113Z"
   },
   {
    "duration": 17,
    "start_time": "2023-03-15T08:15:31.192Z"
   },
   {
    "duration": 30,
    "start_time": "2023-03-15T08:16:04.330Z"
   },
   {
    "duration": 1054,
    "start_time": "2023-03-15T08:16:44.932Z"
   },
   {
    "duration": 931,
    "start_time": "2023-03-15T08:16:49.479Z"
   },
   {
    "duration": 940,
    "start_time": "2023-03-15T08:17:08.819Z"
   },
   {
    "duration": 54,
    "start_time": "2023-03-15T08:18:42.678Z"
   },
   {
    "duration": 38,
    "start_time": "2023-03-15T08:19:17.957Z"
   },
   {
    "duration": 70,
    "start_time": "2023-03-15T08:19:39.938Z"
   },
   {
    "duration": 80,
    "start_time": "2023-03-15T08:19:45.378Z"
   },
   {
    "duration": 55,
    "start_time": "2023-03-15T08:19:56.651Z"
   },
   {
    "duration": 46,
    "start_time": "2023-03-15T08:22:06.418Z"
   },
   {
    "duration": 36,
    "start_time": "2023-03-15T08:22:09.806Z"
   },
   {
    "duration": 39,
    "start_time": "2023-03-15T08:22:14.108Z"
   },
   {
    "duration": 39,
    "start_time": "2023-03-15T08:22:28.774Z"
   },
   {
    "duration": 70,
    "start_time": "2023-03-15T08:23:47.939Z"
   },
   {
    "duration": 47,
    "start_time": "2023-03-15T08:23:55.958Z"
   },
   {
    "duration": 50,
    "start_time": "2023-03-15T08:24:06.238Z"
   },
   {
    "duration": 43,
    "start_time": "2023-03-15T08:24:08.631Z"
   },
   {
    "duration": 39,
    "start_time": "2023-03-15T08:24:13.370Z"
   },
   {
    "duration": 40,
    "start_time": "2023-03-15T08:24:32.438Z"
   },
   {
    "duration": 38,
    "start_time": "2023-03-15T08:24:50.859Z"
   },
   {
    "duration": 37,
    "start_time": "2023-03-15T08:25:32.428Z"
   },
   {
    "duration": 38,
    "start_time": "2023-03-15T08:27:58.525Z"
   },
   {
    "duration": 38,
    "start_time": "2023-03-15T08:28:01.572Z"
   },
   {
    "duration": 38,
    "start_time": "2023-03-15T08:28:04.770Z"
   },
   {
    "duration": 46,
    "start_time": "2023-03-15T08:28:15.639Z"
   },
   {
    "duration": 46,
    "start_time": "2023-03-15T08:28:19.673Z"
   },
   {
    "duration": 40,
    "start_time": "2023-03-15T08:28:22.612Z"
   },
   {
    "duration": 40,
    "start_time": "2023-03-15T08:28:25.832Z"
   },
   {
    "duration": 39,
    "start_time": "2023-03-15T08:28:28.144Z"
   },
   {
    "duration": 49,
    "start_time": "2023-03-15T08:30:26.644Z"
   },
   {
    "duration": 43,
    "start_time": "2023-03-15T08:31:07.249Z"
   },
   {
    "duration": 37,
    "start_time": "2023-03-15T08:31:10.057Z"
   },
   {
    "duration": 36,
    "start_time": "2023-03-15T08:31:12.778Z"
   },
   {
    "duration": 38,
    "start_time": "2023-03-15T08:31:17.508Z"
   },
   {
    "duration": 36,
    "start_time": "2023-03-15T08:31:40.212Z"
   },
   {
    "duration": 41,
    "start_time": "2023-03-15T08:31:44.622Z"
   },
   {
    "duration": 1142,
    "start_time": "2023-03-15T08:32:03.519Z"
   },
   {
    "duration": 40,
    "start_time": "2023-03-15T08:32:28.212Z"
   },
   {
    "duration": 81,
    "start_time": "2023-03-15T08:32:36.825Z"
   },
   {
    "duration": 39,
    "start_time": "2023-03-15T08:32:42.220Z"
   },
   {
    "duration": 468,
    "start_time": "2023-03-15T08:40:19.725Z"
   },
   {
    "duration": 20,
    "start_time": "2023-03-15T08:40:20.195Z"
   },
   {
    "duration": 13,
    "start_time": "2023-03-15T08:40:20.217Z"
   },
   {
    "duration": 8,
    "start_time": "2023-03-15T08:40:20.231Z"
   },
   {
    "duration": 32,
    "start_time": "2023-03-15T08:40:20.255Z"
   },
   {
    "duration": 2,
    "start_time": "2023-03-15T08:40:20.289Z"
   },
   {
    "duration": 10,
    "start_time": "2023-03-15T08:40:20.293Z"
   },
   {
    "duration": 5,
    "start_time": "2023-03-15T08:40:20.304Z"
   },
   {
    "duration": 7,
    "start_time": "2023-03-15T08:40:20.311Z"
   },
   {
    "duration": 6,
    "start_time": "2023-03-15T08:40:20.320Z"
   },
   {
    "duration": 54,
    "start_time": "2023-03-15T08:40:20.328Z"
   },
   {
    "duration": 8,
    "start_time": "2023-03-15T08:40:20.383Z"
   },
   {
    "duration": 3,
    "start_time": "2023-03-15T08:40:20.393Z"
   },
   {
    "duration": 9,
    "start_time": "2023-03-15T08:40:20.399Z"
   },
   {
    "duration": 17,
    "start_time": "2023-03-15T08:40:20.410Z"
   },
   {
    "duration": 41,
    "start_time": "2023-03-15T08:40:20.428Z"
   },
   {
    "duration": 3,
    "start_time": "2023-03-15T08:40:20.470Z"
   },
   {
    "duration": 14,
    "start_time": "2023-03-15T08:40:20.474Z"
   },
   {
    "duration": 11,
    "start_time": "2023-03-15T08:40:20.489Z"
   },
   {
    "duration": 4,
    "start_time": "2023-03-15T08:40:20.501Z"
   },
   {
    "duration": 25,
    "start_time": "2023-03-15T08:40:20.506Z"
   },
   {
    "duration": 15,
    "start_time": "2023-03-15T08:40:20.532Z"
   },
   {
    "duration": 13,
    "start_time": "2023-03-15T08:40:20.554Z"
   },
   {
    "duration": 14,
    "start_time": "2023-03-15T08:40:20.569Z"
   },
   {
    "duration": 12,
    "start_time": "2023-03-15T08:40:20.584Z"
   },
   {
    "duration": 14,
    "start_time": "2023-03-15T08:40:20.597Z"
   },
   {
    "duration": 76,
    "start_time": "2023-03-15T08:40:20.612Z"
   },
   {
    "duration": 18,
    "start_time": "2023-03-15T08:40:20.690Z"
   },
   {
    "duration": 1200,
    "start_time": "2023-03-15T08:40:47.311Z"
   },
   {
    "duration": 40,
    "start_time": "2023-03-15T08:40:51.523Z"
   },
   {
    "duration": 88,
    "start_time": "2023-03-15T08:43:35.632Z"
   },
   {
    "duration": 51,
    "start_time": "2023-03-15T08:43:45.650Z"
   },
   {
    "duration": 49,
    "start_time": "2023-03-15T08:44:40.405Z"
   },
   {
    "duration": 47,
    "start_time": "2023-03-15T08:44:45.138Z"
   },
   {
    "duration": 85,
    "start_time": "2023-03-15T08:45:08.939Z"
   },
   {
    "duration": 467,
    "start_time": "2023-03-15T08:45:21.375Z"
   },
   {
    "duration": 23,
    "start_time": "2023-03-15T08:45:21.844Z"
   },
   {
    "duration": 14,
    "start_time": "2023-03-15T08:45:21.869Z"
   },
   {
    "duration": 11,
    "start_time": "2023-03-15T08:45:21.885Z"
   },
   {
    "duration": 37,
    "start_time": "2023-03-15T08:45:21.898Z"
   },
   {
    "duration": 15,
    "start_time": "2023-03-15T08:45:21.940Z"
   },
   {
    "duration": 10,
    "start_time": "2023-03-15T08:45:21.957Z"
   },
   {
    "duration": 5,
    "start_time": "2023-03-15T08:45:21.968Z"
   },
   {
    "duration": 12,
    "start_time": "2023-03-15T08:45:21.974Z"
   },
   {
    "duration": 4,
    "start_time": "2023-03-15T08:45:21.987Z"
   },
   {
    "duration": 30,
    "start_time": "2023-03-15T08:45:21.993Z"
   },
   {
    "duration": 35,
    "start_time": "2023-03-15T08:45:22.025Z"
   },
   {
    "duration": 7,
    "start_time": "2023-03-15T08:45:22.061Z"
   },
   {
    "duration": 11,
    "start_time": "2023-03-15T08:45:22.071Z"
   },
   {
    "duration": 20,
    "start_time": "2023-03-15T08:45:22.084Z"
   },
   {
    "duration": 17,
    "start_time": "2023-03-15T08:45:22.106Z"
   },
   {
    "duration": 31,
    "start_time": "2023-03-15T08:45:22.125Z"
   },
   {
    "duration": 18,
    "start_time": "2023-03-15T08:45:22.158Z"
   },
   {
    "duration": 19,
    "start_time": "2023-03-15T08:45:22.178Z"
   },
   {
    "duration": 4,
    "start_time": "2023-03-15T08:45:22.198Z"
   },
   {
    "duration": 28,
    "start_time": "2023-03-15T08:45:22.204Z"
   },
   {
    "duration": 16,
    "start_time": "2023-03-15T08:45:22.233Z"
   },
   {
    "duration": 14,
    "start_time": "2023-03-15T08:45:22.251Z"
   },
   {
    "duration": 31,
    "start_time": "2023-03-15T08:45:22.266Z"
   },
   {
    "duration": 12,
    "start_time": "2023-03-15T08:45:22.298Z"
   },
   {
    "duration": 15,
    "start_time": "2023-03-15T08:45:22.311Z"
   },
   {
    "duration": 89,
    "start_time": "2023-03-15T08:45:22.328Z"
   },
   {
    "duration": 99,
    "start_time": "2023-03-15T08:45:22.419Z"
   },
   {
    "duration": 332,
    "start_time": "2023-03-15T08:45:55.109Z"
   },
   {
    "duration": 52,
    "start_time": "2023-03-15T08:46:05.749Z"
   },
   {
    "duration": 64,
    "start_time": "2023-03-15T08:46:38.679Z"
   },
   {
    "duration": 24,
    "start_time": "2023-03-15T08:46:46.739Z"
   },
   {
    "duration": 18,
    "start_time": "2023-03-15T08:47:30.050Z"
   },
   {
    "duration": 20,
    "start_time": "2023-03-15T08:47:42.658Z"
   },
   {
    "duration": 18,
    "start_time": "2023-03-15T08:47:50.172Z"
   },
   {
    "duration": 475,
    "start_time": "2023-03-15T08:47:55.339Z"
   },
   {
    "duration": 20,
    "start_time": "2023-03-15T08:47:55.817Z"
   },
   {
    "duration": 15,
    "start_time": "2023-03-15T08:47:55.839Z"
   },
   {
    "duration": 10,
    "start_time": "2023-03-15T08:47:55.855Z"
   },
   {
    "duration": 31,
    "start_time": "2023-03-15T08:47:55.868Z"
   },
   {
    "duration": 3,
    "start_time": "2023-03-15T08:47:55.901Z"
   },
   {
    "duration": 21,
    "start_time": "2023-03-15T08:47:55.906Z"
   },
   {
    "duration": 27,
    "start_time": "2023-03-15T08:47:55.929Z"
   },
   {
    "duration": 9,
    "start_time": "2023-03-15T08:47:55.958Z"
   },
   {
    "duration": 4,
    "start_time": "2023-03-15T08:47:55.969Z"
   },
   {
    "duration": 32,
    "start_time": "2023-03-15T08:47:55.975Z"
   },
   {
    "duration": 9,
    "start_time": "2023-03-15T08:47:56.009Z"
   },
   {
    "duration": 35,
    "start_time": "2023-03-15T08:47:56.020Z"
   },
   {
    "duration": 11,
    "start_time": "2023-03-15T08:47:56.059Z"
   },
   {
    "duration": 21,
    "start_time": "2023-03-15T08:47:56.072Z"
   },
   {
    "duration": 17,
    "start_time": "2023-03-15T08:47:56.094Z"
   },
   {
    "duration": 4,
    "start_time": "2023-03-15T08:47:56.113Z"
   },
   {
    "duration": 11,
    "start_time": "2023-03-15T08:47:56.118Z"
   },
   {
    "duration": 6,
    "start_time": "2023-03-15T08:47:56.156Z"
   },
   {
    "duration": 4,
    "start_time": "2023-03-15T08:47:56.163Z"
   },
   {
    "duration": 9,
    "start_time": "2023-03-15T08:47:56.168Z"
   },
   {
    "duration": 13,
    "start_time": "2023-03-15T08:47:56.179Z"
   },
   {
    "duration": 15,
    "start_time": "2023-03-15T08:47:56.194Z"
   },
   {
    "duration": 53,
    "start_time": "2023-03-15T08:47:56.211Z"
   },
   {
    "duration": 13,
    "start_time": "2023-03-15T08:47:56.265Z"
   },
   {
    "duration": 29,
    "start_time": "2023-03-15T08:47:56.279Z"
   },
   {
    "duration": 38,
    "start_time": "2023-03-15T08:47:56.310Z"
   },
   {
    "duration": 20,
    "start_time": "2023-03-15T08:47:56.350Z"
   },
   {
    "duration": 22,
    "start_time": "2023-03-15T08:48:18.038Z"
   },
   {
    "duration": 73,
    "start_time": "2023-03-15T08:48:22.308Z"
   },
   {
    "duration": 21,
    "start_time": "2023-03-15T08:48:25.511Z"
   },
   {
    "duration": 22,
    "start_time": "2023-03-15T08:48:29.178Z"
   },
   {
    "duration": 25,
    "start_time": "2023-03-15T08:48:45.978Z"
   },
   {
    "duration": 28,
    "start_time": "2023-03-15T08:48:53.679Z"
   },
   {
    "duration": 35,
    "start_time": "2023-03-15T08:49:08.779Z"
   },
   {
    "duration": 485,
    "start_time": "2023-03-15T08:49:21.836Z"
   },
   {
    "duration": 24,
    "start_time": "2023-03-15T08:49:22.323Z"
   },
   {
    "duration": 15,
    "start_time": "2023-03-15T08:49:22.349Z"
   },
   {
    "duration": 9,
    "start_time": "2023-03-15T08:49:22.367Z"
   },
   {
    "duration": 49,
    "start_time": "2023-03-15T08:49:22.378Z"
   },
   {
    "duration": 4,
    "start_time": "2023-03-15T08:49:22.429Z"
   },
   {
    "duration": 8,
    "start_time": "2023-03-15T08:49:22.456Z"
   },
   {
    "duration": 4,
    "start_time": "2023-03-15T08:49:22.466Z"
   },
   {
    "duration": 7,
    "start_time": "2023-03-15T08:49:22.472Z"
   },
   {
    "duration": 4,
    "start_time": "2023-03-15T08:49:22.482Z"
   },
   {
    "duration": 30,
    "start_time": "2023-03-15T08:49:22.488Z"
   },
   {
    "duration": 43,
    "start_time": "2023-03-15T08:49:22.519Z"
   },
   {
    "duration": 3,
    "start_time": "2023-03-15T08:49:22.564Z"
   },
   {
    "duration": 12,
    "start_time": "2023-03-15T08:49:22.568Z"
   },
   {
    "duration": 20,
    "start_time": "2023-03-15T08:49:22.581Z"
   },
   {
    "duration": 17,
    "start_time": "2023-03-15T08:49:22.603Z"
   },
   {
    "duration": 4,
    "start_time": "2023-03-15T08:49:22.621Z"
   },
   {
    "duration": 11,
    "start_time": "2023-03-15T08:49:22.654Z"
   },
   {
    "duration": 7,
    "start_time": "2023-03-15T08:49:22.667Z"
   },
   {
    "duration": 4,
    "start_time": "2023-03-15T08:49:22.676Z"
   },
   {
    "duration": 19,
    "start_time": "2023-03-15T08:49:22.682Z"
   },
   {
    "duration": 19,
    "start_time": "2023-03-15T08:49:22.703Z"
   },
   {
    "duration": 33,
    "start_time": "2023-03-15T08:49:22.723Z"
   },
   {
    "duration": 14,
    "start_time": "2023-03-15T08:49:22.758Z"
   },
   {
    "duration": 11,
    "start_time": "2023-03-15T08:49:22.774Z"
   },
   {
    "duration": 15,
    "start_time": "2023-03-15T08:49:22.787Z"
   },
   {
    "duration": 60,
    "start_time": "2023-03-15T08:49:22.803Z"
   },
   {
    "duration": 195,
    "start_time": "2023-03-15T08:49:22.866Z"
   },
   {
    "duration": 467,
    "start_time": "2023-03-15T08:50:19.739Z"
   },
   {
    "duration": 20,
    "start_time": "2023-03-15T08:50:20.208Z"
   },
   {
    "duration": 17,
    "start_time": "2023-03-15T08:50:20.229Z"
   },
   {
    "duration": 11,
    "start_time": "2023-03-15T08:50:20.248Z"
   },
   {
    "duration": 30,
    "start_time": "2023-03-15T08:50:20.261Z"
   },
   {
    "duration": 3,
    "start_time": "2023-03-15T08:50:20.293Z"
   },
   {
    "duration": 18,
    "start_time": "2023-03-15T08:50:20.297Z"
   },
   {
    "duration": 11,
    "start_time": "2023-03-15T08:50:20.316Z"
   },
   {
    "duration": 13,
    "start_time": "2023-03-15T08:50:20.329Z"
   },
   {
    "duration": 11,
    "start_time": "2023-03-15T08:50:20.344Z"
   },
   {
    "duration": 32,
    "start_time": "2023-03-15T08:50:20.356Z"
   },
   {
    "duration": 9,
    "start_time": "2023-03-15T08:50:20.390Z"
   },
   {
    "duration": 6,
    "start_time": "2023-03-15T08:50:20.401Z"
   },
   {
    "duration": 10,
    "start_time": "2023-03-15T08:50:20.410Z"
   },
   {
    "duration": 42,
    "start_time": "2023-03-15T08:50:20.422Z"
   },
   {
    "duration": 15,
    "start_time": "2023-03-15T08:50:20.465Z"
   },
   {
    "duration": 3,
    "start_time": "2023-03-15T08:50:20.482Z"
   },
   {
    "duration": 25,
    "start_time": "2023-03-15T08:50:20.486Z"
   },
   {
    "duration": 5,
    "start_time": "2023-03-15T08:50:20.513Z"
   },
   {
    "duration": 10,
    "start_time": "2023-03-15T08:50:20.519Z"
   },
   {
    "duration": 9,
    "start_time": "2023-03-15T08:50:20.530Z"
   },
   {
    "duration": 27,
    "start_time": "2023-03-15T08:50:20.540Z"
   },
   {
    "duration": 16,
    "start_time": "2023-03-15T08:50:20.569Z"
   },
   {
    "duration": 13,
    "start_time": "2023-03-15T08:50:20.587Z"
   },
   {
    "duration": 11,
    "start_time": "2023-03-15T08:50:20.601Z"
   },
   {
    "duration": 16,
    "start_time": "2023-03-15T08:50:20.613Z"
   },
   {
    "duration": 67,
    "start_time": "2023-03-15T08:50:20.631Z"
   },
   {
    "duration": 0,
    "start_time": "2023-03-15T08:50:20.700Z"
   },
   {
    "duration": 68,
    "start_time": "2023-03-15T08:50:35.519Z"
   },
   {
    "duration": 60,
    "start_time": "2023-03-15T08:50:57.012Z"
   },
   {
    "duration": 21,
    "start_time": "2023-03-15T08:51:07.225Z"
   },
   {
    "duration": 485,
    "start_time": "2023-03-15T08:51:31.820Z"
   },
   {
    "duration": 23,
    "start_time": "2023-03-15T08:51:32.307Z"
   },
   {
    "duration": 29,
    "start_time": "2023-03-15T08:51:32.331Z"
   },
   {
    "duration": 13,
    "start_time": "2023-03-15T08:51:32.361Z"
   },
   {
    "duration": 32,
    "start_time": "2023-03-15T08:51:32.376Z"
   },
   {
    "duration": 3,
    "start_time": "2023-03-15T08:51:32.410Z"
   },
   {
    "duration": 16,
    "start_time": "2023-03-15T08:51:32.414Z"
   },
   {
    "duration": 9,
    "start_time": "2023-03-15T08:51:32.432Z"
   },
   {
    "duration": 7,
    "start_time": "2023-03-15T08:51:32.455Z"
   },
   {
    "duration": 7,
    "start_time": "2023-03-15T08:51:32.464Z"
   },
   {
    "duration": 40,
    "start_time": "2023-03-15T08:51:32.472Z"
   },
   {
    "duration": 9,
    "start_time": "2023-03-15T08:51:32.513Z"
   },
   {
    "duration": 3,
    "start_time": "2023-03-15T08:51:32.523Z"
   },
   {
    "duration": 26,
    "start_time": "2023-03-15T08:51:32.529Z"
   },
   {
    "duration": 19,
    "start_time": "2023-03-15T08:51:32.556Z"
   },
   {
    "duration": 16,
    "start_time": "2023-03-15T08:51:32.576Z"
   },
   {
    "duration": 3,
    "start_time": "2023-03-15T08:51:32.594Z"
   },
   {
    "duration": 12,
    "start_time": "2023-03-15T08:51:32.598Z"
   },
   {
    "duration": 5,
    "start_time": "2023-03-15T08:51:32.611Z"
   },
   {
    "duration": 16,
    "start_time": "2023-03-15T08:51:32.617Z"
   },
   {
    "duration": 24,
    "start_time": "2023-03-15T08:51:32.635Z"
   },
   {
    "duration": 16,
    "start_time": "2023-03-15T08:51:32.660Z"
   },
   {
    "duration": 13,
    "start_time": "2023-03-15T08:51:32.678Z"
   },
   {
    "duration": 24,
    "start_time": "2023-03-15T08:51:32.693Z"
   },
   {
    "duration": 20,
    "start_time": "2023-03-15T08:51:32.718Z"
   },
   {
    "duration": 20,
    "start_time": "2023-03-15T08:51:32.740Z"
   },
   {
    "duration": 45,
    "start_time": "2023-03-15T08:51:32.762Z"
   },
   {
    "duration": 18,
    "start_time": "2023-03-15T08:51:32.809Z"
   },
   {
    "duration": 46,
    "start_time": "2023-03-15T08:54:07.658Z"
   },
   {
    "duration": 517,
    "start_time": "2023-03-15T08:54:27.419Z"
   },
   {
    "duration": 23,
    "start_time": "2023-03-15T08:54:27.938Z"
   },
   {
    "duration": 15,
    "start_time": "2023-03-15T08:54:27.963Z"
   },
   {
    "duration": 11,
    "start_time": "2023-03-15T08:54:27.981Z"
   },
   {
    "duration": 32,
    "start_time": "2023-03-15T08:54:27.993Z"
   },
   {
    "duration": 31,
    "start_time": "2023-03-15T08:54:28.026Z"
   },
   {
    "duration": 10,
    "start_time": "2023-03-15T08:54:28.059Z"
   },
   {
    "duration": 4,
    "start_time": "2023-03-15T08:54:28.070Z"
   },
   {
    "duration": 11,
    "start_time": "2023-03-15T08:54:28.076Z"
   },
   {
    "duration": 4,
    "start_time": "2023-03-15T08:54:28.090Z"
   },
   {
    "duration": 72,
    "start_time": "2023-03-15T08:54:28.096Z"
   },
   {
    "duration": 13,
    "start_time": "2023-03-15T08:54:28.170Z"
   },
   {
    "duration": 4,
    "start_time": "2023-03-15T08:54:28.185Z"
   },
   {
    "duration": 11,
    "start_time": "2023-03-15T08:54:28.190Z"
   },
   {
    "duration": 23,
    "start_time": "2023-03-15T08:54:28.202Z"
   },
   {
    "duration": 40,
    "start_time": "2023-03-15T08:54:28.227Z"
   },
   {
    "duration": 5,
    "start_time": "2023-03-15T08:54:28.269Z"
   },
   {
    "duration": 11,
    "start_time": "2023-03-15T08:54:28.275Z"
   },
   {
    "duration": 8,
    "start_time": "2023-03-15T08:54:28.288Z"
   },
   {
    "duration": 4,
    "start_time": "2023-03-15T08:54:28.297Z"
   },
   {
    "duration": 11,
    "start_time": "2023-03-15T08:54:28.302Z"
   },
   {
    "duration": 41,
    "start_time": "2023-03-15T08:54:28.315Z"
   },
   {
    "duration": 16,
    "start_time": "2023-03-15T08:54:28.358Z"
   },
   {
    "duration": 15,
    "start_time": "2023-03-15T08:54:28.376Z"
   },
   {
    "duration": 13,
    "start_time": "2023-03-15T08:54:28.393Z"
   },
   {
    "duration": 15,
    "start_time": "2023-03-15T08:54:28.408Z"
   },
   {
    "duration": 75,
    "start_time": "2023-03-15T08:54:28.425Z"
   },
   {
    "duration": 20,
    "start_time": "2023-03-15T08:54:28.503Z"
   },
   {
    "duration": 1260,
    "start_time": "2023-03-15T08:56:13.812Z"
   },
   {
    "duration": 15,
    "start_time": "2023-03-15T08:56:28.522Z"
   },
   {
    "duration": 43,
    "start_time": "2023-03-15T08:58:26.212Z"
   },
   {
    "duration": 463,
    "start_time": "2023-03-15T09:02:09.544Z"
   },
   {
    "duration": 25,
    "start_time": "2023-03-15T09:02:10.010Z"
   },
   {
    "duration": 36,
    "start_time": "2023-03-15T09:02:10.037Z"
   },
   {
    "duration": 11,
    "start_time": "2023-03-15T09:02:10.077Z"
   },
   {
    "duration": 60,
    "start_time": "2023-03-15T09:02:10.089Z"
   },
   {
    "duration": 4,
    "start_time": "2023-03-15T09:02:10.151Z"
   },
   {
    "duration": 17,
    "start_time": "2023-03-15T09:02:10.156Z"
   },
   {
    "duration": 4,
    "start_time": "2023-03-15T09:02:10.175Z"
   },
   {
    "duration": 9,
    "start_time": "2023-03-15T09:02:10.181Z"
   },
   {
    "duration": 10,
    "start_time": "2023-03-15T09:02:10.194Z"
   },
   {
    "duration": 61,
    "start_time": "2023-03-15T09:02:10.206Z"
   },
   {
    "duration": 10,
    "start_time": "2023-03-15T09:02:10.269Z"
   },
   {
    "duration": 4,
    "start_time": "2023-03-15T09:02:10.281Z"
   },
   {
    "duration": 20,
    "start_time": "2023-03-15T09:02:10.286Z"
   },
   {
    "duration": 52,
    "start_time": "2023-03-15T09:02:10.308Z"
   },
   {
    "duration": 26,
    "start_time": "2023-03-15T09:02:10.362Z"
   },
   {
    "duration": 5,
    "start_time": "2023-03-15T09:02:10.390Z"
   },
   {
    "duration": 16,
    "start_time": "2023-03-15T09:02:10.397Z"
   },
   {
    "duration": 8,
    "start_time": "2023-03-15T09:02:10.415Z"
   },
   {
    "duration": 31,
    "start_time": "2023-03-15T09:02:10.425Z"
   },
   {
    "duration": 15,
    "start_time": "2023-03-15T09:02:10.458Z"
   },
   {
    "duration": 21,
    "start_time": "2023-03-15T09:02:10.475Z"
   },
   {
    "duration": 21,
    "start_time": "2023-03-15T09:02:10.498Z"
   },
   {
    "duration": 42,
    "start_time": "2023-03-15T09:02:10.521Z"
   },
   {
    "duration": 20,
    "start_time": "2023-03-15T09:02:10.565Z"
   },
   {
    "duration": 30,
    "start_time": "2023-03-15T09:02:10.587Z"
   },
   {
    "duration": 68,
    "start_time": "2023-03-15T09:02:10.619Z"
   },
   {
    "duration": 28,
    "start_time": "2023-03-15T09:02:10.691Z"
   }
  ],
  "celltoolbar": "Необработанный формат ячейки",
  "colab": {
   "provenance": []
  },
  "kernelspec": {
   "display_name": "Python 3 (ipykernel)",
   "language": "python",
   "name": "python3"
  },
  "language_info": {
   "codemirror_mode": {
    "name": "ipython",
    "version": 3
   },
   "file_extension": ".py",
   "mimetype": "text/x-python",
   "name": "python",
   "nbconvert_exporter": "python",
   "pygments_lexer": "ipython3",
   "version": "3.9.18"
  },
  "toc": {
   "base_numbering": 1,
   "nav_menu": {
    "height": "531px",
    "width": "444px"
   },
   "number_sections": true,
   "sideBar": true,
   "skip_h1_title": true,
   "title_cell": "Содержание",
   "title_sidebar": "Contents",
   "toc_cell": true,
   "toc_position": {
    "height": "calc(100% - 180px)",
    "left": "10px",
    "top": "150px",
    "width": "384px"
   },
   "toc_section_display": true,
   "toc_window_display": true
  }
 },
 "nbformat": 4,
 "nbformat_minor": 5
}
