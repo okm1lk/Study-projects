{
 "cells": [
  {
   "cell_type": "markdown",
   "metadata": {},
   "source": [
    "# Определение выгодного тарифа для телеком компании"
   ]
  },
  {
   "cell_type": "markdown",
   "metadata": {
    "toc": true
   },
   "source": [
    "<h1>Содержание<span class=\"tocSkip\"></span></h1>\n",
    "<div class=\"toc\"><ul class=\"toc-item\"><li><span><a href=\"#Общая-информация\" data-toc-modified-id=\"Общая-информация-1\"><span class=\"toc-item-num\">1&nbsp;&nbsp;</span>Общая информация</a></span><ul class=\"toc-item\"><li><span><a href=\"#Описание-данных\" data-toc-modified-id=\"Описание-данных-1.1\"><span class=\"toc-item-num\">1.1&nbsp;&nbsp;</span>Описание данных</a></span></li><li><span><a href=\"#Таблица-Calls\" data-toc-modified-id=\"Таблица-Calls-1.2\"><span class=\"toc-item-num\">1.2&nbsp;&nbsp;</span>Таблица Calls</a></span></li><li><span><a href=\"#Таблица-Sessions\" data-toc-modified-id=\"Таблица-Sessions-1.3\"><span class=\"toc-item-num\">1.3&nbsp;&nbsp;</span>Таблица Sessions</a></span></li><li><span><a href=\"#Таблица-Messages\" data-toc-modified-id=\"Таблица-Messages-1.4\"><span class=\"toc-item-num\">1.4&nbsp;&nbsp;</span>Таблица Messages</a></span></li><li><span><a href=\"#Таблица-Tariffs\" data-toc-modified-id=\"Таблица-Tariffs-1.5\"><span class=\"toc-item-num\">1.5&nbsp;&nbsp;</span>Таблица Tariffs</a></span></li><li><span><a href=\"#Таблица-Users\" data-toc-modified-id=\"Таблица-Users-1.6\"><span class=\"toc-item-num\">1.6&nbsp;&nbsp;</span>Таблица Users</a></span></li></ul></li><li><span><a href=\"#Предобработка-данных\" data-toc-modified-id=\"Предобработка-данных-2\"><span class=\"toc-item-num\">2&nbsp;&nbsp;</span>Предобработка данных</a></span><ul class=\"toc-item\"><li><span><a href=\"#Преобразование-типов-данных\" data-toc-modified-id=\"Преобразование-типов-данных-2.1\"><span class=\"toc-item-num\">2.1&nbsp;&nbsp;</span>Преобразование типов данных</a></span></li><li><span><a href=\"#Добавление-новых-столбцов\" data-toc-modified-id=\"Добавление-новых-столбцов-2.2\"><span class=\"toc-item-num\">2.2&nbsp;&nbsp;</span>Добавление новых столбцов</a></span></li><li><span><a href=\"#Подготовка-данных-для-новой-таблицы\" data-toc-modified-id=\"Подготовка-данных-для-новой-таблицы-2.3\"><span class=\"toc-item-num\">2.3&nbsp;&nbsp;</span>Подготовка данных для новой таблицы</a></span></li></ul></li><li><span><a href=\"#Анализ-данных-и-подсчёт-выручки\" data-toc-modified-id=\"Анализ-данных-и-подсчёт-выручки-3\"><span class=\"toc-item-num\">3&nbsp;&nbsp;</span>Анализ данных и подсчёт выручки</a></span><ul class=\"toc-item\"><li><span><a href=\"#Количество-звонков\" data-toc-modified-id=\"Количество-звонков-3.1\"><span class=\"toc-item-num\">3.1&nbsp;&nbsp;</span>Количество звонков</a></span></li><li><span><a href=\"#Продолжительность-звонков\" data-toc-modified-id=\"Продолжительность-звонков-3.2\"><span class=\"toc-item-num\">3.2&nbsp;&nbsp;</span>Продолжительность звонков</a></span></li><li><span><a href=\"#Количество-сообщений\" data-toc-modified-id=\"Количество-сообщений-3.3\"><span class=\"toc-item-num\">3.3&nbsp;&nbsp;</span>Количество сообщений</a></span></li><li><span><a href=\"#Количество-потраченного-трафика\" data-toc-modified-id=\"Количество-потраченного-трафика-3.4\"><span class=\"toc-item-num\">3.4&nbsp;&nbsp;</span>Количество потраченного трафика</a></span></li></ul></li><li><span><a href=\"#Проверка-гипотез\" data-toc-modified-id=\"Проверка-гипотез-4\"><span class=\"toc-item-num\">4&nbsp;&nbsp;</span>Проверка гипотез</a></span></li><li><span><a href=\"#Общие-выводы\" data-toc-modified-id=\"Общие-выводы-5\"><span class=\"toc-item-num\">5&nbsp;&nbsp;</span>Общие выводы</a></span></li></ul></div>"
   ]
  },
  {
   "cell_type": "code",
   "execution_count": 1,
   "metadata": {
    "deletable": false,
    "id": "RrVHWePG_oCV"
   },
   "outputs": [],
   "source": [
    "import pandas as pd\n",
    "import numpy as np\n",
    "from scipy import stats as st\n",
    "import matplotlib.pyplot as plt\n",
    "import seaborn as sns"
   ]
  },
  {
   "cell_type": "markdown",
   "metadata": {
    "id": "NzOeQM6C_oCY"
   },
   "source": [
    "## Общая информация"
   ]
  },
  {
   "cell_type": "markdown",
   "metadata": {},
   "source": [
    "Вы аналитик компании «Мегалайн» — федерального оператора сотовой связи. Клиентам предлагают два тарифных плана: «Смарт» и «Ультра». Чтобы скорректировать рекламный бюджет, коммерческий департамент хочет понять, какой тариф приносит больше денег. Вам предстоит сделать предварительный анализ тарифов на небольшой выборке клиентов. В вашем распоряжении данные 500 пользователей «Мегалайна»: кто они, откуда, каким тарифом пользуются, сколько звонков и сообщений каждый отправил за 2018 год. Нужно проанализировать поведение клиентов и сделать вывод — какой тариф лучше.  \n",
    "  \n",
    "**Описание тарифов**  \n",
    "  \n",
    "*Тариф «Смарт»*  \n",
    "  \n",
    "- Ежемесячная плата: 550 рублей  \n",
    "- Включено 500 минут разговора, 50 сообщений и 15 Гб интернет-трафика  \n",
    "  \n",
    "Стоимость услуг сверх тарифного пакета:  \n",
    "  \n",
    "- минута разговора: 3 рубля («Мегалайн» всегда округляет вверх значения минут и мегабайтов. Если пользователь проговорил всего 1 секунду, в тарифе засчитывается целая минута.)\n",
    "- сообщение: 3 рубля  \n",
    "- 1 Гб интернет-трафика: 200 рублей  \n",
    "  \n",
    "*Тариф «Ультра»*\n",
    "\n",
    "- Ежемесячная плата: 1950 рублей\n",
    "- Включено 3000 минут разговора, 1000 сообщений и 30 Гб интернет-трафика  \n",
    "  \n",
    "Стоимость услуг сверх тарифного пакета:  \n",
    "  \n",
    "- минута разговора: 1 рубль\n",
    "- сообщение: 1 рубль\n",
    "- 1 Гб интернет-трафика: 150 рублей"
   ]
  },
  {
   "cell_type": "markdown",
   "metadata": {},
   "source": [
    "### Описание данных"
   ]
  },
  {
   "cell_type": "markdown",
   "metadata": {},
   "source": [
    "**Таблица` users`:**\n",
    "\n",
    "`user_id` — уникальный идентификатор пользователя  \n",
    "`first_name` — имя пользователя  \n",
    "`last_name` — фамилия пользователя  \n",
    "`age` — возраст пользователя (годы)  \n",
    "`reg_date` — дата подключения тарифа (день, месяц, год)  \n",
    "`churn_date` — дата прекращения пользования тарифом (если значение пропущено, то тариф ещё действовал на момент выгрузки данных)  \n",
    "`city` — город проживания пользователя  \n",
    "`tariff` — название тарифного плана  \n",
    "  \n",
    "**Таблица `calls`:**\n",
    "\n",
    "`id` — уникальный номер звонка  \n",
    "`call_date` — дата звонка  \n",
    "`duration` — длительность звонка в минутах  \n",
    "`user_id` — идентификатор пользователя, сделавшего звонок  \n",
    "  \n",
    "**Таблица `messages`:**  \n",
    "  \n",
    "`id` — уникальный номер сообщения  \n",
    "`message_date` — дата сообщения  \n",
    "`user_id` — идентификатор пользователя, отправившего сообщение  \n",
    "  \n",
    "**Таблица `sessions`:**\n",
    "\n",
    "`id` — уникальный номер сессии  \n",
    "`mb_used` — объём потраченного за сессию интернет-трафика (в мегабайтах)  \n",
    "`session_date` — дата интернет-сессии  \n",
    "`user_id` — идентификатор пользователя  \n",
    "  \n",
    "**Таблица `tariffs`:**  \n",
    "  \n",
    "`tariff_name` — название тарифа  \n",
    "`rub_monthly_fee` — ежемесячная абонентская плата в рублях  \n",
    "`minutes_included` — количество минут разговора в месяц, включённых в абонентскую плату  \n",
    "`messages_included` — количество сообщений в месяц, включённых в абонентскую плату  \n",
    "`mb_per_month_included` — объём интернет-трафика, включённого в абонентскую плату (в мегабайтах)  \n",
    "`rub_per_minute` — стоимость минуты разговора сверх тарифного пакета (например, если в тарифе 100 минут разговора в месяц, то со - 101 минуты будет взиматься плата)  \n",
    "`rub_per_message` — стоимость отправки сообщения сверх тарифного пакета  \n",
    "`rub_per_gb` — стоимость дополнительного гигабайта интернет-трафика сверх тарифного пакета (1 гигабайт = 1024 мегабайта)  "
   ]
  },
  {
   "cell_type": "code",
   "execution_count": 2,
   "metadata": {
    "deletable": false,
    "id": "lPo8_mWg_oCZ"
   },
   "outputs": [],
   "source": [
    "try:\n",
    "    calls = pd.read_csv('/datasets/calls.csv')\n",
    "    sessions = pd.read_csv('/datasets/internet.csv')\n",
    "    messages = pd.read_csv('/datasets/messages.csv')\n",
    "    tariffs = pd.read_csv('/datasets/tariffs.csv')\n",
    "    users = pd.read_csv('/datasets/users.csv')\n",
    "except:\n",
    "    calls = pd.read_csv('calls.csv')\n",
    "    sessions = pd.read_csv('internet.csv')\n",
    "    messages = pd.read_csv('messages.csv')\n",
    "    tariffs = pd.read_csv('tariffs.csv')\n",
    "    users = pd.read_csv('users.csv')"
   ]
  },
  {
   "cell_type": "code",
   "execution_count": 3,
   "metadata": {},
   "outputs": [],
   "source": [
    "def primary_analysis(df, head=5, hist=None):\n",
    "    if hist == None:\n",
    "        return df.head(head), df.info()\n",
    "    else:\n",
    "        return df.head(head), df.info(), df.hist(hist)"
   ]
  },
  {
   "cell_type": "markdown",
   "metadata": {},
   "source": [
    "### Таблица Calls"
   ]
  },
  {
   "cell_type": "code",
   "execution_count": 4,
   "metadata": {
    "scrolled": false
   },
   "outputs": [
    {
     "name": "stdout",
     "output_type": "stream",
     "text": [
      "<class 'pandas.core.frame.DataFrame'>\n",
      "RangeIndex: 202607 entries, 0 to 202606\n",
      "Data columns (total 4 columns):\n",
      " #   Column     Non-Null Count   Dtype  \n",
      "---  ------     --------------   -----  \n",
      " 0   id         202607 non-null  object \n",
      " 1   call_date  202607 non-null  object \n",
      " 2   duration   202607 non-null  float64\n",
      " 3   user_id    202607 non-null  int64  \n",
      "dtypes: float64(1), int64(1), object(2)\n",
      "memory usage: 6.2+ MB\n"
     ]
    },
    {
     "data": {
      "text/plain": [
       "(       id   call_date  duration  user_id\n",
       " 0  1000_0  2018-07-25      0.00     1000\n",
       " 1  1000_1  2018-08-17      0.00     1000\n",
       " 2  1000_2  2018-06-11      2.85     1000\n",
       " 3  1000_3  2018-09-21     13.80     1000\n",
       " 4  1000_4  2018-12-15      5.18     1000,\n",
       " None,\n",
       " array([[<AxesSubplot:title={'center':'duration'}>]], dtype=object))"
      ]
     },
     "execution_count": 4,
     "metadata": {},
     "output_type": "execute_result"
    },
    {
     "data": {
      "image/png": "[encoded data removed]",
      "text/plain": [
       "<Figure size 640x480 with 1 Axes>"
      ]
     },
     "metadata": {},
     "output_type": "display_data"
    }
   ],
   "source": [
    "primary_analysis(calls, 5, 'duration')"
   ]
  },
  {
   "cell_type": "markdown",
   "metadata": {},
   "source": [
    "### Таблица Sessions"
   ]
  },
  {
   "cell_type": "code",
   "execution_count": 5,
   "metadata": {
    "deletable": false,
    "id": "LsRkGeG7_oCb",
    "scrolled": false
   },
   "outputs": [
    {
     "name": "stdout",
     "output_type": "stream",
     "text": [
      "<class 'pandas.core.frame.DataFrame'>\n",
      "RangeIndex: 149396 entries, 0 to 149395\n",
      "Data columns (total 5 columns):\n",
      " #   Column        Non-Null Count   Dtype  \n",
      "---  ------        --------------   -----  \n",
      " 0   Unnamed: 0    149396 non-null  int64  \n",
      " 1   id            149396 non-null  object \n",
      " 2   mb_used       149396 non-null  float64\n",
      " 3   session_date  149396 non-null  object \n",
      " 4   user_id       149396 non-null  int64  \n",
      "dtypes: float64(1), int64(2), object(2)\n",
      "memory usage: 5.7+ MB\n"
     ]
    },
    {
     "data": {
      "text/plain": [
       "(   Unnamed: 0      id  mb_used session_date  user_id\n",
       " 0           0  1000_0   112.95   2018-11-25     1000\n",
       " 1           1  1000_1  1052.81   2018-09-07     1000\n",
       " 2           2  1000_2  1197.26   2018-06-25     1000\n",
       " 3           3  1000_3   550.27   2018-08-22     1000\n",
       " 4           4  1000_4   302.56   2018-09-24     1000,\n",
       " None,\n",
       " array([[<AxesSubplot:title={'center':'mb_used'}>]], dtype=object))"
      ]
     },
     "execution_count": 5,
     "metadata": {},
     "output_type": "execute_result"
    },
    {
     "data": {
      "image/png": "[encoded data removed]",
      "text/plain": [
       "<Figure size 640x480 with 1 Axes>"
      ]
     },
     "metadata": {},
     "output_type": "display_data"
    }
   ],
   "source": [
    "primary_analysis(sessions, 5, 'mb_used')"
   ]
  },
  {
   "cell_type": "markdown",
   "metadata": {},
   "source": [
    "### Таблица Messages"
   ]
  },
  {
   "cell_type": "code",
   "execution_count": 6,
   "metadata": {
    "deletable": false,
    "id": "1_zOkvJO_oCc"
   },
   "outputs": [
    {
     "name": "stdout",
     "output_type": "stream",
     "text": [
      "<class 'pandas.core.frame.DataFrame'>\n",
      "RangeIndex: 123036 entries, 0 to 123035\n",
      "Data columns (total 3 columns):\n",
      " #   Column        Non-Null Count   Dtype \n",
      "---  ------        --------------   ----- \n",
      " 0   id            123036 non-null  object\n",
      " 1   message_date  123036 non-null  object\n",
      " 2   user_id       123036 non-null  int64 \n",
      "dtypes: int64(1), object(2)\n",
      "memory usage: 2.8+ MB\n"
     ]
    },
    {
     "data": {
      "text/plain": [
       "(       id message_date  user_id\n",
       " 0  1000_0   2018-06-27     1000\n",
       " 1  1000_1   2018-10-08     1000\n",
       " 2  1000_2   2018-08-04     1000\n",
       " 3  1000_3   2018-06-16     1000\n",
       " 4  1000_4   2018-12-05     1000,\n",
       " None)"
      ]
     },
     "execution_count": 6,
     "metadata": {},
     "output_type": "execute_result"
    }
   ],
   "source": [
    "primary_analysis(messages)"
   ]
  },
  {
   "cell_type": "markdown",
   "metadata": {
    "id": "oGNMcS4U_oCc",
    "tags": [
     "start_task"
    ]
   },
   "source": [
    "### Таблица Tariffs"
   ]
  },
  {
   "cell_type": "code",
   "execution_count": 7,
   "metadata": {
    "deletable": false,
    "id": "aa6cdOI9_oCd"
   },
   "outputs": [
    {
     "name": "stdout",
     "output_type": "stream",
     "text": [
      "<class 'pandas.core.frame.DataFrame'>\n",
      "RangeIndex: 2 entries, 0 to 1\n",
      "Data columns (total 8 columns):\n",
      " #   Column                 Non-Null Count  Dtype \n",
      "---  ------                 --------------  ----- \n",
      " 0   messages_included      2 non-null      int64 \n",
      " 1   mb_per_month_included  2 non-null      int64 \n",
      " 2   minutes_included       2 non-null      int64 \n",
      " 3   rub_monthly_fee        2 non-null      int64 \n",
      " 4   rub_per_gb             2 non-null      int64 \n",
      " 5   rub_per_message        2 non-null      int64 \n",
      " 6   rub_per_minute         2 non-null      int64 \n",
      " 7   tariff_name            2 non-null      object\n",
      "dtypes: int64(7), object(1)\n",
      "memory usage: 256.0+ bytes\n"
     ]
    },
    {
     "data": {
      "text/plain": [
       "(   messages_included  mb_per_month_included  minutes_included  \\\n",
       " 0                 50                  15360               500   \n",
       " 1               1000                  30720              3000   \n",
       " \n",
       "    rub_monthly_fee  rub_per_gb  rub_per_message  rub_per_minute tariff_name  \n",
       " 0              550         200                3               3       smart  \n",
       " 1             1950         150                1               1       ultra  ,\n",
       " None)"
      ]
     },
     "execution_count": 7,
     "metadata": {},
     "output_type": "execute_result"
    }
   ],
   "source": [
    "primary_analysis(tariffs)"
   ]
  },
  {
   "cell_type": "markdown",
   "metadata": {
    "id": "q0SqMiTs_oCd",
    "tags": [
     "start_task"
    ]
   },
   "source": [
    "### Таблица Users"
   ]
  },
  {
   "cell_type": "code",
   "execution_count": 8,
   "metadata": {
    "deletable": false,
    "id": "TwMOUDXV_oCe"
   },
   "outputs": [
    {
     "name": "stdout",
     "output_type": "stream",
     "text": [
      "<class 'pandas.core.frame.DataFrame'>\n",
      "RangeIndex: 500 entries, 0 to 499\n",
      "Data columns (total 8 columns):\n",
      " #   Column      Non-Null Count  Dtype \n",
      "---  ------      --------------  ----- \n",
      " 0   user_id     500 non-null    int64 \n",
      " 1   age         500 non-null    int64 \n",
      " 2   churn_date  38 non-null     object\n",
      " 3   city        500 non-null    object\n",
      " 4   first_name  500 non-null    object\n",
      " 5   last_name   500 non-null    object\n",
      " 6   reg_date    500 non-null    object\n",
      " 7   tariff      500 non-null    object\n",
      "dtypes: int64(2), object(6)\n",
      "memory usage: 31.4+ KB\n"
     ]
    },
    {
     "data": {
      "text/plain": [
       "(   user_id  age churn_date         city first_name  last_name    reg_date  \\\n",
       " 0     1000   52        NaN    Краснодар     Рафаил  Верещагин  2018-05-25   \n",
       " 1     1001   41        NaN       Москва       Иван       Ежов  2018-11-01   \n",
       " 2     1002   59        NaN  Стерлитамак    Евгений  Абрамович  2018-06-17   \n",
       " 3     1003   23        NaN       Москва      Белла   Белякова  2018-08-17   \n",
       " 4     1004   68        NaN  Новокузнецк    Татьяна   Авдеенко  2018-05-14   \n",
       " \n",
       "   tariff  \n",
       " 0  ultra  \n",
       " 1  smart  \n",
       " 2  smart  \n",
       " 3  ultra  \n",
       " 4  ultra  ,\n",
       " None)"
      ]
     },
     "execution_count": 8,
     "metadata": {},
     "output_type": "execute_result"
    }
   ],
   "source": [
    "primary_analysis(users)"
   ]
  },
  {
   "cell_type": "markdown",
   "metadata": {
    "id": "Y0kllEng_oCf"
   },
   "source": [
    "## Предобработка данных"
   ]
  },
  {
   "cell_type": "markdown",
   "metadata": {
    "id": "EyLIy5lh_oCf",
    "tags": [
     "start_task"
    ]
   },
   "source": [
    "### Преобразование типов данных"
   ]
  },
  {
   "cell_type": "code",
   "execution_count": 9,
   "metadata": {
    "deletable": false,
    "id": "Ig2hAtil_oCh"
   },
   "outputs": [],
   "source": [
    "users['reg_date'] = pd.to_datetime(users['reg_date'])\n",
    "\n",
    "users['churn_date'] = pd.to_datetime(users['churn_date'])\n",
    "\n",
    "calls['call_date'] = pd.to_datetime(calls['call_date'])\n",
    "\n",
    "messages['message_date'] = pd.to_datetime(messages['message_date'])\n",
    "\n",
    "sessions['session_date'] = pd.to_datetime(sessions['session_date'])"
   ]
  },
  {
   "cell_type": "markdown",
   "metadata": {
    "id": "xZgEKVdX_oCi",
    "tags": [
     "start_task"
    ]
   },
   "source": [
    "В столбце `duration` датафрейма `calls` значения дробные. Округлю значения столбца `duration` вверх и приведу к типу `int`"
   ]
  },
  {
   "cell_type": "code",
   "execution_count": 10,
   "metadata": {
    "deletable": false,
    "id": "7Msb3UqS_oCj"
   },
   "outputs": [],
   "source": [
    "calls['duration'] = np.ceil(calls['duration']).astype(int)"
   ]
  },
  {
   "cell_type": "markdown",
   "metadata": {},
   "source": [
    "### Добавление новых столбцов"
   ]
  },
  {
   "cell_type": "markdown",
   "metadata": {
    "id": "u-6V42lj_oCj",
    "tags": [
     "start_task"
    ]
   },
   "source": [
    "Удалю столбец `Unnamed: 0` из датафрейма `sessions`. Он сейчас не понадобится."
   ]
  },
  {
   "cell_type": "code",
   "execution_count": 11,
   "metadata": {
    "deletable": false,
    "id": "0qBUTIJK_oCj"
   },
   "outputs": [],
   "source": [
    "sessions = sessions.drop(columns = ['Unnamed: 0'],axis = 1)"
   ]
  },
  {
   "cell_type": "markdown",
   "metadata": {
    "id": "HlB1e_bN_oCj",
    "tags": [
     "start_task"
    ]
   },
   "source": [
    "Создам столбец `month` в датафрейме `calls` с номером месяца из столбца `call_date`."
   ]
  },
  {
   "cell_type": "code",
   "execution_count": 12,
   "metadata": {
    "deletable": false,
    "id": "qepFbMhq_oCj"
   },
   "outputs": [],
   "source": [
    "calls['month'] = pd.DatetimeIndex(calls['call_date']).month"
   ]
  },
  {
   "cell_type": "markdown",
   "metadata": {
    "id": "nQUHs3Gx_oCk",
    "tags": [
     "start_task"
    ]
   },
   "source": [
    "Создам столбец `month` в датафрейме `messages` с номером месяца из столбца `message_date`."
   ]
  },
  {
   "cell_type": "code",
   "execution_count": 13,
   "metadata": {
    "deletable": false,
    "id": "2evOzw_K_oCk"
   },
   "outputs": [],
   "source": [
    "messages['month'] = pd.DatetimeIndex(messages['message_date']).month"
   ]
  },
  {
   "cell_type": "markdown",
   "metadata": {
    "id": "IbLqO0z-_oCk",
    "tags": [
     "start_task"
    ]
   },
   "source": [
    "Создам столбец `month` в датафрейме `sessions` с номером месяца из столбца `session_date`."
   ]
  },
  {
   "cell_type": "code",
   "execution_count": 14,
   "metadata": {
    "deletable": false,
    "id": "dKZPB_eo_oCk"
   },
   "outputs": [],
   "source": [
    "sessions['month'] = pd.DatetimeIndex(sessions['session_date']).month"
   ]
  },
  {
   "cell_type": "markdown",
   "metadata": {},
   "source": [
    "### Подготовка данных для новой таблицы"
   ]
  },
  {
   "cell_type": "markdown",
   "metadata": {
    "id": "VLMTL8f0_oCk",
    "tags": [
     "start_task"
    ]
   },
   "source": [
    "Посчитаем количество сделанных звонков разговора для каждого пользователя по месяцам."
   ]
  },
  {
   "cell_type": "code",
   "execution_count": 15,
   "metadata": {
    "deletable": false,
    "id": "tMAmcPhC_oCl"
   },
   "outputs": [],
   "source": [
    "calls_per_month = calls.groupby(['user_id','month']).agg(calls=('duration', 'count'))"
   ]
  },
  {
   "cell_type": "code",
   "execution_count": 16,
   "metadata": {
    "deletable": false,
    "id": "r8pvxWhj_oCl"
   },
   "outputs": [
    {
     "data": {
      "text/html": [
       "<div>\n",
       "<style scoped>\n",
       "    .dataframe tbody tr th:only-of-type {\n",
       "        vertical-align: middle;\n",
       "    }\n",
       "\n",
       "    .dataframe tbody tr th {\n",
       "        vertical-align: top;\n",
       "    }\n",
       "\n",
       "    .dataframe thead th {\n",
       "        text-align: right;\n",
       "    }\n",
       "</style>\n",
       "<table border=\"1\" class=\"dataframe\">\n",
       "  <thead>\n",
       "    <tr style=\"text-align: right;\">\n",
       "      <th></th>\n",
       "      <th></th>\n",
       "      <th>calls</th>\n",
       "    </tr>\n",
       "    <tr>\n",
       "      <th>user_id</th>\n",
       "      <th>month</th>\n",
       "      <th></th>\n",
       "    </tr>\n",
       "  </thead>\n",
       "  <tbody>\n",
       "    <tr>\n",
       "      <th rowspan=\"8\" valign=\"top\">1000</th>\n",
       "      <th>5</th>\n",
       "      <td>22</td>\n",
       "    </tr>\n",
       "    <tr>\n",
       "      <th>6</th>\n",
       "      <td>43</td>\n",
       "    </tr>\n",
       "    <tr>\n",
       "      <th>7</th>\n",
       "      <td>47</td>\n",
       "    </tr>\n",
       "    <tr>\n",
       "      <th>8</th>\n",
       "      <td>52</td>\n",
       "    </tr>\n",
       "    <tr>\n",
       "      <th>9</th>\n",
       "      <td>58</td>\n",
       "    </tr>\n",
       "    <tr>\n",
       "      <th>10</th>\n",
       "      <td>57</td>\n",
       "    </tr>\n",
       "    <tr>\n",
       "      <th>11</th>\n",
       "      <td>43</td>\n",
       "    </tr>\n",
       "    <tr>\n",
       "      <th>12</th>\n",
       "      <td>46</td>\n",
       "    </tr>\n",
       "    <tr>\n",
       "      <th rowspan=\"2\" valign=\"top\">1001</th>\n",
       "      <th>11</th>\n",
       "      <td>59</td>\n",
       "    </tr>\n",
       "    <tr>\n",
       "      <th>12</th>\n",
       "      <td>63</td>\n",
       "    </tr>\n",
       "    <tr>\n",
       "      <th rowspan=\"7\" valign=\"top\">1002</th>\n",
       "      <th>6</th>\n",
       "      <td>15</td>\n",
       "    </tr>\n",
       "    <tr>\n",
       "      <th>7</th>\n",
       "      <td>26</td>\n",
       "    </tr>\n",
       "    <tr>\n",
       "      <th>8</th>\n",
       "      <td>42</td>\n",
       "    </tr>\n",
       "    <tr>\n",
       "      <th>9</th>\n",
       "      <td>36</td>\n",
       "    </tr>\n",
       "    <tr>\n",
       "      <th>10</th>\n",
       "      <td>33</td>\n",
       "    </tr>\n",
       "    <tr>\n",
       "      <th>11</th>\n",
       "      <td>32</td>\n",
       "    </tr>\n",
       "    <tr>\n",
       "      <th>12</th>\n",
       "      <td>33</td>\n",
       "    </tr>\n",
       "    <tr>\n",
       "      <th rowspan=\"5\" valign=\"top\">1003</th>\n",
       "      <th>8</th>\n",
       "      <td>55</td>\n",
       "    </tr>\n",
       "    <tr>\n",
       "      <th>9</th>\n",
       "      <td>134</td>\n",
       "    </tr>\n",
       "    <tr>\n",
       "      <th>10</th>\n",
       "      <td>108</td>\n",
       "    </tr>\n",
       "    <tr>\n",
       "      <th>11</th>\n",
       "      <td>115</td>\n",
       "    </tr>\n",
       "    <tr>\n",
       "      <th>12</th>\n",
       "      <td>108</td>\n",
       "    </tr>\n",
       "    <tr>\n",
       "      <th rowspan=\"8\" valign=\"top\">1004</th>\n",
       "      <th>5</th>\n",
       "      <td>9</td>\n",
       "    </tr>\n",
       "    <tr>\n",
       "      <th>6</th>\n",
       "      <td>31</td>\n",
       "    </tr>\n",
       "    <tr>\n",
       "      <th>7</th>\n",
       "      <td>22</td>\n",
       "    </tr>\n",
       "    <tr>\n",
       "      <th>8</th>\n",
       "      <td>19</td>\n",
       "    </tr>\n",
       "    <tr>\n",
       "      <th>9</th>\n",
       "      <td>26</td>\n",
       "    </tr>\n",
       "    <tr>\n",
       "      <th>10</th>\n",
       "      <td>29</td>\n",
       "    </tr>\n",
       "    <tr>\n",
       "      <th>11</th>\n",
       "      <td>19</td>\n",
       "    </tr>\n",
       "    <tr>\n",
       "      <th>12</th>\n",
       "      <td>21</td>\n",
       "    </tr>\n",
       "  </tbody>\n",
       "</table>\n",
       "</div>"
      ],
      "text/plain": [
       "               calls\n",
       "user_id month       \n",
       "1000    5         22\n",
       "        6         43\n",
       "        7         47\n",
       "        8         52\n",
       "        9         58\n",
       "        10        57\n",
       "        11        43\n",
       "        12        46\n",
       "1001    11        59\n",
       "        12        63\n",
       "1002    6         15\n",
       "        7         26\n",
       "        8         42\n",
       "        9         36\n",
       "        10        33\n",
       "        11        32\n",
       "        12        33\n",
       "1003    8         55\n",
       "        9        134\n",
       "        10       108\n",
       "        11       115\n",
       "        12       108\n",
       "1004    5          9\n",
       "        6         31\n",
       "        7         22\n",
       "        8         19\n",
       "        9         26\n",
       "        10        29\n",
       "        11        19\n",
       "        12        21"
      ]
     },
     "execution_count": 16,
     "metadata": {},
     "output_type": "execute_result"
    }
   ],
   "source": [
    "calls_per_month.head(30)"
   ]
  },
  {
   "cell_type": "markdown",
   "metadata": {
    "id": "2DUx3WnM_oCl",
    "tags": [
     "start_task"
    ]
   },
   "source": [
    "Посчитаем количество израсходованных минут разговора для каждого пользователя по месяцам"
   ]
  },
  {
   "cell_type": "code",
   "execution_count": 17,
   "metadata": {
    "deletable": false,
    "id": "ehr5Lhq-_oCl"
   },
   "outputs": [],
   "source": [
    "minutes_per_month = calls.groupby(['user_id','month']).agg(minutes=('duration','sum'))"
   ]
  },
  {
   "cell_type": "code",
   "execution_count": 18,
   "metadata": {
    "deletable": false,
    "id": "-vbsnfVq_oCl"
   },
   "outputs": [
    {
     "data": {
      "text/html": [
       "<div>\n",
       "<style scoped>\n",
       "    .dataframe tbody tr th:only-of-type {\n",
       "        vertical-align: middle;\n",
       "    }\n",
       "\n",
       "    .dataframe tbody tr th {\n",
       "        vertical-align: top;\n",
       "    }\n",
       "\n",
       "    .dataframe thead th {\n",
       "        text-align: right;\n",
       "    }\n",
       "</style>\n",
       "<table border=\"1\" class=\"dataframe\">\n",
       "  <thead>\n",
       "    <tr style=\"text-align: right;\">\n",
       "      <th></th>\n",
       "      <th></th>\n",
       "      <th>minutes</th>\n",
       "    </tr>\n",
       "    <tr>\n",
       "      <th>user_id</th>\n",
       "      <th>month</th>\n",
       "      <th></th>\n",
       "    </tr>\n",
       "  </thead>\n",
       "  <tbody>\n",
       "    <tr>\n",
       "      <th rowspan=\"8\" valign=\"top\">1000</th>\n",
       "      <th>5</th>\n",
       "      <td>159</td>\n",
       "    </tr>\n",
       "    <tr>\n",
       "      <th>6</th>\n",
       "      <td>172</td>\n",
       "    </tr>\n",
       "    <tr>\n",
       "      <th>7</th>\n",
       "      <td>340</td>\n",
       "    </tr>\n",
       "    <tr>\n",
       "      <th>8</th>\n",
       "      <td>408</td>\n",
       "    </tr>\n",
       "    <tr>\n",
       "      <th>9</th>\n",
       "      <td>466</td>\n",
       "    </tr>\n",
       "    <tr>\n",
       "      <th>10</th>\n",
       "      <td>350</td>\n",
       "    </tr>\n",
       "    <tr>\n",
       "      <th>11</th>\n",
       "      <td>338</td>\n",
       "    </tr>\n",
       "    <tr>\n",
       "      <th>12</th>\n",
       "      <td>333</td>\n",
       "    </tr>\n",
       "    <tr>\n",
       "      <th rowspan=\"2\" valign=\"top\">1001</th>\n",
       "      <th>11</th>\n",
       "      <td>430</td>\n",
       "    </tr>\n",
       "    <tr>\n",
       "      <th>12</th>\n",
       "      <td>414</td>\n",
       "    </tr>\n",
       "    <tr>\n",
       "      <th rowspan=\"7\" valign=\"top\">1002</th>\n",
       "      <th>6</th>\n",
       "      <td>117</td>\n",
       "    </tr>\n",
       "    <tr>\n",
       "      <th>7</th>\n",
       "      <td>214</td>\n",
       "    </tr>\n",
       "    <tr>\n",
       "      <th>8</th>\n",
       "      <td>289</td>\n",
       "    </tr>\n",
       "    <tr>\n",
       "      <th>9</th>\n",
       "      <td>206</td>\n",
       "    </tr>\n",
       "    <tr>\n",
       "      <th>10</th>\n",
       "      <td>212</td>\n",
       "    </tr>\n",
       "    <tr>\n",
       "      <th>11</th>\n",
       "      <td>243</td>\n",
       "    </tr>\n",
       "    <tr>\n",
       "      <th>12</th>\n",
       "      <td>236</td>\n",
       "    </tr>\n",
       "    <tr>\n",
       "      <th rowspan=\"5\" valign=\"top\">1003</th>\n",
       "      <th>8</th>\n",
       "      <td>380</td>\n",
       "    </tr>\n",
       "    <tr>\n",
       "      <th>9</th>\n",
       "      <td>961</td>\n",
       "    </tr>\n",
       "    <tr>\n",
       "      <th>10</th>\n",
       "      <td>855</td>\n",
       "    </tr>\n",
       "    <tr>\n",
       "      <th>11</th>\n",
       "      <td>824</td>\n",
       "    </tr>\n",
       "    <tr>\n",
       "      <th>12</th>\n",
       "      <td>802</td>\n",
       "    </tr>\n",
       "    <tr>\n",
       "      <th rowspan=\"8\" valign=\"top\">1004</th>\n",
       "      <th>5</th>\n",
       "      <td>35</td>\n",
       "    </tr>\n",
       "    <tr>\n",
       "      <th>6</th>\n",
       "      <td>171</td>\n",
       "    </tr>\n",
       "    <tr>\n",
       "      <th>7</th>\n",
       "      <td>135</td>\n",
       "    </tr>\n",
       "    <tr>\n",
       "      <th>8</th>\n",
       "      <td>137</td>\n",
       "    </tr>\n",
       "    <tr>\n",
       "      <th>9</th>\n",
       "      <td>117</td>\n",
       "    </tr>\n",
       "    <tr>\n",
       "      <th>10</th>\n",
       "      <td>145</td>\n",
       "    </tr>\n",
       "    <tr>\n",
       "      <th>11</th>\n",
       "      <td>117</td>\n",
       "    </tr>\n",
       "    <tr>\n",
       "      <th>12</th>\n",
       "      <td>130</td>\n",
       "    </tr>\n",
       "  </tbody>\n",
       "</table>\n",
       "</div>"
      ],
      "text/plain": [
       "               minutes\n",
       "user_id month         \n",
       "1000    5          159\n",
       "        6          172\n",
       "        7          340\n",
       "        8          408\n",
       "        9          466\n",
       "        10         350\n",
       "        11         338\n",
       "        12         333\n",
       "1001    11         430\n",
       "        12         414\n",
       "1002    6          117\n",
       "        7          214\n",
       "        8          289\n",
       "        9          206\n",
       "        10         212\n",
       "        11         243\n",
       "        12         236\n",
       "1003    8          380\n",
       "        9          961\n",
       "        10         855\n",
       "        11         824\n",
       "        12         802\n",
       "1004    5           35\n",
       "        6          171\n",
       "        7          135\n",
       "        8          137\n",
       "        9          117\n",
       "        10         145\n",
       "        11         117\n",
       "        12         130"
      ]
     },
     "execution_count": 18,
     "metadata": {},
     "output_type": "execute_result"
    }
   ],
   "source": [
    "minutes_per_month.head(30)"
   ]
  },
  {
   "cell_type": "markdown",
   "metadata": {
    "id": "bjTWE47D_oCl",
    "tags": [
     "start_task"
    ]
   },
   "source": [
    "Посчитаем количество отправленных сообщений по месяцам для каждого пользователя и сохраните в переменную `messages_per_month`"
   ]
  },
  {
   "cell_type": "code",
   "execution_count": 19,
   "metadata": {
    "deletable": false,
    "id": "YiS9waG7_oCl"
   },
   "outputs": [],
   "source": [
    "messages_per_month = messages.groupby(['user_id','month']).agg(messages=('message_date','count'))"
   ]
  },
  {
   "cell_type": "code",
   "execution_count": 20,
   "metadata": {
    "deletable": false,
    "id": "aaDNanZ0_oCm"
   },
   "outputs": [
    {
     "data": {
      "text/html": [
       "<div>\n",
       "<style scoped>\n",
       "    .dataframe tbody tr th:only-of-type {\n",
       "        vertical-align: middle;\n",
       "    }\n",
       "\n",
       "    .dataframe tbody tr th {\n",
       "        vertical-align: top;\n",
       "    }\n",
       "\n",
       "    .dataframe thead th {\n",
       "        text-align: right;\n",
       "    }\n",
       "</style>\n",
       "<table border=\"1\" class=\"dataframe\">\n",
       "  <thead>\n",
       "    <tr style=\"text-align: right;\">\n",
       "      <th></th>\n",
       "      <th></th>\n",
       "      <th>messages</th>\n",
       "    </tr>\n",
       "    <tr>\n",
       "      <th>user_id</th>\n",
       "      <th>month</th>\n",
       "      <th></th>\n",
       "    </tr>\n",
       "  </thead>\n",
       "  <tbody>\n",
       "    <tr>\n",
       "      <th rowspan=\"8\" valign=\"top\">1000</th>\n",
       "      <th>5</th>\n",
       "      <td>22</td>\n",
       "    </tr>\n",
       "    <tr>\n",
       "      <th>6</th>\n",
       "      <td>60</td>\n",
       "    </tr>\n",
       "    <tr>\n",
       "      <th>7</th>\n",
       "      <td>75</td>\n",
       "    </tr>\n",
       "    <tr>\n",
       "      <th>8</th>\n",
       "      <td>81</td>\n",
       "    </tr>\n",
       "    <tr>\n",
       "      <th>9</th>\n",
       "      <td>57</td>\n",
       "    </tr>\n",
       "    <tr>\n",
       "      <th>10</th>\n",
       "      <td>73</td>\n",
       "    </tr>\n",
       "    <tr>\n",
       "      <th>11</th>\n",
       "      <td>58</td>\n",
       "    </tr>\n",
       "    <tr>\n",
       "      <th>12</th>\n",
       "      <td>70</td>\n",
       "    </tr>\n",
       "    <tr>\n",
       "      <th rowspan=\"7\" valign=\"top\">1002</th>\n",
       "      <th>6</th>\n",
       "      <td>4</td>\n",
       "    </tr>\n",
       "    <tr>\n",
       "      <th>7</th>\n",
       "      <td>11</td>\n",
       "    </tr>\n",
       "    <tr>\n",
       "      <th>8</th>\n",
       "      <td>13</td>\n",
       "    </tr>\n",
       "    <tr>\n",
       "      <th>9</th>\n",
       "      <td>4</td>\n",
       "    </tr>\n",
       "    <tr>\n",
       "      <th>10</th>\n",
       "      <td>10</td>\n",
       "    </tr>\n",
       "    <tr>\n",
       "      <th>11</th>\n",
       "      <td>16</td>\n",
       "    </tr>\n",
       "    <tr>\n",
       "      <th>12</th>\n",
       "      <td>12</td>\n",
       "    </tr>\n",
       "    <tr>\n",
       "      <th rowspan=\"5\" valign=\"top\">1003</th>\n",
       "      <th>8</th>\n",
       "      <td>37</td>\n",
       "    </tr>\n",
       "    <tr>\n",
       "      <th>9</th>\n",
       "      <td>91</td>\n",
       "    </tr>\n",
       "    <tr>\n",
       "      <th>10</th>\n",
       "      <td>83</td>\n",
       "    </tr>\n",
       "    <tr>\n",
       "      <th>11</th>\n",
       "      <td>94</td>\n",
       "    </tr>\n",
       "    <tr>\n",
       "      <th>12</th>\n",
       "      <td>75</td>\n",
       "    </tr>\n",
       "    <tr>\n",
       "      <th rowspan=\"8\" valign=\"top\">1004</th>\n",
       "      <th>5</th>\n",
       "      <td>95</td>\n",
       "    </tr>\n",
       "    <tr>\n",
       "      <th>6</th>\n",
       "      <td>134</td>\n",
       "    </tr>\n",
       "    <tr>\n",
       "      <th>7</th>\n",
       "      <td>181</td>\n",
       "    </tr>\n",
       "    <tr>\n",
       "      <th>8</th>\n",
       "      <td>151</td>\n",
       "    </tr>\n",
       "    <tr>\n",
       "      <th>9</th>\n",
       "      <td>146</td>\n",
       "    </tr>\n",
       "    <tr>\n",
       "      <th>10</th>\n",
       "      <td>165</td>\n",
       "    </tr>\n",
       "    <tr>\n",
       "      <th>11</th>\n",
       "      <td>158</td>\n",
       "    </tr>\n",
       "    <tr>\n",
       "      <th>12</th>\n",
       "      <td>162</td>\n",
       "    </tr>\n",
       "    <tr>\n",
       "      <th rowspan=\"2\" valign=\"top\">1005</th>\n",
       "      <th>1</th>\n",
       "      <td>7</td>\n",
       "    </tr>\n",
       "    <tr>\n",
       "      <th>2</th>\n",
       "      <td>38</td>\n",
       "    </tr>\n",
       "  </tbody>\n",
       "</table>\n",
       "</div>"
      ],
      "text/plain": [
       "               messages\n",
       "user_id month          \n",
       "1000    5            22\n",
       "        6            60\n",
       "        7            75\n",
       "        8            81\n",
       "        9            57\n",
       "        10           73\n",
       "        11           58\n",
       "        12           70\n",
       "1002    6             4\n",
       "        7            11\n",
       "        8            13\n",
       "        9             4\n",
       "        10           10\n",
       "        11           16\n",
       "        12           12\n",
       "1003    8            37\n",
       "        9            91\n",
       "        10           83\n",
       "        11           94\n",
       "        12           75\n",
       "1004    5            95\n",
       "        6           134\n",
       "        7           181\n",
       "        8           151\n",
       "        9           146\n",
       "        10          165\n",
       "        11          158\n",
       "        12          162\n",
       "1005    1             7\n",
       "        2            38"
      ]
     },
     "execution_count": 20,
     "metadata": {},
     "output_type": "execute_result"
    }
   ],
   "source": [
    "messages_per_month.head(30)"
   ]
  },
  {
   "cell_type": "markdown",
   "metadata": {
    "id": "9PZFHjUU_oCm",
    "tags": [
     "start_task"
    ]
   },
   "source": [
    "Посчитаем количество потраченных мегабайт по месяцам для каждого пользователя"
   ]
  },
  {
   "cell_type": "code",
   "execution_count": 21,
   "metadata": {
    "deletable": false,
    "id": "-ITlvcsU_oCm"
   },
   "outputs": [],
   "source": [
    "sessions_per_month = sessions.groupby(['user_id','month']).agg({'mb_used':'sum'})"
   ]
  },
  {
   "cell_type": "code",
   "execution_count": 22,
   "metadata": {
    "deletable": false,
    "id": "YF7FQfXf_oCm"
   },
   "outputs": [
    {
     "data": {
      "text/html": [
       "<div>\n",
       "<style scoped>\n",
       "    .dataframe tbody tr th:only-of-type {\n",
       "        vertical-align: middle;\n",
       "    }\n",
       "\n",
       "    .dataframe tbody tr th {\n",
       "        vertical-align: top;\n",
       "    }\n",
       "\n",
       "    .dataframe thead th {\n",
       "        text-align: right;\n",
       "    }\n",
       "</style>\n",
       "<table border=\"1\" class=\"dataframe\">\n",
       "  <thead>\n",
       "    <tr style=\"text-align: right;\">\n",
       "      <th></th>\n",
       "      <th></th>\n",
       "      <th>mb_used</th>\n",
       "    </tr>\n",
       "    <tr>\n",
       "      <th>user_id</th>\n",
       "      <th>month</th>\n",
       "      <th></th>\n",
       "    </tr>\n",
       "  </thead>\n",
       "  <tbody>\n",
       "    <tr>\n",
       "      <th rowspan=\"8\" valign=\"top\">1000</th>\n",
       "      <th>5</th>\n",
       "      <td>2253.49</td>\n",
       "    </tr>\n",
       "    <tr>\n",
       "      <th>6</th>\n",
       "      <td>23233.77</td>\n",
       "    </tr>\n",
       "    <tr>\n",
       "      <th>7</th>\n",
       "      <td>14003.64</td>\n",
       "    </tr>\n",
       "    <tr>\n",
       "      <th>8</th>\n",
       "      <td>14055.93</td>\n",
       "    </tr>\n",
       "    <tr>\n",
       "      <th>9</th>\n",
       "      <td>14568.91</td>\n",
       "    </tr>\n",
       "    <tr>\n",
       "      <th>10</th>\n",
       "      <td>14702.49</td>\n",
       "    </tr>\n",
       "    <tr>\n",
       "      <th>11</th>\n",
       "      <td>14756.47</td>\n",
       "    </tr>\n",
       "    <tr>\n",
       "      <th>12</th>\n",
       "      <td>9817.61</td>\n",
       "    </tr>\n",
       "    <tr>\n",
       "      <th rowspan=\"2\" valign=\"top\">1001</th>\n",
       "      <th>11</th>\n",
       "      <td>18429.34</td>\n",
       "    </tr>\n",
       "    <tr>\n",
       "      <th>12</th>\n",
       "      <td>14036.66</td>\n",
       "    </tr>\n",
       "    <tr>\n",
       "      <th rowspan=\"7\" valign=\"top\">1002</th>\n",
       "      <th>6</th>\n",
       "      <td>10856.82</td>\n",
       "    </tr>\n",
       "    <tr>\n",
       "      <th>7</th>\n",
       "      <td>17580.10</td>\n",
       "    </tr>\n",
       "    <tr>\n",
       "      <th>8</th>\n",
       "      <td>20319.26</td>\n",
       "    </tr>\n",
       "    <tr>\n",
       "      <th>9</th>\n",
       "      <td>16691.08</td>\n",
       "    </tr>\n",
       "    <tr>\n",
       "      <th>10</th>\n",
       "      <td>13888.25</td>\n",
       "    </tr>\n",
       "    <tr>\n",
       "      <th>11</th>\n",
       "      <td>18587.28</td>\n",
       "    </tr>\n",
       "    <tr>\n",
       "      <th>12</th>\n",
       "      <td>18113.73</td>\n",
       "    </tr>\n",
       "    <tr>\n",
       "      <th rowspan=\"5\" valign=\"top\">1003</th>\n",
       "      <th>8</th>\n",
       "      <td>8565.21</td>\n",
       "    </tr>\n",
       "    <tr>\n",
       "      <th>9</th>\n",
       "      <td>12468.87</td>\n",
       "    </tr>\n",
       "    <tr>\n",
       "      <th>10</th>\n",
       "      <td>14768.14</td>\n",
       "    </tr>\n",
       "    <tr>\n",
       "      <th>11</th>\n",
       "      <td>11356.89</td>\n",
       "    </tr>\n",
       "    <tr>\n",
       "      <th>12</th>\n",
       "      <td>10121.53</td>\n",
       "    </tr>\n",
       "    <tr>\n",
       "      <th rowspan=\"8\" valign=\"top\">1004</th>\n",
       "      <th>5</th>\n",
       "      <td>13403.98</td>\n",
       "    </tr>\n",
       "    <tr>\n",
       "      <th>6</th>\n",
       "      <td>17600.02</td>\n",
       "    </tr>\n",
       "    <tr>\n",
       "      <th>7</th>\n",
       "      <td>22229.58</td>\n",
       "    </tr>\n",
       "    <tr>\n",
       "      <th>8</th>\n",
       "      <td>28584.37</td>\n",
       "    </tr>\n",
       "    <tr>\n",
       "      <th>9</th>\n",
       "      <td>15109.03</td>\n",
       "    </tr>\n",
       "    <tr>\n",
       "      <th>10</th>\n",
       "      <td>18475.44</td>\n",
       "    </tr>\n",
       "    <tr>\n",
       "      <th>11</th>\n",
       "      <td>15616.02</td>\n",
       "    </tr>\n",
       "    <tr>\n",
       "      <th>12</th>\n",
       "      <td>18021.04</td>\n",
       "    </tr>\n",
       "  </tbody>\n",
       "</table>\n",
       "</div>"
      ],
      "text/plain": [
       "                mb_used\n",
       "user_id month          \n",
       "1000    5       2253.49\n",
       "        6      23233.77\n",
       "        7      14003.64\n",
       "        8      14055.93\n",
       "        9      14568.91\n",
       "        10     14702.49\n",
       "        11     14756.47\n",
       "        12      9817.61\n",
       "1001    11     18429.34\n",
       "        12     14036.66\n",
       "1002    6      10856.82\n",
       "        7      17580.10\n",
       "        8      20319.26\n",
       "        9      16691.08\n",
       "        10     13888.25\n",
       "        11     18587.28\n",
       "        12     18113.73\n",
       "1003    8       8565.21\n",
       "        9      12468.87\n",
       "        10     14768.14\n",
       "        11     11356.89\n",
       "        12     10121.53\n",
       "1004    5      13403.98\n",
       "        6      17600.02\n",
       "        7      22229.58\n",
       "        8      28584.37\n",
       "        9      15109.03\n",
       "        10     18475.44\n",
       "        11     15616.02\n",
       "        12     18021.04"
      ]
     },
     "execution_count": 22,
     "metadata": {},
     "output_type": "execute_result"
    }
   ],
   "source": [
    "sessions_per_month.head(30)"
   ]
  },
  {
   "cell_type": "markdown",
   "metadata": {
    "id": "GF37Inq-_oCn"
   },
   "source": [
    "## Анализ данных и подсчёт выручки"
   ]
  },
  {
   "cell_type": "markdown",
   "metadata": {
    "deletable": false,
    "editable": false,
    "id": "7U9eZ81t_oCn"
   },
   "source": [
    "Объединяем все посчитанные выше значения в один датафрейм `user_behavior`.\n",
    "Для каждой пары «пользователь — месяц» будут доступны информация о тарифе, количестве звонков, сообщений и потраченных мегабайтах."
   ]
  },
  {
   "cell_type": "code",
   "execution_count": 23,
   "metadata": {
    "deletable": false,
    "id": "SDchqQI5_oCn",
    "outputId": "760b21d8-9344-46a3-9c6e-a3cbbc7dd542"
   },
   "outputs": [
    {
     "data": {
      "text/plain": [
       "7.6"
      ]
     },
     "execution_count": 23,
     "metadata": {},
     "output_type": "execute_result"
    }
   ],
   "source": [
    "users['churn_date'].count() / users['churn_date'].shape[0] * 100"
   ]
  },
  {
   "cell_type": "markdown",
   "metadata": {
    "deletable": false,
    "editable": false,
    "id": "7jb0qJhe_oCn"
   },
   "source": [
    "Расторгли договор 7.6% клиентов из датасета"
   ]
  },
  {
   "cell_type": "code",
   "execution_count": 24,
   "metadata": {
    "deletable": false,
    "id": "QJuiD1cd_oCo",
    "outputId": "60af33ba-196b-464c-e15d-239dd446a4f4"
   },
   "outputs": [
    {
     "data": {
      "text/html": [
       "<div>\n",
       "<style scoped>\n",
       "    .dataframe tbody tr th:only-of-type {\n",
       "        vertical-align: middle;\n",
       "    }\n",
       "\n",
       "    .dataframe tbody tr th {\n",
       "        vertical-align: top;\n",
       "    }\n",
       "\n",
       "    .dataframe thead th {\n",
       "        text-align: right;\n",
       "    }\n",
       "</style>\n",
       "<table border=\"1\" class=\"dataframe\">\n",
       "  <thead>\n",
       "    <tr style=\"text-align: right;\">\n",
       "      <th></th>\n",
       "      <th>user_id</th>\n",
       "      <th>month</th>\n",
       "      <th>calls</th>\n",
       "      <th>messages</th>\n",
       "      <th>mb_used</th>\n",
       "      <th>minutes</th>\n",
       "      <th>age</th>\n",
       "      <th>churn_date</th>\n",
       "      <th>city</th>\n",
       "      <th>first_name</th>\n",
       "      <th>last_name</th>\n",
       "      <th>reg_date</th>\n",
       "      <th>tariff</th>\n",
       "    </tr>\n",
       "  </thead>\n",
       "  <tbody>\n",
       "    <tr>\n",
       "      <th>0</th>\n",
       "      <td>1000</td>\n",
       "      <td>5</td>\n",
       "      <td>22.0</td>\n",
       "      <td>22.0</td>\n",
       "      <td>2253.49</td>\n",
       "      <td>159.0</td>\n",
       "      <td>52</td>\n",
       "      <td>NaT</td>\n",
       "      <td>Краснодар</td>\n",
       "      <td>Рафаил</td>\n",
       "      <td>Верещагин</td>\n",
       "      <td>2018-05-25</td>\n",
       "      <td>ultra</td>\n",
       "    </tr>\n",
       "    <tr>\n",
       "      <th>1</th>\n",
       "      <td>1000</td>\n",
       "      <td>6</td>\n",
       "      <td>43.0</td>\n",
       "      <td>60.0</td>\n",
       "      <td>23233.77</td>\n",
       "      <td>172.0</td>\n",
       "      <td>52</td>\n",
       "      <td>NaT</td>\n",
       "      <td>Краснодар</td>\n",
       "      <td>Рафаил</td>\n",
       "      <td>Верещагин</td>\n",
       "      <td>2018-05-25</td>\n",
       "      <td>ultra</td>\n",
       "    </tr>\n",
       "    <tr>\n",
       "      <th>2</th>\n",
       "      <td>1000</td>\n",
       "      <td>7</td>\n",
       "      <td>47.0</td>\n",
       "      <td>75.0</td>\n",
       "      <td>14003.64</td>\n",
       "      <td>340.0</td>\n",
       "      <td>52</td>\n",
       "      <td>NaT</td>\n",
       "      <td>Краснодар</td>\n",
       "      <td>Рафаил</td>\n",
       "      <td>Верещагин</td>\n",
       "      <td>2018-05-25</td>\n",
       "      <td>ultra</td>\n",
       "    </tr>\n",
       "    <tr>\n",
       "      <th>3</th>\n",
       "      <td>1000</td>\n",
       "      <td>8</td>\n",
       "      <td>52.0</td>\n",
       "      <td>81.0</td>\n",
       "      <td>14055.93</td>\n",
       "      <td>408.0</td>\n",
       "      <td>52</td>\n",
       "      <td>NaT</td>\n",
       "      <td>Краснодар</td>\n",
       "      <td>Рафаил</td>\n",
       "      <td>Верещагин</td>\n",
       "      <td>2018-05-25</td>\n",
       "      <td>ultra</td>\n",
       "    </tr>\n",
       "    <tr>\n",
       "      <th>4</th>\n",
       "      <td>1000</td>\n",
       "      <td>9</td>\n",
       "      <td>58.0</td>\n",
       "      <td>57.0</td>\n",
       "      <td>14568.91</td>\n",
       "      <td>466.0</td>\n",
       "      <td>52</td>\n",
       "      <td>NaT</td>\n",
       "      <td>Краснодар</td>\n",
       "      <td>Рафаил</td>\n",
       "      <td>Верещагин</td>\n",
       "      <td>2018-05-25</td>\n",
       "      <td>ultra</td>\n",
       "    </tr>\n",
       "  </tbody>\n",
       "</table>\n",
       "</div>"
      ],
      "text/plain": [
       "   user_id  month  calls  messages   mb_used  minutes  age churn_date  \\\n",
       "0     1000      5   22.0      22.0   2253.49    159.0   52        NaT   \n",
       "1     1000      6   43.0      60.0  23233.77    172.0   52        NaT   \n",
       "2     1000      7   47.0      75.0  14003.64    340.0   52        NaT   \n",
       "3     1000      8   52.0      81.0  14055.93    408.0   52        NaT   \n",
       "4     1000      9   58.0      57.0  14568.91    466.0   52        NaT   \n",
       "\n",
       "        city first_name  last_name   reg_date tariff  \n",
       "0  Краснодар     Рафаил  Верещагин 2018-05-25  ultra  \n",
       "1  Краснодар     Рафаил  Верещагин 2018-05-25  ultra  \n",
       "2  Краснодар     Рафаил  Верещагин 2018-05-25  ultra  \n",
       "3  Краснодар     Рафаил  Верещагин 2018-05-25  ultra  \n",
       "4  Краснодар     Рафаил  Верещагин 2018-05-25  ultra  "
      ]
     },
     "execution_count": 24,
     "metadata": {},
     "output_type": "execute_result"
    }
   ],
   "source": [
    "user_behavior = calls_per_month\\\n",
    "    .merge(messages_per_month, left_index=True, right_index=True, how='outer')\\\n",
    "    .merge(sessions_per_month, left_index=True, right_index=True, how='outer')\\\n",
    "    .merge(minutes_per_month, left_index=True, right_index=True, how='outer')\\\n",
    "    .reset_index()\\\n",
    "    .merge(users, how='left', left_on='user_id', right_on='user_id')\\\n",
    "\n",
    "user_behavior.head()"
   ]
  },
  {
   "cell_type": "markdown",
   "metadata": {
    "deletable": false,
    "editable": false,
    "id": "9Kif7-vi_oCo"
   },
   "source": [
    "Проверим пропуски в таблице `user_behavior` после объединения:"
   ]
  },
  {
   "cell_type": "code",
   "execution_count": 25,
   "metadata": {
    "deletable": false,
    "id": "MExwRr6x_oCo",
    "outputId": "1362c11d-ba78-47b6-8495-ba877c2cae38"
   },
   "outputs": [
    {
     "data": {
      "text/plain": [
       "user_id          0\n",
       "month            0\n",
       "calls           40\n",
       "messages       497\n",
       "mb_used         11\n",
       "minutes         40\n",
       "age              0\n",
       "churn_date    3027\n",
       "city             0\n",
       "first_name       0\n",
       "last_name        0\n",
       "reg_date         0\n",
       "tariff           0\n",
       "dtype: int64"
      ]
     },
     "execution_count": 25,
     "metadata": {},
     "output_type": "execute_result"
    }
   ],
   "source": [
    "user_behavior.isna().sum()"
   ]
  },
  {
   "cell_type": "markdown",
   "metadata": {
    "deletable": false,
    "editable": false,
    "id": "eNUHBFPI_oCo"
   },
   "source": [
    "Заполним образовавшиеся пропуски в данных:"
   ]
  },
  {
   "cell_type": "code",
   "execution_count": 26,
   "metadata": {
    "deletable": false,
    "id": "2aCyfvNX_oCo"
   },
   "outputs": [],
   "source": [
    "user_behavior['calls'] = user_behavior['calls'].fillna(0)\n",
    "user_behavior['minutes'] = user_behavior['minutes'].fillna(0)\n",
    "user_behavior['messages'] = user_behavior['messages'].fillna(0)\n",
    "user_behavior['mb_used'] = user_behavior['mb_used'].fillna(0)"
   ]
  },
  {
   "cell_type": "markdown",
   "metadata": {
    "deletable": false,
    "editable": false,
    "id": "JTszP_Iy_oCo"
   },
   "source": [
    "Присоединяем информацию о тарифах"
   ]
  },
  {
   "cell_type": "code",
   "execution_count": 27,
   "metadata": {
    "deletable": false,
    "id": "zmnnqTIq_oCo"
   },
   "outputs": [],
   "source": [
    "# переименование столбца tariff_name на более простое tariff\n",
    "\n",
    "tariffs = tariffs.rename(\n",
    "    columns={\n",
    "        'tariff_name': 'tariff'\n",
    "    }\n",
    ")"
   ]
  },
  {
   "cell_type": "code",
   "execution_count": 28,
   "metadata": {
    "deletable": false,
    "id": "hop7kFhB_oCp"
   },
   "outputs": [],
   "source": [
    "user_behavior = user_behavior.merge(tariffs, on='tariff')"
   ]
  },
  {
   "cell_type": "markdown",
   "metadata": {
    "deletable": false,
    "editable": false,
    "id": "aJZeqJwL_oCp"
   },
   "source": [
    "Считаем количество минут разговора, сообщений и мегабайт, превышающих включённые в тариф\n"
   ]
  },
  {
   "cell_type": "code",
   "execution_count": 29,
   "metadata": {
    "deletable": false,
    "id": "1Tcf3IxI_oCp"
   },
   "outputs": [],
   "source": [
    "user_behavior['paid_minutes'] = user_behavior['minutes'] - user_behavior['minutes_included']\n",
    "user_behavior['paid_messages'] = user_behavior['messages'] - user_behavior['messages_included']\n",
    "user_behavior['paid_mb'] = user_behavior['mb_used'] - user_behavior['mb_per_month_included']\n",
    "\n",
    "for col in ['paid_messages', 'paid_minutes', 'paid_mb']:\n",
    "    user_behavior.loc[user_behavior[col] < 0, col] = 0"
   ]
  },
  {
   "cell_type": "markdown",
   "metadata": {
    "deletable": false,
    "editable": false,
    "id": "9mf7Pko9_oCp"
   },
   "source": [
    "Переводим превышающие тариф мегабайты в гигабайты и сохраняем в столбец `paid_gb`"
   ]
  },
  {
   "cell_type": "code",
   "execution_count": 30,
   "metadata": {
    "deletable": false,
    "id": "cct5ZB60_oCp"
   },
   "outputs": [],
   "source": [
    "user_behavior['paid_gb'] = np.ceil(user_behavior['paid_mb'] / 1024).astype(int)"
   ]
  },
  {
   "cell_type": "markdown",
   "metadata": {
    "deletable": false,
    "editable": false,
    "id": "KEZ1rO-r_oCp"
   },
   "source": [
    "Считаем выручку за минуты разговора, сообщения и интернет"
   ]
  },
  {
   "cell_type": "code",
   "execution_count": 31,
   "metadata": {
    "deletable": false,
    "id": "U302RLm6_oCp"
   },
   "outputs": [],
   "source": [
    "user_behavior['cost_minutes'] = user_behavior['paid_minutes'] * user_behavior['rub_per_minute']\n",
    "user_behavior['cost_messages'] = user_behavior['paid_messages'] * user_behavior['rub_per_message']\n",
    "user_behavior['cost_gb'] = user_behavior['paid_gb'] * user_behavior['rub_per_gb']"
   ]
  },
  {
   "cell_type": "markdown",
   "metadata": {
    "deletable": false,
    "editable": false,
    "id": "18ruYfTJ_oCp"
   },
   "source": [
    "Считаем помесячную выручку с каждого пользователя, она будет храниться в столбце `total_cost`"
   ]
  },
  {
   "cell_type": "code",
   "execution_count": 32,
   "metadata": {
    "deletable": false,
    "id": "Uf2YyazE_oCp"
   },
   "outputs": [],
   "source": [
    "user_behavior['total_cost'] = \\\n",
    "      user_behavior['rub_monthly_fee']\\\n",
    "    + user_behavior['cost_minutes']\\\n",
    "    + user_behavior['cost_messages']\\\n",
    "    + user_behavior['cost_gb']"
   ]
  },
  {
   "cell_type": "markdown",
   "metadata": {
    "deletable": false,
    "editable": false,
    "id": "49WKdXmA_oCp"
   },
   "source": [
    "Датафрейм `stats_df` для каждой пары «месяц — тариф» будет хранить основные характеристики"
   ]
  },
  {
   "cell_type": "code",
   "execution_count": 33,
   "metadata": {
    "deletable": false,
    "id": "4V-Kl67S_oCp",
    "outputId": "ed8b1220-debd-42f0-9941-3acb27e94db1"
   },
   "outputs": [
    {
     "data": {
      "text/html": [
       "<div>\n",
       "<style scoped>\n",
       "    .dataframe tbody tr th:only-of-type {\n",
       "        vertical-align: middle;\n",
       "    }\n",
       "\n",
       "    .dataframe tbody tr th {\n",
       "        vertical-align: top;\n",
       "    }\n",
       "\n",
       "    .dataframe thead th {\n",
       "        text-align: right;\n",
       "    }\n",
       "</style>\n",
       "<table border=\"1\" class=\"dataframe\">\n",
       "  <thead>\n",
       "    <tr style=\"text-align: right;\">\n",
       "      <th></th>\n",
       "      <th>month</th>\n",
       "      <th>tariff</th>\n",
       "      <th>calls_mean</th>\n",
       "      <th>sessions_mean</th>\n",
       "      <th>messages_mean</th>\n",
       "      <th>minutes_mean</th>\n",
       "      <th>calls_std</th>\n",
       "      <th>sessions_std</th>\n",
       "      <th>messages_std</th>\n",
       "      <th>minutes_std</th>\n",
       "      <th>calls_median</th>\n",
       "      <th>sessions_median</th>\n",
       "      <th>messages_median</th>\n",
       "      <th>minutes_median</th>\n",
       "    </tr>\n",
       "  </thead>\n",
       "  <tbody>\n",
       "    <tr>\n",
       "      <th>0</th>\n",
       "      <td>1</td>\n",
       "      <td>smart</td>\n",
       "      <td>27.68</td>\n",
       "      <td>8513.72</td>\n",
       "      <td>18.24</td>\n",
       "      <td>203.85</td>\n",
       "      <td>20.81</td>\n",
       "      <td>6444.68</td>\n",
       "      <td>16.20</td>\n",
       "      <td>154.23</td>\n",
       "      <td>20.5</td>\n",
       "      <td>7096.18</td>\n",
       "      <td>15.0</td>\n",
       "      <td>162.5</td>\n",
       "    </tr>\n",
       "    <tr>\n",
       "      <th>1</th>\n",
       "      <td>1</td>\n",
       "      <td>ultra</td>\n",
       "      <td>59.44</td>\n",
       "      <td>13140.68</td>\n",
       "      <td>33.78</td>\n",
       "      <td>428.11</td>\n",
       "      <td>41.64</td>\n",
       "      <td>6865.35</td>\n",
       "      <td>30.67</td>\n",
       "      <td>269.76</td>\n",
       "      <td>51.0</td>\n",
       "      <td>14791.37</td>\n",
       "      <td>32.0</td>\n",
       "      <td>382.0</td>\n",
       "    </tr>\n",
       "    <tr>\n",
       "      <th>2</th>\n",
       "      <td>2</td>\n",
       "      <td>smart</td>\n",
       "      <td>40.19</td>\n",
       "      <td>11597.05</td>\n",
       "      <td>24.09</td>\n",
       "      <td>298.69</td>\n",
       "      <td>25.39</td>\n",
       "      <td>6247.35</td>\n",
       "      <td>21.75</td>\n",
       "      <td>190.82</td>\n",
       "      <td>38.5</td>\n",
       "      <td>12553.71</td>\n",
       "      <td>20.0</td>\n",
       "      <td>258.0</td>\n",
       "    </tr>\n",
       "    <tr>\n",
       "      <th>3</th>\n",
       "      <td>2</td>\n",
       "      <td>ultra</td>\n",
       "      <td>41.54</td>\n",
       "      <td>11775.94</td>\n",
       "      <td>21.96</td>\n",
       "      <td>297.12</td>\n",
       "      <td>40.97</td>\n",
       "      <td>10644.64</td>\n",
       "      <td>26.77</td>\n",
       "      <td>296.51</td>\n",
       "      <td>25.0</td>\n",
       "      <td>7327.12</td>\n",
       "      <td>5.5</td>\n",
       "      <td>168.0</td>\n",
       "    </tr>\n",
       "    <tr>\n",
       "      <th>4</th>\n",
       "      <td>3</td>\n",
       "      <td>smart</td>\n",
       "      <td>54.32</td>\n",
       "      <td>15104.16</td>\n",
       "      <td>31.86</td>\n",
       "      <td>390.05</td>\n",
       "      <td>25.54</td>\n",
       "      <td>5828.24</td>\n",
       "      <td>26.80</td>\n",
       "      <td>191.89</td>\n",
       "      <td>59.0</td>\n",
       "      <td>15670.25</td>\n",
       "      <td>23.0</td>\n",
       "      <td>409.0</td>\n",
       "    </tr>\n",
       "    <tr>\n",
       "      <th>5</th>\n",
       "      <td>3</td>\n",
       "      <td>ultra</td>\n",
       "      <td>67.68</td>\n",
       "      <td>17535.55</td>\n",
       "      <td>32.30</td>\n",
       "      <td>489.65</td>\n",
       "      <td>44.84</td>\n",
       "      <td>10951.79</td>\n",
       "      <td>41.62</td>\n",
       "      <td>333.74</td>\n",
       "      <td>57.0</td>\n",
       "      <td>17495.18</td>\n",
       "      <td>20.0</td>\n",
       "      <td>403.0</td>\n",
       "    </tr>\n",
       "    <tr>\n",
       "      <th>6</th>\n",
       "      <td>4</td>\n",
       "      <td>smart</td>\n",
       "      <td>51.31</td>\n",
       "      <td>13462.18</td>\n",
       "      <td>30.74</td>\n",
       "      <td>367.13</td>\n",
       "      <td>25.70</td>\n",
       "      <td>5698.25</td>\n",
       "      <td>24.54</td>\n",
       "      <td>186.49</td>\n",
       "      <td>52.0</td>\n",
       "      <td>14087.65</td>\n",
       "      <td>28.0</td>\n",
       "      <td>368.5</td>\n",
       "    </tr>\n",
       "    <tr>\n",
       "      <th>7</th>\n",
       "      <td>4</td>\n",
       "      <td>ultra</td>\n",
       "      <td>64.09</td>\n",
       "      <td>16828.13</td>\n",
       "      <td>31.56</td>\n",
       "      <td>458.02</td>\n",
       "      <td>36.27</td>\n",
       "      <td>9718.65</td>\n",
       "      <td>37.51</td>\n",
       "      <td>267.68</td>\n",
       "      <td>61.0</td>\n",
       "      <td>16645.78</td>\n",
       "      <td>17.0</td>\n",
       "      <td>453.0</td>\n",
       "    </tr>\n",
       "    <tr>\n",
       "      <th>8</th>\n",
       "      <td>5</td>\n",
       "      <td>smart</td>\n",
       "      <td>55.24</td>\n",
       "      <td>15805.18</td>\n",
       "      <td>33.77</td>\n",
       "      <td>387.36</td>\n",
       "      <td>25.38</td>\n",
       "      <td>5978.23</td>\n",
       "      <td>27.04</td>\n",
       "      <td>186.60</td>\n",
       "      <td>59.0</td>\n",
       "      <td>16323.94</td>\n",
       "      <td>30.0</td>\n",
       "      <td>433.0</td>\n",
       "    </tr>\n",
       "    <tr>\n",
       "      <th>9</th>\n",
       "      <td>5</td>\n",
       "      <td>ultra</td>\n",
       "      <td>72.51</td>\n",
       "      <td>19363.15</td>\n",
       "      <td>37.85</td>\n",
       "      <td>510.33</td>\n",
       "      <td>41.08</td>\n",
       "      <td>10046.11</td>\n",
       "      <td>40.31</td>\n",
       "      <td>289.60</td>\n",
       "      <td>75.0</td>\n",
       "      <td>18696.43</td>\n",
       "      <td>25.0</td>\n",
       "      <td>519.0</td>\n",
       "    </tr>\n",
       "  </tbody>\n",
       "</table>\n",
       "</div>"
      ],
      "text/plain": [
       "   month tariff  calls_mean  sessions_mean  messages_mean  minutes_mean  \\\n",
       "0      1  smart       27.68        8513.72          18.24        203.85   \n",
       "1      1  ultra       59.44       13140.68          33.78        428.11   \n",
       "2      2  smart       40.19       11597.05          24.09        298.69   \n",
       "3      2  ultra       41.54       11775.94          21.96        297.12   \n",
       "4      3  smart       54.32       15104.16          31.86        390.05   \n",
       "5      3  ultra       67.68       17535.55          32.30        489.65   \n",
       "6      4  smart       51.31       13462.18          30.74        367.13   \n",
       "7      4  ultra       64.09       16828.13          31.56        458.02   \n",
       "8      5  smart       55.24       15805.18          33.77        387.36   \n",
       "9      5  ultra       72.51       19363.15          37.85        510.33   \n",
       "\n",
       "   calls_std  sessions_std  messages_std  minutes_std  calls_median  \\\n",
       "0      20.81       6444.68         16.20       154.23          20.5   \n",
       "1      41.64       6865.35         30.67       269.76          51.0   \n",
       "2      25.39       6247.35         21.75       190.82          38.5   \n",
       "3      40.97      10644.64         26.77       296.51          25.0   \n",
       "4      25.54       5828.24         26.80       191.89          59.0   \n",
       "5      44.84      10951.79         41.62       333.74          57.0   \n",
       "6      25.70       5698.25         24.54       186.49          52.0   \n",
       "7      36.27       9718.65         37.51       267.68          61.0   \n",
       "8      25.38       5978.23         27.04       186.60          59.0   \n",
       "9      41.08      10046.11         40.31       289.60          75.0   \n",
       "\n",
       "   sessions_median  messages_median  minutes_median  \n",
       "0          7096.18             15.0           162.5  \n",
       "1         14791.37             32.0           382.0  \n",
       "2         12553.71             20.0           258.0  \n",
       "3          7327.12              5.5           168.0  \n",
       "4         15670.25             23.0           409.0  \n",
       "5         17495.18             20.0           403.0  \n",
       "6         14087.65             28.0           368.5  \n",
       "7         16645.78             17.0           453.0  \n",
       "8         16323.94             30.0           433.0  \n",
       "9         18696.43             25.0           519.0  "
      ]
     },
     "execution_count": 33,
     "metadata": {},
     "output_type": "execute_result"
    }
   ],
   "source": [
    "# сохранение статистических метрик для каждой пары месяц-тариф\n",
    "# в одной таблице stats_df (среднее значение, стандартное отклонение, медиана)\n",
    "\n",
    "stats_df = user_behavior.pivot_table(\n",
    "            index=['month', 'tariff'],\\\n",
    "            values=['calls', 'minutes', 'messages', 'mb_used'],\\\n",
    "            aggfunc=['mean', 'std', 'median']\\\n",
    ").round(2).reset_index()\n",
    "\n",
    "stats_df.columns=['month', 'tariff', 'calls_mean', 'sessions_mean', 'messages_mean', 'minutes_mean',\n",
    "                                     'calls_std',  'sessions_std', 'messages_std', 'minutes_std', \n",
    "                                     'calls_median', 'sessions_median', 'messages_median',  'minutes_median']\n",
    "\n",
    "stats_df.head(10)"
   ]
  },
  {
   "cell_type": "code",
   "execution_count": 34,
   "metadata": {},
   "outputs": [],
   "source": [
    "sns.set_style('whitegrid')\n",
    "sns.set_palette(palette='Set1')"
   ]
  },
  {
   "cell_type": "code",
   "execution_count": 35,
   "metadata": {},
   "outputs": [],
   "source": [
    "def plots(df1, df2, x1, y1, x2, title1, title2, xlabel1, ylabel1, xlabel2, ylabel2):\n",
    "    \n",
    "    fig, axes = plt.subplots(1, 2, figsize=(15,5))\n",
    "    \n",
    "    ax1 = sns.barplot(ax=axes[0],\n",
    "                      x=x1,\n",
    "                      y=y1,\n",
    "                      hue='tariff',\n",
    "                      data=df1,\n",
    "                      )\n",
    "    \n",
    "    ax2 = sns.histplot(ax=axes[1],\n",
    "                       data=df2,\n",
    "                       x=x2,\n",
    "                       hue='tariff',\n",
    "                       palette='Set1'\n",
    "                       )\n",
    "    \n",
    "    ax1.set_title(title1)\n",
    "    ax1.set(xlabel=xlabel1, ylabel=ylabel1)\n",
    "    \n",
    "    ax2.set_title(title2)\n",
    "    ax2.set(xlabel=xlabel2, ylabel=ylabel2)\n",
    "    return    "
   ]
  },
  {
   "cell_type": "markdown",
   "metadata": {},
   "source": [
    "### Количество звонков"
   ]
  },
  {
   "cell_type": "code",
   "execution_count": 36,
   "metadata": {},
   "outputs": [
    {
     "data": {
      "image/png": "[encoded data removed]",
      "text/plain": [
       "<Figure size 1500x500 with 2 Axes>"
      ]
     },
     "metadata": {},
     "output_type": "display_data"
    }
   ],
   "source": [
    "plots(stats_df,\n",
    "      user_behavior,\n",
    "      x1='month',\n",
    "      y1='calls_mean',\n",
    "      x2='calls',\n",
    "      title1='Распределение количества звонков по видам тарифов и месяцам',\n",
    "      title2='Распределение количества клиентов по видам тарифов и количеству звонков',\n",
    "      xlabel1='Месяц',\n",
    "      ylabel1='Среднее количество звонков',\n",
    "      xlabel2='Количество звонков',\n",
    "      ylabel2='Количество клиентов')"
   ]
  },
  {
   "cell_type": "markdown",
   "metadata": {},
   "source": [
    "### Продолжительность звонков"
   ]
  },
  {
   "cell_type": "code",
   "execution_count": 37,
   "metadata": {},
   "outputs": [
    {
     "data": {
      "image/png": "[encoded data removed]",
      "text/plain": [
       "<Figure size 1500x500 with 2 Axes>"
      ]
     },
     "metadata": {},
     "output_type": "display_data"
    }
   ],
   "source": [
    "plots(stats_df,\n",
    "      user_behavior,\n",
    "      x1='month',\n",
    "      y1='minutes_mean',\n",
    "      x2='minutes',\n",
    "      title1='Распределение продолжительности звонков по видам тарифов и месяцам',\n",
    "      title2='Распределение количества клиентов по видам тарифов и продолжительности звонков',\n",
    "      xlabel1='Месяц',\n",
    "      ylabel1='Средняя продолжительность звонков',\n",
    "      xlabel2='Продолжительность звонков',\n",
    "      ylabel2='Количество клиентов')"
   ]
  },
  {
   "cell_type": "markdown",
   "metadata": {
    "deletable": false,
    "editable": false,
    "id": "G3NDyWZy_oCq"
   },
   "source": [
    "Средняя длительность разговоров у абонентов тарифа Ultra больше, чем у абонентов тарифа Smart. В течение года пользователи обоих тарифов увеличивают среднюю продолжительность своих разговоров. Рост средней длительности разговоров у абонентов тарифа Smart равномерный в течение года. Пользователи тарифа Ultra не проявляют подобной линейной стабильности. Стоит отметить, что феврале у абонентов обоих тарифных планов наблюдались самые низкие показатели."
   ]
  },
  {
   "cell_type": "markdown",
   "metadata": {},
   "source": [
    "### Количество сообщений"
   ]
  },
  {
   "cell_type": "code",
   "execution_count": 38,
   "metadata": {},
   "outputs": [
    {
     "data": {
      "image/png": "[encoded data removed]",
      "text/plain": [
       "<Figure size 1500x500 with 2 Axes>"
      ]
     },
     "metadata": {},
     "output_type": "display_data"
    }
   ],
   "source": [
    "plots(stats_df,\n",
    "      user_behavior,\n",
    "      x1='month',\n",
    "      y1='messages_mean',\n",
    "      x2='messages',\n",
    "      title1='Распределение количества сообщений по видам тарифов и месяцам',\n",
    "      title2='Распределение количества клиентов по видам тарифов и количеству сообщений',\n",
    "      xlabel1='Месяц',\n",
    "      ylabel1='Среднее количество сообщений',\n",
    "      xlabel2='Количество сообщений',\n",
    "      ylabel2='Количество клиентов')"
   ]
  },
  {
   "cell_type": "markdown",
   "metadata": {
    "id": "IKu7ZqEy_oCq"
   },
   "source": [
    "В среднем пользователи тарифа Ultra отправляют больше сообщений — почти на 20 сообщений больше, чем пользователи тарифа Smart. Количество сообщений в течение года на обоих тарифах растёт. Динамика по отправке сообщений схожа с тенденциями по длительности разговоров: в феврале отмечено наименьшее количество сообщений за год и пользователи тарифа Ultra также проявляют нелинейную положительную динамику."
   ]
  },
  {
   "cell_type": "markdown",
   "metadata": {},
   "source": [
    "### Количество потраченного трафика"
   ]
  },
  {
   "cell_type": "code",
   "execution_count": 39,
   "metadata": {},
   "outputs": [
    {
     "data": {
      "image/png": "[encoded data removed]",
      "text/plain": [
       "<Figure size 1500x500 with 2 Axes>"
      ]
     },
     "metadata": {},
     "output_type": "display_data"
    }
   ],
   "source": [
    "plots(stats_df,\n",
    "      user_behavior,\n",
    "      x1='month',\n",
    "      y1='sessions_mean',\n",
    "      x2='mb_used',\n",
    "      title1='Распределение количества Мб по видам тарифов и месяцам',\n",
    "      title2='Распределение количества клиентов по видам тарифов и количеству Мб',\n",
    "      xlabel1='Месяц',\n",
    "      ylabel1='Среднее количество Мб',\n",
    "      xlabel2='Количество Мб',\n",
    "      ylabel2='Количество клиентов')"
   ]
  },
  {
   "cell_type": "markdown",
   "metadata": {
    "deletable": false,
    "editable": false,
    "id": "DQp_KGw1_oCr"
   },
   "source": [
    "Меньше всего пользователи использовали интернет в январе, феврале и апреле. Чаще всего абоненты тарифа Smart тратят 15–17 Гб, а абоненты тарифного плана Ultra — 19–21 ГБ."
   ]
  },
  {
   "cell_type": "markdown",
   "metadata": {
    "id": "aKJz6DhN_oCr"
   },
   "source": [
    "## Проверка гипотез"
   ]
  },
  {
   "cell_type": "markdown",
   "metadata": {
    "id": "FW2jChme_oCr",
    "tags": [
     "start_task"
    ]
   },
   "source": [
    "Проверка гипотезы: средняя выручка пользователей тарифов «Ультра» и «Смарт» различается;\n",
    "\n",
    "```\n",
    "H_0: Выручка (total_cost) пользователей \"Ультра\" = выручка (total_cost) пользователей \"Смарт\"\n",
    "H_1 Выручка (total_cost) пользователей \"Ультра\" ≠ выручка (total_cost) пользователей \"Смарт\"\n",
    "alpha = 0.05\n",
    "```"
   ]
  },
  {
   "cell_type": "code",
   "execution_count": 40,
   "metadata": {
    "deletable": false,
    "id": "OxsrhJXE_oCr"
   },
   "outputs": [
    {
     "name": "stdout",
     "output_type": "stream",
     "text": [
      "p-значение: 4.2606313931076085e-250\n",
      "Отвергаем нулевую гипотезу\n"
     ]
    }
   ],
   "source": [
    "results = st.ttest_ind(user_behavior[user_behavior['tariff'] =='smart']['total_cost'], user_behavior[user_behavior['tariff'] =='ultra']['total_cost'], equal_var=False)\n",
    "\n",
    "alpha = 0.05 # задайте значение уровня значимости\n",
    "\n",
    "print('p-значение:', results.pvalue) # вывод значения p-value на экран \n",
    "if results.pvalue < alpha:\n",
    "    print(\"Отвергаем нулевую гипотезу\")\n",
    "else:\n",
    "    print(\"Не получилось отвергнуть нулевую гипотезу\") # условный оператор с выводом строки с ответом\n"
   ]
  },
  {
   "cell_type": "markdown",
   "metadata": {
    "id": "-ENs-XhC_oCr",
    "tags": [
     "start_task"
    ]
   },
   "source": [
    "Проверка гипотезы: средняя выручка с пользователей из Москвы отличается от выручки c пользователей других регионов; \n",
    "\n",
    "```\n",
    "H_0: Выручка (total_cost) пользователей из Москвы = выручка (total_cost) пользователей не из Москвы\n",
    "H_1: Выручка (total_cost) пользователей из Москвы ≠ выручка (total_cost) пользователей не из Москвы\n",
    "alpha = 0.05\n",
    "```"
   ]
  },
  {
   "cell_type": "code",
   "execution_count": 41,
   "metadata": {
    "deletable": false,
    "id": "RznkRUuu_oCr"
   },
   "outputs": [
    {
     "name": "stdout",
     "output_type": "stream",
     "text": [
      "p-значение: 0.5257376663729298\n",
      "Не получилось отвергнуть нулевую гипотезу\n"
     ]
    }
   ],
   "source": [
    "results = st.ttest_ind(user_behavior[user_behavior['city'] =='Москва']['total_cost'], user_behavior[user_behavior['city'] !='Москва']['total_cost'], equal_var=False)\n",
    "\n",
    "alpha = 0.05 \n",
    "\n",
    "print('p-значение:', results.pvalue)\n",
    "if results.pvalue < alpha:\n",
    "    print(\"Отвергаем нулевую гипотезу\")\n",
    "else:\n",
    "    print(\"Не получилось отвергнуть нулевую гипотезу\")"
   ]
  },
  {
   "cell_type": "markdown",
   "metadata": {},
   "source": [
    "## Общие выводы"
   ]
  },
  {
   "cell_type": "markdown",
   "metadata": {},
   "source": [
    "**1. Предобработка данных**  \n",
    "  \n",
    "- В столбцах `users['reg_date']`, `users['churn_date']`, `calls['call_date']`, `messages['message_date']`, `sessions['session_date']` преобразован тип данных на `datetime`  \n",
    "- Значения в столбце `calls['duration']` округлил до целого числа вверх и привел тип данных к `int`  \n",
    "- Удалил столбец `Unnamed : 0` из датафрейма `sessions`  \n",
    "- В датафреймы `calls`, `messages` и `sessions` добавил столбец `month` с номером месяца  \n",
    "- Создал датафрейм `user_behavior`, в котором для каждой пары «пользователь — месяц» доступны информация о тарифе, количестве звонков, сообщений и потраченных мегабайтах  \n",
    "  \n",
    "**2. Исследовательский анализ**  \n",
    "  \n",
    "- Средняя длительность разговоров у абонентов тарифа Ultra больше, чем у абонентов тарифа Smart. В течение года пользователи обоих тарифов увеличивают среднюю продолжительность своих разговоров. Рост средней длительности разговоров у абонентов тарифа Smart равномерный в течение года. Пользователи тарифа Ultra не проявляют подобной линейной стабильности. Стоит отметить, что феврале у абонентов обоих тарифных планов наблюдались самые низкие показатели  \n",
    "- В среднем пользователи тарифа Ultra отправляют больше сообщений — почти на 20 сообщений больше, чем пользователи тарифа Smart. Количество сообщений в течение года на обоих тарифах растёт. Динамика по отправке сообщений схожа с тенденциями по длительности разговоров: в феврале отмечено наименьшее количество сообщений за год и пользователи тарифа Ultra также проявляют нелинейную положительную динамику  \n",
    "- Меньше всего пользователи использовали интернет в январе, феврале и апреле. Чаще всего абоненты тарифа Smart тратят 15–17 Гб, а абоненты тарифного плана Ultra — 19–21 ГБ  \n",
    "  \n",
    "**3. Проверка гипотез**  \n",
    "\n",
    "*Гипотеза 1: средняя выручка пользователей тарифов «Ультра» и «Смарт» различается*\n",
    "\n",
    "    H_0: Выручка пользователей \"Ультра\" = выручка пользователей \"Смарт\"  \n",
    "    H_1: Выручка пользователей \"Ультра\" ≠ выручка пользователей \"Смарт\"  \n",
    "    alpha = 0.05  \n",
    "p-значение: 4.2606313931076085e-250  \n",
    "Отвергаем нулевую гипотезу  \n",
    "  \n",
    "*Гипотеза 2: средняя выручка пользователей из Москвы отличается от выручки c пользователей других регионов*\n",
    "\n",
    "    H_0: Выручка пользователей из Москвы = выручка пользователей не из Москвы  \n",
    "    H_1: Выручка пользователей из Москвы ≠ выручка пользователей не из Москвы  \n",
    "    alpha = 0.05  \n",
    "p-значение: 0.5257376663729298  \n",
    "Не получилось отвергнуть нулевую гипотезу"
   ]
  },
  {
   "cell_type": "code",
   "execution_count": null,
   "metadata": {},
   "outputs": [],
   "source": []
  }
 ],
 "metadata": {
  "ExecuteTimeLog": [
   {
    "duration": 81,
    "start_time": "2023-04-11T08:50:03.232Z"
   },
   {
    "duration": 399,
    "start_time": "2023-04-11T08:50:08.144Z"
   },
   {
    "duration": 493,
    "start_time": "2023-04-11T08:50:09.886Z"
   },
   {
    "duration": 31,
    "start_time": "2023-04-11T08:50:31.782Z"
   },
   {
    "duration": 16,
    "start_time": "2023-04-11T08:50:35.036Z"
   },
   {
    "duration": 9,
    "start_time": "2023-04-11T08:50:47.923Z"
   },
   {
    "duration": 28,
    "start_time": "2023-04-11T08:50:50.798Z"
   },
   {
    "duration": 591,
    "start_time": "2023-04-11T08:51:23.207Z"
   },
   {
    "duration": 329,
    "start_time": "2023-04-11T08:51:55.006Z"
   },
   {
    "duration": 9,
    "start_time": "2023-04-11T08:52:11.845Z"
   },
   {
    "duration": 24,
    "start_time": "2023-04-11T08:52:14.606Z"
   },
   {
    "duration": 170,
    "start_time": "2023-04-11T08:52:58.814Z"
   },
   {
    "duration": 311,
    "start_time": "2023-04-11T08:53:38.625Z"
   },
   {
    "duration": 8,
    "start_time": "2023-04-11T08:53:44.526Z"
   },
   {
    "duration": 20,
    "start_time": "2023-04-11T08:53:51.407Z"
   },
   {
    "duration": 71,
    "start_time": "2023-04-11T08:54:07.246Z"
   },
   {
    "duration": 24,
    "start_time": "2023-04-11T08:54:12.785Z"
   },
   {
    "duration": 8,
    "start_time": "2023-04-11T08:54:15.898Z"
   },
   {
    "duration": 11,
    "start_time": "2023-04-11T08:54:22.985Z"
   },
   {
    "duration": 76,
    "start_time": "2023-04-11T08:54:39.793Z"
   },
   {
    "duration": 12,
    "start_time": "2023-04-11T08:54:45.193Z"
   },
   {
    "duration": 11,
    "start_time": "2023-04-11T08:54:50.227Z"
   },
   {
    "duration": 21,
    "start_time": "2023-04-11T08:57:33.684Z"
   },
   {
    "duration": 10,
    "start_time": "2023-04-11T08:57:44.583Z"
   },
   {
    "duration": 8,
    "start_time": "2023-04-11T08:58:17.933Z"
   },
   {
    "duration": 14,
    "start_time": "2023-04-11T08:59:26.795Z"
   },
   {
    "duration": 12,
    "start_time": "2023-04-11T08:59:31.977Z"
   },
   {
    "duration": 10,
    "start_time": "2023-04-11T08:59:58.271Z"
   },
   {
    "duration": 10,
    "start_time": "2023-04-11T09:00:46.478Z"
   },
   {
    "duration": 14,
    "start_time": "2023-04-11T09:01:02.250Z"
   },
   {
    "duration": 14,
    "start_time": "2023-04-11T09:01:42.190Z"
   },
   {
    "duration": 10,
    "start_time": "2023-04-11T09:03:22.518Z"
   },
   {
    "duration": 10,
    "start_time": "2023-04-11T09:03:33.599Z"
   },
   {
    "duration": 10,
    "start_time": "2023-04-11T09:03:58.859Z"
   },
   {
    "duration": 415,
    "start_time": "2023-04-11T09:04:03.998Z"
   },
   {
    "duration": 177,
    "start_time": "2023-04-11T09:04:04.415Z"
   },
   {
    "duration": 16,
    "start_time": "2023-04-11T09:04:04.593Z"
   },
   {
    "duration": 41,
    "start_time": "2023-04-11T09:04:04.611Z"
   },
   {
    "duration": 422,
    "start_time": "2023-04-11T09:04:04.654Z"
   },
   {
    "duration": 141,
    "start_time": "2023-04-11T09:04:05.078Z"
   },
   {
    "duration": 9,
    "start_time": "2023-04-11T09:04:05.221Z"
   },
   {
    "duration": 32,
    "start_time": "2023-04-11T09:04:05.232Z"
   },
   {
    "duration": 177,
    "start_time": "2023-04-11T09:04:05.266Z"
   },
   {
    "duration": 100,
    "start_time": "2023-04-11T09:04:05.446Z"
   },
   {
    "duration": 8,
    "start_time": "2023-04-11T09:04:05.548Z"
   },
   {
    "duration": 27,
    "start_time": "2023-04-11T09:04:05.558Z"
   },
   {
    "duration": 21,
    "start_time": "2023-04-11T09:04:05.587Z"
   },
   {
    "duration": 9,
    "start_time": "2023-04-11T09:04:05.610Z"
   },
   {
    "duration": 26,
    "start_time": "2023-04-11T09:04:05.620Z"
   },
   {
    "duration": 38,
    "start_time": "2023-04-11T09:04:05.648Z"
   },
   {
    "duration": 11,
    "start_time": "2023-04-11T09:04:05.687Z"
   },
   {
    "duration": 24,
    "start_time": "2023-04-11T09:04:05.699Z"
   },
   {
    "duration": 37,
    "start_time": "2023-04-11T09:04:05.725Z"
   },
   {
    "duration": 46,
    "start_time": "2023-04-11T09:04:05.764Z"
   },
   {
    "duration": 15,
    "start_time": "2023-04-11T09:04:05.812Z"
   },
   {
    "duration": 34,
    "start_time": "2023-04-11T09:04:05.828Z"
   },
   {
    "duration": 7,
    "start_time": "2023-04-11T09:04:05.864Z"
   },
   {
    "duration": 22,
    "start_time": "2023-04-11T09:04:05.873Z"
   },
   {
    "duration": 37,
    "start_time": "2023-04-11T09:04:05.897Z"
   },
   {
    "duration": 43,
    "start_time": "2023-04-11T09:04:05.935Z"
   },
   {
    "duration": 33,
    "start_time": "2023-04-11T09:04:05.979Z"
   },
   {
    "duration": 18,
    "start_time": "2023-04-11T09:04:06.017Z"
   },
   {
    "duration": 32,
    "start_time": "2023-04-11T09:04:06.037Z"
   },
   {
    "duration": 110,
    "start_time": "2023-04-11T09:04:06.071Z"
   },
   {
    "duration": 0,
    "start_time": "2023-04-11T09:04:06.183Z"
   },
   {
    "duration": 0,
    "start_time": "2023-04-11T09:04:06.184Z"
   },
   {
    "duration": 0,
    "start_time": "2023-04-11T09:04:06.185Z"
   },
   {
    "duration": 0,
    "start_time": "2023-04-11T09:04:06.187Z"
   },
   {
    "duration": 0,
    "start_time": "2023-04-11T09:04:06.188Z"
   },
   {
    "duration": 0,
    "start_time": "2023-04-11T09:04:06.190Z"
   },
   {
    "duration": 0,
    "start_time": "2023-04-11T09:04:06.191Z"
   },
   {
    "duration": 0,
    "start_time": "2023-04-11T09:04:06.193Z"
   },
   {
    "duration": 0,
    "start_time": "2023-04-11T09:04:06.195Z"
   },
   {
    "duration": 0,
    "start_time": "2023-04-11T09:04:06.196Z"
   },
   {
    "duration": 0,
    "start_time": "2023-04-11T09:04:06.198Z"
   },
   {
    "duration": 0,
    "start_time": "2023-04-11T09:04:06.199Z"
   },
   {
    "duration": 0,
    "start_time": "2023-04-11T09:04:06.201Z"
   },
   {
    "duration": 0,
    "start_time": "2023-04-11T09:04:06.202Z"
   },
   {
    "duration": 0,
    "start_time": "2023-04-11T09:04:06.204Z"
   },
   {
    "duration": 0,
    "start_time": "2023-04-11T09:04:06.205Z"
   },
   {
    "duration": 0,
    "start_time": "2023-04-11T09:04:06.206Z"
   },
   {
    "duration": 0,
    "start_time": "2023-04-11T09:04:06.208Z"
   },
   {
    "duration": 0,
    "start_time": "2023-04-11T09:04:06.209Z"
   },
   {
    "duration": 0,
    "start_time": "2023-04-11T09:04:06.210Z"
   },
   {
    "duration": 48,
    "start_time": "2023-04-11T09:06:33.858Z"
   },
   {
    "duration": 2733,
    "start_time": "2023-04-11T09:06:40.822Z"
   },
   {
    "duration": 3343,
    "start_time": "2023-04-11T09:07:02.898Z"
   },
   {
    "duration": 400,
    "start_time": "2023-04-11T09:07:12.424Z"
   },
   {
    "duration": 171,
    "start_time": "2023-04-11T09:07:12.826Z"
   },
   {
    "duration": 17,
    "start_time": "2023-04-11T09:07:12.998Z"
   },
   {
    "duration": 27,
    "start_time": "2023-04-11T09:07:13.017Z"
   },
   {
    "duration": 499,
    "start_time": "2023-04-11T09:07:13.046Z"
   },
   {
    "duration": 135,
    "start_time": "2023-04-11T09:07:13.547Z"
   },
   {
    "duration": 11,
    "start_time": "2023-04-11T09:07:13.683Z"
   },
   {
    "duration": 40,
    "start_time": "2023-04-11T09:07:13.696Z"
   },
   {
    "duration": 182,
    "start_time": "2023-04-11T09:07:13.738Z"
   },
   {
    "duration": 103,
    "start_time": "2023-04-11T09:07:13.923Z"
   },
   {
    "duration": 8,
    "start_time": "2023-04-11T09:07:14.027Z"
   },
   {
    "duration": 30,
    "start_time": "2023-04-11T09:07:14.037Z"
   },
   {
    "duration": 15,
    "start_time": "2023-04-11T09:07:14.069Z"
   },
   {
    "duration": 8,
    "start_time": "2023-04-11T09:07:14.085Z"
   },
   {
    "duration": 25,
    "start_time": "2023-04-11T09:07:14.094Z"
   },
   {
    "duration": 38,
    "start_time": "2023-04-11T09:07:14.120Z"
   },
   {
    "duration": 12,
    "start_time": "2023-04-11T09:07:14.160Z"
   },
   {
    "duration": 17,
    "start_time": "2023-04-11T09:07:14.174Z"
   },
   {
    "duration": 1999,
    "start_time": "2023-04-11T09:07:14.192Z"
   },
   {
    "duration": 0,
    "start_time": "2023-04-11T09:07:16.193Z"
   },
   {
    "duration": 0,
    "start_time": "2023-04-11T09:07:16.195Z"
   },
   {
    "duration": 0,
    "start_time": "2023-04-11T09:07:16.196Z"
   },
   {
    "duration": 0,
    "start_time": "2023-04-11T09:07:16.197Z"
   },
   {
    "duration": 0,
    "start_time": "2023-04-11T09:07:16.198Z"
   },
   {
    "duration": 0,
    "start_time": "2023-04-11T09:07:16.199Z"
   },
   {
    "duration": 0,
    "start_time": "2023-04-11T09:07:16.200Z"
   },
   {
    "duration": 0,
    "start_time": "2023-04-11T09:07:16.202Z"
   },
   {
    "duration": 0,
    "start_time": "2023-04-11T09:07:16.203Z"
   },
   {
    "duration": 0,
    "start_time": "2023-04-11T09:07:16.204Z"
   },
   {
    "duration": 0,
    "start_time": "2023-04-11T09:07:16.205Z"
   },
   {
    "duration": 0,
    "start_time": "2023-04-11T09:07:16.206Z"
   },
   {
    "duration": 0,
    "start_time": "2023-04-11T09:07:16.207Z"
   },
   {
    "duration": 0,
    "start_time": "2023-04-11T09:07:16.208Z"
   },
   {
    "duration": 0,
    "start_time": "2023-04-11T09:07:16.209Z"
   },
   {
    "duration": 0,
    "start_time": "2023-04-11T09:07:16.211Z"
   },
   {
    "duration": 0,
    "start_time": "2023-04-11T09:07:16.212Z"
   },
   {
    "duration": 0,
    "start_time": "2023-04-11T09:07:16.213Z"
   },
   {
    "duration": 0,
    "start_time": "2023-04-11T09:07:16.214Z"
   },
   {
    "duration": 0,
    "start_time": "2023-04-11T09:07:16.216Z"
   },
   {
    "duration": 0,
    "start_time": "2023-04-11T09:07:16.217Z"
   },
   {
    "duration": 0,
    "start_time": "2023-04-11T09:07:16.218Z"
   },
   {
    "duration": 0,
    "start_time": "2023-04-11T09:07:16.219Z"
   },
   {
    "duration": 0,
    "start_time": "2023-04-11T09:07:16.220Z"
   },
   {
    "duration": 0,
    "start_time": "2023-04-11T09:07:16.221Z"
   },
   {
    "duration": 0,
    "start_time": "2023-04-11T09:07:16.223Z"
   },
   {
    "duration": 0,
    "start_time": "2023-04-11T09:07:16.224Z"
   },
   {
    "duration": 0,
    "start_time": "2023-04-11T09:07:16.225Z"
   },
   {
    "duration": 0,
    "start_time": "2023-04-11T09:07:16.226Z"
   },
   {
    "duration": 0,
    "start_time": "2023-04-11T09:07:16.227Z"
   },
   {
    "duration": 0,
    "start_time": "2023-04-11T09:07:16.227Z"
   },
   {
    "duration": 59,
    "start_time": "2023-04-11T09:07:25.773Z"
   },
   {
    "duration": 14,
    "start_time": "2023-04-11T09:08:32.179Z"
   },
   {
    "duration": 8,
    "start_time": "2023-04-11T09:08:58.899Z"
   },
   {
    "duration": 14,
    "start_time": "2023-04-11T09:09:14.434Z"
   },
   {
    "duration": 7,
    "start_time": "2023-04-11T09:09:49.554Z"
   },
   {
    "duration": 18,
    "start_time": "2023-04-11T09:11:41.890Z"
   },
   {
    "duration": 11,
    "start_time": "2023-04-11T09:12:36.419Z"
   },
   {
    "duration": 9,
    "start_time": "2023-04-11T09:13:33.098Z"
   },
   {
    "duration": 8,
    "start_time": "2023-04-11T09:13:39.431Z"
   },
   {
    "duration": 9,
    "start_time": "2023-04-11T09:13:51.759Z"
   },
   {
    "duration": 12,
    "start_time": "2023-04-11T09:14:53.898Z"
   },
   {
    "duration": 494,
    "start_time": "2023-04-11T09:15:37.156Z"
   },
   {
    "duration": 174,
    "start_time": "2023-04-11T09:15:37.652Z"
   },
   {
    "duration": 16,
    "start_time": "2023-04-11T09:15:37.828Z"
   },
   {
    "duration": 29,
    "start_time": "2023-04-11T09:15:37.846Z"
   },
   {
    "duration": 489,
    "start_time": "2023-04-11T09:15:37.876Z"
   },
   {
    "duration": 148,
    "start_time": "2023-04-11T09:15:38.366Z"
   },
   {
    "duration": 9,
    "start_time": "2023-04-11T09:15:38.516Z"
   },
   {
    "duration": 27,
    "start_time": "2023-04-11T09:15:38.527Z"
   },
   {
    "duration": 207,
    "start_time": "2023-04-11T09:15:38.556Z"
   },
   {
    "duration": 108,
    "start_time": "2023-04-11T09:15:38.766Z"
   },
   {
    "duration": 11,
    "start_time": "2023-04-11T09:15:38.876Z"
   },
   {
    "duration": 27,
    "start_time": "2023-04-11T09:15:38.889Z"
   },
   {
    "duration": 16,
    "start_time": "2023-04-11T09:15:38.919Z"
   },
   {
    "duration": 9,
    "start_time": "2023-04-11T09:15:38.937Z"
   },
   {
    "duration": 29,
    "start_time": "2023-04-11T09:15:38.948Z"
   },
   {
    "duration": 37,
    "start_time": "2023-04-11T09:15:38.979Z"
   },
   {
    "duration": 12,
    "start_time": "2023-04-11T09:15:39.017Z"
   },
   {
    "duration": 14,
    "start_time": "2023-04-11T09:15:39.032Z"
   },
   {
    "duration": 102,
    "start_time": "2023-04-11T09:15:39.048Z"
   },
   {
    "duration": 6,
    "start_time": "2023-04-11T09:15:39.152Z"
   },
   {
    "duration": 13,
    "start_time": "2023-04-11T09:15:39.159Z"
   },
   {
    "duration": 100,
    "start_time": "2023-04-11T09:15:39.173Z"
   },
   {
    "duration": 0,
    "start_time": "2023-04-11T09:15:39.275Z"
   },
   {
    "duration": 0,
    "start_time": "2023-04-11T09:15:39.276Z"
   },
   {
    "duration": 0,
    "start_time": "2023-04-11T09:15:39.278Z"
   },
   {
    "duration": 0,
    "start_time": "2023-04-11T09:15:39.279Z"
   },
   {
    "duration": 0,
    "start_time": "2023-04-11T09:15:39.280Z"
   },
   {
    "duration": 0,
    "start_time": "2023-04-11T09:15:39.281Z"
   },
   {
    "duration": 0,
    "start_time": "2023-04-11T09:15:39.282Z"
   },
   {
    "duration": 0,
    "start_time": "2023-04-11T09:15:39.283Z"
   },
   {
    "duration": 0,
    "start_time": "2023-04-11T09:15:39.287Z"
   },
   {
    "duration": 0,
    "start_time": "2023-04-11T09:15:39.289Z"
   },
   {
    "duration": 0,
    "start_time": "2023-04-11T09:15:39.290Z"
   },
   {
    "duration": 0,
    "start_time": "2023-04-11T09:15:39.291Z"
   },
   {
    "duration": 0,
    "start_time": "2023-04-11T09:15:39.293Z"
   },
   {
    "duration": 0,
    "start_time": "2023-04-11T09:15:39.294Z"
   },
   {
    "duration": 0,
    "start_time": "2023-04-11T09:15:39.295Z"
   },
   {
    "duration": 0,
    "start_time": "2023-04-11T09:15:39.296Z"
   },
   {
    "duration": 0,
    "start_time": "2023-04-11T09:15:39.298Z"
   },
   {
    "duration": 0,
    "start_time": "2023-04-11T09:15:39.299Z"
   },
   {
    "duration": 0,
    "start_time": "2023-04-11T09:15:39.300Z"
   },
   {
    "duration": 0,
    "start_time": "2023-04-11T09:15:39.301Z"
   },
   {
    "duration": 0,
    "start_time": "2023-04-11T09:15:39.302Z"
   },
   {
    "duration": 0,
    "start_time": "2023-04-11T09:15:39.304Z"
   },
   {
    "duration": 0,
    "start_time": "2023-04-11T09:15:39.305Z"
   },
   {
    "duration": 0,
    "start_time": "2023-04-11T09:15:39.306Z"
   },
   {
    "duration": 0,
    "start_time": "2023-04-11T09:15:39.307Z"
   },
   {
    "duration": 0,
    "start_time": "2023-04-11T09:15:39.308Z"
   },
   {
    "duration": 0,
    "start_time": "2023-04-11T09:15:39.309Z"
   },
   {
    "duration": 0,
    "start_time": "2023-04-11T09:15:39.310Z"
   },
   {
    "duration": 0,
    "start_time": "2023-04-11T09:15:39.311Z"
   },
   {
    "duration": 0,
    "start_time": "2023-04-11T09:15:39.312Z"
   },
   {
    "duration": 10,
    "start_time": "2023-04-11T09:16:36.532Z"
   },
   {
    "duration": 8,
    "start_time": "2023-04-11T09:16:44.372Z"
   },
   {
    "duration": 29,
    "start_time": "2023-04-11T09:17:06.918Z"
   },
   {
    "duration": 24,
    "start_time": "2023-04-11T09:17:10.871Z"
   },
   {
    "duration": 15,
    "start_time": "2023-04-11T09:18:37.111Z"
   },
   {
    "duration": 3755,
    "start_time": "2023-04-11T09:19:13.819Z"
   },
   {
    "duration": 23,
    "start_time": "2023-04-11T09:19:25.994Z"
   },
   {
    "duration": 12,
    "start_time": "2023-04-11T09:21:08.359Z"
   },
   {
    "duration": 5,
    "start_time": "2023-04-11T09:21:21.194Z"
   },
   {
    "duration": 24,
    "start_time": "2023-04-11T09:21:30.281Z"
   },
   {
    "duration": 3,
    "start_time": "2023-04-11T09:21:51.759Z"
   },
   {
    "duration": 217,
    "start_time": "2023-04-11T09:21:52.937Z"
   },
   {
    "duration": 6,
    "start_time": "2023-04-11T09:22:20.318Z"
   },
   {
    "duration": 268,
    "start_time": "2023-04-11T09:22:21.472Z"
   },
   {
    "duration": 29,
    "start_time": "2023-04-11T09:22:31.799Z"
   },
   {
    "duration": 34,
    "start_time": "2023-04-11T09:22:36.539Z"
   },
   {
    "duration": 29,
    "start_time": "2023-04-11T09:22:41.559Z"
   },
   {
    "duration": 18,
    "start_time": "2023-04-11T09:24:18.382Z"
   },
   {
    "duration": 7,
    "start_time": "2023-04-11T09:24:22.719Z"
   },
   {
    "duration": 269,
    "start_time": "2023-04-11T09:24:56.058Z"
   },
   {
    "duration": 9,
    "start_time": "2023-04-11T09:24:58.457Z"
   },
   {
    "duration": 31,
    "start_time": "2023-04-11T09:25:42.882Z"
   },
   {
    "duration": 12,
    "start_time": "2023-04-11T09:25:43.951Z"
   },
   {
    "duration": 26,
    "start_time": "2023-04-11T09:27:20.391Z"
   },
   {
    "duration": 8,
    "start_time": "2023-04-11T09:27:21.706Z"
   },
   {
    "duration": 14,
    "start_time": "2023-04-11T09:28:33.684Z"
   },
   {
    "duration": 9,
    "start_time": "2023-04-11T09:28:34.481Z"
   },
   {
    "duration": 18,
    "start_time": "2023-04-11T09:29:43.638Z"
   },
   {
    "duration": 10,
    "start_time": "2023-04-11T09:29:50.109Z"
   },
   {
    "duration": 601,
    "start_time": "2023-04-11T09:31:14.471Z"
   },
   {
    "duration": 6,
    "start_time": "2023-04-11T09:31:20.416Z"
   },
   {
    "duration": 39,
    "start_time": "2023-04-11T09:31:22.306Z"
   },
   {
    "duration": 9,
    "start_time": "2023-04-11T09:31:26.631Z"
   },
   {
    "duration": 6,
    "start_time": "2023-04-11T09:31:29.632Z"
   },
   {
    "duration": 8,
    "start_time": "2023-04-11T09:31:32.478Z"
   },
   {
    "duration": 11,
    "start_time": "2023-04-11T09:31:33.511Z"
   },
   {
    "duration": 11,
    "start_time": "2023-04-11T09:31:35.538Z"
   },
   {
    "duration": 4,
    "start_time": "2023-04-11T09:31:38.626Z"
   },
   {
    "duration": 7,
    "start_time": "2023-04-11T09:31:40.121Z"
   },
   {
    "duration": 5,
    "start_time": "2023-04-11T09:31:42.378Z"
   },
   {
    "duration": 56,
    "start_time": "2023-04-11T09:31:44.404Z"
   },
   {
    "duration": 358,
    "start_time": "2023-04-11T09:31:49.056Z"
   },
   {
    "duration": 284,
    "start_time": "2023-04-11T09:31:57.226Z"
   },
   {
    "duration": 363,
    "start_time": "2023-04-11T09:32:02.070Z"
   },
   {
    "duration": 321,
    "start_time": "2023-04-11T09:32:04.230Z"
   },
   {
    "duration": 276,
    "start_time": "2023-04-11T09:32:15.409Z"
   },
   {
    "duration": 229,
    "start_time": "2023-04-11T09:32:18.870Z"
   },
   {
    "duration": 334,
    "start_time": "2023-04-11T09:32:35.758Z"
   },
   {
    "duration": 251,
    "start_time": "2023-04-11T09:32:40.950Z"
   },
   {
    "duration": 11,
    "start_time": "2023-04-11T09:42:21.008Z"
   },
   {
    "duration": 3,
    "start_time": "2023-04-11T09:42:25.740Z"
   },
   {
    "duration": 31,
    "start_time": "2023-04-11T09:42:26.660Z"
   },
   {
    "duration": 99,
    "start_time": "2023-04-11T09:43:35.022Z"
   },
   {
    "duration": 1602,
    "start_time": "2023-04-11T09:43:41.579Z"
   },
   {
    "duration": 5,
    "start_time": "2023-04-11T09:45:22.342Z"
   },
   {
    "duration": 5,
    "start_time": "2023-04-11T09:45:34.921Z"
   },
   {
    "duration": 1738,
    "start_time": "2023-04-11T09:46:40.595Z"
   },
   {
    "duration": 19,
    "start_time": "2023-04-11T09:47:32.938Z"
   },
   {
    "duration": 16,
    "start_time": "2023-04-11T09:49:08.759Z"
   },
   {
    "duration": 15,
    "start_time": "2023-04-11T09:51:07.818Z"
   },
   {
    "duration": 418,
    "start_time": "2023-04-11T09:51:15.912Z"
   },
   {
    "duration": 197,
    "start_time": "2023-04-11T09:51:16.332Z"
   },
   {
    "duration": 19,
    "start_time": "2023-04-11T09:51:16.532Z"
   },
   {
    "duration": 43,
    "start_time": "2023-04-11T09:51:16.554Z"
   },
   {
    "duration": 448,
    "start_time": "2023-04-11T09:51:16.599Z"
   },
   {
    "duration": 151,
    "start_time": "2023-04-11T09:51:17.049Z"
   },
   {
    "duration": 10,
    "start_time": "2023-04-11T09:51:17.202Z"
   },
   {
    "duration": 43,
    "start_time": "2023-04-11T09:51:17.214Z"
   },
   {
    "duration": 212,
    "start_time": "2023-04-11T09:51:17.259Z"
   },
   {
    "duration": 106,
    "start_time": "2023-04-11T09:51:17.474Z"
   },
   {
    "duration": 8,
    "start_time": "2023-04-11T09:51:17.582Z"
   },
   {
    "duration": 34,
    "start_time": "2023-04-11T09:51:17.592Z"
   },
   {
    "duration": 42,
    "start_time": "2023-04-11T09:51:17.628Z"
   },
   {
    "duration": 72,
    "start_time": "2023-04-11T09:51:17.672Z"
   },
   {
    "duration": 16,
    "start_time": "2023-04-11T09:51:17.746Z"
   },
   {
    "duration": 29,
    "start_time": "2023-04-11T09:51:17.764Z"
   },
   {
    "duration": 11,
    "start_time": "2023-04-11T09:51:17.795Z"
   },
   {
    "duration": 19,
    "start_time": "2023-04-11T09:51:17.808Z"
   },
   {
    "duration": 97,
    "start_time": "2023-04-11T09:51:17.829Z"
   },
   {
    "duration": 8,
    "start_time": "2023-04-11T09:51:17.928Z"
   },
   {
    "duration": 17,
    "start_time": "2023-04-11T09:51:17.938Z"
   },
   {
    "duration": 214,
    "start_time": "2023-04-11T09:51:17.957Z"
   },
   {
    "duration": 16,
    "start_time": "2023-04-11T09:51:18.173Z"
   },
   {
    "duration": 36,
    "start_time": "2023-04-11T09:51:18.191Z"
   },
   {
    "duration": 32,
    "start_time": "2023-04-11T09:51:18.229Z"
   },
   {
    "duration": 9,
    "start_time": "2023-04-11T09:51:18.263Z"
   },
   {
    "duration": 38,
    "start_time": "2023-04-11T09:51:18.274Z"
   },
   {
    "duration": 8,
    "start_time": "2023-04-11T09:51:18.317Z"
   },
   {
    "duration": 20,
    "start_time": "2023-04-11T09:51:18.327Z"
   },
   {
    "duration": 9,
    "start_time": "2023-04-11T09:51:18.349Z"
   },
   {
    "duration": 60,
    "start_time": "2023-04-11T09:51:18.360Z"
   },
   {
    "duration": 15,
    "start_time": "2023-04-11T09:51:18.422Z"
   },
   {
    "duration": 12,
    "start_time": "2023-04-11T09:51:18.439Z"
   },
   {
    "duration": 51,
    "start_time": "2023-04-11T09:51:18.452Z"
   },
   {
    "duration": 9,
    "start_time": "2023-04-11T09:51:18.505Z"
   },
   {
    "duration": 7,
    "start_time": "2023-04-11T09:51:18.516Z"
   },
   {
    "duration": 10,
    "start_time": "2023-04-11T09:51:18.525Z"
   },
   {
    "duration": 16,
    "start_time": "2023-04-11T09:51:18.537Z"
   },
   {
    "duration": 37,
    "start_time": "2023-04-11T09:51:18.555Z"
   },
   {
    "duration": 5,
    "start_time": "2023-04-11T09:51:18.595Z"
   },
   {
    "duration": 9,
    "start_time": "2023-04-11T09:51:18.602Z"
   },
   {
    "duration": 17,
    "start_time": "2023-04-11T09:51:18.613Z"
   },
   {
    "duration": 73,
    "start_time": "2023-04-11T09:51:18.632Z"
   },
   {
    "duration": 886,
    "start_time": "2023-04-11T09:51:18.707Z"
   },
   {
    "duration": 283,
    "start_time": "2023-04-11T09:51:19.595Z"
   },
   {
    "duration": 370,
    "start_time": "2023-04-11T09:51:19.880Z"
   },
   {
    "duration": 402,
    "start_time": "2023-04-11T09:51:20.253Z"
   },
   {
    "duration": 318,
    "start_time": "2023-04-11T09:51:20.657Z"
   },
   {
    "duration": 273,
    "start_time": "2023-04-11T09:51:20.978Z"
   },
   {
    "duration": 356,
    "start_time": "2023-04-11T09:51:21.254Z"
   },
   {
    "duration": 241,
    "start_time": "2023-04-11T09:51:21.612Z"
   },
   {
    "duration": 3,
    "start_time": "2023-04-11T09:51:21.856Z"
   },
   {
    "duration": 131,
    "start_time": "2023-04-11T09:51:21.860Z"
   },
   {
    "duration": 0,
    "start_time": "2023-04-11T09:51:21.993Z"
   },
   {
    "duration": 13,
    "start_time": "2023-04-11T09:52:13.438Z"
   },
   {
    "duration": 10,
    "start_time": "2023-04-11T09:52:46.038Z"
   },
   {
    "duration": 11,
    "start_time": "2023-04-11T09:54:37.198Z"
   }
  ],
  "celltoolbar": "Отсутствует",
  "colab": {
   "provenance": []
  },
  "kernelspec": {
   "display_name": "Python 3 (ipykernel)",
   "language": "python",
   "name": "python3"
  },
  "language_info": {
   "codemirror_mode": {
    "name": "ipython",
    "version": 3
   },
   "file_extension": ".py",
   "mimetype": "text/x-python",
   "name": "python",
   "nbconvert_exporter": "python",
   "pygments_lexer": "ipython3",
   "version": "3.9.18"
  },
  "toc": {
   "base_numbering": 1,
   "nav_menu": {},
   "number_sections": true,
   "sideBar": true,
   "skip_h1_title": true,
   "title_cell": "Содержание",
   "title_sidebar": "Contents",
   "toc_cell": true,
   "toc_position": {
    "height": "calc(100% - 180px)",
    "left": "10px",
    "top": "150px",
    "width": "383px"
   },
   "toc_section_display": true,
   "toc_window_display": false
  }
 },
 "nbformat": 4,
 "nbformat_minor": 1
}
