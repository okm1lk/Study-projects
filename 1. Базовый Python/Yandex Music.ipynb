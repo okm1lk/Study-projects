{
 "cells": [
  {
   "cell_type": "markdown",
   "metadata": {
    "id": "E0vqbgi9ay0H"
   },
   "source": [
    "# Яндекс.Музыка"
   ]
  },
  {
   "cell_type": "markdown",
   "metadata": {
    "id": "VUC88oWjTJw2"
   },
   "source": [
    "**Цель исследования** — проверить три гипотезы:\n",
    "1. Активность пользователей зависит от дня недели. Причём в Москве и Петербурге это проявляется по-разному.\n",
    "2. В понедельник утром в Москве преобладают одни жанры, а в Петербурге — другие. Так же и вечером пятницы преобладают разные жанры — в зависимости от города. \n",
    "3. Москва и Петербург предпочитают разные жанры музыки. В Москве чаще слушают поп-музыку, в Петербурге — русский рэп."
   ]
  },
  {
   "cell_type": "markdown",
   "metadata": {
    "toc": true
   },
   "source": [
    "<h1>Содержание<span class=\"tocSkip\"></span></h1>\n",
    "<div class=\"toc\"><ul class=\"toc-item\"><li><span><a href=\"#Обзор-данных\" data-toc-modified-id=\"Обзор-данных-1\"><span class=\"toc-item-num\">1&nbsp;&nbsp;</span>Обзор данных</a></span></li><li><span><a href=\"#Предобработка-данных\" data-toc-modified-id=\"Предобработка-данных-2\"><span class=\"toc-item-num\">2&nbsp;&nbsp;</span>Предобработка данных</a></span><ul class=\"toc-item\"><li><span><a href=\"#Стиль-заголовков\" data-toc-modified-id=\"Стиль-заголовков-2.1\"><span class=\"toc-item-num\">2.1&nbsp;&nbsp;</span>Стиль заголовков</a></span></li><li><span><a href=\"#Пропуски-значений\" data-toc-modified-id=\"Пропуски-значений-2.2\"><span class=\"toc-item-num\">2.2&nbsp;&nbsp;</span>Пропуски значений</a></span></li><li><span><a href=\"#Дубликаты\" data-toc-modified-id=\"Дубликаты-2.3\"><span class=\"toc-item-num\">2.3&nbsp;&nbsp;</span>Дубликаты</a></span></li></ul></li><li><span><a href=\"#Проверка-гипотез\" data-toc-modified-id=\"Проверка-гипотез-3\"><span class=\"toc-item-num\">3&nbsp;&nbsp;</span>Проверка гипотез</a></span><ul class=\"toc-item\"><li><span><a href=\"#Сравнение-поведения-пользователей-двух-столиц\" data-toc-modified-id=\"Сравнение-поведения-пользователей-двух-столиц-3.1\"><span class=\"toc-item-num\">3.1&nbsp;&nbsp;</span>Сравнение поведения пользователей двух столиц</a></span></li><li><span><a href=\"#Музыка-в-начале-и-в-конце-недели\" data-toc-modified-id=\"Музыка-в-начале-и-в-конце-недели-3.2\"><span class=\"toc-item-num\">3.2&nbsp;&nbsp;</span>Музыка в начале и в конце недели</a></span></li><li><span><a href=\"#Жанровые-предпочтения-в-Москве-и-Петербурге\" data-toc-modified-id=\"Жанровые-предпочтения-в-Москве-и-Петербурге-3.3\"><span class=\"toc-item-num\">3.3&nbsp;&nbsp;</span>Жанровые предпочтения в Москве и Петербурге</a></span></li></ul></li><li><span><a href=\"#Итоги-исследования\" data-toc-modified-id=\"Итоги-исследования-4\"><span class=\"toc-item-num\">4&nbsp;&nbsp;</span>Итоги исследования</a></span></li></ul></div>"
   ]
  },
  {
   "cell_type": "markdown",
   "metadata": {
    "id": "Ml1hmfXC_Zcs"
   },
   "source": [
    "## Обзор данных"
   ]
  },
  {
   "cell_type": "code",
   "execution_count": 1,
   "metadata": {
    "deletable": false,
    "id": "AXN7PHPN_Zcs"
   },
   "outputs": [],
   "source": [
    "import pandas as pd"
   ]
  },
  {
   "cell_type": "code",
   "execution_count": 2,
   "metadata": {
    "deletable": false,
    "id": "fFVu7vqh_Zct"
   },
   "outputs": [],
   "source": [
    "try:\n",
    "    df = pd.read_csv('/datasets/yandex_music_project.csv')\n",
    "except:\n",
    "    df = pd.read_csv('yandex_music_project.csv')"
   ]
  },
  {
   "cell_type": "code",
   "execution_count": 3,
   "metadata": {
    "deletable": false,
    "id": "oWTVX3gW_Zct"
   },
   "outputs": [
    {
     "data": {
      "text/html": [
       "<div>\n",
       "<style scoped>\n",
       "    .dataframe tbody tr th:only-of-type {\n",
       "        vertical-align: middle;\n",
       "    }\n",
       "\n",
       "    .dataframe tbody tr th {\n",
       "        vertical-align: top;\n",
       "    }\n",
       "\n",
       "    .dataframe thead th {\n",
       "        text-align: right;\n",
       "    }\n",
       "</style>\n",
       "<table border=\"1\" class=\"dataframe\">\n",
       "  <thead>\n",
       "    <tr style=\"text-align: right;\">\n",
       "      <th></th>\n",
       "      <th>userID</th>\n",
       "      <th>Track</th>\n",
       "      <th>artist</th>\n",
       "      <th>genre</th>\n",
       "      <th>City</th>\n",
       "      <th>time</th>\n",
       "      <th>Day</th>\n",
       "    </tr>\n",
       "  </thead>\n",
       "  <tbody>\n",
       "    <tr>\n",
       "      <th>0</th>\n",
       "      <td>FFB692EC</td>\n",
       "      <td>Kamigata To Boots</td>\n",
       "      <td>The Mass Missile</td>\n",
       "      <td>rock</td>\n",
       "      <td>Saint-Petersburg</td>\n",
       "      <td>20:28:33</td>\n",
       "      <td>Wednesday</td>\n",
       "    </tr>\n",
       "    <tr>\n",
       "      <th>1</th>\n",
       "      <td>55204538</td>\n",
       "      <td>Delayed Because of Accident</td>\n",
       "      <td>Andreas Rönnberg</td>\n",
       "      <td>rock</td>\n",
       "      <td>Moscow</td>\n",
       "      <td>14:07:09</td>\n",
       "      <td>Friday</td>\n",
       "    </tr>\n",
       "    <tr>\n",
       "      <th>2</th>\n",
       "      <td>20EC38</td>\n",
       "      <td>Funiculì funiculà</td>\n",
       "      <td>Mario Lanza</td>\n",
       "      <td>pop</td>\n",
       "      <td>Saint-Petersburg</td>\n",
       "      <td>20:58:07</td>\n",
       "      <td>Wednesday</td>\n",
       "    </tr>\n",
       "    <tr>\n",
       "      <th>3</th>\n",
       "      <td>A3DD03C9</td>\n",
       "      <td>Dragons in the Sunset</td>\n",
       "      <td>Fire + Ice</td>\n",
       "      <td>folk</td>\n",
       "      <td>Saint-Petersburg</td>\n",
       "      <td>08:37:09</td>\n",
       "      <td>Monday</td>\n",
       "    </tr>\n",
       "    <tr>\n",
       "      <th>4</th>\n",
       "      <td>E2DC1FAE</td>\n",
       "      <td>Soul People</td>\n",
       "      <td>Space Echo</td>\n",
       "      <td>dance</td>\n",
       "      <td>Moscow</td>\n",
       "      <td>08:34:34</td>\n",
       "      <td>Monday</td>\n",
       "    </tr>\n",
       "    <tr>\n",
       "      <th>5</th>\n",
       "      <td>842029A1</td>\n",
       "      <td>Преданная</td>\n",
       "      <td>IMPERVTOR</td>\n",
       "      <td>rusrap</td>\n",
       "      <td>Saint-Petersburg</td>\n",
       "      <td>13:09:41</td>\n",
       "      <td>Friday</td>\n",
       "    </tr>\n",
       "    <tr>\n",
       "      <th>6</th>\n",
       "      <td>4CB90AA5</td>\n",
       "      <td>True</td>\n",
       "      <td>Roman Messer</td>\n",
       "      <td>dance</td>\n",
       "      <td>Moscow</td>\n",
       "      <td>13:00:07</td>\n",
       "      <td>Wednesday</td>\n",
       "    </tr>\n",
       "    <tr>\n",
       "      <th>7</th>\n",
       "      <td>F03E1C1F</td>\n",
       "      <td>Feeling This Way</td>\n",
       "      <td>Polina Griffith</td>\n",
       "      <td>dance</td>\n",
       "      <td>Moscow</td>\n",
       "      <td>20:47:49</td>\n",
       "      <td>Wednesday</td>\n",
       "    </tr>\n",
       "    <tr>\n",
       "      <th>8</th>\n",
       "      <td>8FA1D3BE</td>\n",
       "      <td>И вновь продолжается бой</td>\n",
       "      <td>NaN</td>\n",
       "      <td>ruspop</td>\n",
       "      <td>Moscow</td>\n",
       "      <td>09:17:40</td>\n",
       "      <td>Friday</td>\n",
       "    </tr>\n",
       "    <tr>\n",
       "      <th>9</th>\n",
       "      <td>E772D5C0</td>\n",
       "      <td>Pessimist</td>\n",
       "      <td>NaN</td>\n",
       "      <td>dance</td>\n",
       "      <td>Saint-Petersburg</td>\n",
       "      <td>21:20:49</td>\n",
       "      <td>Wednesday</td>\n",
       "    </tr>\n",
       "  </tbody>\n",
       "</table>\n",
       "</div>"
      ],
      "text/plain": [
       "     userID                        Track            artist   genre  \\\n",
       "0  FFB692EC            Kamigata To Boots  The Mass Missile    rock   \n",
       "1  55204538  Delayed Because of Accident  Andreas Rönnberg    rock   \n",
       "2    20EC38            Funiculì funiculà       Mario Lanza     pop   \n",
       "3  A3DD03C9        Dragons in the Sunset        Fire + Ice    folk   \n",
       "4  E2DC1FAE                  Soul People        Space Echo   dance   \n",
       "5  842029A1                    Преданная         IMPERVTOR  rusrap   \n",
       "6  4CB90AA5                         True      Roman Messer   dance   \n",
       "7  F03E1C1F             Feeling This Way   Polina Griffith   dance   \n",
       "8  8FA1D3BE     И вновь продолжается бой               NaN  ruspop   \n",
       "9  E772D5C0                    Pessimist               NaN   dance   \n",
       "\n",
       "             City        time        Day  \n",
       "0  Saint-Petersburg  20:28:33  Wednesday  \n",
       "1            Moscow  14:07:09     Friday  \n",
       "2  Saint-Petersburg  20:58:07  Wednesday  \n",
       "3  Saint-Petersburg  08:37:09     Monday  \n",
       "4            Moscow  08:34:34     Monday  \n",
       "5  Saint-Petersburg  13:09:41     Friday  \n",
       "6            Moscow  13:00:07  Wednesday  \n",
       "7            Moscow  20:47:49  Wednesday  \n",
       "8            Moscow  09:17:40     Friday  \n",
       "9  Saint-Petersburg  21:20:49  Wednesday  "
      ]
     },
     "execution_count": 3,
     "metadata": {},
     "output_type": "execute_result"
    }
   ],
   "source": [
    "df.head(10)"
   ]
  },
  {
   "cell_type": "code",
   "execution_count": 4,
   "metadata": {
    "deletable": false,
    "id": "DSf2kIb-_Zct"
   },
   "outputs": [
    {
     "name": "stdout",
     "output_type": "stream",
     "text": [
      "<class 'pandas.core.frame.DataFrame'>\n",
      "RangeIndex: 65079 entries, 0 to 65078\n",
      "Data columns (total 7 columns):\n",
      " #   Column    Non-Null Count  Dtype \n",
      "---  ------    --------------  ----- \n",
      " 0     userID  65079 non-null  object\n",
      " 1   Track     63848 non-null  object\n",
      " 2   artist    57876 non-null  object\n",
      " 3   genre     63881 non-null  object\n",
      " 4     City    65079 non-null  object\n",
      " 5   time      65079 non-null  object\n",
      " 6   Day       65079 non-null  object\n",
      "dtypes: object(7)\n",
      "memory usage: 3.5+ MB\n"
     ]
    }
   ],
   "source": [
    "df.info() # получение общей информации о данных в таблице df"
   ]
  },
  {
   "cell_type": "markdown",
   "metadata": {
    "deletable": false,
    "editable": false,
    "id": "TaQ2Iwbr_Zct"
   },
   "source": [
    "Итак, в таблице семь столбцов. Тип данных во всех столбцах — `object`.\n",
    "\n",
    "Согласно документации к данным:\n",
    "* `userID` — идентификатор пользователя;\n",
    "* `Track` — название трека;  \n",
    "* `artist` — имя исполнителя;\n",
    "* `genre` — название жанра;\n",
    "* `City` — город пользователя;\n",
    "* `time` — время начала прослушивания;\n",
    "* `Day` — день недели.\n",
    "\n",
    "Количество значений в столбцах различается. Значит, в данных есть пропущенные значения."
   ]
  },
  {
   "cell_type": "markdown",
   "metadata": {
    "deletable": false,
    "editable": false,
    "id": "MCB6-dXG_Zct"
   },
   "source": [
    "**Выводы**\n",
    "\n",
    "В каждой строке таблицы — данные о прослушанном треке. Часть колонок описывает саму композицию: название, исполнителя и жанр. Остальные данные рассказывают о пользователе: из какого он города, когда он слушал музыку. \n",
    "\n",
    "Предварительно можно утверждать, что, данных достаточно для проверки гипотез. Но встречаются пропуски в данных, а в названиях колонок — расхождения с хорошим стилем.\n",
    "\n",
    "Чтобы двигаться дальше, нужно устранить проблемы в данных."
   ]
  },
  {
   "cell_type": "markdown",
   "metadata": {
    "id": "SjYF6Ub9_Zct"
   },
   "source": [
    "## Предобработка данных"
   ]
  },
  {
   "cell_type": "markdown",
   "metadata": {
    "id": "dIaKXr29_Zct",
    "tags": [
     "start_task"
    ]
   },
   "source": [
    "### Стиль заголовков"
   ]
  },
  {
   "cell_type": "code",
   "execution_count": 5,
   "metadata": {
    "deletable": false,
    "id": "oKOTdF_Q_Zct"
   },
   "outputs": [
    {
     "data": {
      "text/plain": [
       "Index(['  userID', 'Track', 'artist', 'genre', '  City  ', 'time', 'Day'], dtype='object')"
      ]
     },
     "execution_count": 5,
     "metadata": {},
     "output_type": "execute_result"
    }
   ],
   "source": [
    "df.columns # перечень названий столбцов таблицы df"
   ]
  },
  {
   "cell_type": "code",
   "execution_count": 6,
   "metadata": {
    "deletable": false,
    "id": "ISlFqs5y_Zct"
   },
   "outputs": [],
   "source": [
    "df = df.rename(columns = {'  userID':'user_id', 'Track':'track', '  City  ':'city', 'Day':'day' }) # переименование столбцов"
   ]
  },
  {
   "cell_type": "code",
   "execution_count": 7,
   "metadata": {
    "deletable": false,
    "id": "d4NOAmTW_Zct"
   },
   "outputs": [
    {
     "data": {
      "text/plain": [
       "Index(['user_id', 'track', 'artist', 'genre', 'city', 'time', 'day'], dtype='object')"
      ]
     },
     "execution_count": 7,
     "metadata": {},
     "output_type": "execute_result"
    }
   ],
   "source": [
    "df.columns # проверка результатов - перечень названий столбцов"
   ]
  },
  {
   "cell_type": "markdown",
   "metadata": {
    "id": "5ISfbcfY_Zct",
    "tags": [
     "start_task"
    ]
   },
   "source": [
    "### Пропуски значений"
   ]
  },
  {
   "cell_type": "code",
   "execution_count": 8,
   "metadata": {
    "deletable": false,
    "id": "RskX29qr_Zct"
   },
   "outputs": [
    {
     "data": {
      "text/plain": [
       "user_id       0\n",
       "track      1231\n",
       "artist     7203\n",
       "genre      1198\n",
       "city          0\n",
       "time          0\n",
       "day           0\n",
       "dtype: int64"
      ]
     },
     "execution_count": 8,
     "metadata": {},
     "output_type": "execute_result"
    }
   ],
   "source": [
    "df.isna().sum() # подсчёт пропусков"
   ]
  },
  {
   "cell_type": "markdown",
   "metadata": {
    "id": "qubhgnlO_Zct"
   },
   "source": [
    "Не все пропущенные значения влияют на исследование. Так в `track` и `artist` пропуски не важны для этой работы. Достаточно заменить их явными обозначениями.\n",
    "\n",
    "Но пропуски в `genre` могут помешать сравнению музыкальных вкусов в Москве и Санкт-Петербурге. На практике было бы правильно установить причину пропусков и восстановить данные. Такой возможности нет в учебном проекте. Придётся:\n",
    "* заполнить и эти пропуски явными обозначениями,\n",
    "* оценить, насколько они повредят расчётам. "
   ]
  },
  {
   "cell_type": "code",
   "execution_count": 9,
   "metadata": {
    "deletable": false,
    "id": "KplB5qWs_Zct"
   },
   "outputs": [],
   "source": [
    "columns_to_replace = ['track', 'artist', 'genre'] # перебор названий столбцов в цикле и замена пропущенных значений на 'unknown'\n",
    "for column in columns_to_replace:\n",
    "    df[column] = df[column].fillna('unknown')\n",
    "    "
   ]
  },
  {
   "cell_type": "code",
   "execution_count": 10,
   "metadata": {
    "deletable": false,
    "id": "Tq4nYRX4_Zct"
   },
   "outputs": [
    {
     "data": {
      "text/plain": [
       "user_id    0\n",
       "track      0\n",
       "artist     0\n",
       "genre      0\n",
       "city       0\n",
       "time       0\n",
       "day        0\n",
       "dtype: int64"
      ]
     },
     "execution_count": 10,
     "metadata": {},
     "output_type": "execute_result"
    }
   ],
   "source": [
    "df.isna().sum() # подсчёт пропусков"
   ]
  },
  {
   "cell_type": "markdown",
   "metadata": {
    "id": "BWKRtBJ3_Zct",
    "tags": [
     "start_task"
    ]
   },
   "source": [
    "### Дубликаты"
   ]
  },
  {
   "cell_type": "code",
   "execution_count": 11,
   "metadata": {
    "deletable": false,
    "id": "36eES_S0_Zct"
   },
   "outputs": [
    {
     "data": {
      "text/plain": [
       "3826"
      ]
     },
     "execution_count": 11,
     "metadata": {},
     "output_type": "execute_result"
    }
   ],
   "source": [
    "df.duplicated().sum() # подсчёт явных дубликатов"
   ]
  },
  {
   "cell_type": "code",
   "execution_count": 12,
   "metadata": {
    "deletable": false,
    "id": "exFHq6tt_Zct"
   },
   "outputs": [],
   "source": [
    "df = df.drop_duplicates() # удаление явных дубликатов"
   ]
  },
  {
   "cell_type": "code",
   "execution_count": 13,
   "metadata": {
    "deletable": false,
    "id": "-8PuNWQ0_Zct"
   },
   "outputs": [
    {
     "data": {
      "text/plain": [
       "0"
      ]
     },
     "execution_count": 13,
     "metadata": {},
     "output_type": "execute_result"
    }
   ],
   "source": [
    "df.duplicated().sum() # проверка на отсутствие дубликатов"
   ]
  },
  {
   "cell_type": "markdown",
   "metadata": {
    "id": "QlFBsxAr_Zct"
   },
   "source": [
    "Теперь необходимо избавится от неявных дубликатов в колонке `genre`. Например, название одного и того же жанра может быть записано немного по-разному. Такие ошибки повлияют на результат исследования."
   ]
  },
  {
   "cell_type": "code",
   "execution_count": 14,
   "metadata": {
    "deletable": false,
    "id": "JIUcqzZN_Zct"
   },
   "outputs": [
    {
     "data": {
      "text/plain": [
       "array(['acid', 'acoustic', 'action', 'adult', 'africa', 'afrikaans',\n",
       "       'alternative', 'alternativepunk', 'ambient', 'americana',\n",
       "       'animated', 'anime', 'arabesk', 'arabic', 'arena',\n",
       "       'argentinetango', 'art', 'audiobook', 'author', 'avantgarde',\n",
       "       'axé', 'baile', 'balkan', 'beats', 'bigroom', 'black', 'bluegrass',\n",
       "       'blues', 'bollywood', 'bossa', 'brazilian', 'breakbeat', 'breaks',\n",
       "       'broadway', 'cantautori', 'cantopop', 'canzone', 'caribbean',\n",
       "       'caucasian', 'celtic', 'chamber', 'chanson', 'children', 'chill',\n",
       "       'chinese', 'choral', 'christian', 'christmas', 'classical',\n",
       "       'classicmetal', 'club', 'colombian', 'comedy', 'conjazz',\n",
       "       'contemporary', 'country', 'cuban', 'dance', 'dancehall',\n",
       "       'dancepop', 'dark', 'death', 'deep', 'deutschrock', 'deutschspr',\n",
       "       'dirty', 'disco', 'dnb', 'documentary', 'downbeat', 'downtempo',\n",
       "       'drum', 'dub', 'dubstep', 'eastern', 'easy', 'electronic',\n",
       "       'electropop', 'emo', 'entehno', 'epicmetal', 'estrada', 'ethnic',\n",
       "       'eurofolk', 'european', 'experimental', 'extrememetal', 'fado',\n",
       "       'fairytail', 'film', 'fitness', 'flamenco', 'folk', 'folklore',\n",
       "       'folkmetal', 'folkrock', 'folktronica', 'forró', 'frankreich',\n",
       "       'französisch', 'french', 'funk', 'future', 'gangsta', 'garage',\n",
       "       'german', 'ghazal', 'gitarre', 'glitch', 'gospel', 'gothic',\n",
       "       'grime', 'grunge', 'gypsy', 'handsup', \"hard'n'heavy\", 'hardcore',\n",
       "       'hardstyle', 'hardtechno', 'hip', 'hip-hop', 'hiphop',\n",
       "       'historisch', 'holiday', 'hop', 'horror', 'house', 'hymn', 'idm',\n",
       "       'independent', 'indian', 'indie', 'indipop', 'industrial',\n",
       "       'inspirational', 'instrumental', 'international', 'irish', 'jam',\n",
       "       'japanese', 'jazz', 'jewish', 'jpop', 'jungle', 'k-pop',\n",
       "       'karadeniz', 'karaoke', 'kayokyoku', 'korean', 'laiko', 'latin',\n",
       "       'latino', 'leftfield', 'local', 'lounge', 'loungeelectronic',\n",
       "       'lovers', 'malaysian', 'mandopop', 'marschmusik', 'meditative',\n",
       "       'mediterranean', 'melodic', 'metal', 'metalcore', 'mexican',\n",
       "       'middle', 'minimal', 'miscellaneous', 'modern', 'mood', 'mpb',\n",
       "       'muslim', 'native', 'neoklassik', 'neue', 'new', 'newage',\n",
       "       'newwave', 'nu', 'nujazz', 'numetal', 'oceania', 'old', 'opera',\n",
       "       'orchestral', 'other', 'piano', 'podcasts', 'pop', 'popdance',\n",
       "       'popelectronic', 'popeurodance', 'poprussian', 'post',\n",
       "       'posthardcore', 'postrock', 'power', 'progmetal', 'progressive',\n",
       "       'psychedelic', 'punjabi', 'punk', 'quebecois', 'ragga', 'ram',\n",
       "       'rancheras', 'rap', 'rave', 'reggae', 'reggaeton', 'regional',\n",
       "       'relax', 'religious', 'retro', 'rhythm', 'rnb', 'rnr', 'rock',\n",
       "       'rockabilly', 'rockalternative', 'rockindie', 'rockother',\n",
       "       'romance', 'roots', 'ruspop', 'rusrap', 'rusrock', 'russian',\n",
       "       'salsa', 'samba', 'scenic', 'schlager', 'self', 'sertanejo',\n",
       "       'shanson', 'shoegazing', 'showtunes', 'singer', 'ska', 'skarock',\n",
       "       'slow', 'smooth', 'soft', 'soul', 'soulful', 'sound', 'soundtrack',\n",
       "       'southern', 'specialty', 'speech', 'spiritual', 'sport',\n",
       "       'stonerrock', 'surf', 'swing', 'synthpop', 'synthrock',\n",
       "       'sängerportrait', 'tango', 'tanzorchester', 'taraftar', 'tatar',\n",
       "       'tech', 'techno', 'teen', 'thrash', 'top', 'traditional',\n",
       "       'tradjazz', 'trance', 'tribal', 'trip', 'triphop', 'tropical',\n",
       "       'türk', 'türkçe', 'ukrrock', 'unknown', 'urban', 'uzbek',\n",
       "       'variété', 'vi', 'videogame', 'vocal', 'western', 'world',\n",
       "       'worldbeat', 'ïîï', 'электроника'], dtype=object)"
      ]
     },
     "execution_count": 14,
     "metadata": {},
     "output_type": "execute_result"
    }
   ],
   "source": [
    "df_genre = df['genre'] # Просмотр уникальных названий жанров\n",
    "df_genre = df_genre.sort_values()\n",
    "df_genre = df_genre.unique()\n",
    "df_genre"
   ]
  },
  {
   "cell_type": "code",
   "execution_count": 15,
   "metadata": {
    "deletable": false,
    "id": "ErNDkmns_Zct"
   },
   "outputs": [],
   "source": [
    "# Устранение неявных дубликатов\n",
    "duplicates = ['hip-hop', 'hip', 'hop'] \n",
    "genre = 'hiphop'\n",
    "\n",
    "df['genre'] = df['genre'].replace(duplicates, genre)\n",
    "\n",
    "df['genre'] = df['genre'].replace('электроника', 'electronic')"
   ]
  },
  {
   "cell_type": "code",
   "execution_count": 16,
   "metadata": {
    "deletable": false,
    "id": "wvixALnFG15m"
   },
   "outputs": [
    {
     "data": {
      "text/plain": [
       "array(['acid', 'acoustic', 'action', 'adult', 'africa', 'afrikaans',\n",
       "       'alternative', 'alternativepunk', 'ambient', 'americana',\n",
       "       'animated', 'anime', 'arabesk', 'arabic', 'arena',\n",
       "       'argentinetango', 'art', 'audiobook', 'author', 'avantgarde',\n",
       "       'axé', 'baile', 'balkan', 'beats', 'bigroom', 'black', 'bluegrass',\n",
       "       'blues', 'bollywood', 'bossa', 'brazilian', 'breakbeat', 'breaks',\n",
       "       'broadway', 'cantautori', 'cantopop', 'canzone', 'caribbean',\n",
       "       'caucasian', 'celtic', 'chamber', 'chanson', 'children', 'chill',\n",
       "       'chinese', 'choral', 'christian', 'christmas', 'classical',\n",
       "       'classicmetal', 'club', 'colombian', 'comedy', 'conjazz',\n",
       "       'contemporary', 'country', 'cuban', 'dance', 'dancehall',\n",
       "       'dancepop', 'dark', 'death', 'deep', 'deutschrock', 'deutschspr',\n",
       "       'dirty', 'disco', 'dnb', 'documentary', 'downbeat', 'downtempo',\n",
       "       'drum', 'dub', 'dubstep', 'eastern', 'easy', 'electronic',\n",
       "       'electropop', 'emo', 'entehno', 'epicmetal', 'estrada', 'ethnic',\n",
       "       'eurofolk', 'european', 'experimental', 'extrememetal', 'fado',\n",
       "       'fairytail', 'film', 'fitness', 'flamenco', 'folk', 'folklore',\n",
       "       'folkmetal', 'folkrock', 'folktronica', 'forró', 'frankreich',\n",
       "       'französisch', 'french', 'funk', 'future', 'gangsta', 'garage',\n",
       "       'german', 'ghazal', 'gitarre', 'glitch', 'gospel', 'gothic',\n",
       "       'grime', 'grunge', 'gypsy', 'handsup', \"hard'n'heavy\", 'hardcore',\n",
       "       'hardstyle', 'hardtechno', 'hiphop', 'historisch', 'holiday',\n",
       "       'horror', 'house', 'hymn', 'idm', 'independent', 'indian', 'indie',\n",
       "       'indipop', 'industrial', 'inspirational', 'instrumental',\n",
       "       'international', 'irish', 'jam', 'japanese', 'jazz', 'jewish',\n",
       "       'jpop', 'jungle', 'k-pop', 'karadeniz', 'karaoke', 'kayokyoku',\n",
       "       'korean', 'laiko', 'latin', 'latino', 'leftfield', 'local',\n",
       "       'lounge', 'loungeelectronic', 'lovers', 'malaysian', 'mandopop',\n",
       "       'marschmusik', 'meditative', 'mediterranean', 'melodic', 'metal',\n",
       "       'metalcore', 'mexican', 'middle', 'minimal', 'miscellaneous',\n",
       "       'modern', 'mood', 'mpb', 'muslim', 'native', 'neoklassik', 'neue',\n",
       "       'new', 'newage', 'newwave', 'nu', 'nujazz', 'numetal', 'oceania',\n",
       "       'old', 'opera', 'orchestral', 'other', 'piano', 'podcasts', 'pop',\n",
       "       'popdance', 'popelectronic', 'popeurodance', 'poprussian', 'post',\n",
       "       'posthardcore', 'postrock', 'power', 'progmetal', 'progressive',\n",
       "       'psychedelic', 'punjabi', 'punk', 'quebecois', 'ragga', 'ram',\n",
       "       'rancheras', 'rap', 'rave', 'reggae', 'reggaeton', 'regional',\n",
       "       'relax', 'religious', 'retro', 'rhythm', 'rnb', 'rnr', 'rock',\n",
       "       'rockabilly', 'rockalternative', 'rockindie', 'rockother',\n",
       "       'romance', 'roots', 'ruspop', 'rusrap', 'rusrock', 'russian',\n",
       "       'salsa', 'samba', 'scenic', 'schlager', 'self', 'sertanejo',\n",
       "       'shanson', 'shoegazing', 'showtunes', 'singer', 'ska', 'skarock',\n",
       "       'slow', 'smooth', 'soft', 'soul', 'soulful', 'sound', 'soundtrack',\n",
       "       'southern', 'specialty', 'speech', 'spiritual', 'sport',\n",
       "       'stonerrock', 'surf', 'swing', 'synthpop', 'synthrock',\n",
       "       'sängerportrait', 'tango', 'tanzorchester', 'taraftar', 'tatar',\n",
       "       'tech', 'techno', 'teen', 'thrash', 'top', 'traditional',\n",
       "       'tradjazz', 'trance', 'tribal', 'trip', 'triphop', 'tropical',\n",
       "       'türk', 'türkçe', 'ukrrock', 'unknown', 'urban', 'uzbek',\n",
       "       'variété', 'vi', 'videogame', 'vocal', 'western', 'world',\n",
       "       'worldbeat', 'ïîï'], dtype=object)"
      ]
     },
     "execution_count": 16,
     "metadata": {},
     "output_type": "execute_result"
    }
   ],
   "source": [
    "# Проверка на неявные дубликаты\n",
    "df_genre = df['genre']\n",
    "df_genre = df_genre.sort_values()\n",
    "df_genre = df_genre.unique()\n",
    "df_genre"
   ]
  },
  {
   "cell_type": "markdown",
   "metadata": {
    "id": "jz6a9-7HQUDd"
   },
   "source": [
    "**Выводы**\n",
    "\n",
    "Предобработка обнаружила три проблемы в данных:\n",
    "\n",
    "- нарушения в стиле заголовков,\n",
    "- пропущенные значения,\n",
    "- дубликаты — явные и неявные.\n",
    "\n",
    "Я исправил заголовки, чтобы упростить работу с таблицей. Без дубликатов исследование станет более точным.\n",
    "\n",
    "Пропущенные значения заменил на `'unknown'`. Ещё предстоит увидеть, не повредят ли исследованию пропуски в колонке `genre`.\n",
    "\n",
    "Теперь можно перейти к проверке гипотез."
   ]
  },
  {
   "cell_type": "markdown",
   "metadata": {
    "deletable": false,
    "editable": false,
    "id": "WttZHXH0SqKk"
   },
   "source": [
    "## Проверка гипотез"
   ]
  },
  {
   "cell_type": "markdown",
   "metadata": {
    "deletable": false,
    "editable": false,
    "id": "Im936VVi_Zcu"
   },
   "source": [
    "### Сравнение поведения пользователей двух столиц"
   ]
  },
  {
   "cell_type": "markdown",
   "metadata": {
    "id": "nwt_MuaL_Zcu"
   },
   "source": [
    "Первая гипотеза утверждает, что пользователи по-разному слушают музыку в Москве и Санкт-Петербурге. Проверю это предположение по данным о трёх днях недели — понедельнике, среде и пятнице. Для этого:\n",
    "\n",
    "* Разделю пользователей Москвы и Санкт-Петербурга\n",
    "* Сравню, сколько треков послушала каждая группа пользователей в понедельник, среду и пятницу.\n"
   ]
  },
  {
   "cell_type": "code",
   "execution_count": 17,
   "metadata": {
    "deletable": false,
    "id": "0_Qs96oh_Zcu"
   },
   "outputs": [
    {
     "data": {
      "text/plain": [
       "city\n",
       "Moscow              42741\n",
       "Saint-Petersburg    18512\n",
       "Name: user_id, dtype: int64"
      ]
     },
     "execution_count": 17,
     "metadata": {},
     "output_type": "execute_result"
    }
   ],
   "source": [
    "df.groupby('city')['user_id'].count() # Подсчёт прослушиваний в каждом городе"
   ]
  },
  {
   "cell_type": "markdown",
   "metadata": {
    "id": "dzli3w8o_Zcu",
    "tags": [
     "start_task"
    ]
   },
   "source": [
    "В Москве прослушиваний больше, чем в Петербурге. Из этого не следует, что московские пользователи чаще слушают музыку. Просто самих пользователей в Москве больше."
   ]
  },
  {
   "cell_type": "code",
   "execution_count": 18,
   "metadata": {
    "deletable": false,
    "id": "uZMKjiJz_Zcu"
   },
   "outputs": [
    {
     "data": {
      "text/plain": [
       "day\n",
       "Friday       21840\n",
       "Monday       21354\n",
       "Wednesday    18059\n",
       "Name: user_id, dtype: int64"
      ]
     },
     "execution_count": 18,
     "metadata": {},
     "output_type": "execute_result"
    }
   ],
   "source": [
    "df.groupby('day')['user_id'].count() # Подсчёт прослушиваний в каждый из трёх дней"
   ]
  },
  {
   "cell_type": "markdown",
   "metadata": {
    "deletable": false,
    "editable": false,
    "id": "cC2tNrlL_Zcu"
   },
   "source": [
    "В среднем пользователи из двух городов менее активны по средам. Но картина может измениться, если рассмотреть каждый город в отдельности."
   ]
  },
  {
   "cell_type": "code",
   "execution_count": 19,
   "metadata": {
    "deletable": false,
    "id": "Nz3GdQB1_Zcu"
   },
   "outputs": [],
   "source": [
    "# Объявление функции nember_tracks с параметрами day, city,\n",
    "# которая возвращает количество прослушиваний для конкретного города и дня\n",
    "\n",
    "def number_tracks(day, city):\n",
    "    track_list = df[df['day'] == day]\n",
    "    track_list = track_list[track_list['city'] == city]\n",
    "    track_list_count = track_list['user_id'].count()\n",
    "    return track_list_count"
   ]
  },
  {
   "cell_type": "code",
   "execution_count": 20,
   "metadata": {
    "deletable": false,
    "id": "rJcRATNQ_Zcu"
   },
   "outputs": [
    {
     "data": {
      "text/plain": [
       "15740"
      ]
     },
     "execution_count": 20,
     "metadata": {},
     "output_type": "execute_result"
    }
   ],
   "source": [
    "number_tracks('Monday', 'Moscow') # количество прослушиваний в Москве по понедельникам"
   ]
  },
  {
   "cell_type": "code",
   "execution_count": 21,
   "metadata": {
    "deletable": false,
    "id": "hq_ncZ5T_Zcu"
   },
   "outputs": [
    {
     "data": {
      "text/plain": [
       "5614"
      ]
     },
     "execution_count": 21,
     "metadata": {},
     "output_type": "execute_result"
    }
   ],
   "source": [
    "number_tracks('Monday', 'Saint-Petersburg') # количество прослушиваний в Санкт-Петербурге по понедельникам"
   ]
  },
  {
   "cell_type": "code",
   "execution_count": 22,
   "metadata": {
    "deletable": false,
    "id": "_NTy2VPU_Zcu"
   },
   "outputs": [
    {
     "data": {
      "text/plain": [
       "11056"
      ]
     },
     "execution_count": 22,
     "metadata": {},
     "output_type": "execute_result"
    }
   ],
   "source": [
    "number_tracks('Wednesday', 'Moscow') # количество прослушиваний в Москве по средам"
   ]
  },
  {
   "cell_type": "code",
   "execution_count": 23,
   "metadata": {
    "deletable": false,
    "id": "j2y3TAwo_Zcu"
   },
   "outputs": [
    {
     "data": {
      "text/plain": [
       "7003"
      ]
     },
     "execution_count": 23,
     "metadata": {},
     "output_type": "execute_result"
    }
   ],
   "source": [
    "number_tracks('Wednesday', 'Saint-Petersburg') # количество прослушиваний в Санкт-Петербурге по средам"
   ]
  },
  {
   "cell_type": "code",
   "execution_count": 24,
   "metadata": {
    "deletable": false,
    "id": "vYDw5u_K_Zcu"
   },
   "outputs": [
    {
     "data": {
      "text/plain": [
       "15945"
      ]
     },
     "execution_count": 24,
     "metadata": {},
     "output_type": "execute_result"
    }
   ],
   "source": [
    "number_tracks('Friday', 'Moscow') # количество прослушиваний в Москве по пятницам"
   ]
  },
  {
   "cell_type": "code",
   "execution_count": 25,
   "metadata": {
    "deletable": false,
    "id": "8_yzFtW3_Zcu"
   },
   "outputs": [
    {
     "data": {
      "text/plain": [
       "5895"
      ]
     },
     "execution_count": 25,
     "metadata": {},
     "output_type": "execute_result"
    }
   ],
   "source": [
    "number_tracks('Friday', 'Saint-Petersburg') # количество прослушиваний в Санкт-Петербурге по пятницам"
   ]
  },
  {
   "cell_type": "code",
   "execution_count": 26,
   "metadata": {
    "deletable": false,
    "id": "APAcLpOr_Zcu"
   },
   "outputs": [
    {
     "data": {
      "text/html": [
       "<div>\n",
       "<style scoped>\n",
       "    .dataframe tbody tr th:only-of-type {\n",
       "        vertical-align: middle;\n",
       "    }\n",
       "\n",
       "    .dataframe tbody tr th {\n",
       "        vertical-align: top;\n",
       "    }\n",
       "\n",
       "    .dataframe thead th {\n",
       "        text-align: right;\n",
       "    }\n",
       "</style>\n",
       "<table border=\"1\" class=\"dataframe\">\n",
       "  <thead>\n",
       "    <tr style=\"text-align: right;\">\n",
       "      <th></th>\n",
       "      <th>city</th>\n",
       "      <th>monday</th>\n",
       "      <th>wednesday</th>\n",
       "      <th>friday</th>\n",
       "    </tr>\n",
       "  </thead>\n",
       "  <tbody>\n",
       "    <tr>\n",
       "      <th>0</th>\n",
       "      <td>Moscow</td>\n",
       "      <td>15740</td>\n",
       "      <td>11056</td>\n",
       "      <td>15945</td>\n",
       "    </tr>\n",
       "    <tr>\n",
       "      <th>1</th>\n",
       "      <td>Saint-Petersburg</td>\n",
       "      <td>5614</td>\n",
       "      <td>7003</td>\n",
       "      <td>5895</td>\n",
       "    </tr>\n",
       "  </tbody>\n",
       "</table>\n",
       "</div>"
      ],
      "text/plain": [
       "               city  monday  wednesday  friday\n",
       "0            Moscow   15740      11056   15945\n",
       "1  Saint-Petersburg    5614       7003    5895"
      ]
     },
     "execution_count": 26,
     "metadata": {},
     "output_type": "execute_result"
    }
   ],
   "source": [
    "# Таблица с результатами\n",
    "data = [\n",
    "    ['Moscow',\n",
    "     number_tracks('Monday', 'Moscow'),\n",
    "     number_tracks('Wednesday', 'Moscow'),\n",
    "     number_tracks('Friday', 'Moscow')],\n",
    "    ['Saint-Petersburg',\n",
    "     number_tracks('Monday', 'Saint-Petersburg'),\n",
    "     number_tracks('Wednesday', 'Saint-Petersburg'),\n",
    "     number_tracks('Friday', 'Saint-Petersburg')]\n",
    "       ]\n",
    "\n",
    "columns = ['city', 'monday', 'wednesday', 'friday']\n",
    "info = pd.DataFrame(data=data, columns=columns)\n",
    "info"
   ]
  },
  {
   "cell_type": "markdown",
   "metadata": {
    "deletable": false,
    "editable": false,
    "id": "-EgPIHYu_Zcu"
   },
   "source": [
    "**Выводы**\n",
    "\n",
    "Данные показывают разницу поведения пользователей:\n",
    "\n",
    "- В Москве пик прослушиваний приходится на понедельник и пятницу, а в среду заметен спад.\n",
    "- В Петербурге, наоборот, больше слушают музыку по средам. Активность в понедельник и пятницу здесь почти в равной мере уступает среде.\n",
    "\n",
    "Значит, данные говорят в пользу первой гипотезы."
   ]
  },
  {
   "cell_type": "markdown",
   "metadata": {
    "deletable": false,
    "editable": false,
    "id": "atZAxtq4_Zcu"
   },
   "source": [
    "### Музыка в начале и в конце недели"
   ]
  },
  {
   "cell_type": "markdown",
   "metadata": {
    "deletable": false,
    "editable": false,
    "id": "eXrQqXFH_Zcu"
   },
   "source": [
    "Согласно второй гипотезе, утром в понедельник в Москве преобладают одни жанры, а в Петербурге — другие. Так же и вечером пятницы преобладают разные жанры — в зависимости от города."
   ]
  },
  {
   "cell_type": "code",
   "execution_count": 27,
   "metadata": {
    "deletable": false,
    "id": "qeaFfM_P_Zcu"
   },
   "outputs": [],
   "source": [
    "# получение таблицы moscow_general из тех строк таблицы df, \n",
    "# для которых значение в столбце 'city' равно 'Moscow'\n",
    "moscow_general = df[df['city'] == 'Moscow']"
   ]
  },
  {
   "cell_type": "code",
   "execution_count": 28,
   "metadata": {
    "deletable": false,
    "id": "ORaVRKto_Zcu"
   },
   "outputs": [],
   "source": [
    "# получение таблицы spb_general из тех строк таблицы df,\n",
    "# для которых значение в столбце 'city' равно 'Saint-Petersburg'\n",
    "spb_general = df[df['city'] == 'Saint-Petersburg']\n"
   ]
  },
  {
   "cell_type": "code",
   "execution_count": 29,
   "metadata": {
    "deletable": false,
    "id": "laJT9BYl_Zcu"
   },
   "outputs": [],
   "source": [
    "# Объявление функции genre_weekday() с параметрами table, day, time1, time2,\n",
    "# которая возвращает информацию о самых популярных жанрах в указанный день в\n",
    "# заданное время:\n",
    "def genre_weekday(df, day, time1, time2):\n",
    "    genre_df = df[df['day'] == day]\n",
    "    genre_df = genre_df[genre_df['time'] < time2]\n",
    "    genre_df = genre_df[genre_df['time'] > time1]\n",
    "    genre_df_grouped = genre_df.groupby('genre')['genre'].count()\n",
    "    genre_df_sorted = genre_df_grouped.sort_values(ascending = False)\n",
    "    return genre_df_sorted[:10]\n",
    "    \n",
    "    "
   ]
  },
  {
   "cell_type": "code",
   "execution_count": 30,
   "metadata": {
    "deletable": false,
    "id": "yz7itPUQ_Zcu"
   },
   "outputs": [
    {
     "data": {
      "text/plain": [
       "genre\n",
       "pop            781\n",
       "dance          549\n",
       "electronic     480\n",
       "rock           474\n",
       "hiphop         286\n",
       "ruspop         186\n",
       "world          181\n",
       "rusrap         175\n",
       "alternative    164\n",
       "unknown        161\n",
       "Name: genre, dtype: int64"
      ]
     },
     "execution_count": 30,
     "metadata": {},
     "output_type": "execute_result"
    }
   ],
   "source": [
    "# вызов функции для утра понедельника в Москве\n",
    "genre_weekday(moscow_general, 'Monday', '07:00', '11:00')"
   ]
  },
  {
   "cell_type": "code",
   "execution_count": 31,
   "metadata": {
    "deletable": false,
    "id": "kwUcHPdy_Zcu"
   },
   "outputs": [
    {
     "data": {
      "text/plain": [
       "genre\n",
       "pop            218\n",
       "dance          182\n",
       "rock           162\n",
       "electronic     147\n",
       "hiphop          80\n",
       "ruspop          64\n",
       "alternative     58\n",
       "rusrap          55\n",
       "jazz            44\n",
       "classical       40\n",
       "Name: genre, dtype: int64"
      ]
     },
     "execution_count": 31,
     "metadata": {},
     "output_type": "execute_result"
    }
   ],
   "source": [
    "# вызов функции для утра понедельника в Петербурге\n",
    "genre_weekday(spb_general, 'Monday', '07:00', '11:00')"
   ]
  },
  {
   "cell_type": "code",
   "execution_count": 32,
   "metadata": {
    "deletable": false,
    "id": "EzXVRE1o_Zcu"
   },
   "outputs": [
    {
     "data": {
      "text/plain": [
       "genre\n",
       "pop            713\n",
       "rock           517\n",
       "dance          495\n",
       "electronic     482\n",
       "hiphop         273\n",
       "world          208\n",
       "ruspop         170\n",
       "alternative    163\n",
       "classical      163\n",
       "rusrap         142\n",
       "Name: genre, dtype: int64"
      ]
     },
     "execution_count": 32,
     "metadata": {},
     "output_type": "execute_result"
    }
   ],
   "source": [
    "# вызов функции для вечера пятницы в Москве\n",
    "genre_weekday(moscow_general, 'Friday', '17:00', '23:00')"
   ]
  },
  {
   "cell_type": "code",
   "execution_count": 33,
   "metadata": {
    "deletable": false,
    "id": "JZaEKu5v_Zcu"
   },
   "outputs": [
    {
     "data": {
      "text/plain": [
       "genre\n",
       "pop            256\n",
       "electronic     216\n",
       "rock           216\n",
       "dance          210\n",
       "hiphop          97\n",
       "alternative     63\n",
       "jazz            61\n",
       "classical       60\n",
       "rusrap          59\n",
       "world           54\n",
       "Name: genre, dtype: int64"
      ]
     },
     "execution_count": 33,
     "metadata": {},
     "output_type": "execute_result"
    }
   ],
   "source": [
    "# вызов функции для вечера пятницы в Петербурге\n",
    "genre_weekday(spb_general, 'Friday', '17:00', '23:00')"
   ]
  },
  {
   "cell_type": "markdown",
   "metadata": {
    "deletable": false,
    "editable": false,
    "id": "wrCe4MNX_Zcu"
   },
   "source": [
    "**Выводы**\n",
    "\n",
    "Если сравнить топ-10 жанров в понедельник утром, можно сделать такие выводы:\n",
    "\n",
    "1. В Москве и Петербурге слушают похожую музыку. Единственное отличие — в московский рейтинг вошёл жанр “world”, а в петербургский — джаз и классика.\n",
    "\n",
    "2. В Москве пропущенных значений оказалось так много, что значение `'unknown'` заняло десятое место среди самых популярных жанров. Значит, пропущенные значения занимают существенную долю в данных и угрожают достоверности исследования.\n",
    "\n",
    "Вечер пятницы не меняет эту картину. Некоторые жанры поднимаются немного выше, другие спускаются, но в целом топ-10 остаётся тем же самым.\n",
    "\n",
    "Таким образом, вторая гипотеза подтвердилась лишь частично:\n",
    "* Пользователи слушают похожую музыку в начале недели и в конце.\n",
    "* Разница между Москвой и Петербургом не слишком выражена. В Москве чаще слушают русскую популярную музыку, в Петербурге — джаз.\n",
    "\n",
    "Однако пропуски в данных ставят под сомнение этот результат. В Москве их так много, что рейтинг топ-10 мог бы выглядеть иначе, если бы не утерянные  данные о жанрах."
   ]
  },
  {
   "cell_type": "markdown",
   "metadata": {
    "deletable": false,
    "editable": false,
    "id": "JolODAqr_Zcu"
   },
   "source": [
    "### Жанровые предпочтения в Москве и Петербурге\n",
    "\n",
    "Гипотеза: Петербург — столица рэпа, музыку этого жанра там слушают чаще, чем в Москве.  А Москва — город контрастов, в котором, тем не менее, преобладает поп-музыка."
   ]
  },
  {
   "cell_type": "code",
   "execution_count": 34,
   "metadata": {
    "deletable": false,
    "id": "r19lIPke_Zcu"
   },
   "outputs": [],
   "source": [
    "moscow_genres = moscow_general.groupby('genre')['genre'].count().sort_values(ascending=False)"
   ]
  },
  {
   "cell_type": "code",
   "execution_count": 35,
   "metadata": {
    "deletable": false,
    "id": "WhCSooF8_Zcv"
   },
   "outputs": [
    {
     "data": {
      "text/plain": [
       "genre\n",
       "pop            5892\n",
       "dance          4435\n",
       "rock           3965\n",
       "electronic     3786\n",
       "hiphop         2096\n",
       "classical      1616\n",
       "world          1432\n",
       "alternative    1379\n",
       "ruspop         1372\n",
       "rusrap         1161\n",
       "Name: genre, dtype: int64"
      ]
     },
     "execution_count": 35,
     "metadata": {},
     "output_type": "execute_result"
    }
   ],
   "source": [
    "moscow_genres.head(10)"
   ]
  },
  {
   "cell_type": "code",
   "execution_count": 36,
   "metadata": {
    "deletable": false,
    "id": "gluLIpE7_Zcv"
   },
   "outputs": [],
   "source": [
    "spb_genres = spb_general.groupby('genre')['genre'].count().sort_values(ascending=False)"
   ]
  },
  {
   "cell_type": "code",
   "execution_count": 37,
   "metadata": {
    "deletable": false,
    "id": "uaGJHjVU_Zcv"
   },
   "outputs": [
    {
     "data": {
      "text/plain": [
       "genre\n",
       "pop            2431\n",
       "dance          1932\n",
       "rock           1879\n",
       "electronic     1737\n",
       "hiphop          960\n",
       "alternative     649\n",
       "classical       646\n",
       "rusrap          564\n",
       "ruspop          538\n",
       "world           515\n",
       "Name: genre, dtype: int64"
      ]
     },
     "execution_count": 37,
     "metadata": {},
     "output_type": "execute_result"
    }
   ],
   "source": [
    "spb_genres.head(10)"
   ]
  },
  {
   "cell_type": "markdown",
   "metadata": {
    "id": "nVhnJEm__Zcv"
   },
   "source": [
    "**Выводы**\n",
    "  \n",
    "Гипотеза частично подтвердилась:\n",
    "* Поп-музыка — самый популярный жанр в Москве, как и предполагала гипотеза. Более того, в топ-10 жанров встречается близкий жанр — русская популярная музыка.\n",
    "* Вопреки ожиданиям, рэп одинаково популярен в Москве и Петербурге. \n"
   ]
  },
  {
   "cell_type": "markdown",
   "metadata": {
    "deletable": false,
    "editable": false,
    "id": "ykKQ0N65_Zcv"
   },
   "source": [
    "## Итоги исследования"
   ]
  },
  {
   "cell_type": "markdown",
   "metadata": {
    "id": "tjUwbHb3_Zcv"
   },
   "source": [
    "Было проверено три гипотезы и установлено:\n",
    "\n",
    "1. День недели по-разному влияет на активность пользователей в Москве и Петербурге. \n",
    "\n",
    "Первая гипотеза полностью подтвердилась.\n",
    "\n",
    "2. Музыкальные предпочтения не сильно меняются в течение недели — будь то Москва или Петербург. Небольшие различия заметны в начале недели, по понедельникам:\n",
    "* в Москве слушают музыку жанра “world”,\n",
    "* в Петербурге — джаз и классику.\n",
    "\n",
    "Таким образом, вторая гипотеза подтвердилась лишь отчасти. Этот результат мог оказаться иным, если бы не пропуски в данных.\n",
    "\n",
    "3. Во вкусах пользователей Москвы и Петербурга больше общего чем различий. Вопреки ожиданиям, предпочтения жанров в Петербурге напоминают московские.\n",
    "\n",
    "Третья гипотеза не подтвердилась. Если различия в предпочтениях и существуют, на основной массе пользователей они незаметны."
   ]
  }
 ],
 "metadata": {
  "ExecuteTimeLog": [
   {
    "duration": 397,
    "start_time": "2023-02-16T10:23:30.666Z"
   },
   {
    "duration": 186,
    "start_time": "2023-02-16T10:24:25.865Z"
   },
   {
    "duration": 18,
    "start_time": "2023-02-16T10:24:27.943Z"
   },
   {
    "duration": 13,
    "start_time": "2023-02-16T10:24:37.056Z"
   },
   {
    "duration": 9,
    "start_time": "2023-02-16T10:24:54.045Z"
   },
   {
    "duration": 94,
    "start_time": "2023-02-16T10:25:35.037Z"
   },
   {
    "duration": 4,
    "start_time": "2023-02-16T10:25:37.985Z"
   },
   {
    "duration": 25,
    "start_time": "2023-02-16T10:25:44.876Z"
   },
   {
    "duration": 2692,
    "start_time": "2023-02-16T10:33:20.047Z"
   },
   {
    "duration": 6,
    "start_time": "2023-02-16T10:33:40.190Z"
   },
   {
    "duration": 23,
    "start_time": "2023-02-16T10:34:19.346Z"
   },
   {
    "duration": 5,
    "start_time": "2023-02-16T10:34:29.853Z"
   },
   {
    "duration": 23,
    "start_time": "2023-02-16T10:34:34.025Z"
   },
   {
    "duration": 4,
    "start_time": "2023-02-16T10:34:36.589Z"
   },
   {
    "duration": 20,
    "start_time": "2023-02-16T10:36:25.764Z"
   },
   {
    "duration": 16,
    "start_time": "2023-02-16T10:36:41.345Z"
   },
   {
    "duration": 13,
    "start_time": "2023-02-16T10:36:59.443Z"
   },
   {
    "duration": 11,
    "start_time": "2023-02-16T10:37:42.749Z"
   },
   {
    "duration": 7,
    "start_time": "2023-02-16T10:37:47.563Z"
   },
   {
    "duration": 3,
    "start_time": "2023-02-16T10:37:54.376Z"
   },
   {
    "duration": 29,
    "start_time": "2023-02-16T10:39:17.164Z"
   },
   {
    "duration": 21,
    "start_time": "2023-02-16T10:40:04.385Z"
   },
   {
    "duration": 21,
    "start_time": "2023-02-16T10:40:07.884Z"
   },
   {
    "duration": 18,
    "start_time": "2023-02-16T10:43:57.332Z"
   },
   {
    "duration": 33,
    "start_time": "2023-02-16T10:44:25.938Z"
   },
   {
    "duration": 64,
    "start_time": "2023-02-16T10:45:45.639Z"
   },
   {
    "duration": 103,
    "start_time": "2023-02-16T10:46:53.966Z"
   },
   {
    "duration": 88,
    "start_time": "2023-02-16T10:47:18.747Z"
   },
   {
    "duration": 78,
    "start_time": "2023-02-16T10:47:21.457Z"
   },
   {
    "duration": 89,
    "start_time": "2023-02-16T10:48:00.054Z"
   },
   {
    "duration": 86,
    "start_time": "2023-02-16T10:48:06.449Z"
   },
   {
    "duration": 147,
    "start_time": "2023-02-16T10:48:17.743Z"
   },
   {
    "duration": 69,
    "start_time": "2023-02-16T10:48:25.529Z"
   },
   {
    "duration": 75,
    "start_time": "2023-02-16T10:48:54.390Z"
   },
   {
    "duration": 61,
    "start_time": "2023-02-16T10:49:49.946Z"
   },
   {
    "duration": 62,
    "start_time": "2023-02-16T10:50:05.434Z"
   },
   {
    "duration": 82,
    "start_time": "2023-02-16T10:50:24.056Z"
   },
   {
    "duration": 93,
    "start_time": "2023-02-16T10:50:27.854Z"
   },
   {
    "duration": 15,
    "start_time": "2023-02-16T10:51:08.908Z"
   },
   {
    "duration": 79,
    "start_time": "2023-02-16T10:51:12.475Z"
   },
   {
    "duration": 3,
    "start_time": "2023-02-16T10:51:20.175Z"
   },
   {
    "duration": 65,
    "start_time": "2023-02-16T10:51:23.760Z"
   },
   {
    "duration": 3,
    "start_time": "2023-02-16T10:52:21.350Z"
   },
   {
    "duration": 187,
    "start_time": "2023-02-16T10:52:21.355Z"
   },
   {
    "duration": 15,
    "start_time": "2023-02-16T10:52:21.544Z"
   },
   {
    "duration": 57,
    "start_time": "2023-02-16T10:52:21.561Z"
   },
   {
    "duration": 43,
    "start_time": "2023-02-16T10:52:21.620Z"
   },
   {
    "duration": 6,
    "start_time": "2023-02-16T10:52:21.664Z"
   },
   {
    "duration": 7,
    "start_time": "2023-02-16T10:52:21.672Z"
   },
   {
    "duration": 5,
    "start_time": "2023-02-16T10:52:21.680Z"
   },
   {
    "duration": 37,
    "start_time": "2023-02-16T10:52:21.686Z"
   },
   {
    "duration": 53,
    "start_time": "2023-02-16T10:52:21.724Z"
   },
   {
    "duration": 21,
    "start_time": "2023-02-16T10:52:21.778Z"
   },
   {
    "duration": 86,
    "start_time": "2023-02-16T10:52:21.801Z"
   },
   {
    "duration": 2,
    "start_time": "2023-02-16T10:52:21.889Z"
   },
   {
    "duration": 4,
    "start_time": "2023-02-16T10:52:21.894Z"
   },
   {
    "duration": 8,
    "start_time": "2023-02-16T10:52:21.899Z"
   },
   {
    "duration": 49,
    "start_time": "2023-02-16T10:52:21.908Z"
   },
   {
    "duration": 7,
    "start_time": "2023-02-16T10:52:21.958Z"
   },
   {
    "duration": 7,
    "start_time": "2023-02-16T10:52:21.967Z"
   },
   {
    "duration": 4,
    "start_time": "2023-02-16T10:52:21.976Z"
   },
   {
    "duration": 5,
    "start_time": "2023-02-16T10:52:21.981Z"
   },
   {
    "duration": 6,
    "start_time": "2023-02-16T10:52:21.988Z"
   },
   {
    "duration": 10,
    "start_time": "2023-02-16T10:52:21.995Z"
   },
   {
    "duration": 50,
    "start_time": "2023-02-16T10:52:22.007Z"
   },
   {
    "duration": 7,
    "start_time": "2023-02-16T10:52:22.059Z"
   },
   {
    "duration": 22,
    "start_time": "2023-02-16T10:52:22.067Z"
   },
   {
    "duration": 11,
    "start_time": "2023-02-16T10:52:22.090Z"
   },
   {
    "duration": 55,
    "start_time": "2023-02-16T10:52:22.103Z"
   },
   {
    "duration": 9,
    "start_time": "2023-02-16T10:52:22.159Z"
   },
   {
    "duration": 5,
    "start_time": "2023-02-16T10:52:22.169Z"
   },
   {
    "duration": 110,
    "start_time": "2023-02-16T10:52:22.176Z"
   },
   {
    "duration": 0,
    "start_time": "2023-02-16T10:52:22.287Z"
   },
   {
    "duration": 0,
    "start_time": "2023-02-16T10:52:22.288Z"
   },
   {
    "duration": 0,
    "start_time": "2023-02-16T10:52:22.289Z"
   },
   {
    "duration": 0,
    "start_time": "2023-02-16T10:52:22.290Z"
   },
   {
    "duration": 0,
    "start_time": "2023-02-16T10:52:22.291Z"
   },
   {
    "duration": 0,
    "start_time": "2023-02-16T10:52:22.293Z"
   },
   {
    "duration": 0,
    "start_time": "2023-02-16T10:52:22.294Z"
   },
   {
    "duration": 0,
    "start_time": "2023-02-16T10:52:22.295Z"
   },
   {
    "duration": 108,
    "start_time": "2023-02-16T10:53:00.747Z"
   },
   {
    "duration": 102,
    "start_time": "2023-02-16T10:53:23.156Z"
   },
   {
    "duration": 92,
    "start_time": "2023-02-16T10:53:39.541Z"
   },
   {
    "duration": 145,
    "start_time": "2023-02-16T10:54:18.186Z"
   },
   {
    "duration": 110,
    "start_time": "2023-02-16T10:54:42.629Z"
   },
   {
    "duration": 109,
    "start_time": "2023-02-16T10:55:05.355Z"
   },
   {
    "duration": 88,
    "start_time": "2023-02-16T10:55:11.649Z"
   },
   {
    "duration": 107,
    "start_time": "2023-02-16T10:55:24.853Z"
   },
   {
    "duration": 108,
    "start_time": "2023-02-16T10:56:30.251Z"
   },
   {
    "duration": 107,
    "start_time": "2023-02-16T10:56:44.386Z"
   },
   {
    "duration": 131,
    "start_time": "2023-02-16T10:57:31.231Z"
   },
   {
    "duration": 113,
    "start_time": "2023-02-16T10:58:20.566Z"
   },
   {
    "duration": 89,
    "start_time": "2023-02-16T10:58:38.273Z"
   },
   {
    "duration": 106,
    "start_time": "2023-02-16T10:58:41.357Z"
   },
   {
    "duration": 110,
    "start_time": "2023-02-16T10:58:47.755Z"
   },
   {
    "duration": 437,
    "start_time": "2023-02-16T10:59:07.455Z"
   },
   {
    "duration": 208,
    "start_time": "2023-02-16T10:59:07.894Z"
   },
   {
    "duration": 56,
    "start_time": "2023-02-16T10:59:08.104Z"
   },
   {
    "duration": 30,
    "start_time": "2023-02-16T10:59:08.161Z"
   },
   {
    "duration": 2,
    "start_time": "2023-02-16T10:59:08.193Z"
   },
   {
    "duration": 44,
    "start_time": "2023-02-16T10:59:08.197Z"
   },
   {
    "duration": 25,
    "start_time": "2023-02-16T10:59:08.243Z"
   },
   {
    "duration": 33,
    "start_time": "2023-02-16T10:59:08.270Z"
   },
   {
    "duration": 101,
    "start_time": "2023-02-16T10:59:08.305Z"
   },
   {
    "duration": 160,
    "start_time": "2023-02-16T10:59:08.409Z"
   },
   {
    "duration": 25,
    "start_time": "2023-02-16T10:59:08.570Z"
   },
   {
    "duration": 91,
    "start_time": "2023-02-16T10:59:08.596Z"
   },
   {
    "duration": 91,
    "start_time": "2023-02-16T10:59:08.689Z"
   },
   {
    "duration": 4,
    "start_time": "2023-02-16T10:59:08.783Z"
   },
   {
    "duration": 72,
    "start_time": "2023-02-16T10:59:08.790Z"
   },
   {
    "duration": 14,
    "start_time": "2023-02-16T10:59:08.864Z"
   },
   {
    "duration": 10,
    "start_time": "2023-02-16T10:59:08.880Z"
   },
   {
    "duration": 12,
    "start_time": "2023-02-16T10:59:08.892Z"
   },
   {
    "duration": 37,
    "start_time": "2023-02-16T10:59:08.906Z"
   },
   {
    "duration": 25,
    "start_time": "2023-02-16T10:59:08.944Z"
   },
   {
    "duration": 9,
    "start_time": "2023-02-16T10:59:08.971Z"
   },
   {
    "duration": 5,
    "start_time": "2023-02-16T10:59:08.982Z"
   },
   {
    "duration": 7,
    "start_time": "2023-02-16T10:59:08.989Z"
   },
   {
    "duration": 7,
    "start_time": "2023-02-16T10:59:08.998Z"
   },
   {
    "duration": 58,
    "start_time": "2023-02-16T10:59:09.007Z"
   },
   {
    "duration": 9,
    "start_time": "2023-02-16T10:59:09.067Z"
   },
   {
    "duration": 3,
    "start_time": "2023-02-16T10:59:09.078Z"
   },
   {
    "duration": 6,
    "start_time": "2023-02-16T10:59:09.083Z"
   },
   {
    "duration": 7,
    "start_time": "2023-02-16T10:59:09.091Z"
   },
   {
    "duration": 187,
    "start_time": "2023-02-16T10:59:09.100Z"
   },
   {
    "duration": 0,
    "start_time": "2023-02-16T10:59:09.289Z"
   },
   {
    "duration": 0,
    "start_time": "2023-02-16T10:59:09.290Z"
   },
   {
    "duration": 0,
    "start_time": "2023-02-16T10:59:09.299Z"
   },
   {
    "duration": 0,
    "start_time": "2023-02-16T10:59:09.301Z"
   },
   {
    "duration": 0,
    "start_time": "2023-02-16T10:59:09.302Z"
   },
   {
    "duration": 0,
    "start_time": "2023-02-16T10:59:09.303Z"
   },
   {
    "duration": 0,
    "start_time": "2023-02-16T10:59:09.305Z"
   },
   {
    "duration": 0,
    "start_time": "2023-02-16T10:59:09.306Z"
   },
   {
    "duration": 95,
    "start_time": "2023-02-16T10:59:34.356Z"
   },
   {
    "duration": 98,
    "start_time": "2023-02-16T10:59:58.948Z"
   },
   {
    "duration": 59,
    "start_time": "2023-02-16T11:01:45.948Z"
   },
   {
    "duration": 25,
    "start_time": "2023-02-16T11:01:51.338Z"
   },
   {
    "duration": 57,
    "start_time": "2023-02-16T11:01:53.838Z"
   },
   {
    "duration": 3,
    "start_time": "2023-02-16T11:02:00.449Z"
   },
   {
    "duration": 183,
    "start_time": "2023-02-16T11:02:01.574Z"
   },
   {
    "duration": 15,
    "start_time": "2023-02-16T11:02:04.652Z"
   },
   {
    "duration": 33,
    "start_time": "2023-02-16T11:02:07.144Z"
   },
   {
    "duration": 3,
    "start_time": "2023-02-16T11:02:11.654Z"
   },
   {
    "duration": 8,
    "start_time": "2023-02-16T11:02:13.238Z"
   },
   {
    "duration": 4,
    "start_time": "2023-02-16T11:02:15.752Z"
   },
   {
    "duration": 7,
    "start_time": "2023-02-16T11:02:19.443Z"
   },
   {
    "duration": 3,
    "start_time": "2023-02-16T11:02:20.468Z"
   },
   {
    "duration": 27,
    "start_time": "2023-02-16T11:02:22.839Z"
   },
   {
    "duration": 17,
    "start_time": "2023-02-16T11:02:25.244Z"
   },
   {
    "duration": 28,
    "start_time": "2023-02-16T11:02:26.975Z"
   },
   {
    "duration": 93,
    "start_time": "2023-02-16T11:02:28.742Z"
   },
   {
    "duration": 71,
    "start_time": "2023-02-16T11:02:31.137Z"
   },
   {
    "duration": 68,
    "start_time": "2023-02-16T11:03:06.940Z"
   },
   {
    "duration": 3,
    "start_time": "2023-02-16T11:04:03.848Z"
   },
   {
    "duration": 194,
    "start_time": "2023-02-16T11:04:03.854Z"
   },
   {
    "duration": 12,
    "start_time": "2023-02-16T11:04:04.050Z"
   },
   {
    "duration": 28,
    "start_time": "2023-02-16T11:04:04.064Z"
   },
   {
    "duration": 2,
    "start_time": "2023-02-16T11:04:04.095Z"
   },
   {
    "duration": 45,
    "start_time": "2023-02-16T11:04:04.098Z"
   },
   {
    "duration": 8,
    "start_time": "2023-02-16T11:04:04.146Z"
   },
   {
    "duration": 4,
    "start_time": "2023-02-16T11:04:04.156Z"
   },
   {
    "duration": 23,
    "start_time": "2023-02-16T11:04:04.162Z"
   },
   {
    "duration": 17,
    "start_time": "2023-02-16T11:04:04.186Z"
   },
   {
    "duration": 43,
    "start_time": "2023-02-16T11:04:04.204Z"
   },
   {
    "duration": 87,
    "start_time": "2023-02-16T11:04:04.248Z"
   },
   {
    "duration": 68,
    "start_time": "2023-02-16T11:04:04.336Z"
   },
   {
    "duration": 78,
    "start_time": "2023-02-16T11:04:04.407Z"
   },
   {
    "duration": 2,
    "start_time": "2023-02-16T11:04:04.486Z"
   },
   {
    "duration": 5,
    "start_time": "2023-02-16T11:04:04.490Z"
   },
   {
    "duration": 4,
    "start_time": "2023-02-16T11:04:04.496Z"
   },
   {
    "duration": 45,
    "start_time": "2023-02-16T11:04:04.502Z"
   },
   {
    "duration": 7,
    "start_time": "2023-02-16T11:04:04.549Z"
   },
   {
    "duration": 5,
    "start_time": "2023-02-16T11:04:04.558Z"
   },
   {
    "duration": 7,
    "start_time": "2023-02-16T11:04:04.564Z"
   },
   {
    "duration": 5,
    "start_time": "2023-02-16T11:04:04.572Z"
   },
   {
    "duration": 4,
    "start_time": "2023-02-16T11:04:04.579Z"
   },
   {
    "duration": 5,
    "start_time": "2023-02-16T11:04:04.585Z"
   },
   {
    "duration": 6,
    "start_time": "2023-02-16T11:04:04.591Z"
   },
   {
    "duration": 6,
    "start_time": "2023-02-16T11:04:04.598Z"
   },
   {
    "duration": 16,
    "start_time": "2023-02-16T11:04:04.606Z"
   },
   {
    "duration": 34,
    "start_time": "2023-02-16T11:04:04.623Z"
   },
   {
    "duration": 4,
    "start_time": "2023-02-16T11:04:04.659Z"
   },
   {
    "duration": 109,
    "start_time": "2023-02-16T11:04:04.664Z"
   },
   {
    "duration": 0,
    "start_time": "2023-02-16T11:04:04.775Z"
   },
   {
    "duration": 0,
    "start_time": "2023-02-16T11:04:04.777Z"
   },
   {
    "duration": 0,
    "start_time": "2023-02-16T11:04:04.778Z"
   },
   {
    "duration": 0,
    "start_time": "2023-02-16T11:04:04.779Z"
   },
   {
    "duration": 0,
    "start_time": "2023-02-16T11:04:04.781Z"
   },
   {
    "duration": 1,
    "start_time": "2023-02-16T11:04:04.781Z"
   },
   {
    "duration": 0,
    "start_time": "2023-02-16T11:04:04.783Z"
   },
   {
    "duration": 0,
    "start_time": "2023-02-16T11:04:04.784Z"
   },
   {
    "duration": 83,
    "start_time": "2023-02-16T11:04:48.459Z"
   },
   {
    "duration": 77,
    "start_time": "2023-02-16T11:07:39.480Z"
   },
   {
    "duration": 10,
    "start_time": "2023-02-16T11:11:32.341Z"
   },
   {
    "duration": 13,
    "start_time": "2023-02-16T11:12:03.984Z"
   },
   {
    "duration": 95,
    "start_time": "2023-02-16T11:12:52.139Z"
   },
   {
    "duration": 16,
    "start_time": "2023-02-16T11:13:01.837Z"
   },
   {
    "duration": 7,
    "start_time": "2023-02-16T11:14:01.867Z"
   },
   {
    "duration": 9,
    "start_time": "2023-02-16T11:14:08.848Z"
   },
   {
    "duration": 3,
    "start_time": "2023-02-16T11:15:08.265Z"
   },
   {
    "duration": 6,
    "start_time": "2023-02-16T11:15:16.397Z"
   },
   {
    "duration": 9,
    "start_time": "2023-02-16T11:15:52.747Z"
   },
   {
    "duration": 7,
    "start_time": "2023-02-16T11:16:20.685Z"
   },
   {
    "duration": 59,
    "start_time": "2023-02-16T11:26:38.088Z"
   },
   {
    "duration": 78,
    "start_time": "2023-02-16T11:26:53.049Z"
   },
   {
    "duration": 12,
    "start_time": "2023-02-16T11:28:33.688Z"
   },
   {
    "duration": 64,
    "start_time": "2023-02-16T11:29:03.671Z"
   },
   {
    "duration": 17,
    "start_time": "2023-02-16T11:33:19.253Z"
   },
   {
    "duration": 75,
    "start_time": "2023-02-16T11:34:02.578Z"
   },
   {
    "duration": 4,
    "start_time": "2023-02-16T11:37:17.152Z"
   },
   {
    "duration": 61,
    "start_time": "2023-02-16T11:37:28.191Z"
   },
   {
    "duration": 12,
    "start_time": "2023-02-16T11:38:30.250Z"
   },
   {
    "duration": 24,
    "start_time": "2023-02-16T11:40:09.346Z"
   },
   {
    "duration": 12,
    "start_time": "2023-02-16T11:40:12.748Z"
   },
   {
    "duration": 4,
    "start_time": "2023-02-16T11:45:47.455Z"
   },
   {
    "duration": 9,
    "start_time": "2023-02-16T11:49:50.930Z"
   },
   {
    "duration": 7,
    "start_time": "2023-02-16T11:50:29.973Z"
   },
   {
    "duration": 9,
    "start_time": "2023-02-16T11:50:44.573Z"
   },
   {
    "duration": 3,
    "start_time": "2023-02-16T11:51:04.156Z"
   },
   {
    "duration": 8,
    "start_time": "2023-02-16T11:51:06.871Z"
   },
   {
    "duration": 9,
    "start_time": "2023-02-16T11:51:46.944Z"
   },
   {
    "duration": 7,
    "start_time": "2023-02-16T11:51:49.774Z"
   },
   {
    "duration": 4,
    "start_time": "2023-02-16T11:53:04.695Z"
   },
   {
    "duration": 9,
    "start_time": "2023-02-16T11:53:07.086Z"
   },
   {
    "duration": 16,
    "start_time": "2023-02-16T11:53:33.932Z"
   },
   {
    "duration": 7,
    "start_time": "2023-02-16T11:53:36.291Z"
   },
   {
    "duration": 17,
    "start_time": "2023-02-16T11:53:42.757Z"
   },
   {
    "duration": 17,
    "start_time": "2023-02-16T11:54:19.341Z"
   },
   {
    "duration": 16,
    "start_time": "2023-02-16T11:54:25.639Z"
   },
   {
    "duration": 16,
    "start_time": "2023-02-16T11:54:35.754Z"
   },
   {
    "duration": 16,
    "start_time": "2023-02-16T11:54:52.654Z"
   },
   {
    "duration": 27,
    "start_time": "2023-02-16T11:54:57.378Z"
   },
   {
    "duration": 16,
    "start_time": "2023-02-16T11:55:02.554Z"
   },
   {
    "duration": 15,
    "start_time": "2023-02-16T11:55:28.774Z"
   },
   {
    "duration": 15,
    "start_time": "2023-02-16T11:55:30.448Z"
   },
   {
    "duration": 4,
    "start_time": "2023-02-16T11:56:18.335Z"
   },
   {
    "duration": 37,
    "start_time": "2023-02-16T11:56:21.694Z"
   },
   {
    "duration": 4,
    "start_time": "2023-02-16T11:56:34.844Z"
   },
   {
    "duration": 15,
    "start_time": "2023-02-16T11:56:36.972Z"
   },
   {
    "duration": 33,
    "start_time": "2023-02-16T11:56:38.500Z"
   },
   {
    "duration": 14,
    "start_time": "2023-02-16T11:56:39.068Z"
   },
   {
    "duration": 14,
    "start_time": "2023-02-16T11:56:39.576Z"
   },
   {
    "duration": 30,
    "start_time": "2023-02-16T11:56:40.108Z"
   },
   {
    "duration": 17,
    "start_time": "2023-02-16T11:56:41.841Z"
   },
   {
    "duration": 8,
    "start_time": "2023-02-16T11:58:08.456Z"
   },
   {
    "duration": 8,
    "start_time": "2023-02-16T11:58:25.278Z"
   },
   {
    "duration": 7,
    "start_time": "2023-02-16T11:58:34.682Z"
   },
   {
    "duration": 10,
    "start_time": "2023-02-16T11:59:13.376Z"
   },
   {
    "duration": 14,
    "start_time": "2023-02-16T11:59:35.079Z"
   },
   {
    "duration": 13,
    "start_time": "2023-02-16T12:00:34.357Z"
   },
   {
    "duration": 24,
    "start_time": "2023-02-16T12:01:51.131Z"
   },
   {
    "duration": 109,
    "start_time": "2023-02-16T12:02:39.148Z"
   },
   {
    "duration": 9,
    "start_time": "2023-02-16T12:04:22.177Z"
   },
   {
    "duration": 42,
    "start_time": "2023-02-16T12:04:32.840Z"
   },
   {
    "duration": 22,
    "start_time": "2023-02-16T12:04:40.239Z"
   },
   {
    "duration": 20,
    "start_time": "2023-02-16T12:04:41.035Z"
   },
   {
    "duration": 219,
    "start_time": "2023-02-16T12:05:43.977Z"
   },
   {
    "duration": 7,
    "start_time": "2023-02-16T12:08:25.053Z"
   },
   {
    "duration": 4,
    "start_time": "2023-02-16T12:08:50.861Z"
   },
   {
    "duration": 13,
    "start_time": "2023-02-16T12:09:16.351Z"
   },
   {
    "duration": 8,
    "start_time": "2023-02-16T12:11:20.029Z"
   },
   {
    "duration": 6,
    "start_time": "2023-02-16T12:11:57.066Z"
   },
   {
    "duration": 14,
    "start_time": "2023-02-16T12:13:25.591Z"
   },
   {
    "duration": 29,
    "start_time": "2023-02-16T12:13:52.435Z"
   },
   {
    "duration": 29,
    "start_time": "2023-02-16T12:14:19.002Z"
   },
   {
    "duration": 18,
    "start_time": "2023-02-16T12:14:30.249Z"
   },
   {
    "duration": 39,
    "start_time": "2023-02-16T12:14:58.809Z"
   },
   {
    "duration": 9,
    "start_time": "2023-02-16T12:15:02.563Z"
   },
   {
    "duration": 15,
    "start_time": "2023-02-16T12:15:10.617Z"
   },
   {
    "duration": 15,
    "start_time": "2023-02-16T12:15:13.265Z"
   },
   {
    "duration": 19,
    "start_time": "2023-02-16T12:15:54.508Z"
   },
   {
    "duration": 15,
    "start_time": "2023-02-16T12:15:57.081Z"
   },
   {
    "duration": 17,
    "start_time": "2023-02-16T12:16:28.655Z"
   },
   {
    "duration": 11,
    "start_time": "2023-02-16T12:16:30.487Z"
   },
   {
    "duration": 8,
    "start_time": "2023-02-16T12:18:24.068Z"
   },
   {
    "duration": 18,
    "start_time": "2023-02-16T12:18:44.440Z"
   },
   {
    "duration": 15,
    "start_time": "2023-02-16T12:19:06.305Z"
   },
   {
    "duration": 5,
    "start_time": "2023-02-16T12:19:34.860Z"
   },
   {
    "duration": 6,
    "start_time": "2023-02-16T12:20:01.760Z"
   },
   {
    "duration": 13,
    "start_time": "2023-02-16T12:20:57.304Z"
   },
   {
    "duration": 7,
    "start_time": "2023-02-16T12:21:16.184Z"
   },
   {
    "duration": 7,
    "start_time": "2023-02-16T12:21:19.083Z"
   },
   {
    "duration": 6,
    "start_time": "2023-02-16T12:21:21.196Z"
   },
   {
    "duration": 10,
    "start_time": "2023-02-20T17:44:48.143Z"
   },
   {
    "duration": 47,
    "start_time": "2023-02-20T17:51:15.915Z"
   },
   {
    "duration": 3,
    "start_time": "2023-02-20T17:51:19.761Z"
   },
   {
    "duration": 7,
    "start_time": "2023-02-20T17:51:21.764Z"
   },
   {
    "duration": 4,
    "start_time": "2023-02-20T17:51:48.054Z"
   },
   {
    "duration": 9,
    "start_time": "2023-02-20T17:51:51.288Z"
   },
   {
    "duration": 460,
    "start_time": "2023-02-20T17:51:55.458Z"
   },
   {
    "duration": 242,
    "start_time": "2023-02-20T17:51:55.920Z"
   },
   {
    "duration": 18,
    "start_time": "2023-02-20T17:51:56.164Z"
   },
   {
    "duration": 38,
    "start_time": "2023-02-20T17:51:56.184Z"
   },
   {
    "duration": 3,
    "start_time": "2023-02-20T17:51:56.224Z"
   },
   {
    "duration": 9,
    "start_time": "2023-02-20T17:51:56.228Z"
   },
   {
    "duration": 15,
    "start_time": "2023-02-20T17:51:56.238Z"
   },
   {
    "duration": 11,
    "start_time": "2023-02-20T17:51:56.255Z"
   },
   {
    "duration": 36,
    "start_time": "2023-02-20T17:51:56.267Z"
   },
   {
    "duration": 20,
    "start_time": "2023-02-20T17:51:56.317Z"
   },
   {
    "duration": 24,
    "start_time": "2023-02-20T17:51:56.339Z"
   },
   {
    "duration": 98,
    "start_time": "2023-02-20T17:51:56.365Z"
   },
   {
    "duration": 80,
    "start_time": "2023-02-20T17:51:56.465Z"
   },
   {
    "duration": 81,
    "start_time": "2023-02-20T17:51:56.548Z"
   },
   {
    "duration": 35,
    "start_time": "2023-02-20T17:51:56.631Z"
   },
   {
    "duration": 10,
    "start_time": "2023-02-20T17:51:56.668Z"
   },
   {
    "duration": 62,
    "start_time": "2023-02-20T17:51:56.679Z"
   },
   {
    "duration": 12,
    "start_time": "2023-02-20T17:51:56.743Z"
   },
   {
    "duration": 13,
    "start_time": "2023-02-20T17:51:56.757Z"
   },
   {
    "duration": 4,
    "start_time": "2023-02-20T17:51:56.771Z"
   },
   {
    "duration": 50,
    "start_time": "2023-02-20T17:51:56.777Z"
   },
   {
    "duration": 17,
    "start_time": "2023-02-20T17:51:56.828Z"
   },
   {
    "duration": 15,
    "start_time": "2023-02-20T17:51:56.846Z"
   },
   {
    "duration": 14,
    "start_time": "2023-02-20T17:51:56.863Z"
   },
   {
    "duration": 35,
    "start_time": "2023-02-20T17:51:56.879Z"
   },
   {
    "duration": 16,
    "start_time": "2023-02-20T17:51:56.916Z"
   },
   {
    "duration": 8,
    "start_time": "2023-02-20T17:51:56.933Z"
   },
   {
    "duration": 15,
    "start_time": "2023-02-20T17:51:56.943Z"
   },
   {
    "duration": 10,
    "start_time": "2023-02-20T17:51:56.960Z"
   },
   {
    "duration": 4,
    "start_time": "2023-02-20T17:51:56.972Z"
   },
   {
    "duration": 19,
    "start_time": "2023-02-20T17:51:57.005Z"
   },
   {
    "duration": 11,
    "start_time": "2023-02-20T17:51:57.025Z"
   },
   {
    "duration": 19,
    "start_time": "2023-02-20T17:51:57.037Z"
   },
   {
    "duration": 12,
    "start_time": "2023-02-20T17:51:57.057Z"
   },
   {
    "duration": 43,
    "start_time": "2023-02-20T17:51:57.071Z"
   },
   {
    "duration": 5,
    "start_time": "2023-02-20T17:51:57.116Z"
   },
   {
    "duration": 9,
    "start_time": "2023-02-20T17:51:57.122Z"
   },
   {
    "duration": 7,
    "start_time": "2023-02-20T17:51:57.133Z"
   },
   {
    "duration": 21,
    "start_time": "2023-02-20T17:52:06.035Z"
   }
  ],
  "celltoolbar": "Отсутствует",
  "colab": {
   "collapsed_sections": [
    "E0vqbgi9ay0H",
    "VUC88oWjTJw2"
   ],
   "provenance": []
  },
  "kernelspec": {
   "display_name": "Python 3 (ipykernel)",
   "language": "python",
   "name": "python3"
  },
  "language_info": {
   "codemirror_mode": {
    "name": "ipython",
    "version": 3
   },
   "file_extension": ".py",
   "mimetype": "text/x-python",
   "name": "python",
   "nbconvert_exporter": "python",
   "pygments_lexer": "ipython3",
   "version": "3.9.18"
  },
  "toc": {
   "base_numbering": 1,
   "nav_menu": {
    "height": "215px",
    "width": "403px"
   },
   "number_sections": true,
   "sideBar": true,
   "skip_h1_title": true,
   "title_cell": "Содержание",
   "title_sidebar": "Contents",
   "toc_cell": true,
   "toc_position": {
    "height": "calc(100% - 180px)",
    "left": "10px",
    "top": "150px",
    "width": "386.797px"
   },
   "toc_section_display": true,
   "toc_window_display": false
  }
 },
 "nbformat": 4,
 "nbformat_minor": 4
}
