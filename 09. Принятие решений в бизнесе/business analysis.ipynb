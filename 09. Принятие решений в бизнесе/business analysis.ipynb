{
 "cells": [
  {
   "cell_type": "markdown",
   "metadata": {},
   "source": [
    "# Проект: Принятие решений в бизнесе"
   ]
  },
  {
   "cell_type": "markdown",
   "metadata": {
    "toc": true
   },
   "source": [
    "<h1>Содержание<span class=\"tocSkip\"></span></h1>\n",
    "<div class=\"toc\"><ul class=\"toc-item\"><li><span><a href=\"#Описание-проекта\" data-toc-modified-id=\"Описание-проекта-1\"><span class=\"toc-item-num\">1&nbsp;&nbsp;</span>Описание проекта</a></span><ul class=\"toc-item\"><li><span><a href=\"#Описание-данных\" data-toc-modified-id=\"Описание-данных-1.1\"><span class=\"toc-item-num\">1.1&nbsp;&nbsp;</span>Описание данных</a></span></li></ul></li><li><span><a href=\"#Предобработка-данных\" data-toc-modified-id=\"Предобработка-данных-2\"><span class=\"toc-item-num\">2&nbsp;&nbsp;</span>Предобработка данных</a></span><ul class=\"toc-item\"><li><span><a href=\"#Таблица-hypothesis\" data-toc-modified-id=\"Таблица-hypothesis-2.1\"><span class=\"toc-item-num\">2.1&nbsp;&nbsp;</span>Таблица <code>hypothesis</code></a></span></li><li><span><a href=\"#Таблица-orders\" data-toc-modified-id=\"Таблица-orders-2.2\"><span class=\"toc-item-num\">2.2&nbsp;&nbsp;</span>Таблица <code>orders</code></a></span></li><li><span><a href=\"#Таблица-visitors\" data-toc-modified-id=\"Таблица-visitors-2.3\"><span class=\"toc-item-num\">2.3&nbsp;&nbsp;</span>Таблица <code>visitors</code></a></span></li></ul></li><li><span><a href=\"#Часть-1.-Приоритизация-гипотез\" data-toc-modified-id=\"Часть-1.-Приоритизация-гипотез-3\"><span class=\"toc-item-num\">3&nbsp;&nbsp;</span>Часть 1. Приоритизация гипотез</a></span><ul class=\"toc-item\"><li><span><a href=\"#Фреймворк-ICE\" data-toc-modified-id=\"Фреймворк-ICE-3.1\"><span class=\"toc-item-num\">3.1&nbsp;&nbsp;</span>Фреймворк ICE</a></span></li><li><span><a href=\"#Фреймворк-RICE\" data-toc-modified-id=\"Фреймворк-RICE-3.2\"><span class=\"toc-item-num\">3.2&nbsp;&nbsp;</span>Фреймворк RICE</a></span></li></ul></li><li><span><a href=\"#Часть-2.-Анализ-A/B-теста\" data-toc-modified-id=\"Часть-2.-Анализ-A/B-теста-4\"><span class=\"toc-item-num\">4&nbsp;&nbsp;</span>Часть 2. Анализ A/B-теста</a></span><ul class=\"toc-item\"><li><span><a href=\"#Проверка-на-наличие-пользователей,-попавших-в-обе-группы-теста\" data-toc-modified-id=\"Проверка-на-наличие-пользователей,-попавших-в-обе-группы-теста-4.1\"><span class=\"toc-item-num\">4.1&nbsp;&nbsp;</span>Проверка на наличие пользователей, попавших в обе группы теста</a></span></li><li><span><a href=\"#Анализ-кумулятивных-метрик\" data-toc-modified-id=\"Анализ-кумулятивных-метрик-4.2\"><span class=\"toc-item-num\">4.2&nbsp;&nbsp;</span>Анализ кумулятивных метрик</a></span><ul class=\"toc-item\"><li><span><a href=\"#Кумулятивная-выручка\" data-toc-modified-id=\"Кумулятивная-выручка-4.2.1\"><span class=\"toc-item-num\">4.2.1&nbsp;&nbsp;</span>Кумулятивная выручка</a></span></li><li><span><a href=\"#Кумулятивный-средний-чек\" data-toc-modified-id=\"Кумулятивный-средний-чек-4.2.2\"><span class=\"toc-item-num\">4.2.2&nbsp;&nbsp;</span>Кумулятивный средний чек</a></span></li><li><span><a href=\"#Кумулятивное-среднее-количество-заказов\" data-toc-modified-id=\"Кумулятивное-среднее-количество-заказов-4.2.3\"><span class=\"toc-item-num\">4.2.3&nbsp;&nbsp;</span>Кумулятивное среднее количество заказов</a></span></li></ul></li><li><span><a href=\"#Количество-и-сумма-заказов-пользователей\" data-toc-modified-id=\"Количество-и-сумма-заказов-пользователей-4.3\"><span class=\"toc-item-num\">4.3&nbsp;&nbsp;</span>Количество и сумма заказов пользователей</a></span></li><li><span><a href=\"#Статистическая-значимость-различий-в-&quot;сырых&quot;-данных\" data-toc-modified-id=\"Статистическая-значимость-различий-в-&quot;сырых&quot;-данных-4.4\"><span class=\"toc-item-num\">4.4&nbsp;&nbsp;</span>Статистическая значимость различий в \"сырых\" данных</a></span><ul class=\"toc-item\"><li><span><a href=\"#Подготовка-данных\" data-toc-modified-id=\"Подготовка-данных-4.4.1\"><span class=\"toc-item-num\">4.4.1&nbsp;&nbsp;</span>Подготовка данных</a></span></li><li><span><a href=\"#Расчет-статистической-значимости\" data-toc-modified-id=\"Расчет-статистической-значимости-4.4.2\"><span class=\"toc-item-num\">4.4.2&nbsp;&nbsp;</span>Расчет статистической значимости</a></span></li></ul></li><li><span><a href=\"#Статистическая-значимость-различий-в-очищенных-данных\" data-toc-modified-id=\"Статистическая-значимость-различий-в-очищенных-данных-4.5\"><span class=\"toc-item-num\">4.5&nbsp;&nbsp;</span>Статистическая значимость различий в очищенных данных</a></span><ul class=\"toc-item\"><li><span><a href=\"#Очистка-данных\" data-toc-modified-id=\"Очистка-данных-4.5.1\"><span class=\"toc-item-num\">4.5.1&nbsp;&nbsp;</span>Очистка данных</a></span></li><li><span><a href=\"#Расчет-статистической-значимости-по-очищенным-данным\" data-toc-modified-id=\"Расчет-статистической-значимости-по-очищенным-данным-4.5.2\"><span class=\"toc-item-num\">4.5.2&nbsp;&nbsp;</span>Расчет статистической значимости по очищенным данным</a></span></li></ul></li><li><span><a href=\"#Графики-относительного-изменения-среднего-чека-и-конверсии-по-очищенным-данным\" data-toc-modified-id=\"Графики-относительного-изменения-среднего-чека-и-конверсии-по-очищенным-данным-4.6\"><span class=\"toc-item-num\">4.6&nbsp;&nbsp;</span>Графики относительного изменения среднего чека и конверсии по очищенным данным</a></span></li></ul></li><li><span><a href=\"#Вывод\" data-toc-modified-id=\"Вывод-5\"><span class=\"toc-item-num\">5&nbsp;&nbsp;</span>Вывод</a></span></li></ul></div>"
   ]
  },
  {
   "cell_type": "markdown",
   "metadata": {},
   "source": [
    "## Описание проекта\n",
    "\n",
    "Вы — аналитик крупного интернет-магазина. Вместе с отделом маркетинга вы подготовили список гипотез для увеличения выручки.\n",
    "Приоритизируйте гипотезы, запустите A/B-тест и проанализируйте результаты. "
   ]
  },
  {
   "cell_type": "markdown",
   "metadata": {},
   "source": [
    "### Описание данных\n",
    "\n",
    "**Данные для первой части**  \n",
    "Файл `/datasets/hypothesis.csv`  \n",
    "\n",
    "`Hypothesis` — краткое описание гипотезы;  \n",
    "`Reach` — охват пользователей по 10-балльной шкале;  \n",
    "`Impact` — влияние на пользователей по 10-балльной шкале;  \n",
    "`Confidence` — уверенность в гипотезе по 10-балльной шкале;  \n",
    "`Efforts` — затраты ресурсов на проверку гипотезы по 10-балльной шкале. Чем больше значение Efforts, тем дороже проверка гипотезы.    \n",
    "  \n",
    "**Данные для второй части**  \n",
    "Файл `/datasets/orders.csv.`  \n",
    "\n",
    "`transactionId` — идентификатор заказа;  \n",
    "`visitorId` — идентификатор пользователя, совершившего заказ;  \n",
    "`date` — дата, когда был совершён заказ;  \n",
    "`revenue` — выручка заказа;  \n",
    "`group` — группа A/B-теста, в которую попал заказ.  \n",
    "\n",
    "Файл`/datasets/visitors.csv`  \n",
    "\n",
    "`date` — дата;  \n",
    "`group` — группа A/B-теста;  \n",
    "`visitors` — количество пользователей в указанную дату в указанной группе A/B-теста"
   ]
  },
  {
   "cell_type": "code",
   "execution_count": 1,
   "metadata": {},
   "outputs": [],
   "source": [
    "import pandas as pd\n",
    "import matplotlib.pyplot as plt\n",
    "import numpy as np\n",
    "from scipy import stats as st"
   ]
  },
  {
   "cell_type": "code",
   "execution_count": 2,
   "metadata": {},
   "outputs": [],
   "source": [
    "try:\n",
    "    hypothesis = pd.read_csv('/datasets/hypothesis.csv')\n",
    "    orders = pd.read_csv('/datasets/orders.csv')\n",
    "    visitors = pd.read_csv('/datasets/visitors.csv')\n",
    "except:\n",
    "    hypothesis = pd.read_csv('hypothesis.csv')\n",
    "    orders = pd.read_csv('orders.csv')\n",
    "    visitors = pd.read_csv('visitors.csv')"
   ]
  },
  {
   "cell_type": "markdown",
   "metadata": {},
   "source": [
    "## Предобработка данных"
   ]
  },
  {
   "cell_type": "code",
   "execution_count": 3,
   "metadata": {},
   "outputs": [],
   "source": [
    "def primary_analysis(df, head=5, hist=None):\n",
    "    if hist == None:\n",
    "        return display(df.head(head)), df.info()\n",
    "    else:\n",
    "        return display(df.head(head)), df.info(), df.hist(hist)"
   ]
  },
  {
   "cell_type": "markdown",
   "metadata": {},
   "source": [
    "### Таблица `hypothesis`"
   ]
  },
  {
   "cell_type": "code",
   "execution_count": 4,
   "metadata": {},
   "outputs": [
    {
     "data": {
      "text/html": [
       "<div>\n",
       "<style scoped>\n",
       "    .dataframe tbody tr th:only-of-type {\n",
       "        vertical-align: middle;\n",
       "    }\n",
       "\n",
       "    .dataframe tbody tr th {\n",
       "        vertical-align: top;\n",
       "    }\n",
       "\n",
       "    .dataframe thead th {\n",
       "        text-align: right;\n",
       "    }\n",
       "</style>\n",
       "<table border=\"1\" class=\"dataframe\">\n",
       "  <thead>\n",
       "    <tr style=\"text-align: right;\">\n",
       "      <th></th>\n",
       "      <th>Hypothesis</th>\n",
       "      <th>Reach</th>\n",
       "      <th>Impact</th>\n",
       "      <th>Confidence</th>\n",
       "      <th>Efforts</th>\n",
       "    </tr>\n",
       "  </thead>\n",
       "  <tbody>\n",
       "    <tr>\n",
       "      <th>0</th>\n",
       "      <td>Добавить два новых канала привлечения трафика, что позволит привлекать на 30% больше пользователей</td>\n",
       "      <td>3</td>\n",
       "      <td>10</td>\n",
       "      <td>8</td>\n",
       "      <td>6</td>\n",
       "    </tr>\n",
       "    <tr>\n",
       "      <th>1</th>\n",
       "      <td>Запустить собственную службу доставки, что сократит срок доставки заказов</td>\n",
       "      <td>2</td>\n",
       "      <td>5</td>\n",
       "      <td>4</td>\n",
       "      <td>10</td>\n",
       "    </tr>\n",
       "    <tr>\n",
       "      <th>2</th>\n",
       "      <td>Добавить блоки рекомендаций товаров на сайт интернет магазина, чтобы повысить конверсию и средний чек заказа</td>\n",
       "      <td>8</td>\n",
       "      <td>3</td>\n",
       "      <td>7</td>\n",
       "      <td>3</td>\n",
       "    </tr>\n",
       "    <tr>\n",
       "      <th>3</th>\n",
       "      <td>Изменить структура категорий, что увеличит конверсию, т.к. пользователи быстрее найдут нужный товар</td>\n",
       "      <td>8</td>\n",
       "      <td>3</td>\n",
       "      <td>3</td>\n",
       "      <td>8</td>\n",
       "    </tr>\n",
       "    <tr>\n",
       "      <th>4</th>\n",
       "      <td>Изменить цвет фона главной страницы, чтобы увеличить вовлеченность пользователей</td>\n",
       "      <td>3</td>\n",
       "      <td>1</td>\n",
       "      <td>1</td>\n",
       "      <td>1</td>\n",
       "    </tr>\n",
       "    <tr>\n",
       "      <th>5</th>\n",
       "      <td>Добавить страницу отзывов клиентов о магазине, что позволит увеличить количество заказов</td>\n",
       "      <td>3</td>\n",
       "      <td>2</td>\n",
       "      <td>2</td>\n",
       "      <td>3</td>\n",
       "    </tr>\n",
       "    <tr>\n",
       "      <th>6</th>\n",
       "      <td>Показать на главной странице баннеры с актуальными акциями и распродажами, чтобы увеличить конверсию</td>\n",
       "      <td>5</td>\n",
       "      <td>3</td>\n",
       "      <td>8</td>\n",
       "      <td>3</td>\n",
       "    </tr>\n",
       "    <tr>\n",
       "      <th>7</th>\n",
       "      <td>Добавить форму подписки на все основные страницы, чтобы собрать базу клиентов для email-рассылок</td>\n",
       "      <td>10</td>\n",
       "      <td>7</td>\n",
       "      <td>8</td>\n",
       "      <td>5</td>\n",
       "    </tr>\n",
       "    <tr>\n",
       "      <th>8</th>\n",
       "      <td>Запустить акцию, дающую скидку на товар в день рождения</td>\n",
       "      <td>1</td>\n",
       "      <td>9</td>\n",
       "      <td>9</td>\n",
       "      <td>5</td>\n",
       "    </tr>\n",
       "  </tbody>\n",
       "</table>\n",
       "</div>"
      ],
      "text/plain": [
       "                                                                                                     Hypothesis  \\\n",
       "0            Добавить два новых канала привлечения трафика, что позволит привлекать на 30% больше пользователей   \n",
       "1                                     Запустить собственную службу доставки, что сократит срок доставки заказов   \n",
       "2  Добавить блоки рекомендаций товаров на сайт интернет магазина, чтобы повысить конверсию и средний чек заказа   \n",
       "3           Изменить структура категорий, что увеличит конверсию, т.к. пользователи быстрее найдут нужный товар   \n",
       "4                              Изменить цвет фона главной страницы, чтобы увеличить вовлеченность пользователей   \n",
       "5                      Добавить страницу отзывов клиентов о магазине, что позволит увеличить количество заказов   \n",
       "6          Показать на главной странице баннеры с актуальными акциями и распродажами, чтобы увеличить конверсию   \n",
       "7              Добавить форму подписки на все основные страницы, чтобы собрать базу клиентов для email-рассылок   \n",
       "8                                                       Запустить акцию, дающую скидку на товар в день рождения   \n",
       "\n",
       "   Reach  Impact  Confidence  Efforts  \n",
       "0      3      10           8        6  \n",
       "1      2       5           4       10  \n",
       "2      8       3           7        3  \n",
       "3      8       3           3        8  \n",
       "4      3       1           1        1  \n",
       "5      3       2           2        3  \n",
       "6      5       3           8        3  \n",
       "7     10       7           8        5  \n",
       "8      1       9           9        5  "
      ]
     },
     "execution_count": 4,
     "metadata": {},
     "output_type": "execute_result"
    }
   ],
   "source": [
    "pd.options.display.max_colwidth = 150\n",
    "hypothesis"
   ]
  },
  {
   "cell_type": "code",
   "execution_count": 5,
   "metadata": {},
   "outputs": [
    {
     "data": {
      "text/plain": [
       "Index(['hypothesis', 'reach', 'impact', 'confidence', 'efforts'], dtype='object')"
      ]
     },
     "execution_count": 5,
     "metadata": {},
     "output_type": "execute_result"
    }
   ],
   "source": [
    "hypothesis.columns = hypothesis.columns.str.lower()\n",
    "hypothesis.columns"
   ]
  },
  {
   "cell_type": "code",
   "execution_count": 6,
   "metadata": {},
   "outputs": [],
   "source": [
    "hypothesis = hypothesis.reset_index()"
   ]
  },
  {
   "cell_type": "code",
   "execution_count": 7,
   "metadata": {},
   "outputs": [],
   "source": [
    "# Присвоил гипотезам номера от 1 до 9\n",
    "hypothesis = hypothesis.rename(columns={'index':'hyp_number'})\n",
    "hypothesis['hyp_number'] = hypothesis['hyp_number'] + 1"
   ]
  },
  {
   "cell_type": "markdown",
   "metadata": {},
   "source": [
    "### Таблица `orders`"
   ]
  },
  {
   "cell_type": "code",
   "execution_count": 8,
   "metadata": {},
   "outputs": [
    {
     "data": {
      "text/html": [
       "<div>\n",
       "<style scoped>\n",
       "    .dataframe tbody tr th:only-of-type {\n",
       "        vertical-align: middle;\n",
       "    }\n",
       "\n",
       "    .dataframe tbody tr th {\n",
       "        vertical-align: top;\n",
       "    }\n",
       "\n",
       "    .dataframe thead th {\n",
       "        text-align: right;\n",
       "    }\n",
       "</style>\n",
       "<table border=\"1\" class=\"dataframe\">\n",
       "  <thead>\n",
       "    <tr style=\"text-align: right;\">\n",
       "      <th></th>\n",
       "      <th>transactionId</th>\n",
       "      <th>visitorId</th>\n",
       "      <th>date</th>\n",
       "      <th>revenue</th>\n",
       "      <th>group</th>\n",
       "    </tr>\n",
       "  </thead>\n",
       "  <tbody>\n",
       "    <tr>\n",
       "      <th>0</th>\n",
       "      <td>3667963787</td>\n",
       "      <td>3312258926</td>\n",
       "      <td>2019-08-15</td>\n",
       "      <td>1650</td>\n",
       "      <td>B</td>\n",
       "    </tr>\n",
       "    <tr>\n",
       "      <th>1</th>\n",
       "      <td>2804400009</td>\n",
       "      <td>3642806036</td>\n",
       "      <td>2019-08-15</td>\n",
       "      <td>730</td>\n",
       "      <td>B</td>\n",
       "    </tr>\n",
       "    <tr>\n",
       "      <th>2</th>\n",
       "      <td>2961555356</td>\n",
       "      <td>4069496402</td>\n",
       "      <td>2019-08-15</td>\n",
       "      <td>400</td>\n",
       "      <td>A</td>\n",
       "    </tr>\n",
       "    <tr>\n",
       "      <th>3</th>\n",
       "      <td>3797467345</td>\n",
       "      <td>1196621759</td>\n",
       "      <td>2019-08-15</td>\n",
       "      <td>9759</td>\n",
       "      <td>B</td>\n",
       "    </tr>\n",
       "    <tr>\n",
       "      <th>4</th>\n",
       "      <td>2282983706</td>\n",
       "      <td>2322279887</td>\n",
       "      <td>2019-08-15</td>\n",
       "      <td>2308</td>\n",
       "      <td>B</td>\n",
       "    </tr>\n",
       "  </tbody>\n",
       "</table>\n",
       "</div>"
      ],
      "text/plain": [
       "   transactionId   visitorId        date  revenue group\n",
       "0     3667963787  3312258926  2019-08-15     1650     B\n",
       "1     2804400009  3642806036  2019-08-15      730     B\n",
       "2     2961555356  4069496402  2019-08-15      400     A\n",
       "3     3797467345  1196621759  2019-08-15     9759     B\n",
       "4     2282983706  2322279887  2019-08-15     2308     B"
      ]
     },
     "metadata": {},
     "output_type": "display_data"
    },
    {
     "name": "stdout",
     "output_type": "stream",
     "text": [
      "<class 'pandas.core.frame.DataFrame'>\n",
      "RangeIndex: 1197 entries, 0 to 1196\n",
      "Data columns (total 5 columns):\n",
      " #   Column         Non-Null Count  Dtype \n",
      "---  ------         --------------  ----- \n",
      " 0   transactionId  1197 non-null   int64 \n",
      " 1   visitorId      1197 non-null   int64 \n",
      " 2   date           1197 non-null   object\n",
      " 3   revenue        1197 non-null   int64 \n",
      " 4   group          1197 non-null   object\n",
      "dtypes: int64(3), object(2)\n",
      "memory usage: 46.9+ KB\n"
     ]
    },
    {
     "data": {
      "text/plain": [
       "(None, None)"
      ]
     },
     "execution_count": 8,
     "metadata": {},
     "output_type": "execute_result"
    }
   ],
   "source": [
    "primary_analysis(orders)"
   ]
  },
  {
   "cell_type": "code",
   "execution_count": 9,
   "metadata": {},
   "outputs": [
    {
     "data": {
      "text/plain": [
       "Index(['transaction_id', 'visitor_id', 'date', 'revenue', 'group'], dtype='object')"
      ]
     },
     "execution_count": 9,
     "metadata": {},
     "output_type": "execute_result"
    }
   ],
   "source": [
    "orders = orders.rename(columns = {'transactionId': 'transaction_id', 'visitorId': 'visitor_id'})\n",
    "orders.columns"
   ]
  },
  {
   "cell_type": "code",
   "execution_count": 10,
   "metadata": {},
   "outputs": [
    {
     "data": {
      "text/plain": [
       "0"
      ]
     },
     "execution_count": 10,
     "metadata": {},
     "output_type": "execute_result"
    }
   ],
   "source": [
    "orders.duplicated().sum()"
   ]
  },
  {
   "cell_type": "markdown",
   "metadata": {},
   "source": [
    "### Таблица `visitors`"
   ]
  },
  {
   "cell_type": "code",
   "execution_count": 11,
   "metadata": {},
   "outputs": [
    {
     "data": {
      "text/html": [
       "<div>\n",
       "<style scoped>\n",
       "    .dataframe tbody tr th:only-of-type {\n",
       "        vertical-align: middle;\n",
       "    }\n",
       "\n",
       "    .dataframe tbody tr th {\n",
       "        vertical-align: top;\n",
       "    }\n",
       "\n",
       "    .dataframe thead th {\n",
       "        text-align: right;\n",
       "    }\n",
       "</style>\n",
       "<table border=\"1\" class=\"dataframe\">\n",
       "  <thead>\n",
       "    <tr style=\"text-align: right;\">\n",
       "      <th></th>\n",
       "      <th>date</th>\n",
       "      <th>group</th>\n",
       "      <th>visitors</th>\n",
       "    </tr>\n",
       "  </thead>\n",
       "  <tbody>\n",
       "    <tr>\n",
       "      <th>0</th>\n",
       "      <td>2019-08-01</td>\n",
       "      <td>A</td>\n",
       "      <td>719</td>\n",
       "    </tr>\n",
       "    <tr>\n",
       "      <th>1</th>\n",
       "      <td>2019-08-02</td>\n",
       "      <td>A</td>\n",
       "      <td>619</td>\n",
       "    </tr>\n",
       "    <tr>\n",
       "      <th>2</th>\n",
       "      <td>2019-08-03</td>\n",
       "      <td>A</td>\n",
       "      <td>507</td>\n",
       "    </tr>\n",
       "    <tr>\n",
       "      <th>3</th>\n",
       "      <td>2019-08-04</td>\n",
       "      <td>A</td>\n",
       "      <td>717</td>\n",
       "    </tr>\n",
       "    <tr>\n",
       "      <th>4</th>\n",
       "      <td>2019-08-05</td>\n",
       "      <td>A</td>\n",
       "      <td>756</td>\n",
       "    </tr>\n",
       "  </tbody>\n",
       "</table>\n",
       "</div>"
      ],
      "text/plain": [
       "         date group  visitors\n",
       "0  2019-08-01     A       719\n",
       "1  2019-08-02     A       619\n",
       "2  2019-08-03     A       507\n",
       "3  2019-08-04     A       717\n",
       "4  2019-08-05     A       756"
      ]
     },
     "metadata": {},
     "output_type": "display_data"
    },
    {
     "name": "stdout",
     "output_type": "stream",
     "text": [
      "<class 'pandas.core.frame.DataFrame'>\n",
      "RangeIndex: 62 entries, 0 to 61\n",
      "Data columns (total 3 columns):\n",
      " #   Column    Non-Null Count  Dtype \n",
      "---  ------    --------------  ----- \n",
      " 0   date      62 non-null     object\n",
      " 1   group     62 non-null     object\n",
      " 2   visitors  62 non-null     int64 \n",
      "dtypes: int64(1), object(2)\n",
      "memory usage: 1.6+ KB\n"
     ]
    },
    {
     "data": {
      "text/plain": [
       "(None, None)"
      ]
     },
     "execution_count": 11,
     "metadata": {},
     "output_type": "execute_result"
    }
   ],
   "source": [
    "primary_analysis(visitors)"
   ]
  },
  {
   "cell_type": "code",
   "execution_count": 12,
   "metadata": {},
   "outputs": [
    {
     "data": {
      "text/plain": [
       "0"
      ]
     },
     "execution_count": 12,
     "metadata": {},
     "output_type": "execute_result"
    }
   ],
   "source": [
    "visitors.duplicated().sum()"
   ]
  },
  {
   "cell_type": "code",
   "execution_count": 13,
   "metadata": {},
   "outputs": [],
   "source": [
    "orders['date'] = pd.to_datetime(orders['date'])\n",
    "visitors['date'] = pd.to_datetime(visitors['date'])"
   ]
  },
  {
   "cell_type": "markdown",
   "metadata": {},
   "source": [
    "- Пропусков и дубликатов в данных не обнаружил  \n",
    "- Изменил названия столбцов в таблицах `hypothesis` и `orders` для более удобной работы\n",
    "- Изменил типы данных на `datetime` в столбцах `orders['date']` и `visitors['date']` для дальнейших расчетов"
   ]
  },
  {
   "cell_type": "markdown",
   "metadata": {},
   "source": [
    "## Часть 1. Приоритизация гипотез"
   ]
  },
  {
   "cell_type": "code",
   "execution_count": 14,
   "metadata": {},
   "outputs": [
    {
     "data": {
      "text/html": [
       "<div>\n",
       "<style scoped>\n",
       "    .dataframe tbody tr th:only-of-type {\n",
       "        vertical-align: middle;\n",
       "    }\n",
       "\n",
       "    .dataframe tbody tr th {\n",
       "        vertical-align: top;\n",
       "    }\n",
       "\n",
       "    .dataframe thead th {\n",
       "        text-align: right;\n",
       "    }\n",
       "</style>\n",
       "<table border=\"1\" class=\"dataframe\">\n",
       "  <thead>\n",
       "    <tr style=\"text-align: right;\">\n",
       "      <th></th>\n",
       "      <th>hyp_number</th>\n",
       "      <th>hypothesis</th>\n",
       "      <th>reach</th>\n",
       "      <th>impact</th>\n",
       "      <th>confidence</th>\n",
       "      <th>efforts</th>\n",
       "    </tr>\n",
       "  </thead>\n",
       "  <tbody>\n",
       "    <tr>\n",
       "      <th>0</th>\n",
       "      <td>1</td>\n",
       "      <td>Добавить два новых канала привлечения трафика, что позволит привлекать на 30% больше пользователей</td>\n",
       "      <td>3</td>\n",
       "      <td>10</td>\n",
       "      <td>8</td>\n",
       "      <td>6</td>\n",
       "    </tr>\n",
       "    <tr>\n",
       "      <th>1</th>\n",
       "      <td>2</td>\n",
       "      <td>Запустить собственную службу доставки, что сократит срок доставки заказов</td>\n",
       "      <td>2</td>\n",
       "      <td>5</td>\n",
       "      <td>4</td>\n",
       "      <td>10</td>\n",
       "    </tr>\n",
       "    <tr>\n",
       "      <th>2</th>\n",
       "      <td>3</td>\n",
       "      <td>Добавить блоки рекомендаций товаров на сайт интернет магазина, чтобы повысить конверсию и средний чек заказа</td>\n",
       "      <td>8</td>\n",
       "      <td>3</td>\n",
       "      <td>7</td>\n",
       "      <td>3</td>\n",
       "    </tr>\n",
       "    <tr>\n",
       "      <th>3</th>\n",
       "      <td>4</td>\n",
       "      <td>Изменить структура категорий, что увеличит конверсию, т.к. пользователи быстрее найдут нужный товар</td>\n",
       "      <td>8</td>\n",
       "      <td>3</td>\n",
       "      <td>3</td>\n",
       "      <td>8</td>\n",
       "    </tr>\n",
       "    <tr>\n",
       "      <th>4</th>\n",
       "      <td>5</td>\n",
       "      <td>Изменить цвет фона главной страницы, чтобы увеличить вовлеченность пользователей</td>\n",
       "      <td>3</td>\n",
       "      <td>1</td>\n",
       "      <td>1</td>\n",
       "      <td>1</td>\n",
       "    </tr>\n",
       "    <tr>\n",
       "      <th>5</th>\n",
       "      <td>6</td>\n",
       "      <td>Добавить страницу отзывов клиентов о магазине, что позволит увеличить количество заказов</td>\n",
       "      <td>3</td>\n",
       "      <td>2</td>\n",
       "      <td>2</td>\n",
       "      <td>3</td>\n",
       "    </tr>\n",
       "    <tr>\n",
       "      <th>6</th>\n",
       "      <td>7</td>\n",
       "      <td>Показать на главной странице баннеры с актуальными акциями и распродажами, чтобы увеличить конверсию</td>\n",
       "      <td>5</td>\n",
       "      <td>3</td>\n",
       "      <td>8</td>\n",
       "      <td>3</td>\n",
       "    </tr>\n",
       "    <tr>\n",
       "      <th>7</th>\n",
       "      <td>8</td>\n",
       "      <td>Добавить форму подписки на все основные страницы, чтобы собрать базу клиентов для email-рассылок</td>\n",
       "      <td>10</td>\n",
       "      <td>7</td>\n",
       "      <td>8</td>\n",
       "      <td>5</td>\n",
       "    </tr>\n",
       "    <tr>\n",
       "      <th>8</th>\n",
       "      <td>9</td>\n",
       "      <td>Запустить акцию, дающую скидку на товар в день рождения</td>\n",
       "      <td>1</td>\n",
       "      <td>9</td>\n",
       "      <td>9</td>\n",
       "      <td>5</td>\n",
       "    </tr>\n",
       "  </tbody>\n",
       "</table>\n",
       "</div>"
      ],
      "text/plain": [
       "   hyp_number  \\\n",
       "0           1   \n",
       "1           2   \n",
       "2           3   \n",
       "3           4   \n",
       "4           5   \n",
       "5           6   \n",
       "6           7   \n",
       "7           8   \n",
       "8           9   \n",
       "\n",
       "                                                                                                     hypothesis  \\\n",
       "0            Добавить два новых канала привлечения трафика, что позволит привлекать на 30% больше пользователей   \n",
       "1                                     Запустить собственную службу доставки, что сократит срок доставки заказов   \n",
       "2  Добавить блоки рекомендаций товаров на сайт интернет магазина, чтобы повысить конверсию и средний чек заказа   \n",
       "3           Изменить структура категорий, что увеличит конверсию, т.к. пользователи быстрее найдут нужный товар   \n",
       "4                              Изменить цвет фона главной страницы, чтобы увеличить вовлеченность пользователей   \n",
       "5                      Добавить страницу отзывов клиентов о магазине, что позволит увеличить количество заказов   \n",
       "6          Показать на главной странице баннеры с актуальными акциями и распродажами, чтобы увеличить конверсию   \n",
       "7              Добавить форму подписки на все основные страницы, чтобы собрать базу клиентов для email-рассылок   \n",
       "8                                                       Запустить акцию, дающую скидку на товар в день рождения   \n",
       "\n",
       "   reach  impact  confidence  efforts  \n",
       "0      3      10           8        6  \n",
       "1      2       5           4       10  \n",
       "2      8       3           7        3  \n",
       "3      8       3           3        8  \n",
       "4      3       1           1        1  \n",
       "5      3       2           2        3  \n",
       "6      5       3           8        3  \n",
       "7     10       7           8        5  \n",
       "8      1       9           9        5  "
      ]
     },
     "execution_count": 14,
     "metadata": {},
     "output_type": "execute_result"
    }
   ],
   "source": [
    "hypothesis"
   ]
  },
  {
   "cell_type": "markdown",
   "metadata": {},
   "source": [
    "### Фреймворк ICE"
   ]
  },
  {
   "cell_type": "markdown",
   "metadata": {},
   "source": [
    "$$ICE = \\cfrac{Impact * Confidence}{Efforts}$$"
   ]
  },
  {
   "cell_type": "code",
   "execution_count": 15,
   "metadata": {},
   "outputs": [
    {
     "data": {
      "text/html": [
       "<div>\n",
       "<style scoped>\n",
       "    .dataframe tbody tr th:only-of-type {\n",
       "        vertical-align: middle;\n",
       "    }\n",
       "\n",
       "    .dataframe tbody tr th {\n",
       "        vertical-align: top;\n",
       "    }\n",
       "\n",
       "    .dataframe thead th {\n",
       "        text-align: right;\n",
       "    }\n",
       "</style>\n",
       "<table border=\"1\" class=\"dataframe\">\n",
       "  <thead>\n",
       "    <tr style=\"text-align: right;\">\n",
       "      <th></th>\n",
       "      <th>hyp_number</th>\n",
       "      <th>hypothesis</th>\n",
       "      <th>ICE</th>\n",
       "    </tr>\n",
       "  </thead>\n",
       "  <tbody>\n",
       "    <tr>\n",
       "      <th>8</th>\n",
       "      <td>9</td>\n",
       "      <td>Запустить акцию, дающую скидку на товар в день рождения</td>\n",
       "      <td>16.20</td>\n",
       "    </tr>\n",
       "    <tr>\n",
       "      <th>0</th>\n",
       "      <td>1</td>\n",
       "      <td>Добавить два новых канала привлечения трафика, что позволит привлекать на 30% больше пользователей</td>\n",
       "      <td>13.33</td>\n",
       "    </tr>\n",
       "    <tr>\n",
       "      <th>7</th>\n",
       "      <td>8</td>\n",
       "      <td>Добавить форму подписки на все основные страницы, чтобы собрать базу клиентов для email-рассылок</td>\n",
       "      <td>11.20</td>\n",
       "    </tr>\n",
       "    <tr>\n",
       "      <th>6</th>\n",
       "      <td>7</td>\n",
       "      <td>Показать на главной странице баннеры с актуальными акциями и распродажами, чтобы увеличить конверсию</td>\n",
       "      <td>8.00</td>\n",
       "    </tr>\n",
       "    <tr>\n",
       "      <th>2</th>\n",
       "      <td>3</td>\n",
       "      <td>Добавить блоки рекомендаций товаров на сайт интернет магазина, чтобы повысить конверсию и средний чек заказа</td>\n",
       "      <td>7.00</td>\n",
       "    </tr>\n",
       "    <tr>\n",
       "      <th>1</th>\n",
       "      <td>2</td>\n",
       "      <td>Запустить собственную службу доставки, что сократит срок доставки заказов</td>\n",
       "      <td>2.00</td>\n",
       "    </tr>\n",
       "    <tr>\n",
       "      <th>5</th>\n",
       "      <td>6</td>\n",
       "      <td>Добавить страницу отзывов клиентов о магазине, что позволит увеличить количество заказов</td>\n",
       "      <td>1.33</td>\n",
       "    </tr>\n",
       "    <tr>\n",
       "      <th>3</th>\n",
       "      <td>4</td>\n",
       "      <td>Изменить структура категорий, что увеличит конверсию, т.к. пользователи быстрее найдут нужный товар</td>\n",
       "      <td>1.12</td>\n",
       "    </tr>\n",
       "    <tr>\n",
       "      <th>4</th>\n",
       "      <td>5</td>\n",
       "      <td>Изменить цвет фона главной страницы, чтобы увеличить вовлеченность пользователей</td>\n",
       "      <td>1.00</td>\n",
       "    </tr>\n",
       "  </tbody>\n",
       "</table>\n",
       "</div>"
      ],
      "text/plain": [
       "   hyp_number  \\\n",
       "8           9   \n",
       "0           1   \n",
       "7           8   \n",
       "6           7   \n",
       "2           3   \n",
       "1           2   \n",
       "5           6   \n",
       "3           4   \n",
       "4           5   \n",
       "\n",
       "                                                                                                     hypothesis  \\\n",
       "8                                                       Запустить акцию, дающую скидку на товар в день рождения   \n",
       "0            Добавить два новых канала привлечения трафика, что позволит привлекать на 30% больше пользователей   \n",
       "7              Добавить форму подписки на все основные страницы, чтобы собрать базу клиентов для email-рассылок   \n",
       "6          Показать на главной странице баннеры с актуальными акциями и распродажами, чтобы увеличить конверсию   \n",
       "2  Добавить блоки рекомендаций товаров на сайт интернет магазина, чтобы повысить конверсию и средний чек заказа   \n",
       "1                                     Запустить собственную службу доставки, что сократит срок доставки заказов   \n",
       "5                      Добавить страницу отзывов клиентов о магазине, что позволит увеличить количество заказов   \n",
       "3           Изменить структура категорий, что увеличит конверсию, т.к. пользователи быстрее найдут нужный товар   \n",
       "4                              Изменить цвет фона главной страницы, чтобы увеличить вовлеченность пользователей   \n",
       "\n",
       "     ICE  \n",
       "8  16.20  \n",
       "0  13.33  \n",
       "7  11.20  \n",
       "6   8.00  \n",
       "2   7.00  \n",
       "1   2.00  \n",
       "5   1.33  \n",
       "3   1.12  \n",
       "4   1.00  "
      ]
     },
     "execution_count": 15,
     "metadata": {},
     "output_type": "execute_result"
    }
   ],
   "source": [
    "hypothesis['ICE'] = ((hypothesis['impact'] * hypothesis['confidence']) / hypothesis['efforts']).round(2)\n",
    "hypothesis[['hyp_number', 'hypothesis', 'ICE']].sort_values('ICE', ascending=False)"
   ]
  },
  {
   "cell_type": "markdown",
   "metadata": {},
   "source": [
    "По фреймворку ICE гипотеза #9 является самой перспективной, далее идут гипотезы #1, #8 и #7"
   ]
  },
  {
   "cell_type": "markdown",
   "metadata": {},
   "source": [
    "### Фреймворк RICE"
   ]
  },
  {
   "cell_type": "markdown",
   "metadata": {},
   "source": [
    "$$RICE = \\cfrac{Reach * Impact * Confidence}{Efforts}$$"
   ]
  },
  {
   "cell_type": "code",
   "execution_count": 16,
   "metadata": {},
   "outputs": [
    {
     "data": {
      "text/html": [
       "<div>\n",
       "<style scoped>\n",
       "    .dataframe tbody tr th:only-of-type {\n",
       "        vertical-align: middle;\n",
       "    }\n",
       "\n",
       "    .dataframe tbody tr th {\n",
       "        vertical-align: top;\n",
       "    }\n",
       "\n",
       "    .dataframe thead th {\n",
       "        text-align: right;\n",
       "    }\n",
       "</style>\n",
       "<table border=\"1\" class=\"dataframe\">\n",
       "  <thead>\n",
       "    <tr style=\"text-align: right;\">\n",
       "      <th></th>\n",
       "      <th>hyp_number</th>\n",
       "      <th>hypothesis</th>\n",
       "      <th>RICE</th>\n",
       "    </tr>\n",
       "  </thead>\n",
       "  <tbody>\n",
       "    <tr>\n",
       "      <th>7</th>\n",
       "      <td>8</td>\n",
       "      <td>Добавить форму подписки на все основные страницы, чтобы собрать базу клиентов для email-рассылок</td>\n",
       "      <td>112.0</td>\n",
       "    </tr>\n",
       "    <tr>\n",
       "      <th>2</th>\n",
       "      <td>3</td>\n",
       "      <td>Добавить блоки рекомендаций товаров на сайт интернет магазина, чтобы повысить конверсию и средний чек заказа</td>\n",
       "      <td>56.0</td>\n",
       "    </tr>\n",
       "    <tr>\n",
       "      <th>0</th>\n",
       "      <td>1</td>\n",
       "      <td>Добавить два новых канала привлечения трафика, что позволит привлекать на 30% больше пользователей</td>\n",
       "      <td>40.0</td>\n",
       "    </tr>\n",
       "    <tr>\n",
       "      <th>6</th>\n",
       "      <td>7</td>\n",
       "      <td>Показать на главной странице баннеры с актуальными акциями и распродажами, чтобы увеличить конверсию</td>\n",
       "      <td>40.0</td>\n",
       "    </tr>\n",
       "    <tr>\n",
       "      <th>8</th>\n",
       "      <td>9</td>\n",
       "      <td>Запустить акцию, дающую скидку на товар в день рождения</td>\n",
       "      <td>16.2</td>\n",
       "    </tr>\n",
       "    <tr>\n",
       "      <th>3</th>\n",
       "      <td>4</td>\n",
       "      <td>Изменить структура категорий, что увеличит конверсию, т.к. пользователи быстрее найдут нужный товар</td>\n",
       "      <td>9.0</td>\n",
       "    </tr>\n",
       "    <tr>\n",
       "      <th>1</th>\n",
       "      <td>2</td>\n",
       "      <td>Запустить собственную службу доставки, что сократит срок доставки заказов</td>\n",
       "      <td>4.0</td>\n",
       "    </tr>\n",
       "    <tr>\n",
       "      <th>5</th>\n",
       "      <td>6</td>\n",
       "      <td>Добавить страницу отзывов клиентов о магазине, что позволит увеличить количество заказов</td>\n",
       "      <td>4.0</td>\n",
       "    </tr>\n",
       "    <tr>\n",
       "      <th>4</th>\n",
       "      <td>5</td>\n",
       "      <td>Изменить цвет фона главной страницы, чтобы увеличить вовлеченность пользователей</td>\n",
       "      <td>3.0</td>\n",
       "    </tr>\n",
       "  </tbody>\n",
       "</table>\n",
       "</div>"
      ],
      "text/plain": [
       "   hyp_number  \\\n",
       "7           8   \n",
       "2           3   \n",
       "0           1   \n",
       "6           7   \n",
       "8           9   \n",
       "3           4   \n",
       "1           2   \n",
       "5           6   \n",
       "4           5   \n",
       "\n",
       "                                                                                                     hypothesis  \\\n",
       "7              Добавить форму подписки на все основные страницы, чтобы собрать базу клиентов для email-рассылок   \n",
       "2  Добавить блоки рекомендаций товаров на сайт интернет магазина, чтобы повысить конверсию и средний чек заказа   \n",
       "0            Добавить два новых канала привлечения трафика, что позволит привлекать на 30% больше пользователей   \n",
       "6          Показать на главной странице баннеры с актуальными акциями и распродажами, чтобы увеличить конверсию   \n",
       "8                                                       Запустить акцию, дающую скидку на товар в день рождения   \n",
       "3           Изменить структура категорий, что увеличит конверсию, т.к. пользователи быстрее найдут нужный товар   \n",
       "1                                     Запустить собственную службу доставки, что сократит срок доставки заказов   \n",
       "5                      Добавить страницу отзывов клиентов о магазине, что позволит увеличить количество заказов   \n",
       "4                              Изменить цвет фона главной страницы, чтобы увеличить вовлеченность пользователей   \n",
       "\n",
       "    RICE  \n",
       "7  112.0  \n",
       "2   56.0  \n",
       "0   40.0  \n",
       "6   40.0  \n",
       "8   16.2  \n",
       "3    9.0  \n",
       "1    4.0  \n",
       "5    4.0  \n",
       "4    3.0  "
      ]
     },
     "execution_count": 16,
     "metadata": {},
     "output_type": "execute_result"
    }
   ],
   "source": [
    "hypothesis['RICE'] = hypothesis['reach'] * hypothesis['impact'] * hypothesis['confidence'] / hypothesis['efforts']\n",
    "hypothesis[['hyp_number', 'hypothesis', 'RICE']].sort_values('RICE', ascending=False)"
   ]
  },
  {
   "cell_type": "markdown",
   "metadata": {},
   "source": [
    "По RICE наиболее перспективной являются гипотеза #8.    \n",
    "\n",
    "Далее идут гипотезы #3, #1 и #7.  \n",
    "\n",
    "Перспективность гипотезы #9 сильно снизилась из-за показателя Reach, у нее он равен 1, тогда как у гипотезы #8, он равен 10"
   ]
  },
  {
   "cell_type": "markdown",
   "metadata": {},
   "source": [
    "## Часть 2. Анализ A/B-теста"
   ]
  },
  {
   "cell_type": "markdown",
   "metadata": {},
   "source": [
    "### Проверка на наличие пользователей, попавших в обе группы теста"
   ]
  },
  {
   "cell_type": "code",
   "execution_count": 17,
   "metadata": {},
   "outputs": [
    {
     "data": {
      "text/plain": [
       "group    58\n",
       "dtype: int64"
      ]
     },
     "execution_count": 17,
     "metadata": {},
     "output_type": "execute_result"
    }
   ],
   "source": [
    "orders.groupby('visitor_id').agg({'group' : 'nunique'}).query('group > 1').count()"
   ]
  },
  {
   "cell_type": "markdown",
   "metadata": {},
   "source": [
    "Есть 58 пользователей, попавших в обе группы, удаляем их из таблицы"
   ]
  },
  {
   "cell_type": "code",
   "execution_count": 18,
   "metadata": {},
   "outputs": [],
   "source": [
    "double_users = (\n",
    "    orders\n",
    "    .groupby('visitor_id')\n",
    "    .agg({'group' : 'nunique'})\n",
    "    .reset_index()\n",
    "    .query('group > 1')['visitor_id']\n",
    "    .unique()\n",
    ")\n",
    "\n",
    "orders = orders.query('visitor_id not in @double_users')"
   ]
  },
  {
   "cell_type": "markdown",
   "metadata": {},
   "source": [
    "### Анализ кумулятивных метрик"
   ]
  },
  {
   "cell_type": "markdown",
   "metadata": {},
   "source": [
    "#### Кумулятивная выручка"
   ]
  },
  {
   "cell_type": "code",
   "execution_count": 19,
   "metadata": {},
   "outputs": [
    {
     "data": {
      "text/html": [
       "<div>\n",
       "<style scoped>\n",
       "    .dataframe tbody tr th:only-of-type {\n",
       "        vertical-align: middle;\n",
       "    }\n",
       "\n",
       "    .dataframe tbody tr th {\n",
       "        vertical-align: top;\n",
       "    }\n",
       "\n",
       "    .dataframe thead th {\n",
       "        text-align: right;\n",
       "    }\n",
       "</style>\n",
       "<table border=\"1\" class=\"dataframe\">\n",
       "  <thead>\n",
       "    <tr style=\"text-align: right;\">\n",
       "      <th></th>\n",
       "      <th>date</th>\n",
       "      <th>group</th>\n",
       "      <th>orders</th>\n",
       "      <th>buyers</th>\n",
       "      <th>revenue</th>\n",
       "      <th>visitors</th>\n",
       "    </tr>\n",
       "  </thead>\n",
       "  <tbody>\n",
       "    <tr>\n",
       "      <th>0</th>\n",
       "      <td>2019-08-01</td>\n",
       "      <td>A</td>\n",
       "      <td>23</td>\n",
       "      <td>19</td>\n",
       "      <td>142779</td>\n",
       "      <td>719</td>\n",
       "    </tr>\n",
       "    <tr>\n",
       "      <th>1</th>\n",
       "      <td>2019-08-01</td>\n",
       "      <td>B</td>\n",
       "      <td>17</td>\n",
       "      <td>17</td>\n",
       "      <td>59758</td>\n",
       "      <td>713</td>\n",
       "    </tr>\n",
       "    <tr>\n",
       "      <th>2</th>\n",
       "      <td>2019-08-02</td>\n",
       "      <td>A</td>\n",
       "      <td>42</td>\n",
       "      <td>36</td>\n",
       "      <td>234381</td>\n",
       "      <td>1338</td>\n",
       "    </tr>\n",
       "    <tr>\n",
       "      <th>3</th>\n",
       "      <td>2019-08-02</td>\n",
       "      <td>B</td>\n",
       "      <td>40</td>\n",
       "      <td>39</td>\n",
       "      <td>221801</td>\n",
       "      <td>1294</td>\n",
       "    </tr>\n",
       "    <tr>\n",
       "      <th>4</th>\n",
       "      <td>2019-08-03</td>\n",
       "      <td>A</td>\n",
       "      <td>66</td>\n",
       "      <td>60</td>\n",
       "      <td>346854</td>\n",
       "      <td>1845</td>\n",
       "    </tr>\n",
       "    <tr>\n",
       "      <th>5</th>\n",
       "      <td>2019-08-03</td>\n",
       "      <td>B</td>\n",
       "      <td>54</td>\n",
       "      <td>53</td>\n",
       "      <td>288850</td>\n",
       "      <td>1803</td>\n",
       "    </tr>\n",
       "    <tr>\n",
       "      <th>6</th>\n",
       "      <td>2019-08-04</td>\n",
       "      <td>A</td>\n",
       "      <td>77</td>\n",
       "      <td>71</td>\n",
       "      <td>388030</td>\n",
       "      <td>2562</td>\n",
       "    </tr>\n",
       "    <tr>\n",
       "      <th>7</th>\n",
       "      <td>2019-08-04</td>\n",
       "      <td>B</td>\n",
       "      <td>68</td>\n",
       "      <td>66</td>\n",
       "      <td>385740</td>\n",
       "      <td>2573</td>\n",
       "    </tr>\n",
       "    <tr>\n",
       "      <th>8</th>\n",
       "      <td>2019-08-05</td>\n",
       "      <td>A</td>\n",
       "      <td>99</td>\n",
       "      <td>92</td>\n",
       "      <td>474413</td>\n",
       "      <td>3318</td>\n",
       "    </tr>\n",
       "    <tr>\n",
       "      <th>9</th>\n",
       "      <td>2019-08-05</td>\n",
       "      <td>B</td>\n",
       "      <td>89</td>\n",
       "      <td>87</td>\n",
       "      <td>475648</td>\n",
       "      <td>3280</td>\n",
       "    </tr>\n",
       "  </tbody>\n",
       "</table>\n",
       "</div>"
      ],
      "text/plain": [
       "        date group  orders  buyers  revenue  visitors\n",
       "0 2019-08-01     A      23      19   142779       719\n",
       "1 2019-08-01     B      17      17    59758       713\n",
       "2 2019-08-02     A      42      36   234381      1338\n",
       "3 2019-08-02     B      40      39   221801      1294\n",
       "4 2019-08-03     A      66      60   346854      1845\n",
       "5 2019-08-03     B      54      53   288850      1803\n",
       "6 2019-08-04     A      77      71   388030      2562\n",
       "7 2019-08-04     B      68      66   385740      2573\n",
       "8 2019-08-05     A      99      92   474413      3318\n",
       "9 2019-08-05     B      89      87   475648      3280"
      ]
     },
     "execution_count": 19,
     "metadata": {},
     "output_type": "execute_result"
    }
   ],
   "source": [
    "# создаем массив уникальных пар значений дат и групп теста\n",
    "dates_groups = orders[['date', 'group']].drop_duplicates()\n",
    "\n",
    "# получаем агрегированные кумулятивные по дням данные о заказах \n",
    "orders_aggregated = dates_groups.apply(lambda x: orders[np.logical_and(orders['date'] <= x['date'],\\\n",
    "orders['group'] == x['group'])].agg({'date' : 'max', 'group' : 'max', 'transaction_id' : 'nunique',\\\n",
    "'visitor_id' : 'nunique', 'revenue' : 'sum'}), axis=1).sort_values(by=['date','group'])\n",
    "\n",
    "# получаем агрегированные кумулятивные по дням данные о посетителях\n",
    "visitors_aggregated = dates_groups.apply(lambda x: visitors[np.logical_and(visitors['date'] <= x['date'],\\\n",
    "visitors['group'] == x['group'])].agg({'date' : 'max', 'group' : 'max', 'visitors' : 'sum'}),\\\n",
    "axis=1).sort_values(by=['date','group'])\n",
    "\n",
    "# объединяем кумулятивные данные в одной таблице и присваиваем ее столбцам понятные названия\n",
    "cumulative_data = orders_aggregated.merge(visitors_aggregated, left_on=['date', 'group'], right_on=['date', 'group'])\n",
    "cumulative_data.columns = ['date', 'group', 'orders', 'buyers', 'revenue', 'visitors']\n",
    "\n",
    "\n",
    "cumulative_data.head(10)"
   ]
  },
  {
   "cell_type": "code",
   "execution_count": 20,
   "metadata": {},
   "outputs": [
    {
     "data": {
      "image/png": "[encoded data removed]",
      "text/plain": [
       "<Figure size 1200x600 with 1 Axes>"
      ]
     },
     "metadata": {},
     "output_type": "display_data"
    }
   ],
   "source": [
    "# датафрейм с кумулятивным количеством заказов и кумулятивной выручкой по дням в группе А\n",
    "cumulative_revenue_A = cumulative_data[cumulative_data['group'] == 'A'][['date', 'revenue', 'orders', 'visitors']]\n",
    "\n",
    "# датафрейм с кумулятивным количеством заказов и кумулятивной выручкой по дням в группе B\n",
    "cumulative_revenue_B = cumulative_data[cumulative_data['group'] == 'B'][['date', 'revenue', 'orders', 'visitors']]\n",
    "\n",
    "plt.figure(figsize=(12,6))\n",
    "\n",
    "# График выручки группы А\n",
    "plt.plot(cumulative_revenue_A['date'], cumulative_revenue_A['revenue'], label='A')\n",
    "\n",
    "# График выручки группы B\n",
    "plt.plot(cumulative_revenue_B['date'], cumulative_revenue_B['revenue'], label='B')\n",
    "\n",
    "plt.grid(True)\n",
    "plt.title('График кумулятивной выручки по группам')\n",
    "plt.xlabel('Дата')\n",
    "plt.ylabel('Выручка')\n",
    "plt.legend()\n",
    "None"
   ]
  },
  {
   "cell_type": "markdown",
   "metadata": {},
   "source": [
    "Выручка почти равномерно увеличивается в обеих группах. В группе B есть большой скачок в одном месте, это свидетельствует либо о всплеске количества заказов, либо о появлении очень дорогих заказов в выборке"
   ]
  },
  {
   "cell_type": "markdown",
   "metadata": {},
   "source": [
    "#### Кумулятивный средний чек"
   ]
  },
  {
   "cell_type": "code",
   "execution_count": 21,
   "metadata": {},
   "outputs": [
    {
     "data": {
      "image/png": "[encoded data removed]",
      "text/plain": [
       "<Figure size 1200x600 with 1 Axes>"
      ]
     },
     "metadata": {},
     "output_type": "display_data"
    }
   ],
   "source": [
    "plt.figure(figsize=(12,6))\n",
    "# График среднего чека группы А\n",
    "plt.plot(cumulative_revenue_A['date'], cumulative_revenue_A['revenue']/cumulative_revenue_A['orders'], label='A')\n",
    "\n",
    "# График среднего чека группы В\n",
    "plt.plot(cumulative_revenue_B['date'], cumulative_revenue_B['revenue']/cumulative_revenue_B['orders'], label='B')\n",
    "plt.xlabel('Дата')\n",
    "plt.ylabel('Средний чек')\n",
    "plt.grid(True)\n",
    "plt.title('График кумулятивного среднего чека по группам')\n",
    "plt.legend() \n",
    "None"
   ]
  },
  {
   "cell_type": "markdown",
   "metadata": {},
   "source": [
    "Средний чек становится равномерным в обеих группах к концу теста. В группе В снова присутствует большой всплеск на графике."
   ]
  },
  {
   "cell_type": "code",
   "execution_count": 22,
   "metadata": {},
   "outputs": [
    {
     "data": {
      "image/png": "[encoded data removed]",
      "text/plain": [
       "<Figure size 1200x600 with 1 Axes>"
      ]
     },
     "metadata": {},
     "output_type": "display_data"
    }
   ],
   "source": [
    "# собираем данные в одном датафрейме\n",
    "merged_cumulative_revenue = cumulative_revenue_A.merge(cumulative_revenue_B, left_on='date', right_on='date', how='left', suffixes=['_A', '_B'])\n",
    "\n",
    "# cтроим отношение средних чеков\n",
    "plt.figure(figsize=(12,6))\n",
    "plt.plot(merged_cumulative_revenue['date'], (merged_cumulative_revenue['revenue_B']/merged_cumulative_revenue['orders_B'])/(merged_cumulative_revenue['revenue_A']/merged_cumulative_revenue['orders_A'])-1)\n",
    "\n",
    "plt.xlabel('Дата')\n",
    "plt.ylabel('Относительное изменение')\n",
    "plt.grid(True)\n",
    "plt.title('График относительного изменения кумулятивного среднего чека группы B к группе A')\n",
    "plt.axhline(y=0, color='black', linestyle='--') \n",
    "None"
   ]
  },
  {
   "cell_type": "markdown",
   "metadata": {},
   "source": [
    "В нескольких точках график сильно скачет. Пока сложно сделать какие-либо выводы, нужно рассмотреть данные без выбросов"
   ]
  },
  {
   "cell_type": "markdown",
   "metadata": {},
   "source": [
    "#### Кумулятивное среднее количество заказов"
   ]
  },
  {
   "cell_type": "code",
   "execution_count": 23,
   "metadata": {},
   "outputs": [
    {
     "data": {
      "image/png": "[encoded data removed]",
      "text/plain": [
       "<Figure size 1200x600 with 1 Axes>"
      ]
     },
     "metadata": {},
     "output_type": "display_data"
    }
   ],
   "source": [
    "plt.figure(figsize=(12,6))\n",
    "# График среднего кол-ва заказов группы А\n",
    "plt.plot(cumulative_revenue_A['date'], cumulative_revenue_A['orders']/cumulative_revenue_A['visitors'], label='A')\n",
    "\n",
    "# График среднего кол-ва заказов группы В\n",
    "plt.plot(cumulative_revenue_B['date'], cumulative_revenue_B['orders']/cumulative_revenue_B['visitors'], label='B')\n",
    "\n",
    "plt.title('График кумулятивного среднего кол-ва заказов по группам')\n",
    "plt.xlabel('Дата')\n",
    "plt.ylabel('Среднее кол-во заказов')\n",
    "plt.grid(True)\n",
    "plt.legend() \n",
    "None"
   ]
  },
  {
   "cell_type": "markdown",
   "metadata": {},
   "source": [
    "Конверсия в группе В вырвалась вперед в начале теста и ни разу не уступила группе А"
   ]
  },
  {
   "cell_type": "code",
   "execution_count": 24,
   "metadata": {},
   "outputs": [
    {
     "data": {
      "image/png": "[encoded data removed]",
      "text/plain": [
       "<Figure size 1200x600 with 1 Axes>"
      ]
     },
     "metadata": {},
     "output_type": "display_data"
    }
   ],
   "source": [
    "# cтроим отношение средних заказов\n",
    "plt.figure(figsize=(12,6))\n",
    "plt.plot(merged_cumulative_revenue['date'], (merged_cumulative_revenue['orders_B']/merged_cumulative_revenue['visitors_B'])/(merged_cumulative_revenue['orders_A']/merged_cumulative_revenue['visitors_A'])-1)\n",
    "plt.title('График относительного изменения кумулятивного среднего кол-ва заказов группы B к группе A')\n",
    "plt.axhline(y=0, color='black', linestyle='--') \n",
    "plt.xlabel('Дата')\n",
    "plt.ylabel('Относительное изменение')\n",
    "plt.grid(True)\n",
    "None"
   ]
  },
  {
   "cell_type": "markdown",
   "metadata": {},
   "source": [
    "В начале теста конверсия в группе В проигрывала, но потом значительно вырвалась вперед. В середине теста конверсия немного снизилась, но теперь снова продолжает расти"
   ]
  },
  {
   "cell_type": "markdown",
   "metadata": {},
   "source": [
    "### Количество и сумма заказов пользователей"
   ]
  },
  {
   "cell_type": "code",
   "execution_count": 25,
   "metadata": {
    "scrolled": true
   },
   "outputs": [
    {
     "data": {
      "text/html": [
       "<div>\n",
       "<style scoped>\n",
       "    .dataframe tbody tr th:only-of-type {\n",
       "        vertical-align: middle;\n",
       "    }\n",
       "\n",
       "    .dataframe tbody tr th {\n",
       "        vertical-align: top;\n",
       "    }\n",
       "\n",
       "    .dataframe thead th {\n",
       "        text-align: right;\n",
       "    }\n",
       "</style>\n",
       "<table border=\"1\" class=\"dataframe\">\n",
       "  <thead>\n",
       "    <tr style=\"text-align: right;\">\n",
       "      <th></th>\n",
       "      <th>user_id</th>\n",
       "      <th>orders</th>\n",
       "    </tr>\n",
       "  </thead>\n",
       "  <tbody>\n",
       "    <tr>\n",
       "      <th>908</th>\n",
       "      <td>3967698036</td>\n",
       "      <td>3</td>\n",
       "    </tr>\n",
       "    <tr>\n",
       "      <th>55</th>\n",
       "      <td>249864742</td>\n",
       "      <td>3</td>\n",
       "    </tr>\n",
       "    <tr>\n",
       "      <th>478</th>\n",
       "      <td>2108163459</td>\n",
       "      <td>3</td>\n",
       "    </tr>\n",
       "    <tr>\n",
       "      <th>687</th>\n",
       "      <td>2988190573</td>\n",
       "      <td>3</td>\n",
       "    </tr>\n",
       "    <tr>\n",
       "      <th>890</th>\n",
       "      <td>3908431265</td>\n",
       "      <td>3</td>\n",
       "    </tr>\n",
       "    <tr>\n",
       "      <th>138</th>\n",
       "      <td>611059232</td>\n",
       "      <td>3</td>\n",
       "    </tr>\n",
       "    <tr>\n",
       "      <th>632</th>\n",
       "      <td>2742574263</td>\n",
       "      <td>3</td>\n",
       "    </tr>\n",
       "    <tr>\n",
       "      <th>157</th>\n",
       "      <td>678354126</td>\n",
       "      <td>2</td>\n",
       "    </tr>\n",
       "    <tr>\n",
       "      <th>323</th>\n",
       "      <td>1404560065</td>\n",
       "      <td>2</td>\n",
       "    </tr>\n",
       "    <tr>\n",
       "      <th>452</th>\n",
       "      <td>1985475298</td>\n",
       "      <td>2</td>\n",
       "    </tr>\n",
       "  </tbody>\n",
       "</table>\n",
       "</div>"
      ],
      "text/plain": [
       "        user_id  orders\n",
       "908  3967698036       3\n",
       "55    249864742       3\n",
       "478  2108163459       3\n",
       "687  2988190573       3\n",
       "890  3908431265       3\n",
       "138   611059232       3\n",
       "632  2742574263       3\n",
       "157   678354126       2\n",
       "323  1404560065       2\n",
       "452  1985475298       2"
      ]
     },
     "execution_count": 25,
     "metadata": {},
     "output_type": "execute_result"
    }
   ],
   "source": [
    "orders_by_users = (\n",
    "    orders\n",
    "    .groupby('visitor_id', as_index=False)\n",
    "    .agg({'transaction_id': 'nunique'})\n",
    "    .sort_values('transaction_id', ascending=False)\n",
    ")\n",
    "orders_by_users.columns = ['user_id', 'orders']\n",
    "orders_by_users.head(10)"
   ]
  },
  {
   "cell_type": "code",
   "execution_count": 26,
   "metadata": {},
   "outputs": [
    {
     "data": {
      "image/png": "[encoded data removed]",
      "text/plain": [
       "<Figure size 640x480 with 1 Axes>"
      ]
     },
     "metadata": {},
     "output_type": "display_data"
    }
   ],
   "source": [
    "x_values = pd.Series(range(0, len(orders_by_users)))\n",
    "plt.scatter(x_values, orders_by_users['orders'])\n",
    "plt.xlabel('Пользователи')\n",
    "plt.ylabel('Кол-во заказов')\n",
    "plt.title('График количества заказов по пользователям')\n",
    "None"
   ]
  },
  {
   "cell_type": "markdown",
   "metadata": {},
   "source": [
    "У подавляющего большинства пользователей всего 1 заказ"
   ]
  },
  {
   "cell_type": "code",
   "execution_count": 27,
   "metadata": {},
   "outputs": [
    {
     "data": {
      "text/plain": [
       "array([1., 2., 3.])"
      ]
     },
     "execution_count": 27,
     "metadata": {},
     "output_type": "execute_result"
    }
   ],
   "source": [
    "np.percentile(orders_by_users['orders'], [95, 99, 99.4])"
   ]
  },
  {
   "cell_type": "markdown",
   "metadata": {},
   "source": [
    "Не более 5% оформляли больше, чем 1 заказ, и менее 0.6% заказывали более двух раз  \n",
    "  \n",
    "Приму 2 заказа на одного пользователя, как верхнее значение границы числа заказов, и отсею по ней аномальных пользователей"
   ]
  },
  {
   "cell_type": "code",
   "execution_count": 28,
   "metadata": {},
   "outputs": [
    {
     "data": {
      "image/png": "[encoded data removed]",
      "text/plain": [
       "<Figure size 640x480 with 1 Axes>"
      ]
     },
     "metadata": {},
     "output_type": "display_data"
    }
   ],
   "source": [
    "x_values = pd.Series(range(0, len(orders['revenue'])))\n",
    "plt.ticklabel_format(style='plain')\n",
    "plt.scatter(x_values, orders['revenue'], alpha=0.5)\n",
    "plt.xlabel('Пользователи')\n",
    "plt.ylabel('Сумма заказов')\n",
    "plt.title('График суммы заказов по пользователям')\n",
    "None"
   ]
  },
  {
   "cell_type": "code",
   "execution_count": 29,
   "metadata": {
    "scrolled": false
   },
   "outputs": [
    {
     "data": {
      "text/plain": [
       "array([26785., 34792., 53904.])"
      ]
     },
     "execution_count": 29,
     "metadata": {},
     "output_type": "execute_result"
    }
   ],
   "source": [
    "np.percentile(orders['revenue'], [95, 97, 99])"
   ]
  },
  {
   "cell_type": "markdown",
   "metadata": {},
   "source": [
    "Не более 5% заказов дороже 26785 рублей и не более 1% дороже 53904 рублей.  \n",
    "\n",
    "Уберу из расчетов пользователей, с сзаказами дороже 35000"
   ]
  },
  {
   "cell_type": "markdown",
   "metadata": {},
   "source": [
    "### Статистическая значимость различий в \"сырых\" данных"
   ]
  },
  {
   "cell_type": "markdown",
   "metadata": {},
   "source": [
    "#### Подготовка данных"
   ]
  },
  {
   "cell_type": "code",
   "execution_count": 30,
   "metadata": {},
   "outputs": [],
   "source": [
    "visitors_A_daily = visitors[visitors['group'] == 'A'][['date', 'visitors']]\n",
    "visitors_A_daily.columns = ['date', 'visitors_per_date_A']\n",
    "\n",
    "visitors_A_cummulative = visitors_A_daily.apply(\n",
    "    lambda x: visitors_A_daily[visitors_A_daily['date'] <= x['date']].agg(\n",
    "        {'date': 'max', 'visitors_per_date_A': 'sum'}\n",
    "    ),\n",
    "    axis=1,\n",
    ")\n",
    "visitors_A_cummulative.columns = ['date', 'visitors_cummulative_A']\n",
    "\n",
    "visitors_B_daily = visitors[visitors['group'] == 'B'][['date', 'visitors']]\n",
    "visitors_B_daily.columns = ['date', 'visitors_per_date_B']\n",
    "\n",
    "visitors_B_cummulative = visitors_B_daily.apply(\n",
    "    lambda x: visitors_B_daily[visitors_B_daily['date'] <= x['date']].agg(\n",
    "        {'date': 'max', 'visitors_per_date_B': 'sum'}\n",
    "    ),\n",
    "    axis=1,\n",
    ")\n",
    "visitors_B_cummulative.columns = ['date', 'visitors_cummulative_B']"
   ]
  },
  {
   "cell_type": "code",
   "execution_count": 31,
   "metadata": {},
   "outputs": [],
   "source": [
    "orders_A_daily = (\n",
    "    orders[orders['group'] == 'A'][['date', 'transaction_id', 'visitor_id', 'revenue']]\n",
    "    .groupby('date', as_index=False)\n",
    "    .agg({'transaction_id': pd.Series.nunique, 'revenue': 'sum'})\n",
    ")\n",
    "orders_A_daily.columns = ['date', 'orders_per_date_A', 'revenue_per_date_A']\n",
    "\n",
    "orders_A_cummulative = orders_A_daily.apply(\n",
    "    lambda x: orders_A_daily[orders_A_daily['date'] <= x['date']].agg(\n",
    "        {'date': 'max', 'orders_per_date_A': 'sum', 'revenue_per_date_A': 'sum'}\n",
    "    ),\n",
    "    axis=1,\n",
    ").sort_values(by=['date'])\n",
    "orders_A_cummulative.columns = [\n",
    "    'date',\n",
    "    'orders_cummulative_A',\n",
    "    'revenue_cummulative_A',\n",
    "]\n",
    "\n",
    "orders_B_daily = (\n",
    "    orders[orders['group'] == 'B'][['date', 'transaction_id', 'visitor_id', 'revenue']]\n",
    "    .groupby('date', as_index=False)\n",
    "    .agg({'transaction_id': pd.Series.nunique, 'revenue': 'sum'})\n",
    ")\n",
    "orders_B_daily.columns = ['date', 'orders_per_date_B', 'revenue_per_date_B']\n",
    "\n",
    "orders_B_cummulative = orders_B_daily.apply(\n",
    "    lambda x: orders_B_daily[orders_B_daily['date'] <= x['date']].agg(\n",
    "        {'date': 'max', 'orders_per_date_B': 'sum', 'revenue_per_date_B': 'sum'}\n",
    "    ),\n",
    "    axis=1,\n",
    ").sort_values(by=['date'])\n",
    "orders_B_cummulative.columns = [\n",
    "    'date',\n",
    "    'orders_cummulative_B',\n",
    "    'revenue_cummulative_B',\n",
    "]\n"
   ]
  },
  {
   "cell_type": "code",
   "execution_count": 32,
   "metadata": {
    "scrolled": true
   },
   "outputs": [
    {
     "data": {
      "text/html": [
       "<div>\n",
       "<style scoped>\n",
       "    .dataframe tbody tr th:only-of-type {\n",
       "        vertical-align: middle;\n",
       "    }\n",
       "\n",
       "    .dataframe tbody tr th {\n",
       "        vertical-align: top;\n",
       "    }\n",
       "\n",
       "    .dataframe thead th {\n",
       "        text-align: right;\n",
       "    }\n",
       "</style>\n",
       "<table border=\"1\" class=\"dataframe\">\n",
       "  <thead>\n",
       "    <tr style=\"text-align: right;\">\n",
       "      <th></th>\n",
       "      <th>date</th>\n",
       "      <th>orders_per_date_A</th>\n",
       "      <th>revenue_per_date_A</th>\n",
       "      <th>orders_per_date_B</th>\n",
       "      <th>revenue_per_date_B</th>\n",
       "      <th>orders_cummulative_A</th>\n",
       "      <th>revenue_cummulative_A</th>\n",
       "      <th>orders_cummulative_B</th>\n",
       "      <th>revenue_cummulative_B</th>\n",
       "      <th>visitors_per_date_A</th>\n",
       "      <th>visitors_per_date_B</th>\n",
       "      <th>visitors_cummulative_A</th>\n",
       "      <th>visitors_cummulative_B</th>\n",
       "    </tr>\n",
       "  </thead>\n",
       "  <tbody>\n",
       "    <tr>\n",
       "      <th>0</th>\n",
       "      <td>2019-08-01</td>\n",
       "      <td>23</td>\n",
       "      <td>142779</td>\n",
       "      <td>17</td>\n",
       "      <td>59758</td>\n",
       "      <td>23</td>\n",
       "      <td>142779</td>\n",
       "      <td>17</td>\n",
       "      <td>59758</td>\n",
       "      <td>719</td>\n",
       "      <td>713</td>\n",
       "      <td>719</td>\n",
       "      <td>713</td>\n",
       "    </tr>\n",
       "    <tr>\n",
       "      <th>1</th>\n",
       "      <td>2019-08-02</td>\n",
       "      <td>19</td>\n",
       "      <td>91602</td>\n",
       "      <td>23</td>\n",
       "      <td>162043</td>\n",
       "      <td>42</td>\n",
       "      <td>234381</td>\n",
       "      <td>40</td>\n",
       "      <td>221801</td>\n",
       "      <td>619</td>\n",
       "      <td>581</td>\n",
       "      <td>1338</td>\n",
       "      <td>1294</td>\n",
       "    </tr>\n",
       "    <tr>\n",
       "      <th>2</th>\n",
       "      <td>2019-08-03</td>\n",
       "      <td>24</td>\n",
       "      <td>112473</td>\n",
       "      <td>14</td>\n",
       "      <td>67049</td>\n",
       "      <td>66</td>\n",
       "      <td>346854</td>\n",
       "      <td>54</td>\n",
       "      <td>288850</td>\n",
       "      <td>507</td>\n",
       "      <td>509</td>\n",
       "      <td>1845</td>\n",
       "      <td>1803</td>\n",
       "    </tr>\n",
       "    <tr>\n",
       "      <th>3</th>\n",
       "      <td>2019-08-04</td>\n",
       "      <td>11</td>\n",
       "      <td>41176</td>\n",
       "      <td>14</td>\n",
       "      <td>96890</td>\n",
       "      <td>77</td>\n",
       "      <td>388030</td>\n",
       "      <td>68</td>\n",
       "      <td>385740</td>\n",
       "      <td>717</td>\n",
       "      <td>770</td>\n",
       "      <td>2562</td>\n",
       "      <td>2573</td>\n",
       "    </tr>\n",
       "    <tr>\n",
       "      <th>4</th>\n",
       "      <td>2019-08-05</td>\n",
       "      <td>22</td>\n",
       "      <td>86383</td>\n",
       "      <td>21</td>\n",
       "      <td>89908</td>\n",
       "      <td>99</td>\n",
       "      <td>474413</td>\n",
       "      <td>89</td>\n",
       "      <td>475648</td>\n",
       "      <td>756</td>\n",
       "      <td>707</td>\n",
       "      <td>3318</td>\n",
       "      <td>3280</td>\n",
       "    </tr>\n",
       "  </tbody>\n",
       "</table>\n",
       "</div>"
      ],
      "text/plain": [
       "        date  orders_per_date_A  revenue_per_date_A  orders_per_date_B  \\\n",
       "0 2019-08-01                 23              142779                 17   \n",
       "1 2019-08-02                 19               91602                 23   \n",
       "2 2019-08-03                 24              112473                 14   \n",
       "3 2019-08-04                 11               41176                 14   \n",
       "4 2019-08-05                 22               86383                 21   \n",
       "\n",
       "   revenue_per_date_B  orders_cummulative_A  revenue_cummulative_A  \\\n",
       "0               59758                    23                 142779   \n",
       "1              162043                    42                 234381   \n",
       "2               67049                    66                 346854   \n",
       "3               96890                    77                 388030   \n",
       "4               89908                    99                 474413   \n",
       "\n",
       "   orders_cummulative_B  revenue_cummulative_B  visitors_per_date_A  \\\n",
       "0                    17                  59758                  719   \n",
       "1                    40                 221801                  619   \n",
       "2                    54                 288850                  507   \n",
       "3                    68                 385740                  717   \n",
       "4                    89                 475648                  756   \n",
       "\n",
       "   visitors_per_date_B  visitors_cummulative_A  visitors_cummulative_B  \n",
       "0                  713                     719                     713  \n",
       "1                  581                    1338                    1294  \n",
       "2                  509                    1845                    1803  \n",
       "3                  770                    2562                    2573  \n",
       "4                  707                    3318                    3280  "
      ]
     },
     "execution_count": 32,
     "metadata": {},
     "output_type": "execute_result"
    }
   ],
   "source": [
    "data = (\n",
    "    orders_A_daily.merge(\n",
    "        orders_B_daily, left_on='date', right_on='date', how='left'\n",
    "    )\n",
    "    .merge(orders_A_cummulative, left_on='date', right_on='date', how='left')\n",
    "    .merge(orders_B_cummulative, left_on='date', right_on='date', how='left')\n",
    "    .merge(visitors_A_daily, left_on='date', right_on='date', how='left')\n",
    "    .merge(visitors_B_daily, left_on='date', right_on='date', how='left')\n",
    "    .merge(visitors_A_cummulative, left_on='date', right_on='date', how='left')\n",
    "    .merge(visitors_B_cummulative, left_on='date', right_on='date', how='left')\n",
    ")\n",
    "\n",
    "data.head(5)"
   ]
  },
  {
   "cell_type": "markdown",
   "metadata": {},
   "source": [
    "#### Расчет статистической значимости"
   ]
  },
  {
   "cell_type": "markdown",
   "metadata": {},
   "source": [
    "***Нулевая гипотеза: Различий в кумулятивном среднем количестве заказов между группами нет***  \n",
    "  \n",
    "  \n",
    "***Альтернативная гипотеза: Различия в кумулятивном среднем количесвте заказов есть***\n"
   ]
  },
  {
   "cell_type": "code",
   "execution_count": 33,
   "metadata": {},
   "outputs": [],
   "source": [
    "orders_by_users_A = (\n",
    "    orders[orders['group'] == 'A']\n",
    "    .groupby('visitor_id', as_index=False)\n",
    "    .agg({'transaction_id': pd.Series.nunique})\n",
    ")\n",
    "orders_by_users_A.columns = ['user_id', 'orders']\n",
    "\n",
    "orders_by_users_B = (\n",
    "    orders[orders['group'] == 'B']\n",
    "    .groupby('visitor_id', as_index=False)\n",
    "    .agg({'transaction_id': pd.Series.nunique})\n",
    ")\n",
    "orders_by_users_B.columns = ['user_id', 'orders'] "
   ]
  },
  {
   "cell_type": "code",
   "execution_count": 34,
   "metadata": {
    "scrolled": true
   },
   "outputs": [
    {
     "name": "stdout",
     "output_type": "stream",
     "text": [
      "p-value: 0.011\n",
      "Относительный прирост среднего кол-ва заказов группы В:  0.160\n"
     ]
    }
   ],
   "source": [
    "sample_A = pd.concat(\n",
    "    [\n",
    "        orders_by_users_A['orders'],\n",
    "        pd.Series(\n",
    "            0,\n",
    "            index=np.arange(\n",
    "                data['visitors_per_date_A'].sum() - len(orders_by_users_A['orders'])\n",
    "            ),\n",
    "            name='orders',\n",
    "        ),\n",
    "    ],\n",
    "    axis=0,\n",
    ")\n",
    "\n",
    "sample_B = pd.concat(\n",
    "    [\n",
    "        orders_by_users_B['orders'],\n",
    "        pd.Series(\n",
    "            0,\n",
    "            index=np.arange(\n",
    "                data['visitors_per_date_B'].sum() - len(orders_by_users_B['orders'])\n",
    "            ),\n",
    "            name='orders',\n",
    "        ),\n",
    "    ],\n",
    "    axis=0,\n",
    ")\n",
    "\n",
    "\n",
    "print('p-value:', \"{0:.3f}\".format(st.mannwhitneyu(sample_A, sample_B)[1]))\n",
    "\n",
    "print('Относительный прирост среднего кол-ва заказов группы В: ', \"{0:.3f}\".format(sample_B.mean() / sample_A.mean() - 1)) "
   ]
  },
  {
   "cell_type": "markdown",
   "metadata": {},
   "source": [
    "p-value = 0.011 < 0.05, По «сырым» данным в среднем количестве заказов групп A и B есть различия. Значит отвергаем нулевую гипотезу о том, что статистически значимых различий в среднем числе заказов между группами нет. Относительный выигрыш группы В составляет 16%\n"
   ]
  },
  {
   "cell_type": "markdown",
   "metadata": {},
   "source": [
    "\n",
    "***Нулевая гипотеза: различий в среднем чеке между группами нет.***  \n",
    "  \n",
    "  \n",
    "***Альтернативная гипотеза: различия в среднем чеке между группами есть.*** "
   ]
  },
  {
   "cell_type": "code",
   "execution_count": 35,
   "metadata": {},
   "outputs": [
    {
     "name": "stdout",
     "output_type": "stream",
     "text": [
      "p-value: 0.829\n",
      "Относительный прирост среднего чека группы B: 0.287\n"
     ]
    }
   ],
   "source": [
    "print('p-value:','{0:.3f}'.format(st.mannwhitneyu(orders[orders['group']=='A']['revenue'],\\\n",
    "                                                  orders[orders['group']=='B']['revenue'])[1]))\n",
    "print('Относительный прирост среднего чека группы B:', '{0:.3f}'.format(orders[orders['group']=='B']\\\n",
    "                                    ['revenue'].mean()/orders[orders['group']=='A']['revenue'].mean()-1)) "
   ]
  },
  {
   "cell_type": "markdown",
   "metadata": {},
   "source": [
    "p-value = 0.829 > 0.05. Значит, причин отвергать нулевую гипотезу и считать, что в среднем чеке есть различия, нет. "
   ]
  },
  {
   "cell_type": "markdown",
   "metadata": {},
   "source": [
    "### Статистическая значимость различий в очищенных данных"
   ]
  },
  {
   "cell_type": "markdown",
   "metadata": {},
   "source": [
    "#### Очистка данных"
   ]
  },
  {
   "cell_type": "code",
   "execution_count": 36,
   "metadata": {},
   "outputs": [
    {
     "name": "stdout",
     "output_type": "stream",
     "text": [
      "1099    148427295\n",
      "33      249864742\n",
      "684     358944393\n",
      "648     382846391\n",
      "58      611059232\n",
      "dtype: int64\n",
      "\n",
      "Абсолютные потери пользователей:  38\n",
      "Относительные потери пользователей, %: 3.905447070914697\n"
     ]
    }
   ],
   "source": [
    "users_with_many_orders = pd.concat(\n",
    "    [\n",
    "        orders_by_users_A[orders_by_users_A['orders'] > np.percentile(orders_by_users['orders'], 97)]['user_id'],\n",
    "        orders_by_users_B[orders_by_users_B['orders'] > np.percentile(orders_by_users['orders'], 97)]['user_id'],\n",
    "    ],\n",
    "    axis=0,\n",
    ")\n",
    "\n",
    "users_with_expensive_orders = orders[orders['revenue'] > np.percentile(orders['revenue'], 97)]['visitor_id']\n",
    "\n",
    "abnormal_users = (\n",
    "    pd.concat([users_with_many_orders, users_with_expensive_orders], axis=0)\n",
    "    .drop_duplicates()\n",
    "    .sort_values()\n",
    ")\n",
    "print(abnormal_users.head(5))\n",
    "print()\n",
    "print('Абсолютные потери пользователей: ', abnormal_users.shape[0]) \n",
    "print('Относительные потери пользователей, %:', abnormal_users.shape[0] * 100 / orders['visitor_id'].nunique())"
   ]
  },
  {
   "cell_type": "markdown",
   "metadata": {},
   "source": [
    "#### Расчет статистической значимости по очищенным данным"
   ]
  },
  {
   "cell_type": "markdown",
   "metadata": {},
   "source": [
    "***Нулевая гипотеза: Различий в кумулятивном среднем количестве заказов между группами нет***  \n",
    "  \n",
    "  \n",
    "***Альтернативная гипотеза: Различия в кумулятивном среднем количестве заказов есть***"
   ]
  },
  {
   "cell_type": "code",
   "execution_count": 37,
   "metadata": {
    "scrolled": false
   },
   "outputs": [
    {
     "name": "stdout",
     "output_type": "stream",
     "text": [
      "p-value: 0.006\n",
      "Относительный прирост кумулятивного среднего кол-ва заказов группы B:  0.197\n"
     ]
    }
   ],
   "source": [
    "sample_A_filtered = pd.concat(\n",
    "    [\n",
    "        orders_by_users_A[\n",
    "            np.logical_not(orders_by_users_A['user_id'].isin(abnormal_users))\n",
    "        ]['orders'],\n",
    "        pd.Series(\n",
    "            0,\n",
    "            index=np.arange(\n",
    "                data['visitors_per_date_A'].sum() - len(orders_by_users_A['orders'])\n",
    "            ),\n",
    "            name='orders',\n",
    "        ),\n",
    "    ],\n",
    "    axis=0,\n",
    ")\n",
    "\n",
    "sample_B_filtered = pd.concat(\n",
    "    [\n",
    "        orders_by_users_B[\n",
    "            np.logical_not(orders_by_users_B['user_id'].isin(abnormal_users))\n",
    "        ]['orders'],\n",
    "        pd.Series(\n",
    "            0,\n",
    "            index=np.arange(\n",
    "                data['visitors_per_date_B'].sum() - len(orders_by_users_B['orders'])\n",
    "            ),\n",
    "            name='orders',\n",
    "        ),\n",
    "    ],\n",
    "    axis=0,\n",
    ")\n",
    "\n",
    "print('p-value:','{0:.3f}'.format(st.mannwhitneyu(sample_A_filtered, sample_B_filtered)[1]))\n",
    "print('Относительный прирост кумулятивного среднего кол-ва заказов группы B: ', '{0:.3f}'.format(sample_B_filtered.mean()/\\\n",
    "                                                                                  sample_A_filtered.mean()-1))"
   ]
  },
  {
   "cell_type": "markdown",
   "metadata": {},
   "source": [
    "p-value = 0.009 < 0.05, По очищенным данным в среднем количестве заказов групп A и B есть различия. Значит отвергаем нулевую гипотезу о том, что статистически значимых различий в среднем числе заказов между группами нет. Относительный выигрыш группы В составляет 18%"
   ]
  },
  {
   "cell_type": "markdown",
   "metadata": {},
   "source": [
    "\n",
    "***Нулевая гипотеза: различий в среднем чеке между группами нет.***  \n",
    "  \n",
    "  \n",
    "***Альтернативная гипотеза: различия в среднем чеке между группами есть.*** "
   ]
  },
  {
   "cell_type": "code",
   "execution_count": 38,
   "metadata": {
    "scrolled": true
   },
   "outputs": [
    {
     "name": "stdout",
     "output_type": "stream",
     "text": [
      "p-value: 0.918\n",
      "Относительный прирост среднего чека группы B: 0.016\n"
     ]
    }
   ],
   "source": [
    "print(\n",
    "    'p-value:', '{0:.3f}'.format(\n",
    "        st.mannwhitneyu(\n",
    "            orders[\n",
    "                np.logical_and(\n",
    "                    orders['group'] == 'A',\n",
    "                    np.logical_not(orders['visitor_id'].isin(abnormal_users)),\n",
    "                )\n",
    "            ]['revenue'],\n",
    "            orders[\n",
    "                np.logical_and(\n",
    "                    orders['group'] == 'B',\n",
    "                    np.logical_not(orders['visitor_id'].isin(abnormal_users)),\n",
    "                )\n",
    "            ]['revenue'],\n",
    "        )[1]\n",
    "    )\n",
    ")\n",
    "\n",
    "print(\n",
    "    'Относительный прирост среднего чека группы B:', \"{0:.3f}\".format(\n",
    "        orders[\n",
    "            np.logical_and(\n",
    "                orders['group'] == 'B',\n",
    "                np.logical_not(orders['visitor_id'].isin(abnormal_users)),\n",
    "            )\n",
    "        ]['revenue'].mean()\n",
    "        / orders[\n",
    "            np.logical_and(\n",
    "                orders['group'] == 'A',\n",
    "                np.logical_not(orders['visitor_id'].isin(abnormal_users)),\n",
    "            )\n",
    "        ]['revenue'].mean()\n",
    "        - 1\n",
    "    )\n",
    ") "
   ]
  },
  {
   "cell_type": "markdown",
   "metadata": {},
   "source": [
    "p-value = 0.918 > 0.05. Значит, причин отвергать нулевую гипотезу и считать, что в среднем чеке есть различия, нет. "
   ]
  },
  {
   "cell_type": "markdown",
   "metadata": {},
   "source": [
    "### Графики относительного изменения среднего чека и конверсии по очищенным данным"
   ]
  },
  {
   "cell_type": "code",
   "execution_count": 39,
   "metadata": {},
   "outputs": [],
   "source": [
    "orders_wao = orders[np.logical_not(orders['visitor_id'].isin(abnormal_users))]\n",
    "# wao = without abnormal users \n",
    "\n",
    "# получаем агрегированные кумулятивные по дням данные о заказах \n",
    "orders_aggregated_wao = dates_groups.apply(lambda x: orders_wao[np.logical_and(orders_wao['date'] <= x['date'],\\\n",
    "orders_wao['group'] == x['group'])].agg({'date' : 'max', 'group' : 'max', 'transaction_id' : 'nunique',\\\n",
    "'visitor_id' : 'nunique', 'revenue' : 'sum'}), axis=1).sort_values(by=['date','group'])\n",
    "\n",
    "# Кумулятивные по дням данные о посетителях были получены выше, в переменной visitors_aggregated\n",
    "\n",
    "# объединяем кумулятивные данные в одной таблице и присваиваем ее столбцам понятные названия\n",
    "cumulative_data_wao = orders_aggregated_wao.merge(visitors_aggregated, left_on=['date', 'group'], right_on=['date', 'group'])\n",
    "cumulative_data_wao.columns = ['date', 'group', 'orders', 'buyers', 'revenue', 'visitors']\n",
    "\n",
    "# датафрейм с кумулятивным количеством заказов и кумулятивной выручкой по дням в группе А\n",
    "cumulative_revenue_A_wao = cumulative_data_wao[cumulative_data_wao['group'] == 'A'][['date', 'revenue', 'orders', 'visitors']]\n",
    "\n",
    "# датафрейм с кумулятивным количеством заказов и кумулятивной выручкой по дням в группе B\n",
    "cumulative_revenue_B_wao = cumulative_data_wao[cumulative_data_wao['group'] == 'B'][['date', 'revenue', 'orders', 'visitors']]\n"
   ]
  },
  {
   "cell_type": "code",
   "execution_count": 40,
   "metadata": {},
   "outputs": [
    {
     "data": {
      "image/png": "[encoded data removed]",
      "text/plain": [
       "<Figure size 1200x600 with 1 Axes>"
      ]
     },
     "metadata": {},
     "output_type": "display_data"
    }
   ],
   "source": [
    "# собираем данные в одном датафрейме\n",
    "merged_cumulative_revenue_wao = cumulative_revenue_A_wao.merge(cumulative_revenue_B_wao,\\\n",
    "                        left_on='date', right_on='date', how='left', suffixes=['_A', '_B'])\n",
    "\n",
    "# cтроим отношение средних чеков\n",
    "plt.figure(figsize=(12,6))\n",
    "plt.plot(merged_cumulative_revenue_wao['date'],\\\n",
    "         (merged_cumulative_revenue_wao['revenue_B']/merged_cumulative_revenue_wao['orders_B'])/\\\n",
    "         (merged_cumulative_revenue_wao['revenue_A']/merged_cumulative_revenue_wao['orders_A'])-1)\n",
    "\n",
    "plt.xlabel('Дата')\n",
    "plt.ylabel('Относительное изменение')\n",
    "plt.grid(True)\n",
    "plt.title('График относительного изменения кумулятивного среднего чека группы B к группе A по очищенным данным')\n",
    "plt.axhline(y=0, color='black', linestyle='--') \n",
    "None"
   ]
  },
  {
   "cell_type": "code",
   "execution_count": 41,
   "metadata": {},
   "outputs": [
    {
     "data": {
      "image/png": "[encoded data removed]",
      "text/plain": [
       "<Figure size 1200x600 with 1 Axes>"
      ]
     },
     "metadata": {},
     "output_type": "display_data"
    }
   ],
   "source": [
    "# cтроим отношение средних заказов\n",
    "plt.figure(figsize=(12,6))\n",
    "plt.plot(merged_cumulative_revenue_wao['date'],\\\n",
    "         (merged_cumulative_revenue_wao['orders_B']/merged_cumulative_revenue_wao['visitors_B'])/\\\n",
    "         (merged_cumulative_revenue_wao['orders_A']/merged_cumulative_revenue_wao['visitors_A'])-1)\n",
    "\n",
    "plt.title('График относительного изменения кумулятивной конверсии группы B к группе A по очищенным данным')\n",
    "plt.axhline(y=0, color='black', linestyle='--') \n",
    "plt.xlabel('Дата')\n",
    "plt.ylabel('Относительное изменение')\n",
    "plt.grid(True)\n",
    "None"
   ]
  },
  {
   "cell_type": "markdown",
   "metadata": {},
   "source": [
    "Имеющиеся факты:  \n",
    "  \n",
    "- Есть статистически значимое различие по среднему количеству заказов между группами и по «сырым», и по очищенным данным;\n",
    "\n",
    "- Нет статистически значимого различия по среднему чеку между группами ни по «сырым», ни по очищенным данным;  \n",
    "  \n",
    "- График различия среднего количества заказов между группами сообщает, что результаты группы B лучше группы A и есть тенденции к улучшению\n",
    "\n",
    "\n",
    "Исходя из обнаруженных фактов, тест следует остановить и признать его успешным."
   ]
  },
  {
   "cell_type": "markdown",
   "metadata": {},
   "source": [
    "## Вывод"
   ]
  },
  {
   "cell_type": "markdown",
   "metadata": {},
   "source": [
    "1. **Предобработка данных**\n",
    "- Пропусков и дубликатов в данных не обнаружил\n",
    "- Изменил названия столбцов в таблицах hypothesis и orders для более удобной работы\n",
    "- Изменил типы данных на datetime в столбцах orders['date'] и visitors['date'] для дальнейших расчетов\n",
    "  \n",
    "2. **Приоритизация гипотез**\n",
    "- По фреймворку ICE гипотеза с индексом 8 является самой перспективной, далее идут гипотезы 0, 7 и 6\n",
    "- По RISE наиболее перспективной являются гипотеза 7. Далее идут гипотезы 2, 0 и 6. Перспективность гипотезы 8 сильно снизилась из-за показателя Reach, у нее он равен 1, тогда как у гипотезы 7, он равен 10\n",
    "  \n",
    "3. **Анализ кумулятивных метрик**\n",
    "- График кумулятивной выручки почти равномерно увеличивается в обеих группах. В группе B есть большой скачок в одном месте, это свидетельствует либо о всплеске количества заказов, либо о появлении очень дорогих заказов в выборке\n",
    "- График кумулятивного среднего чек становится равномерным в обеих группах к концу теста. В группе В снова присутствует большой всплеск на графике.\n",
    "- В нескольких точках график относительного изменения кумулятивного среднего чека группы В к А сильно скачет. По нему сложно сделать какие-либо выводы\n",
    "- На графике кумулятивного среднего количества заказов по группам, конверсия в группе В вырвалась вперед в начале теста и ни разу не уступила группе А\n",
    "- На графике относительного изменения кумулятивного среднего кол-ва заказов группы В к А, видно, что конверсия в группе В проигрывала в начале теста, затем значительно вырвалась вперед, и далее, после незначительного снижения продолжила расти до конца теста\n",
    "\n",
    "4. **Количество и сумма заказов пользователей**\n",
    "- У подавляющего большинства пользователей всего 1 заказ, доля пользователей с одним и двумя заказами тоже значительна\n",
    "- Не более 5% пользователей оформляли больше, чем 2 заказа, и менее 1% заказывали более четырех раз\n",
    "- Не более 5% заказов дороже 28000 рублей и не более 1% дороже 58233 рублей.\n",
    "5. **Статистическая разница различий в сырых данных**  \n",
    "\n",
    "Проведено две проверки гипотез:\n",
    "- Гипотеза 1\n",
    "  - Нулевая гипотеза: Различий в кумулятивном среднем количестве заказов между группами нет\n",
    "  - Альтернативная гипотеза: Различия в кумулятивном среднем количесвте заказов есть   \n",
    "  \n",
    "    *Итоги проверки Гипотезы 1*\n",
    "        p-value: 0.011\n",
    "        Относительный прирост среднего кол-ва заказов группы В:  0.160\n",
    "        p-value = 0.011 < 0.05, По «сырым» данным в среднем количестве заказов групп A и B есть различия. Значит отвергаем нулевую гипотезу о том, что статистически значимых различий в среднем числе заказов между группами нет. Относительный выигрыш группы В составляет 16%\n",
    "- Гипотеза 2\n",
    "  - Нулевая гипотеза: различий в среднем чеке между группами нет\n",
    "  - Альтернативная гипотеза: различия в среднем чеке между группами есть  \n",
    "  \n",
    "      *Итоги проверки Гипотезы 2*\n",
    "        p-value: 0.829\n",
    "        Относительный прирост среднего чека группы B: 0.287\n",
    "        P-value= 0.829 > 0.05. Значит, причин отвергать нулевую гипотезу и считать, что в среднем чеке есть различия, нет. Относительный выигрыш группы В составляет 28.7%\n",
    "6. **Статистическая разница в очищенных данных**\n",
    "- *Принял 3 заказа на одного пользователя, как верхнее значение границы числа заказов, и отсеял по ней аномальных пользователей*\n",
    "- *Также убрал из расчетов пользователей, с заказами дороже 35000*\n",
    "- *Из данных было удалено 42 пользователя, 4% от всех пользователей*  \n",
    "  \n",
    "Проведено две проверки гипотез:\n",
    "- Гипотеза 1\n",
    "  - Нулевая гипотеза: Различий в кумулятивном среднем количестве заказов между группами нет\n",
    "  - Альтернативная гипотеза: Различия в кумулятивном среднем количесвте заказов есть   \n",
    "  \n",
    "    *Итоги проверки Гипотезы 1*\n",
    "        p-value: 0.006\n",
    "        Относительный прирост кумулятивного среднего кол-ва заказов группы B:  0.197\n",
    "        p-value = 0.006 < 0.05, По очищенным данным в среднем количестве заказов групп A и B есть различия. Значит отвергаем нулевую гипотезу о том, что статистически значимых различий в среднем числе заказов между группами нет. Относительный выигрыш группы В составляет 19.7%\n",
    "- Гипотеза 2\n",
    "  - Нулевая гипотеза: различий в среднем чеке между группами нет\n",
    "  - Альтернативная гипотеза: различия в среднем чеке между группами есть  \n",
    "  \n",
    "      *Итоги проверки Гипотезы 2*\n",
    "        p-value: 0.918\n",
    "        Относительный прирост среднего чека группы B: 0.016\n",
    "        P-value = 0.918 > 0.05. Значит, причин отвергать нулевую гипотезу и считать, что в среднем чеке есть различия, нет. Относительный выигрыш группы В составляет 1.6%\n",
    "7. **Итоги A/B-теста**\n",
    "\n",
    "- Есть статистически значимое различие по среднему количеству заказов между группами и по «сырым», и по очищенным данным;\n",
    "\n",
    "- Нет статистически значимого различия по среднему чеку между группами ни по «сырым», ни по очищенным данным;\n",
    "\n",
    "- График различия среднего количества заказов между группами сообщает, что результаты группы B лучше группы A и есть тенденции к улучшению\n",
    "\n",
    "**Исходя из обнаруженных фактов, тест следует остановить и признать его успешным.**"
   ]
  }
 ],
 "metadata": {
  "ExecuteTimeLog": [
   {
    "duration": 53,
    "start_time": "2023-07-01T11:52:51.326Z"
   },
   {
    "duration": 1384,
    "start_time": "2023-07-01T11:52:54.794Z"
   },
   {
    "duration": 68,
    "start_time": "2023-07-01T11:52:56.180Z"
   },
   {
    "duration": 13,
    "start_time": "2023-07-01T11:53:01.730Z"
   },
   {
    "duration": 76,
    "start_time": "2023-07-01T11:53:45.819Z"
   },
   {
    "duration": 131,
    "start_time": "2023-07-01T11:53:48.347Z"
   },
   {
    "duration": 15,
    "start_time": "2023-07-01T11:53:48.731Z"
   },
   {
    "duration": 12,
    "start_time": "2023-07-01T11:53:49.130Z"
   },
   {
    "duration": 9,
    "start_time": "2023-07-01T11:54:13.526Z"
   },
   {
    "duration": 14,
    "start_time": "2023-07-01T11:54:23.366Z"
   },
   {
    "duration": 10,
    "start_time": "2023-07-01T11:54:26.634Z"
   },
   {
    "duration": 6,
    "start_time": "2023-07-01T11:54:33.346Z"
   },
   {
    "duration": 123,
    "start_time": "2023-07-01T12:52:48.324Z"
   },
   {
    "duration": 9,
    "start_time": "2023-07-01T12:52:58.028Z"
   },
   {
    "duration": 12,
    "start_time": "2023-07-01T12:56:17.373Z"
   },
   {
    "duration": 6,
    "start_time": "2023-07-01T12:58:04.290Z"
   },
   {
    "duration": 9,
    "start_time": "2023-07-01T12:58:08.589Z"
   },
   {
    "duration": 11,
    "start_time": "2023-07-01T12:58:39.849Z"
   },
   {
    "duration": 11,
    "start_time": "2023-07-01T12:59:00.714Z"
   },
   {
    "duration": 1368,
    "start_time": "2023-07-01T12:59:56.939Z"
   },
   {
    "duration": 14,
    "start_time": "2023-07-01T13:00:12.810Z"
   },
   {
    "duration": 45,
    "start_time": "2023-07-02T20:54:32.221Z"
   },
   {
    "duration": 1162,
    "start_time": "2023-07-02T20:54:48.914Z"
   },
   {
    "duration": 76,
    "start_time": "2023-07-02T20:54:50.078Z"
   },
   {
    "duration": 11,
    "start_time": "2023-07-02T20:54:50.156Z"
   },
   {
    "duration": 104,
    "start_time": "2023-07-02T20:54:50.169Z"
   },
   {
    "duration": 0,
    "start_time": "2023-07-02T20:54:50.274Z"
   },
   {
    "duration": 11,
    "start_time": "2023-07-02T20:55:12.322Z"
   },
   {
    "duration": 11,
    "start_time": "2023-07-02T20:55:53.813Z"
   },
   {
    "duration": 11,
    "start_time": "2023-07-02T20:56:02.830Z"
   },
   {
    "duration": 5,
    "start_time": "2023-07-02T20:57:32.703Z"
   },
   {
    "duration": 9,
    "start_time": "2023-07-02T21:00:34.309Z"
   },
   {
    "duration": 11,
    "start_time": "2023-07-02T21:00:43.723Z"
   },
   {
    "duration": 13,
    "start_time": "2023-07-02T21:00:52.652Z"
   },
   {
    "duration": 4,
    "start_time": "2023-07-02T21:01:17.322Z"
   },
   {
    "duration": 4,
    "start_time": "2023-07-02T21:03:56.391Z"
   },
   {
    "duration": 13,
    "start_time": "2023-07-02T21:04:33.842Z"
   },
   {
    "duration": 7,
    "start_time": "2023-07-02T21:04:39.276Z"
   },
   {
    "duration": 10,
    "start_time": "2023-07-02T21:04:47.137Z"
   },
   {
    "duration": 13,
    "start_time": "2023-07-02T21:06:11.979Z"
   },
   {
    "duration": 5,
    "start_time": "2023-07-02T21:07:12.700Z"
   },
   {
    "duration": 7,
    "start_time": "2023-07-02T21:07:29.244Z"
   },
   {
    "duration": 7,
    "start_time": "2023-07-02T21:07:35.924Z"
   },
   {
    "duration": 9,
    "start_time": "2023-07-02T21:07:46.604Z"
   },
   {
    "duration": 6,
    "start_time": "2023-07-02T21:08:08.873Z"
   },
   {
    "duration": 6,
    "start_time": "2023-07-02T21:08:23.179Z"
   },
   {
    "duration": 10,
    "start_time": "2023-07-02T22:33:03.792Z"
   },
   {
    "duration": 7,
    "start_time": "2023-07-02T22:33:07.109Z"
   },
   {
    "duration": 14,
    "start_time": "2023-07-02T22:33:13.309Z"
   },
   {
    "duration": 14,
    "start_time": "2023-07-02T22:33:18.563Z"
   },
   {
    "duration": 6,
    "start_time": "2023-07-02T22:33:22.076Z"
   },
   {
    "duration": 2,
    "start_time": "2023-07-02T22:36:14.287Z"
   },
   {
    "duration": 6,
    "start_time": "2023-07-02T22:52:55.208Z"
   },
   {
    "duration": 12,
    "start_time": "2023-07-02T22:54:26.046Z"
   },
   {
    "duration": 55,
    "start_time": "2023-07-02T22:54:35.501Z"
   },
   {
    "duration": 52,
    "start_time": "2023-07-02T22:54:39.782Z"
   },
   {
    "duration": 73,
    "start_time": "2023-07-02T22:54:44.444Z"
   },
   {
    "duration": 93,
    "start_time": "2023-07-02T22:54:53.503Z"
   },
   {
    "duration": 13,
    "start_time": "2023-07-02T22:54:57.553Z"
   },
   {
    "duration": 25,
    "start_time": "2023-07-02T22:55:06.869Z"
   },
   {
    "duration": 53,
    "start_time": "2023-07-02T22:55:50.349Z"
   },
   {
    "duration": 58,
    "start_time": "2023-07-02T22:56:02.479Z"
   },
   {
    "duration": 72,
    "start_time": "2023-07-02T22:56:11.498Z"
   },
   {
    "duration": 157,
    "start_time": "2023-07-02T22:56:17.520Z"
   },
   {
    "duration": 23,
    "start_time": "2023-07-02T22:56:21.345Z"
   },
   {
    "duration": 23,
    "start_time": "2023-07-02T22:56:43.596Z"
   },
   {
    "duration": 22,
    "start_time": "2023-07-02T22:56:55.085Z"
   },
   {
    "duration": 24,
    "start_time": "2023-07-02T22:57:59.423Z"
   },
   {
    "duration": 24,
    "start_time": "2023-07-02T23:00:18.803Z"
   },
   {
    "duration": 159,
    "start_time": "2023-07-02T23:02:12.136Z"
   },
   {
    "duration": 150,
    "start_time": "2023-07-02T23:02:24.358Z"
   },
   {
    "duration": 150,
    "start_time": "2023-07-02T23:02:27.886Z"
   },
   {
    "duration": 148,
    "start_time": "2023-07-02T23:02:35.956Z"
   },
   {
    "duration": 247,
    "start_time": "2023-07-02T23:03:41.160Z"
   },
   {
    "duration": 256,
    "start_time": "2023-07-02T23:04:12.391Z"
   },
   {
    "duration": 263,
    "start_time": "2023-07-02T23:04:17.883Z"
   },
   {
    "duration": 12,
    "start_time": "2023-07-02T23:07:39.395Z"
   },
   {
    "duration": 230,
    "start_time": "2023-07-02T23:07:50.302Z"
   },
   {
    "duration": 171,
    "start_time": "2023-07-02T23:08:03.125Z"
   },
   {
    "duration": 148,
    "start_time": "2023-07-02T23:08:16.719Z"
   },
   {
    "duration": 161,
    "start_time": "2023-07-02T23:08:33.648Z"
   },
   {
    "duration": 155,
    "start_time": "2023-07-02T23:08:39.868Z"
   },
   {
    "duration": 164,
    "start_time": "2023-07-02T23:08:51.447Z"
   },
   {
    "duration": 202,
    "start_time": "2023-07-02T23:09:39.493Z"
   },
   {
    "duration": 157,
    "start_time": "2023-07-02T23:10:30.749Z"
   },
   {
    "duration": 241,
    "start_time": "2023-07-02T23:11:01.495Z"
   },
   {
    "duration": 168,
    "start_time": "2023-07-02T23:11:16.338Z"
   },
   {
    "duration": 163,
    "start_time": "2023-07-02T23:11:22.272Z"
   },
   {
    "duration": 158,
    "start_time": "2023-07-02T23:11:28.273Z"
   },
   {
    "duration": 171,
    "start_time": "2023-07-02T23:11:31.541Z"
   },
   {
    "duration": 173,
    "start_time": "2023-07-02T23:11:42.588Z"
   },
   {
    "duration": 169,
    "start_time": "2023-07-02T23:11:46.479Z"
   },
   {
    "duration": 204,
    "start_time": "2023-07-02T23:11:53.254Z"
   },
   {
    "duration": 181,
    "start_time": "2023-07-02T23:12:01.655Z"
   },
   {
    "duration": 170,
    "start_time": "2023-07-02T23:12:05.705Z"
   },
   {
    "duration": 164,
    "start_time": "2023-07-02T23:12:57.747Z"
   },
   {
    "duration": 168,
    "start_time": "2023-07-02T23:13:06.945Z"
   },
   {
    "duration": 273,
    "start_time": "2023-07-02T23:13:39.302Z"
   },
   {
    "duration": 160,
    "start_time": "2023-07-02T23:13:43.927Z"
   },
   {
    "duration": 276,
    "start_time": "2023-07-02T23:15:58.317Z"
   },
   {
    "duration": 264,
    "start_time": "2023-07-02T23:16:10.845Z"
   },
   {
    "duration": 170,
    "start_time": "2023-07-02T23:17:44.244Z"
   },
   {
    "duration": 178,
    "start_time": "2023-07-02T23:18:01.856Z"
   },
   {
    "duration": 175,
    "start_time": "2023-07-02T23:18:27.582Z"
   },
   {
    "duration": 255,
    "start_time": "2023-07-02T23:18:53.381Z"
   },
   {
    "duration": 287,
    "start_time": "2023-07-02T23:18:58.694Z"
   },
   {
    "duration": 159,
    "start_time": "2023-07-02T23:21:45.012Z"
   },
   {
    "duration": 10,
    "start_time": "2023-07-02T23:21:56.502Z"
   },
   {
    "duration": 162,
    "start_time": "2023-07-02T23:22:00.999Z"
   },
   {
    "duration": 8,
    "start_time": "2023-07-02T23:22:10.705Z"
   },
   {
    "duration": 153,
    "start_time": "2023-07-02T23:22:15.799Z"
   },
   {
    "duration": 2434,
    "start_time": "2023-07-02T23:24:21.829Z"
   },
   {
    "duration": 162,
    "start_time": "2023-07-02T23:25:08.667Z"
   },
   {
    "duration": 196,
    "start_time": "2023-07-02T23:25:14.116Z"
   },
   {
    "duration": 269,
    "start_time": "2023-07-02T23:25:19.318Z"
   },
   {
    "duration": 279,
    "start_time": "2023-07-02T23:25:24.802Z"
   },
   {
    "duration": 173,
    "start_time": "2023-07-02T23:25:28.016Z"
   },
   {
    "duration": 182,
    "start_time": "2023-07-02T23:26:01.467Z"
   },
   {
    "duration": 181,
    "start_time": "2023-07-02T23:26:13.810Z"
   },
   {
    "duration": 243,
    "start_time": "2023-07-02T23:27:14.606Z"
   },
   {
    "duration": 185,
    "start_time": "2023-07-02T23:29:39.933Z"
   },
   {
    "duration": 207,
    "start_time": "2023-07-02T23:29:51.097Z"
   },
   {
    "duration": 1883,
    "start_time": "2023-07-02T23:30:10.521Z"
   },
   {
    "duration": 1997,
    "start_time": "2023-07-02T23:31:33.688Z"
   },
   {
    "duration": 277,
    "start_time": "2023-07-02T23:32:19.554Z"
   },
   {
    "duration": 317,
    "start_time": "2023-07-02T23:33:14.702Z"
   },
   {
    "duration": 325,
    "start_time": "2023-07-02T23:33:52.513Z"
   },
   {
    "duration": 243,
    "start_time": "2023-07-02T23:34:18.970Z"
   },
   {
    "duration": 69,
    "start_time": "2023-07-02T23:37:43.102Z"
   },
   {
    "duration": 11,
    "start_time": "2023-07-02T23:37:48.508Z"
   },
   {
    "duration": 8,
    "start_time": "2023-07-02T23:38:24.832Z"
   },
   {
    "duration": 13,
    "start_time": "2023-07-02T23:38:29.652Z"
   },
   {
    "duration": 10,
    "start_time": "2023-07-02T23:38:35.790Z"
   },
   {
    "duration": 184,
    "start_time": "2023-07-02T23:39:04.252Z"
   },
   {
    "duration": 208,
    "start_time": "2023-07-02T23:39:13.354Z"
   },
   {
    "duration": 8,
    "start_time": "2023-07-02T23:39:33.823Z"
   },
   {
    "duration": 100,
    "start_time": "2023-07-02T23:39:40.101Z"
   },
   {
    "duration": 4,
    "start_time": "2023-07-02T23:41:14.297Z"
   },
   {
    "duration": 10,
    "start_time": "2023-07-02T23:41:29.701Z"
   },
   {
    "duration": 10,
    "start_time": "2023-07-02T23:41:34.393Z"
   },
   {
    "duration": 7,
    "start_time": "2023-07-02T23:42:50.558Z"
   },
   {
    "duration": 116,
    "start_time": "2023-07-02T23:43:46.940Z"
   },
   {
    "duration": 6,
    "start_time": "2023-07-02T23:44:18.280Z"
   },
   {
    "duration": 15,
    "start_time": "2023-07-02T23:56:05.063Z"
   },
   {
    "duration": 128,
    "start_time": "2023-07-02T23:57:07.787Z"
   },
   {
    "duration": 85,
    "start_time": "2023-07-03T00:00:39.485Z"
   },
   {
    "duration": 102,
    "start_time": "2023-07-03T00:03:43.867Z"
   },
   {
    "duration": 19,
    "start_time": "2023-07-03T00:04:38.890Z"
   },
   {
    "duration": 26,
    "start_time": "2023-07-03T00:04:46.660Z"
   },
   {
    "duration": 5,
    "start_time": "2023-07-03T00:07:22.055Z"
   },
   {
    "duration": 12,
    "start_time": "2023-07-03T00:07:35.561Z"
   },
   {
    "duration": 12,
    "start_time": "2023-07-03T00:10:23.030Z"
   },
   {
    "duration": 13,
    "start_time": "2023-07-03T00:10:41.162Z"
   },
   {
    "duration": 13,
    "start_time": "2023-07-03T00:10:47.861Z"
   },
   {
    "duration": 12,
    "start_time": "2023-07-03T00:10:57.247Z"
   },
   {
    "duration": 9,
    "start_time": "2023-07-03T00:13:07.499Z"
   },
   {
    "duration": 10,
    "start_time": "2023-07-03T00:13:28.995Z"
   },
   {
    "duration": 1164,
    "start_time": "2023-07-03T00:17:43.329Z"
   },
   {
    "duration": 971,
    "start_time": "2023-07-03T00:17:58.830Z"
   },
   {
    "duration": 913,
    "start_time": "2023-07-03T00:18:07.616Z"
   },
   {
    "duration": 1058,
    "start_time": "2023-07-03T00:18:29.740Z"
   },
   {
    "duration": 936,
    "start_time": "2023-07-03T00:18:46.917Z"
   },
   {
    "duration": 8,
    "start_time": "2023-07-03T00:19:13.385Z"
   },
   {
    "duration": 8,
    "start_time": "2023-07-03T00:21:29.974Z"
   },
   {
    "duration": 9,
    "start_time": "2023-07-03T00:21:32.882Z"
   },
   {
    "duration": 879,
    "start_time": "2023-07-03T00:23:08.757Z"
   },
   {
    "duration": 7,
    "start_time": "2023-07-03T00:23:29.736Z"
   },
   {
    "duration": 22,
    "start_time": "2023-07-03T00:23:47.322Z"
   },
   {
    "duration": 21,
    "start_time": "2023-07-03T00:24:00.502Z"
   },
   {
    "duration": 23,
    "start_time": "2023-07-03T00:24:19.979Z"
   },
   {
    "duration": 926,
    "start_time": "2023-07-03T00:25:26.747Z"
   },
   {
    "duration": 15,
    "start_time": "2023-07-03T00:25:46.723Z"
   },
   {
    "duration": 14,
    "start_time": "2023-07-03T00:26:20.038Z"
   },
   {
    "duration": 12,
    "start_time": "2023-07-03T00:26:23.384Z"
   },
   {
    "duration": 2095,
    "start_time": "2023-07-03T09:54:32.943Z"
   },
   {
    "duration": 302,
    "start_time": "2023-07-03T09:54:35.041Z"
   },
   {
    "duration": 31,
    "start_time": "2023-07-03T09:54:35.345Z"
   },
   {
    "duration": 8,
    "start_time": "2023-07-03T09:54:35.379Z"
   },
   {
    "duration": 13,
    "start_time": "2023-07-03T09:54:35.392Z"
   },
   {
    "duration": 16,
    "start_time": "2023-07-03T09:54:35.407Z"
   },
   {
    "duration": 7,
    "start_time": "2023-07-03T09:54:35.425Z"
   },
   {
    "duration": 29,
    "start_time": "2023-07-03T09:54:35.434Z"
   },
   {
    "duration": 11,
    "start_time": "2023-07-03T09:54:35.476Z"
   },
   {
    "duration": 19,
    "start_time": "2023-07-03T09:54:35.494Z"
   },
   {
    "duration": 7,
    "start_time": "2023-07-03T09:54:35.515Z"
   },
   {
    "duration": 9,
    "start_time": "2023-07-03T09:54:35.524Z"
   },
   {
    "duration": 15,
    "start_time": "2023-07-03T09:54:35.535Z"
   },
   {
    "duration": 1924,
    "start_time": "2023-07-03T09:54:35.551Z"
   },
   {
    "duration": 0,
    "start_time": "2023-07-03T09:54:37.478Z"
   },
   {
    "duration": 0,
    "start_time": "2023-07-03T09:54:37.483Z"
   },
   {
    "duration": 0,
    "start_time": "2023-07-03T09:54:37.485Z"
   },
   {
    "duration": 0,
    "start_time": "2023-07-03T09:54:37.485Z"
   },
   {
    "duration": 0,
    "start_time": "2023-07-03T09:54:37.488Z"
   },
   {
    "duration": 0,
    "start_time": "2023-07-03T09:54:37.490Z"
   },
   {
    "duration": 0,
    "start_time": "2023-07-03T09:54:37.491Z"
   },
   {
    "duration": 0,
    "start_time": "2023-07-03T09:54:37.492Z"
   },
   {
    "duration": 0,
    "start_time": "2023-07-03T09:54:37.495Z"
   },
   {
    "duration": 0,
    "start_time": "2023-07-03T09:54:37.497Z"
   },
   {
    "duration": 0,
    "start_time": "2023-07-03T09:54:37.498Z"
   },
   {
    "duration": 0,
    "start_time": "2023-07-03T09:54:37.499Z"
   },
   {
    "duration": 0,
    "start_time": "2023-07-03T09:54:37.500Z"
   },
   {
    "duration": 0,
    "start_time": "2023-07-03T09:54:37.501Z"
   },
   {
    "duration": 0,
    "start_time": "2023-07-03T09:54:37.504Z"
   },
   {
    "duration": 0,
    "start_time": "2023-07-03T09:54:37.506Z"
   },
   {
    "duration": 0,
    "start_time": "2023-07-03T09:54:37.507Z"
   },
   {
    "duration": 0,
    "start_time": "2023-07-03T09:54:37.508Z"
   },
   {
    "duration": 0,
    "start_time": "2023-07-03T09:54:37.509Z"
   },
   {
    "duration": 0,
    "start_time": "2023-07-03T09:54:37.511Z"
   },
   {
    "duration": 0,
    "start_time": "2023-07-03T09:54:37.512Z"
   },
   {
    "duration": 0,
    "start_time": "2023-07-03T09:54:37.513Z"
   },
   {
    "duration": 37,
    "start_time": "2023-07-03T09:55:08.954Z"
   },
   {
    "duration": 23,
    "start_time": "2023-07-03T09:55:21.944Z"
   },
   {
    "duration": 1383,
    "start_time": "2023-07-03T09:55:33.029Z"
   },
   {
    "duration": 125,
    "start_time": "2023-07-03T09:55:34.417Z"
   },
   {
    "duration": 29,
    "start_time": "2023-07-03T09:55:34.545Z"
   },
   {
    "duration": 9,
    "start_time": "2023-07-03T09:55:34.579Z"
   },
   {
    "duration": 15,
    "start_time": "2023-07-03T09:55:34.591Z"
   },
   {
    "duration": 19,
    "start_time": "2023-07-03T09:55:34.608Z"
   },
   {
    "duration": 7,
    "start_time": "2023-07-03T09:55:34.629Z"
   },
   {
    "duration": 33,
    "start_time": "2023-07-03T09:55:34.638Z"
   },
   {
    "duration": 15,
    "start_time": "2023-07-03T09:55:34.673Z"
   },
   {
    "duration": 27,
    "start_time": "2023-07-03T09:55:34.692Z"
   },
   {
    "duration": 13,
    "start_time": "2023-07-03T09:55:34.722Z"
   },
   {
    "duration": 7,
    "start_time": "2023-07-03T09:55:34.738Z"
   },
   {
    "duration": 34,
    "start_time": "2023-07-03T09:55:34.748Z"
   },
   {
    "duration": 23,
    "start_time": "2023-07-03T09:55:34.786Z"
   },
   {
    "duration": 17,
    "start_time": "2023-07-03T09:55:34.812Z"
   },
   {
    "duration": 403,
    "start_time": "2023-07-03T09:55:34.831Z"
   },
   {
    "duration": 482,
    "start_time": "2023-07-03T09:55:35.236Z"
   },
   {
    "duration": 244,
    "start_time": "2023-07-03T09:55:35.719Z"
   },
   {
    "duration": 363,
    "start_time": "2023-07-03T09:55:35.966Z"
   },
   {
    "duration": 306,
    "start_time": "2023-07-03T09:55:36.331Z"
   },
   {
    "duration": 381,
    "start_time": "2023-07-03T09:55:36.639Z"
   },
   {
    "duration": 15,
    "start_time": "2023-07-03T09:55:37.022Z"
   },
   {
    "duration": 187,
    "start_time": "2023-07-03T09:55:37.039Z"
   },
   {
    "duration": 5,
    "start_time": "2023-07-03T09:55:37.228Z"
   },
   {
    "duration": 213,
    "start_time": "2023-07-03T09:55:37.235Z"
   },
   {
    "duration": 14,
    "start_time": "2023-07-03T09:55:37.450Z"
   },
   {
    "duration": 139,
    "start_time": "2023-07-03T09:55:37.478Z"
   },
   {
    "duration": 193,
    "start_time": "2023-07-03T09:55:37.621Z"
   },
   {
    "duration": 42,
    "start_time": "2023-07-03T09:55:37.816Z"
   },
   {
    "duration": 201,
    "start_time": "2023-07-03T09:55:37.860Z"
   },
   {
    "duration": 160,
    "start_time": "2023-07-03T09:55:38.063Z"
   },
   {
    "duration": 0,
    "start_time": "2023-07-03T09:55:38.225Z"
   },
   {
    "duration": 0,
    "start_time": "2023-07-03T09:55:38.226Z"
   },
   {
    "duration": 0,
    "start_time": "2023-07-03T09:55:38.228Z"
   },
   {
    "duration": 0,
    "start_time": "2023-07-03T09:55:38.230Z"
   },
   {
    "duration": 0,
    "start_time": "2023-07-03T09:55:38.231Z"
   },
   {
    "duration": 25,
    "start_time": "2023-07-03T09:55:55.626Z"
   },
   {
    "duration": 20,
    "start_time": "2023-07-03T09:55:59.280Z"
   },
   {
    "duration": 22,
    "start_time": "2023-07-03T09:56:03.366Z"
   },
   {
    "duration": 20,
    "start_time": "2023-07-03T09:56:06.081Z"
   },
   {
    "duration": 13,
    "start_time": "2023-07-03T09:56:11.984Z"
   },
   {
    "duration": 44,
    "start_time": "2023-07-03T09:56:21.680Z"
   },
   {
    "duration": 15,
    "start_time": "2023-07-03T09:56:28.545Z"
   },
   {
    "duration": 16,
    "start_time": "2023-07-03T09:56:35.312Z"
   },
   {
    "duration": 207,
    "start_time": "2023-07-03T11:32:20.413Z"
   },
   {
    "duration": 142,
    "start_time": "2023-07-03T11:34:06.432Z"
   },
   {
    "duration": 10,
    "start_time": "2023-07-03T11:34:10.434Z"
   },
   {
    "duration": 10,
    "start_time": "2023-07-03T11:34:16.737Z"
   },
   {
    "duration": 11,
    "start_time": "2023-07-03T11:34:48.309Z"
   },
   {
    "duration": 5,
    "start_time": "2023-07-03T11:35:04.322Z"
   },
   {
    "duration": 26,
    "start_time": "2023-07-03T11:35:07.779Z"
   },
   {
    "duration": 11,
    "start_time": "2023-07-03T11:35:23.247Z"
   },
   {
    "duration": 5,
    "start_time": "2023-07-03T11:35:27.918Z"
   },
   {
    "duration": 12,
    "start_time": "2023-07-03T11:35:40.895Z"
   },
   {
    "duration": 6,
    "start_time": "2023-07-03T11:35:44.415Z"
   },
   {
    "duration": 13,
    "start_time": "2023-07-03T11:36:09.981Z"
   },
   {
    "duration": 26,
    "start_time": "2023-07-03T11:36:37.171Z"
   },
   {
    "duration": 16,
    "start_time": "2023-07-03T11:36:43.432Z"
   },
   {
    "duration": 15,
    "start_time": "2023-07-03T11:36:54.411Z"
   },
   {
    "duration": 20,
    "start_time": "2023-07-03T11:37:27.097Z"
   },
   {
    "duration": 16,
    "start_time": "2023-07-03T11:37:32.098Z"
   },
   {
    "duration": 53,
    "start_time": "2023-07-03T11:37:56.813Z"
   },
   {
    "duration": 20,
    "start_time": "2023-07-03T11:38:04.795Z"
   },
   {
    "duration": 19,
    "start_time": "2023-07-03T11:40:23.835Z"
   },
   {
    "duration": 23,
    "start_time": "2023-07-03T11:40:36.751Z"
   },
   {
    "duration": 27,
    "start_time": "2023-07-03T11:40:44.745Z"
   },
   {
    "duration": 21,
    "start_time": "2023-07-03T11:40:54.993Z"
   },
   {
    "duration": 14,
    "start_time": "2023-07-03T11:40:59.502Z"
   },
   {
    "duration": 267,
    "start_time": "2023-07-03T11:50:39.602Z"
   },
   {
    "duration": 317,
    "start_time": "2023-07-03T11:52:13.000Z"
   },
   {
    "duration": 281,
    "start_time": "2023-07-03T11:52:46.287Z"
   },
   {
    "duration": 10,
    "start_time": "2023-07-03T11:55:37.000Z"
   },
   {
    "duration": 14,
    "start_time": "2023-07-03T11:56:32.321Z"
   },
   {
    "duration": 22,
    "start_time": "2023-07-03T11:56:45.337Z"
   },
   {
    "duration": 29,
    "start_time": "2023-07-03T12:12:38.386Z"
   },
   {
    "duration": 14,
    "start_time": "2023-07-03T12:13:43.424Z"
   },
   {
    "duration": 43,
    "start_time": "2023-07-03T12:13:48.090Z"
   },
   {
    "duration": 45,
    "start_time": "2023-07-03T12:13:51.723Z"
   },
   {
    "duration": 15,
    "start_time": "2023-07-03T12:13:55.498Z"
   },
   {
    "duration": 20,
    "start_time": "2023-07-03T12:17:39.594Z"
   },
   {
    "duration": 24,
    "start_time": "2023-07-03T12:18:46.455Z"
   },
   {
    "duration": 33,
    "start_time": "2023-07-03T12:18:51.503Z"
   },
   {
    "duration": 35,
    "start_time": "2023-07-03T12:19:26.678Z"
   },
   {
    "duration": 22,
    "start_time": "2023-07-03T12:32:44.075Z"
   },
   {
    "duration": 70,
    "start_time": "2023-07-03T12:32:47.644Z"
   },
   {
    "duration": 56,
    "start_time": "2023-07-03T12:32:51.137Z"
   },
   {
    "duration": 13,
    "start_time": "2023-07-03T12:34:01.015Z"
   },
   {
    "duration": 19,
    "start_time": "2023-07-03T12:34:39.944Z"
   },
   {
    "duration": 12,
    "start_time": "2023-07-03T12:34:46.997Z"
   },
   {
    "duration": 33,
    "start_time": "2023-07-03T12:34:51.697Z"
   },
   {
    "duration": 55,
    "start_time": "2023-07-03T12:34:56.207Z"
   },
   {
    "duration": 393,
    "start_time": "2023-07-03T12:37:45.234Z"
   },
   {
    "duration": 294,
    "start_time": "2023-07-03T12:41:44.396Z"
   },
   {
    "duration": 254,
    "start_time": "2023-07-03T12:42:08.518Z"
   },
   {
    "duration": 280,
    "start_time": "2023-07-03T12:42:16.308Z"
   },
   {
    "duration": 269,
    "start_time": "2023-07-03T12:42:25.150Z"
   },
   {
    "duration": 306,
    "start_time": "2023-07-03T12:42:45.250Z"
   },
   {
    "duration": 319,
    "start_time": "2023-07-03T12:42:48.246Z"
   },
   {
    "duration": 332,
    "start_time": "2023-07-03T12:42:56.610Z"
   },
   {
    "duration": 241,
    "start_time": "2023-07-03T12:43:09.591Z"
   },
   {
    "duration": 242,
    "start_time": "2023-07-03T12:43:14.796Z"
   },
   {
    "duration": 352,
    "start_time": "2023-07-03T12:45:15.343Z"
   },
   {
    "duration": 269,
    "start_time": "2023-07-03T12:45:23.731Z"
   },
   {
    "duration": 209,
    "start_time": "2023-07-03T12:45:31.605Z"
   },
   {
    "duration": 252,
    "start_time": "2023-07-03T12:46:09.115Z"
   },
   {
    "duration": 211,
    "start_time": "2023-07-03T12:46:20.495Z"
   },
   {
    "duration": 271,
    "start_time": "2023-07-03T12:46:29.131Z"
   },
   {
    "duration": 248,
    "start_time": "2023-07-03T12:46:48.515Z"
   },
   {
    "duration": 250,
    "start_time": "2023-07-03T12:47:26.745Z"
   },
   {
    "duration": 332,
    "start_time": "2023-07-03T12:47:30.574Z"
   },
   {
    "duration": 369,
    "start_time": "2023-07-03T12:48:47.173Z"
   },
   {
    "duration": 415,
    "start_time": "2023-07-03T12:48:52.876Z"
   },
   {
    "duration": 325,
    "start_time": "2023-07-03T12:49:31.435Z"
   },
   {
    "duration": 433,
    "start_time": "2023-07-03T12:49:35.713Z"
   },
   {
    "duration": 460,
    "start_time": "2023-07-03T12:50:11.523Z"
   },
   {
    "duration": 400,
    "start_time": "2023-07-03T12:50:15.807Z"
   },
   {
    "duration": 218,
    "start_time": "2023-07-03T12:50:40.346Z"
   },
   {
    "duration": 227,
    "start_time": "2023-07-03T12:51:00.137Z"
   },
   {
    "duration": 156,
    "start_time": "2023-07-03T12:51:55.064Z"
   },
   {
    "duration": 177,
    "start_time": "2023-07-03T12:51:58.343Z"
   },
   {
    "duration": 140,
    "start_time": "2023-07-03T12:52:01.797Z"
   },
   {
    "duration": 229,
    "start_time": "2023-07-03T12:52:26.696Z"
   },
   {
    "duration": 207,
    "start_time": "2023-07-03T12:52:36.373Z"
   },
   {
    "duration": 179,
    "start_time": "2023-07-03T12:52:42.230Z"
   },
   {
    "duration": 120,
    "start_time": "2023-07-03T12:52:49.299Z"
   },
   {
    "duration": 169,
    "start_time": "2023-07-03T12:52:50.813Z"
   },
   {
    "duration": 48,
    "start_time": "2023-07-03T12:52:52.182Z"
   },
   {
    "duration": 207,
    "start_time": "2023-07-03T12:52:54.276Z"
   },
   {
    "duration": 42,
    "start_time": "2023-07-03T12:52:55.776Z"
   },
   {
    "duration": 15,
    "start_time": "2023-07-03T12:52:58.633Z"
   },
   {
    "duration": 18,
    "start_time": "2023-07-03T12:53:00.413Z"
   },
   {
    "duration": 42,
    "start_time": "2023-07-03T12:53:02.193Z"
   },
   {
    "duration": 371,
    "start_time": "2023-07-03T12:53:04.362Z"
   },
   {
    "duration": 1464,
    "start_time": "2023-07-03T12:58:41.855Z"
   },
   {
    "duration": 1525,
    "start_time": "2023-07-03T12:58:49.410Z"
   },
   {
    "duration": 27,
    "start_time": "2023-07-03T12:59:16.866Z"
   },
   {
    "duration": 12,
    "start_time": "2023-07-03T12:59:41.538Z"
   },
   {
    "duration": 11,
    "start_time": "2023-07-03T12:59:50.116Z"
   },
   {
    "duration": 1447,
    "start_time": "2023-07-03T13:03:20.231Z"
   },
   {
    "duration": 1419,
    "start_time": "2023-07-03T13:05:08.454Z"
   },
   {
    "duration": 208,
    "start_time": "2023-07-03T13:06:56.460Z"
   },
   {
    "duration": 176,
    "start_time": "2023-07-03T13:08:22.205Z"
   },
   {
    "duration": 14,
    "start_time": "2023-07-03T13:09:17.679Z"
   },
   {
    "duration": 209,
    "start_time": "2023-07-03T13:09:22.053Z"
   },
   {
    "duration": 346,
    "start_time": "2023-07-03T13:09:23.344Z"
   },
   {
    "duration": 17,
    "start_time": "2023-07-03T13:09:40.817Z"
   },
   {
    "duration": 1282,
    "start_time": "2023-07-03T13:09:48.117Z"
   },
   {
    "duration": 224,
    "start_time": "2023-07-03T13:09:49.400Z"
   },
   {
    "duration": 12,
    "start_time": "2023-07-03T13:09:49.625Z"
   },
   {
    "duration": 29,
    "start_time": "2023-07-03T13:09:49.639Z"
   },
   {
    "duration": 18,
    "start_time": "2023-07-03T13:09:49.671Z"
   },
   {
    "duration": 27,
    "start_time": "2023-07-03T13:09:49.691Z"
   },
   {
    "duration": 11,
    "start_time": "2023-07-03T13:09:49.720Z"
   },
   {
    "duration": 7,
    "start_time": "2023-07-03T13:09:49.733Z"
   },
   {
    "duration": 9,
    "start_time": "2023-07-03T13:09:49.741Z"
   },
   {
    "duration": 21,
    "start_time": "2023-07-03T13:09:49.751Z"
   },
   {
    "duration": 18,
    "start_time": "2023-07-03T13:09:49.774Z"
   },
   {
    "duration": 18,
    "start_time": "2023-07-03T13:09:49.794Z"
   },
   {
    "duration": 38,
    "start_time": "2023-07-03T13:09:49.814Z"
   },
   {
    "duration": 20,
    "start_time": "2023-07-03T13:09:49.859Z"
   },
   {
    "duration": 46,
    "start_time": "2023-07-03T13:09:49.881Z"
   },
   {
    "duration": 365,
    "start_time": "2023-07-03T13:09:49.928Z"
   },
   {
    "duration": 365,
    "start_time": "2023-07-03T13:09:50.295Z"
   },
   {
    "duration": 247,
    "start_time": "2023-07-03T13:09:50.662Z"
   },
   {
    "duration": 402,
    "start_time": "2023-07-03T13:09:50.912Z"
   },
   {
    "duration": 275,
    "start_time": "2023-07-03T13:09:51.316Z"
   },
   {
    "duration": 328,
    "start_time": "2023-07-03T13:09:51.593Z"
   },
   {
    "duration": 12,
    "start_time": "2023-07-03T13:09:51.923Z"
   },
   {
    "duration": 153,
    "start_time": "2023-07-03T13:09:51.936Z"
   },
   {
    "duration": 5,
    "start_time": "2023-07-03T13:09:52.090Z"
   },
   {
    "duration": 163,
    "start_time": "2023-07-03T13:09:52.097Z"
   },
   {
    "duration": 5,
    "start_time": "2023-07-03T13:09:52.262Z"
   },
   {
    "duration": 114,
    "start_time": "2023-07-03T13:09:52.269Z"
   },
   {
    "duration": 137,
    "start_time": "2023-07-03T13:09:52.386Z"
   },
   {
    "duration": 40,
    "start_time": "2023-07-03T13:09:52.525Z"
   },
   {
    "duration": 180,
    "start_time": "2023-07-03T13:09:52.567Z"
   },
   {
    "duration": 31,
    "start_time": "2023-07-03T13:09:52.753Z"
   },
   {
    "duration": 14,
    "start_time": "2023-07-03T13:09:52.786Z"
   },
   {
    "duration": 14,
    "start_time": "2023-07-03T13:09:52.802Z"
   },
   {
    "duration": 66,
    "start_time": "2023-07-03T13:09:52.818Z"
   },
   {
    "duration": 15,
    "start_time": "2023-07-03T13:09:52.885Z"
   },
   {
    "duration": 202,
    "start_time": "2023-07-03T13:09:52.901Z"
   },
   {
    "duration": 425,
    "start_time": "2023-07-03T13:09:53.105Z"
   },
   {
    "duration": 359,
    "start_time": "2023-07-03T13:10:40.220Z"
   },
   {
    "duration": 12,
    "start_time": "2023-07-03T13:11:01.314Z"
   },
   {
    "duration": 30,
    "start_time": "2023-07-03T13:11:04.004Z"
   },
   {
    "duration": 228,
    "start_time": "2023-07-03T13:11:06.608Z"
   },
   {
    "duration": 16,
    "start_time": "2023-07-03T13:11:11.032Z"
   },
   {
    "duration": 178,
    "start_time": "2023-07-03T13:11:13.006Z"
   },
   {
    "duration": 335,
    "start_time": "2023-07-03T13:11:14.011Z"
   },
   {
    "duration": 373,
    "start_time": "2023-07-03T13:11:21.773Z"
   },
   {
    "duration": 383,
    "start_time": "2023-07-03T13:12:10.312Z"
   },
   {
    "duration": 363,
    "start_time": "2023-07-03T13:12:39.550Z"
   },
   {
    "duration": 360,
    "start_time": "2023-07-03T13:13:31.311Z"
   },
   {
    "duration": 331,
    "start_time": "2023-07-03T13:13:53.698Z"
   },
   {
    "duration": 317,
    "start_time": "2023-07-03T13:14:09.109Z"
   },
   {
    "duration": 34,
    "start_time": "2023-07-03T13:14:24.090Z"
   },
   {
    "duration": 20,
    "start_time": "2023-07-03T13:14:42.844Z"
   },
   {
    "duration": 13,
    "start_time": "2023-07-03T13:15:06.816Z"
   },
   {
    "duration": 31,
    "start_time": "2023-07-03T13:15:08.592Z"
   },
   {
    "duration": 15,
    "start_time": "2023-07-03T13:15:10.588Z"
   },
   {
    "duration": 191,
    "start_time": "2023-07-03T13:15:13.704Z"
   },
   {
    "duration": 376,
    "start_time": "2023-07-03T13:15:16.246Z"
   },
   {
    "duration": 304,
    "start_time": "2023-07-03T13:15:19.595Z"
   },
   {
    "duration": 352,
    "start_time": "2023-07-03T13:20:01.021Z"
   },
   {
    "duration": 471,
    "start_time": "2023-07-03T13:20:04.821Z"
   },
   {
    "duration": 140,
    "start_time": "2023-07-03T13:26:33.011Z"
   },
   {
    "duration": 203,
    "start_time": "2023-07-03T13:26:48.353Z"
   },
   {
    "duration": 151,
    "start_time": "2023-07-03T13:26:52.072Z"
   },
   {
    "duration": 3,
    "start_time": "2023-07-03T13:30:20.800Z"
   },
   {
    "duration": 32,
    "start_time": "2023-07-03T13:31:18.064Z"
   },
   {
    "duration": 16,
    "start_time": "2023-07-03T13:31:19.298Z"
   },
   {
    "duration": 196,
    "start_time": "2023-07-03T13:31:21.710Z"
   },
   {
    "duration": 298,
    "start_time": "2023-07-03T13:31:22.905Z"
   },
   {
    "duration": 355,
    "start_time": "2023-07-03T13:31:24.893Z"
   },
   {
    "duration": 29,
    "start_time": "2023-07-03T13:37:14.070Z"
   },
   {
    "duration": 247,
    "start_time": "2023-07-03T13:49:53.991Z"
   },
   {
    "duration": 346,
    "start_time": "2023-07-03T13:50:37.781Z"
   },
   {
    "duration": 122,
    "start_time": "2023-07-03T13:57:01.374Z"
   },
   {
    "duration": 117,
    "start_time": "2023-07-03T13:57:05.496Z"
   },
   {
    "duration": 1483,
    "start_time": "2023-07-03T13:57:32.022Z"
   },
   {
    "duration": 146,
    "start_time": "2023-07-03T13:57:59.504Z"
   },
   {
    "duration": 238,
    "start_time": "2023-07-03T13:58:02.191Z"
   },
   {
    "duration": 147,
    "start_time": "2023-07-03T13:58:09.984Z"
   },
   {
    "duration": 151,
    "start_time": "2023-07-03T13:58:20.985Z"
   },
   {
    "duration": 249,
    "start_time": "2023-07-03T13:58:31.325Z"
   },
   {
    "duration": 196,
    "start_time": "2023-07-03T13:58:35.390Z"
   },
   {
    "duration": 197,
    "start_time": "2023-07-03T13:58:41.123Z"
   },
   {
    "duration": 122,
    "start_time": "2023-07-03T13:58:52.950Z"
   },
   {
    "duration": 101,
    "start_time": "2023-07-03T13:58:59.436Z"
   },
   {
    "duration": 135,
    "start_time": "2023-07-03T13:59:19.536Z"
   },
   {
    "duration": 247,
    "start_time": "2023-07-03T13:59:34.374Z"
   },
   {
    "duration": 1207,
    "start_time": "2023-07-03T14:01:15.003Z"
   },
   {
    "duration": 80,
    "start_time": "2023-07-03T14:01:16.212Z"
   },
   {
    "duration": 13,
    "start_time": "2023-07-03T14:01:16.294Z"
   },
   {
    "duration": 5,
    "start_time": "2023-07-03T14:01:16.309Z"
   },
   {
    "duration": 9,
    "start_time": "2023-07-03T14:01:16.315Z"
   },
   {
    "duration": 16,
    "start_time": "2023-07-03T14:01:16.326Z"
   },
   {
    "duration": 5,
    "start_time": "2023-07-03T14:01:16.344Z"
   },
   {
    "duration": 16,
    "start_time": "2023-07-03T14:01:16.351Z"
   },
   {
    "duration": 8,
    "start_time": "2023-07-03T14:01:16.369Z"
   },
   {
    "duration": 16,
    "start_time": "2023-07-03T14:01:16.379Z"
   },
   {
    "duration": 6,
    "start_time": "2023-07-03T14:01:16.397Z"
   },
   {
    "duration": 7,
    "start_time": "2023-07-03T14:01:16.405Z"
   },
   {
    "duration": 11,
    "start_time": "2023-07-03T14:01:16.414Z"
   },
   {
    "duration": 45,
    "start_time": "2023-07-03T14:01:16.427Z"
   },
   {
    "duration": 16,
    "start_time": "2023-07-03T14:01:16.475Z"
   },
   {
    "duration": 346,
    "start_time": "2023-07-03T14:01:16.493Z"
   },
   {
    "duration": 353,
    "start_time": "2023-07-03T14:01:16.841Z"
   },
   {
    "duration": 294,
    "start_time": "2023-07-03T14:01:17.197Z"
   },
   {
    "duration": 351,
    "start_time": "2023-07-03T14:01:17.494Z"
   },
   {
    "duration": 265,
    "start_time": "2023-07-03T14:01:17.854Z"
   },
   {
    "duration": 377,
    "start_time": "2023-07-03T14:01:18.121Z"
   },
   {
    "duration": 13,
    "start_time": "2023-07-03T14:01:18.500Z"
   },
   {
    "duration": 159,
    "start_time": "2023-07-03T14:01:18.514Z"
   },
   {
    "duration": 5,
    "start_time": "2023-07-03T14:01:18.675Z"
   },
   {
    "duration": 170,
    "start_time": "2023-07-03T14:01:18.682Z"
   },
   {
    "duration": 14,
    "start_time": "2023-07-03T14:01:18.854Z"
   },
   {
    "duration": 110,
    "start_time": "2023-07-03T14:01:18.869Z"
   },
   {
    "duration": 144,
    "start_time": "2023-07-03T14:01:18.983Z"
   },
   {
    "duration": 44,
    "start_time": "2023-07-03T14:01:19.129Z"
   },
   {
    "duration": 151,
    "start_time": "2023-07-03T14:01:19.175Z"
   },
   {
    "duration": 63,
    "start_time": "2023-07-03T14:01:19.328Z"
   },
   {
    "duration": 14,
    "start_time": "2023-07-03T14:01:19.393Z"
   },
   {
    "duration": 13,
    "start_time": "2023-07-03T14:01:19.410Z"
   },
   {
    "duration": 61,
    "start_time": "2023-07-03T14:01:19.425Z"
   },
   {
    "duration": 16,
    "start_time": "2023-07-03T14:01:19.488Z"
   },
   {
    "duration": 205,
    "start_time": "2023-07-03T14:01:19.506Z"
   },
   {
    "duration": 417,
    "start_time": "2023-07-03T14:01:19.713Z"
   },
   {
    "duration": 380,
    "start_time": "2023-07-03T14:01:20.132Z"
   },
   {
    "duration": 345,
    "start_time": "2023-07-03T14:02:14.067Z"
   },
   {
    "duration": 39,
    "start_time": "2023-07-03T14:03:13.435Z"
   },
   {
    "duration": 10,
    "start_time": "2023-07-03T14:12:58.297Z"
   },
   {
    "duration": 31,
    "start_time": "2023-07-03T14:13:15.808Z"
   },
   {
    "duration": 16,
    "start_time": "2023-07-03T14:13:18.118Z"
   },
   {
    "duration": 190,
    "start_time": "2023-07-03T14:13:21.283Z"
   },
   {
    "duration": 326,
    "start_time": "2023-07-03T14:13:22.575Z"
   },
   {
    "duration": 404,
    "start_time": "2023-07-03T14:13:25.031Z"
   },
   {
    "duration": 107,
    "start_time": "2023-07-03T14:14:31.785Z"
   },
   {
    "duration": 130,
    "start_time": "2023-07-03T14:14:33.427Z"
   },
   {
    "duration": 186,
    "start_time": "2023-07-03T14:14:38.342Z"
   },
   {
    "duration": 37,
    "start_time": "2023-07-03T14:14:40.640Z"
   },
   {
    "duration": 16,
    "start_time": "2023-07-03T14:14:43.341Z"
   },
   {
    "duration": 17,
    "start_time": "2023-07-03T14:14:47.615Z"
   },
   {
    "duration": 37,
    "start_time": "2023-07-03T14:14:50.370Z"
   },
   {
    "duration": 16,
    "start_time": "2023-07-03T14:14:52.296Z"
   },
   {
    "duration": 186,
    "start_time": "2023-07-03T14:14:54.014Z"
   },
   {
    "duration": 329,
    "start_time": "2023-07-03T14:14:54.490Z"
   },
   {
    "duration": 402,
    "start_time": "2023-07-03T14:14:56.833Z"
   },
   {
    "duration": 38,
    "start_time": "2023-07-03T14:16:32.913Z"
   },
   {
    "duration": 27,
    "start_time": "2023-07-03T14:17:26.210Z"
   },
   {
    "duration": 277,
    "start_time": "2023-07-03T14:25:38.819Z"
   },
   {
    "duration": 325,
    "start_time": "2023-07-03T14:26:00.407Z"
   },
   {
    "duration": 511,
    "start_time": "2023-07-03T14:40:15.919Z"
   },
   {
    "duration": 51,
    "start_time": "2023-07-03T14:55:24.978Z"
   },
   {
    "duration": 1403,
    "start_time": "2023-07-03T14:59:24.540Z"
   },
   {
    "duration": 95,
    "start_time": "2023-07-03T14:59:25.954Z"
   },
   {
    "duration": 28,
    "start_time": "2023-07-03T14:59:26.051Z"
   },
   {
    "duration": 22,
    "start_time": "2023-07-03T14:59:26.083Z"
   },
   {
    "duration": 22,
    "start_time": "2023-07-03T14:59:26.107Z"
   },
   {
    "duration": 57,
    "start_time": "2023-07-03T14:59:26.131Z"
   },
   {
    "duration": 26,
    "start_time": "2023-07-03T14:59:26.194Z"
   },
   {
    "duration": 32,
    "start_time": "2023-07-03T14:59:26.222Z"
   },
   {
    "duration": 23,
    "start_time": "2023-07-03T14:59:26.259Z"
   },
   {
    "duration": 11,
    "start_time": "2023-07-03T14:59:26.288Z"
   },
   {
    "duration": 16,
    "start_time": "2023-07-03T14:59:26.301Z"
   },
   {
    "duration": 13,
    "start_time": "2023-07-03T14:59:26.318Z"
   },
   {
    "duration": 23,
    "start_time": "2023-07-03T14:59:26.333Z"
   },
   {
    "duration": 30,
    "start_time": "2023-07-03T14:59:26.360Z"
   },
   {
    "duration": 31,
    "start_time": "2023-07-03T14:59:26.392Z"
   },
   {
    "duration": 409,
    "start_time": "2023-07-03T14:59:26.426Z"
   },
   {
    "duration": 375,
    "start_time": "2023-07-03T14:59:26.837Z"
   },
   {
    "duration": 319,
    "start_time": "2023-07-03T14:59:27.214Z"
   },
   {
    "duration": 417,
    "start_time": "2023-07-03T14:59:27.535Z"
   },
   {
    "duration": 323,
    "start_time": "2023-07-03T14:59:27.957Z"
   },
   {
    "duration": 354,
    "start_time": "2023-07-03T14:59:28.286Z"
   },
   {
    "duration": 34,
    "start_time": "2023-07-03T14:59:28.642Z"
   },
   {
    "duration": 159,
    "start_time": "2023-07-03T14:59:28.689Z"
   },
   {
    "duration": 10,
    "start_time": "2023-07-03T14:59:28.850Z"
   },
   {
    "duration": 173,
    "start_time": "2023-07-03T14:59:28.867Z"
   },
   {
    "duration": 6,
    "start_time": "2023-07-03T14:59:29.042Z"
   },
   {
    "duration": 110,
    "start_time": "2023-07-03T14:59:29.060Z"
   },
   {
    "duration": 144,
    "start_time": "2023-07-03T14:59:29.175Z"
   },
   {
    "duration": 41,
    "start_time": "2023-07-03T14:59:29.322Z"
   },
   {
    "duration": 161,
    "start_time": "2023-07-03T14:59:29.365Z"
   },
   {
    "duration": 60,
    "start_time": "2023-07-03T14:59:29.528Z"
   },
   {
    "duration": 12,
    "start_time": "2023-07-03T14:59:29.591Z"
   },
   {
    "duration": 39,
    "start_time": "2023-07-03T14:59:29.605Z"
   },
   {
    "duration": 93,
    "start_time": "2023-07-03T14:59:29.646Z"
   },
   {
    "duration": 28,
    "start_time": "2023-07-03T14:59:29.741Z"
   },
   {
    "duration": 289,
    "start_time": "2023-07-03T14:59:29.773Z"
   },
   {
    "duration": 474,
    "start_time": "2023-07-03T14:59:30.067Z"
   },
   {
    "duration": 386,
    "start_time": "2023-07-03T14:59:30.544Z"
   },
   {
    "duration": 46,
    "start_time": "2023-07-03T17:09:28.141Z"
   },
   {
    "duration": 6,
    "start_time": "2023-07-03T17:09:32.863Z"
   },
   {
    "duration": 1214,
    "start_time": "2023-07-03T17:09:37.772Z"
   },
   {
    "duration": 184,
    "start_time": "2023-07-03T17:09:39.500Z"
   },
   {
    "duration": 3,
    "start_time": "2023-07-03T17:09:41.588Z"
   },
   {
    "duration": 12,
    "start_time": "2023-07-03T17:09:47.146Z"
   },
   {
    "duration": 7,
    "start_time": "2023-07-03T17:09:50.519Z"
   },
   {
    "duration": 8,
    "start_time": "2023-07-03T17:10:26.248Z"
   },
   {
    "duration": 4,
    "start_time": "2023-07-03T17:10:41.473Z"
   },
   {
    "duration": 1037,
    "start_time": "2023-07-03T17:12:03.564Z"
   },
   {
    "duration": 77,
    "start_time": "2023-07-03T17:12:04.602Z"
   },
   {
    "duration": 15,
    "start_time": "2023-07-03T17:12:04.682Z"
   },
   {
    "duration": 13,
    "start_time": "2023-07-03T17:12:04.698Z"
   },
   {
    "duration": 28,
    "start_time": "2023-07-03T17:12:04.714Z"
   },
   {
    "duration": 24,
    "start_time": "2023-07-03T17:12:04.744Z"
   },
   {
    "duration": 19,
    "start_time": "2023-07-03T17:12:04.770Z"
   },
   {
    "duration": 11,
    "start_time": "2023-07-03T17:12:04.792Z"
   },
   {
    "duration": 20,
    "start_time": "2023-07-03T17:12:04.805Z"
   },
   {
    "duration": 57,
    "start_time": "2023-07-03T17:12:04.827Z"
   },
   {
    "duration": 24,
    "start_time": "2023-07-03T17:12:04.885Z"
   },
   {
    "duration": 10,
    "start_time": "2023-07-03T17:12:04.911Z"
   },
   {
    "duration": 31,
    "start_time": "2023-07-03T17:12:04.923Z"
   },
   {
    "duration": 11,
    "start_time": "2023-07-03T17:12:04.958Z"
   },
   {
    "duration": 25,
    "start_time": "2023-07-03T17:12:04.971Z"
   },
   {
    "duration": 11,
    "start_time": "2023-07-03T17:12:04.998Z"
   },
   {
    "duration": 307,
    "start_time": "2023-07-03T17:12:05.011Z"
   },
   {
    "duration": 352,
    "start_time": "2023-07-03T17:12:05.320Z"
   },
   {
    "duration": 223,
    "start_time": "2023-07-03T17:12:05.674Z"
   },
   {
    "duration": 358,
    "start_time": "2023-07-03T17:12:05.899Z"
   },
   {
    "duration": 242,
    "start_time": "2023-07-03T17:12:06.259Z"
   },
   {
    "duration": 371,
    "start_time": "2023-07-03T17:12:06.503Z"
   },
   {
    "duration": 17,
    "start_time": "2023-07-03T17:12:06.876Z"
   },
   {
    "duration": 175,
    "start_time": "2023-07-03T17:12:06.895Z"
   },
   {
    "duration": 5,
    "start_time": "2023-07-03T17:12:07.072Z"
   },
   {
    "duration": 166,
    "start_time": "2023-07-03T17:12:07.079Z"
   },
   {
    "duration": 5,
    "start_time": "2023-07-03T17:12:07.247Z"
   },
   {
    "duration": 100,
    "start_time": "2023-07-03T17:12:07.254Z"
   },
   {
    "duration": 154,
    "start_time": "2023-07-03T17:12:07.356Z"
   },
   {
    "duration": 44,
    "start_time": "2023-07-03T17:12:07.512Z"
   },
   {
    "duration": 249,
    "start_time": "2023-07-03T17:12:07.559Z"
   },
   {
    "duration": 37,
    "start_time": "2023-07-03T17:12:07.810Z"
   },
   {
    "duration": 15,
    "start_time": "2023-07-03T17:12:07.850Z"
   },
   {
    "duration": 14,
    "start_time": "2023-07-03T17:12:07.868Z"
   },
   {
    "duration": 61,
    "start_time": "2023-07-03T17:12:07.884Z"
   },
   {
    "duration": 20,
    "start_time": "2023-07-03T17:12:07.948Z"
   },
   {
    "duration": 171,
    "start_time": "2023-07-03T17:12:07.970Z"
   },
   {
    "duration": 378,
    "start_time": "2023-07-03T17:12:08.142Z"
   },
   {
    "duration": 384,
    "start_time": "2023-07-03T17:12:08.522Z"
   },
   {
    "duration": 1130,
    "start_time": "2023-07-03T17:13:06.404Z"
   },
   {
    "duration": 909,
    "start_time": "2023-07-03T17:13:12.837Z"
   },
   {
    "duration": 12,
    "start_time": "2023-07-03T17:13:16.853Z"
   },
   {
    "duration": 53,
    "start_time": "2023-07-03T17:13:21.802Z"
   },
   {
    "duration": 4,
    "start_time": "2023-07-03T17:13:23.983Z"
   },
   {
    "duration": 14,
    "start_time": "2023-07-03T17:30:20.039Z"
   },
   {
    "duration": 78,
    "start_time": "2023-07-03T17:30:36.042Z"
   },
   {
    "duration": 11,
    "start_time": "2023-07-03T17:31:06.346Z"
   },
   {
    "duration": 13,
    "start_time": "2023-07-03T17:31:42.113Z"
   },
   {
    "duration": 340,
    "start_time": "2023-07-03T17:31:44.614Z"
   },
   {
    "duration": 193,
    "start_time": "2023-07-03T17:31:48.468Z"
   },
   {
    "duration": 5,
    "start_time": "2023-07-03T17:40:16.106Z"
   },
   {
    "duration": 6,
    "start_time": "2023-07-03T17:40:20.260Z"
   },
   {
    "duration": 5,
    "start_time": "2023-07-03T17:40:23.904Z"
   },
   {
    "duration": 8,
    "start_time": "2023-07-03T17:40:30.530Z"
   },
   {
    "duration": 5,
    "start_time": "2023-07-03T17:40:35.303Z"
   },
   {
    "duration": 5,
    "start_time": "2023-07-03T17:40:38.913Z"
   },
   {
    "duration": 5,
    "start_time": "2023-07-03T17:41:44.260Z"
   },
   {
    "duration": 59,
    "start_time": "2023-07-03T17:41:48.058Z"
   },
   {
    "duration": 5,
    "start_time": "2023-07-03T17:41:51.164Z"
   },
   {
    "duration": 5,
    "start_time": "2023-07-03T17:41:56.813Z"
   },
   {
    "duration": 19,
    "start_time": "2023-07-03T17:42:21.321Z"
   },
   {
    "duration": 12,
    "start_time": "2023-07-03T17:42:33.516Z"
   },
   {
    "duration": 14,
    "start_time": "2023-07-03T17:42:54.702Z"
   },
   {
    "duration": 1082,
    "start_time": "2023-07-03T17:45:15.623Z"
   },
   {
    "duration": 74,
    "start_time": "2023-07-03T17:45:16.707Z"
   },
   {
    "duration": 11,
    "start_time": "2023-07-03T17:45:16.783Z"
   },
   {
    "duration": 7,
    "start_time": "2023-07-03T17:45:16.795Z"
   },
   {
    "duration": 9,
    "start_time": "2023-07-03T17:45:16.804Z"
   },
   {
    "duration": 10,
    "start_time": "2023-07-03T17:45:16.815Z"
   },
   {
    "duration": 13,
    "start_time": "2023-07-03T17:45:16.827Z"
   },
   {
    "duration": 10,
    "start_time": "2023-07-03T17:45:16.842Z"
   },
   {
    "duration": 20,
    "start_time": "2023-07-03T17:45:16.854Z"
   },
   {
    "duration": 16,
    "start_time": "2023-07-03T17:45:16.875Z"
   },
   {
    "duration": 20,
    "start_time": "2023-07-03T17:45:16.893Z"
   },
   {
    "duration": 8,
    "start_time": "2023-07-03T17:45:16.915Z"
   },
   {
    "duration": 7,
    "start_time": "2023-07-03T17:45:16.925Z"
   },
   {
    "duration": 18,
    "start_time": "2023-07-03T17:45:16.935Z"
   },
   {
    "duration": 28,
    "start_time": "2023-07-03T17:45:16.955Z"
   },
   {
    "duration": 43,
    "start_time": "2023-07-03T17:45:16.985Z"
   },
   {
    "duration": 16,
    "start_time": "2023-07-03T17:45:17.030Z"
   },
   {
    "duration": 24,
    "start_time": "2023-07-03T17:45:17.048Z"
   },
   {
    "duration": 14,
    "start_time": "2023-07-03T17:45:17.074Z"
   },
   {
    "duration": 277,
    "start_time": "2023-07-03T17:45:17.089Z"
   },
   {
    "duration": 311,
    "start_time": "2023-07-03T17:45:17.368Z"
   },
   {
    "duration": 235,
    "start_time": "2023-07-03T17:45:17.681Z"
   },
   {
    "duration": 359,
    "start_time": "2023-07-03T17:45:17.917Z"
   },
   {
    "duration": 215,
    "start_time": "2023-07-03T17:45:18.279Z"
   },
   {
    "duration": 302,
    "start_time": "2023-07-03T17:45:18.496Z"
   },
   {
    "duration": 10,
    "start_time": "2023-07-03T17:45:18.799Z"
   },
   {
    "duration": 151,
    "start_time": "2023-07-03T17:45:18.811Z"
   },
   {
    "duration": 5,
    "start_time": "2023-07-03T17:45:18.964Z"
   },
   {
    "duration": 138,
    "start_time": "2023-07-03T17:45:18.971Z"
   },
   {
    "duration": 5,
    "start_time": "2023-07-03T17:45:19.111Z"
   },
   {
    "duration": 91,
    "start_time": "2023-07-03T17:45:19.117Z"
   },
   {
    "duration": 131,
    "start_time": "2023-07-03T17:45:19.210Z"
   },
   {
    "duration": 25,
    "start_time": "2023-07-03T17:45:19.343Z"
   },
   {
    "duration": 120,
    "start_time": "2023-07-03T17:45:19.370Z"
   },
   {
    "duration": 42,
    "start_time": "2023-07-03T17:45:19.492Z"
   },
   {
    "duration": 11,
    "start_time": "2023-07-03T17:45:19.536Z"
   },
   {
    "duration": 11,
    "start_time": "2023-07-03T17:45:19.548Z"
   },
   {
    "duration": 27,
    "start_time": "2023-07-03T17:45:19.560Z"
   },
   {
    "duration": 47,
    "start_time": "2023-07-03T17:45:19.589Z"
   },
   {
    "duration": 179,
    "start_time": "2023-07-03T17:45:19.639Z"
   },
   {
    "duration": 403,
    "start_time": "2023-07-03T17:45:19.822Z"
   },
   {
    "duration": 360,
    "start_time": "2023-07-03T17:45:20.226Z"
   },
   {
    "duration": 11,
    "start_time": "2023-07-03T17:46:29.711Z"
   },
   {
    "duration": 8,
    "start_time": "2023-07-03T17:46:34.194Z"
   },
   {
    "duration": 1170,
    "start_time": "2023-07-03T17:46:40.604Z"
   },
   {
    "duration": 80,
    "start_time": "2023-07-03T17:46:41.776Z"
   },
   {
    "duration": 11,
    "start_time": "2023-07-03T17:46:41.857Z"
   },
   {
    "duration": 19,
    "start_time": "2023-07-03T17:46:41.869Z"
   },
   {
    "duration": 12,
    "start_time": "2023-07-03T17:46:41.890Z"
   },
   {
    "duration": 26,
    "start_time": "2023-07-03T17:46:41.903Z"
   },
   {
    "duration": 36,
    "start_time": "2023-07-03T17:46:41.931Z"
   },
   {
    "duration": 26,
    "start_time": "2023-07-03T17:46:41.969Z"
   },
   {
    "duration": 28,
    "start_time": "2023-07-03T17:46:41.997Z"
   },
   {
    "duration": 35,
    "start_time": "2023-07-03T17:46:42.027Z"
   },
   {
    "duration": 34,
    "start_time": "2023-07-03T17:46:42.064Z"
   },
   {
    "duration": 26,
    "start_time": "2023-07-03T17:46:42.100Z"
   },
   {
    "duration": 36,
    "start_time": "2023-07-03T17:46:42.127Z"
   },
   {
    "duration": 37,
    "start_time": "2023-07-03T17:46:42.166Z"
   },
   {
    "duration": 51,
    "start_time": "2023-07-03T17:46:42.205Z"
   },
   {
    "duration": 22,
    "start_time": "2023-07-03T17:46:42.257Z"
   },
   {
    "duration": 38,
    "start_time": "2023-07-03T17:46:42.281Z"
   },
   {
    "duration": 33,
    "start_time": "2023-07-03T17:46:42.320Z"
   },
   {
    "duration": 13,
    "start_time": "2023-07-03T17:46:42.355Z"
   },
   {
    "duration": 292,
    "start_time": "2023-07-03T17:46:42.369Z"
   },
   {
    "duration": 293,
    "start_time": "2023-07-03T17:46:42.668Z"
   },
   {
    "duration": 220,
    "start_time": "2023-07-03T17:46:42.963Z"
   },
   {
    "duration": 302,
    "start_time": "2023-07-03T17:46:43.184Z"
   },
   {
    "duration": 228,
    "start_time": "2023-07-03T17:46:43.488Z"
   },
   {
    "duration": 341,
    "start_time": "2023-07-03T17:46:43.718Z"
   },
   {
    "duration": 10,
    "start_time": "2023-07-03T17:46:44.061Z"
   },
   {
    "duration": 147,
    "start_time": "2023-07-03T17:46:44.072Z"
   },
   {
    "duration": 6,
    "start_time": "2023-07-03T17:46:44.220Z"
   },
   {
    "duration": 165,
    "start_time": "2023-07-03T17:46:44.233Z"
   },
   {
    "duration": 5,
    "start_time": "2023-07-03T17:46:44.399Z"
   },
   {
    "duration": 120,
    "start_time": "2023-07-03T17:46:44.406Z"
   },
   {
    "duration": 127,
    "start_time": "2023-07-03T17:46:44.527Z"
   },
   {
    "duration": 44,
    "start_time": "2023-07-03T17:46:44.656Z"
   },
   {
    "duration": 210,
    "start_time": "2023-07-03T17:46:44.702Z"
   },
   {
    "duration": 45,
    "start_time": "2023-07-03T17:46:44.914Z"
   },
   {
    "duration": 10,
    "start_time": "2023-07-03T17:46:44.961Z"
   },
   {
    "duration": 12,
    "start_time": "2023-07-03T17:46:44.972Z"
   },
   {
    "duration": 62,
    "start_time": "2023-07-03T17:46:44.986Z"
   },
   {
    "duration": 18,
    "start_time": "2023-07-03T17:46:45.051Z"
   },
   {
    "duration": 176,
    "start_time": "2023-07-03T17:46:45.071Z"
   },
   {
    "duration": 424,
    "start_time": "2023-07-03T17:46:45.251Z"
   },
   {
    "duration": 338,
    "start_time": "2023-07-03T17:46:45.678Z"
   },
   {
    "duration": 14,
    "start_time": "2023-07-03T17:48:22.849Z"
   },
   {
    "duration": 28,
    "start_time": "2023-07-03T17:48:56.173Z"
   },
   {
    "duration": 1269,
    "start_time": "2023-07-03T17:53:06.356Z"
   },
   {
    "duration": 87,
    "start_time": "2023-07-03T17:53:07.627Z"
   },
   {
    "duration": 14,
    "start_time": "2023-07-03T17:53:07.716Z"
   },
   {
    "duration": 47,
    "start_time": "2023-07-03T17:53:07.735Z"
   },
   {
    "duration": 23,
    "start_time": "2023-07-03T17:53:07.784Z"
   },
   {
    "duration": 29,
    "start_time": "2023-07-03T17:53:07.809Z"
   },
   {
    "duration": 131,
    "start_time": "2023-07-03T17:53:07.842Z"
   },
   {
    "duration": 21,
    "start_time": "2023-07-03T17:53:07.974Z"
   },
   {
    "duration": 38,
    "start_time": "2023-07-03T17:53:07.996Z"
   },
   {
    "duration": 41,
    "start_time": "2023-07-03T17:53:08.035Z"
   },
   {
    "duration": 16,
    "start_time": "2023-07-03T17:53:08.078Z"
   },
   {
    "duration": 9,
    "start_time": "2023-07-03T17:53:08.095Z"
   },
   {
    "duration": 15,
    "start_time": "2023-07-03T17:53:08.106Z"
   },
   {
    "duration": 13,
    "start_time": "2023-07-03T17:53:08.124Z"
   },
   {
    "duration": 36,
    "start_time": "2023-07-03T17:53:08.139Z"
   },
   {
    "duration": 24,
    "start_time": "2023-07-03T17:53:08.177Z"
   },
   {
    "duration": 11,
    "start_time": "2023-07-03T17:53:08.203Z"
   },
   {
    "duration": 18,
    "start_time": "2023-07-03T17:53:08.215Z"
   },
   {
    "duration": 41,
    "start_time": "2023-07-03T17:53:08.237Z"
   },
   {
    "duration": 333,
    "start_time": "2023-07-03T17:53:08.281Z"
   },
   {
    "duration": 324,
    "start_time": "2023-07-03T17:53:08.615Z"
   },
   {
    "duration": 233,
    "start_time": "2023-07-03T17:53:08.941Z"
   },
   {
    "duration": 298,
    "start_time": "2023-07-03T17:53:09.175Z"
   },
   {
    "duration": 268,
    "start_time": "2023-07-03T17:53:09.475Z"
   },
   {
    "duration": 322,
    "start_time": "2023-07-03T17:53:09.746Z"
   },
   {
    "duration": 11,
    "start_time": "2023-07-03T17:53:10.070Z"
   },
   {
    "duration": 159,
    "start_time": "2023-07-03T17:53:10.083Z"
   },
   {
    "duration": 8,
    "start_time": "2023-07-03T17:53:10.243Z"
   },
   {
    "duration": 148,
    "start_time": "2023-07-03T17:53:10.253Z"
   },
   {
    "duration": 6,
    "start_time": "2023-07-03T17:53:10.403Z"
   },
   {
    "duration": 124,
    "start_time": "2023-07-03T17:53:10.411Z"
   },
   {
    "duration": 145,
    "start_time": "2023-07-03T17:53:10.537Z"
   },
   {
    "duration": 25,
    "start_time": "2023-07-03T17:53:10.684Z"
   },
   {
    "duration": 161,
    "start_time": "2023-07-03T17:53:10.711Z"
   },
   {
    "duration": 31,
    "start_time": "2023-07-03T17:53:10.881Z"
   },
   {
    "duration": 11,
    "start_time": "2023-07-03T17:53:10.915Z"
   },
   {
    "duration": 46,
    "start_time": "2023-07-03T17:53:10.928Z"
   },
   {
    "duration": 41,
    "start_time": "2023-07-03T17:53:10.975Z"
   },
   {
    "duration": 13,
    "start_time": "2023-07-03T17:53:11.018Z"
   },
   {
    "duration": 225,
    "start_time": "2023-07-03T17:53:11.036Z"
   },
   {
    "duration": 390,
    "start_time": "2023-07-03T17:53:11.272Z"
   },
   {
    "duration": 348,
    "start_time": "2023-07-03T17:53:11.663Z"
   },
   {
    "duration": 45,
    "start_time": "2023-12-14T12:07:26.328Z"
   },
   {
    "duration": 1181,
    "start_time": "2023-12-14T12:07:28.378Z"
   },
   {
    "duration": 58,
    "start_time": "2023-12-14T12:07:29.699Z"
   },
   {
    "duration": 193,
    "start_time": "2023-12-14T12:07:33.294Z"
   },
   {
    "duration": 12,
    "start_time": "2023-12-14T12:07:34.359Z"
   },
   {
    "duration": 7,
    "start_time": "2023-12-14T12:07:43.121Z"
   }
  ],
  "kernelspec": {
   "display_name": "Python 3 (ipykernel)",
   "language": "python",
   "name": "python3"
  },
  "language_info": {
   "codemirror_mode": {
    "name": "ipython",
    "version": 3
   },
   "file_extension": ".py",
   "mimetype": "text/x-python",
   "name": "python",
   "nbconvert_exporter": "python",
   "pygments_lexer": "ipython3",
   "version": "3.9.18"
  },
  "toc": {
   "base_numbering": 1,
   "nav_menu": {
    "height": "874px",
    "width": "529px"
   },
   "number_sections": true,
   "sideBar": true,
   "skip_h1_title": true,
   "title_cell": "Содержание",
   "title_sidebar": "Contents",
   "toc_cell": true,
   "toc_position": {
    "height": "calc(100% - 180px)",
    "left": "10px",
    "top": "150px",
    "width": "523px"
   },
   "toc_section_display": true,
   "toc_window_display": true
  }
 },
 "nbformat": 4,
 "nbformat_minor": 2
}
